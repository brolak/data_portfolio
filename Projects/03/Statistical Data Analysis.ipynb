{
 "cells": [
  {
   "cell_type": "markdown",
   "metadata": {},
   "source": [
    "### Step 1. Open data file"
   ]
  },
  {
   "cell_type": "markdown",
   "metadata": {},
   "source": [
    "In the first step I will get a general view of the various data sources and any glaring issues with data-types or missing information."
   ]
  },
  {
   "cell_type": "code",
   "execution_count": 1,
   "metadata": {},
   "outputs": [
    {
     "name": "stdout",
     "output_type": "stream",
     "text": [
      "<class 'pandas.core.frame.DataFrame'>\n",
      "RangeIndex: 137735 entries, 0 to 137734\n",
      "Data columns (total 4 columns):\n",
      " #   Column     Non-Null Count   Dtype  \n",
      "---  ------     --------------   -----  \n",
      " 0   id         137735 non-null  object \n",
      " 1   user_id    137735 non-null  int64  \n",
      " 2   call_date  137735 non-null  object \n",
      " 3   duration   137735 non-null  float64\n",
      "dtypes: float64(1), int64(1), object(2)\n",
      "memory usage: 4.2+ MB\n"
     ]
    }
   ],
   "source": [
    "import pandas as pd\n",
    "import numpy as np\n",
    "import matplotlib.pyplot as plt\n",
    "import datetime\n",
    "from scipy import stats as st\n",
    "\n",
    "try:\n",
    "    df_calls = pd.read_csv('../datasets/megaline_calls.csv')\n",
    "except:\n",
    "    df_calls = pd.read_csv('/datasets/megaline_calls.csv','\\t')\n",
    "\n",
    "df_calls.info()"
   ]
  },
  {
   "cell_type": "code",
   "execution_count": 2,
   "metadata": {},
   "outputs": [
    {
     "data": {
      "text/html": [
       "<div>\n",
       "<style scoped>\n",
       "    .dataframe tbody tr th:only-of-type {\n",
       "        vertical-align: middle;\n",
       "    }\n",
       "\n",
       "    .dataframe tbody tr th {\n",
       "        vertical-align: top;\n",
       "    }\n",
       "\n",
       "    .dataframe thead th {\n",
       "        text-align: right;\n",
       "    }\n",
       "</style>\n",
       "<table border=\"1\" class=\"dataframe\">\n",
       "  <thead>\n",
       "    <tr style=\"text-align: right;\">\n",
       "      <th></th>\n",
       "      <th>id</th>\n",
       "      <th>user_id</th>\n",
       "      <th>call_date</th>\n",
       "      <th>duration</th>\n",
       "    </tr>\n",
       "  </thead>\n",
       "  <tbody>\n",
       "    <tr>\n",
       "      <th>83122</th>\n",
       "      <td>1301_36</td>\n",
       "      <td>1301</td>\n",
       "      <td>2018-12-19</td>\n",
       "      <td>14.93</td>\n",
       "    </tr>\n",
       "    <tr>\n",
       "      <th>78259</th>\n",
       "      <td>1280_287</td>\n",
       "      <td>1280</td>\n",
       "      <td>2018-10-19</td>\n",
       "      <td>14.58</td>\n",
       "    </tr>\n",
       "    <tr>\n",
       "      <th>17500</th>\n",
       "      <td>1067_4</td>\n",
       "      <td>1067</td>\n",
       "      <td>2018-11-30</td>\n",
       "      <td>0.00</td>\n",
       "    </tr>\n",
       "    <tr>\n",
       "      <th>109107</th>\n",
       "      <td>1385_177</td>\n",
       "      <td>1385</td>\n",
       "      <td>2018-09-23</td>\n",
       "      <td>6.59</td>\n",
       "    </tr>\n",
       "    <tr>\n",
       "      <th>41559</th>\n",
       "      <td>1153_250</td>\n",
       "      <td>1153</td>\n",
       "      <td>2018-11-24</td>\n",
       "      <td>8.13</td>\n",
       "    </tr>\n",
       "  </tbody>\n",
       "</table>\n",
       "</div>"
      ],
      "text/plain": [
       "              id  user_id   call_date  duration\n",
       "83122    1301_36     1301  2018-12-19     14.93\n",
       "78259   1280_287     1280  2018-10-19     14.58\n",
       "17500     1067_4     1067  2018-11-30      0.00\n",
       "109107  1385_177     1385  2018-09-23      6.59\n",
       "41559   1153_250     1153  2018-11-24      8.13"
      ]
     },
     "execution_count": 2,
     "metadata": {},
     "output_type": "execute_result"
    }
   ],
   "source": [
    "df_calls.sample(5)"
   ]
  },
  {
   "cell_type": "code",
   "execution_count": 4,
   "metadata": {},
   "outputs": [
    {
     "name": "stdout",
     "output_type": "stream",
     "text": [
      "<class 'pandas.core.frame.DataFrame'>\n",
      "RangeIndex: 104825 entries, 0 to 104824\n",
      "Data columns (total 4 columns):\n",
      " #   Column        Non-Null Count   Dtype  \n",
      "---  ------        --------------   -----  \n",
      " 0   id            104825 non-null  object \n",
      " 1   user_id       104825 non-null  int64  \n",
      " 2   session_date  104825 non-null  object \n",
      " 3   mb_used       104825 non-null  float64\n",
      "dtypes: float64(1), int64(1), object(2)\n",
      "memory usage: 3.2+ MB\n"
     ]
    }
   ],
   "source": [
    "try:\n",
    "    df_internet = pd.read_csv('../datasets/megaline_internet.csv')\n",
    "except:\n",
    "    df_internet = pd.read_csv('/datasets/megaline_internet.csv','\\t')\n",
    "df_internet.info()"
   ]
  },
  {
   "cell_type": "code",
   "execution_count": 5,
   "metadata": {},
   "outputs": [
    {
     "data": {
      "text/html": [
       "<div>\n",
       "<style scoped>\n",
       "    .dataframe tbody tr th:only-of-type {\n",
       "        vertical-align: middle;\n",
       "    }\n",
       "\n",
       "    .dataframe tbody tr th {\n",
       "        vertical-align: top;\n",
       "    }\n",
       "\n",
       "    .dataframe thead th {\n",
       "        text-align: right;\n",
       "    }\n",
       "</style>\n",
       "<table border=\"1\" class=\"dataframe\">\n",
       "  <thead>\n",
       "    <tr style=\"text-align: right;\">\n",
       "      <th></th>\n",
       "      <th>id</th>\n",
       "      <th>user_id</th>\n",
       "      <th>session_date</th>\n",
       "      <th>mb_used</th>\n",
       "    </tr>\n",
       "  </thead>\n",
       "  <tbody>\n",
       "    <tr>\n",
       "      <th>36492</th>\n",
       "      <td>1164_175</td>\n",
       "      <td>1164</td>\n",
       "      <td>2018-06-01</td>\n",
       "      <td>0.00</td>\n",
       "    </tr>\n",
       "    <tr>\n",
       "      <th>52922</th>\n",
       "      <td>1239_31</td>\n",
       "      <td>1239</td>\n",
       "      <td>2018-12-31</td>\n",
       "      <td>203.32</td>\n",
       "    </tr>\n",
       "    <tr>\n",
       "      <th>5379</th>\n",
       "      <td>1029_175</td>\n",
       "      <td>1029</td>\n",
       "      <td>2018-09-11</td>\n",
       "      <td>480.78</td>\n",
       "    </tr>\n",
       "    <tr>\n",
       "      <th>14500</th>\n",
       "      <td>1066_394</td>\n",
       "      <td>1066</td>\n",
       "      <td>2018-03-16</td>\n",
       "      <td>353.08</td>\n",
       "    </tr>\n",
       "    <tr>\n",
       "      <th>3359</th>\n",
       "      <td>1018_314</td>\n",
       "      <td>1018</td>\n",
       "      <td>2018-12-28</td>\n",
       "      <td>190.46</td>\n",
       "    </tr>\n",
       "  </tbody>\n",
       "</table>\n",
       "</div>"
      ],
      "text/plain": [
       "             id  user_id session_date  mb_used\n",
       "36492  1164_175     1164   2018-06-01     0.00\n",
       "52922   1239_31     1239   2018-12-31   203.32\n",
       "5379   1029_175     1029   2018-09-11   480.78\n",
       "14500  1066_394     1066   2018-03-16   353.08\n",
       "3359   1018_314     1018   2018-12-28   190.46"
      ]
     },
     "execution_count": 5,
     "metadata": {},
     "output_type": "execute_result"
    }
   ],
   "source": [
    "df_internet.sample(5)"
   ]
  },
  {
   "cell_type": "code",
   "execution_count": 6,
   "metadata": {},
   "outputs": [
    {
     "name": "stdout",
     "output_type": "stream",
     "text": [
      "<class 'pandas.core.frame.DataFrame'>\n",
      "RangeIndex: 76051 entries, 0 to 76050\n",
      "Data columns (total 3 columns):\n",
      " #   Column        Non-Null Count  Dtype \n",
      "---  ------        --------------  ----- \n",
      " 0   id            76051 non-null  object\n",
      " 1   user_id       76051 non-null  int64 \n",
      " 2   message_date  76051 non-null  object\n",
      "dtypes: int64(1), object(2)\n",
      "memory usage: 1.7+ MB\n"
     ]
    }
   ],
   "source": [
    "try:\n",
    "    df_messages = pd.read_csv('../datasets/megaline_messages.csv')\n",
    "except:\n",
    "    df_messages = pd.read_csv('/datasets/megaline_messages.csv','\\t')\n",
    "\n",
    "df_messages.info()"
   ]
  },
  {
   "cell_type": "code",
   "execution_count": 9,
   "metadata": {},
   "outputs": [
    {
     "data": {
      "text/html": [
       "<div>\n",
       "<style scoped>\n",
       "    .dataframe tbody tr th:only-of-type {\n",
       "        vertical-align: middle;\n",
       "    }\n",
       "\n",
       "    .dataframe tbody tr th {\n",
       "        vertical-align: top;\n",
       "    }\n",
       "\n",
       "    .dataframe thead th {\n",
       "        text-align: right;\n",
       "    }\n",
       "</style>\n",
       "<table border=\"1\" class=\"dataframe\">\n",
       "  <thead>\n",
       "    <tr style=\"text-align: right;\">\n",
       "      <th></th>\n",
       "      <th>messages_included</th>\n",
       "      <th>mb_per_month_included</th>\n",
       "      <th>minutes_included</th>\n",
       "      <th>usd_monthly_pay</th>\n",
       "      <th>usd_per_gb</th>\n",
       "      <th>usd_per_message</th>\n",
       "      <th>usd_per_minute</th>\n",
       "      <th>plan_name</th>\n",
       "    </tr>\n",
       "  </thead>\n",
       "  <tbody>\n",
       "    <tr>\n",
       "      <th>0</th>\n",
       "      <td>50</td>\n",
       "      <td>15360</td>\n",
       "      <td>500</td>\n",
       "      <td>20</td>\n",
       "      <td>10</td>\n",
       "      <td>0.03</td>\n",
       "      <td>0.03</td>\n",
       "      <td>surf</td>\n",
       "    </tr>\n",
       "    <tr>\n",
       "      <th>1</th>\n",
       "      <td>1000</td>\n",
       "      <td>30720</td>\n",
       "      <td>3000</td>\n",
       "      <td>70</td>\n",
       "      <td>7</td>\n",
       "      <td>0.01</td>\n",
       "      <td>0.01</td>\n",
       "      <td>ultimate</td>\n",
       "    </tr>\n",
       "  </tbody>\n",
       "</table>\n",
       "</div>"
      ],
      "text/plain": [
       "   messages_included  mb_per_month_included  minutes_included  \\\n",
       "0                 50                  15360               500   \n",
       "1               1000                  30720              3000   \n",
       "\n",
       "   usd_monthly_pay  usd_per_gb  usd_per_message  usd_per_minute plan_name  \n",
       "0               20          10             0.03            0.03      surf  \n",
       "1               70           7             0.01            0.01  ultimate  "
      ]
     },
     "execution_count": 9,
     "metadata": {},
     "output_type": "execute_result"
    }
   ],
   "source": [
    "try:\n",
    "    df_plans = pd.read_csv('../datasets/megaline_plans.csv')\n",
    "except:\n",
    "    df_plans = pd.read_csv('/datasets/megaline_plans.csv','\\t')\n",
    "\n",
    "df_plans.head()\n",
    "# general information for plans"
   ]
  },
  {
   "cell_type": "code",
   "execution_count": 11,
   "metadata": {},
   "outputs": [
    {
     "name": "stdout",
     "output_type": "stream",
     "text": [
      "<class 'pandas.core.frame.DataFrame'>\n",
      "RangeIndex: 500 entries, 0 to 499\n",
      "Data columns (total 8 columns):\n",
      " #   Column      Non-Null Count  Dtype \n",
      "---  ------      --------------  ----- \n",
      " 0   user_id     500 non-null    int64 \n",
      " 1   first_name  500 non-null    object\n",
      " 2   last_name   500 non-null    object\n",
      " 3   age         500 non-null    int64 \n",
      " 4   city        500 non-null    object\n",
      " 5   reg_date    500 non-null    object\n",
      " 6   plan        500 non-null    object\n",
      " 7   churn_date  34 non-null     object\n",
      "dtypes: int64(2), object(6)\n",
      "memory usage: 31.4+ KB\n"
     ]
    }
   ],
   "source": [
    "try:\n",
    "    df_users = pd.read_csv('../datasets/megaline_users.csv')\n",
    "except:\n",
    "    df_users = pd.read_csv('/datasets/megaline_users.csv','\\t')\n",
    "\n",
    "df_users.info()"
   ]
  },
  {
   "cell_type": "code",
   "execution_count": 12,
   "metadata": {},
   "outputs": [
    {
     "data": {
      "text/html": [
       "<div>\n",
       "<style scoped>\n",
       "    .dataframe tbody tr th:only-of-type {\n",
       "        vertical-align: middle;\n",
       "    }\n",
       "\n",
       "    .dataframe tbody tr th {\n",
       "        vertical-align: top;\n",
       "    }\n",
       "\n",
       "    .dataframe thead th {\n",
       "        text-align: right;\n",
       "    }\n",
       "</style>\n",
       "<table border=\"1\" class=\"dataframe\">\n",
       "  <thead>\n",
       "    <tr style=\"text-align: right;\">\n",
       "      <th></th>\n",
       "      <th>user_id</th>\n",
       "      <th>first_name</th>\n",
       "      <th>last_name</th>\n",
       "      <th>age</th>\n",
       "      <th>city</th>\n",
       "      <th>reg_date</th>\n",
       "      <th>plan</th>\n",
       "      <th>churn_date</th>\n",
       "    </tr>\n",
       "  </thead>\n",
       "  <tbody>\n",
       "    <tr>\n",
       "      <th>309</th>\n",
       "      <td>1309</td>\n",
       "      <td>Winfred</td>\n",
       "      <td>Zimmerman</td>\n",
       "      <td>19</td>\n",
       "      <td>San Diego-Chula Vista-Carlsbad, CA MSA</td>\n",
       "      <td>2018-07-04</td>\n",
       "      <td>surf</td>\n",
       "      <td>NaN</td>\n",
       "    </tr>\n",
       "    <tr>\n",
       "      <th>368</th>\n",
       "      <td>1368</td>\n",
       "      <td>Enola</td>\n",
       "      <td>Ray</td>\n",
       "      <td>60</td>\n",
       "      <td>Pittsburgh, PA MSA</td>\n",
       "      <td>2018-05-20</td>\n",
       "      <td>ultimate</td>\n",
       "      <td>NaN</td>\n",
       "    </tr>\n",
       "    <tr>\n",
       "      <th>463</th>\n",
       "      <td>1463</td>\n",
       "      <td>Dinorah</td>\n",
       "      <td>Simmons</td>\n",
       "      <td>30</td>\n",
       "      <td>Atlanta-Sandy Springs-Roswell, GA MSA</td>\n",
       "      <td>2018-11-27</td>\n",
       "      <td>ultimate</td>\n",
       "      <td>NaN</td>\n",
       "    </tr>\n",
       "    <tr>\n",
       "      <th>192</th>\n",
       "      <td>1192</td>\n",
       "      <td>Korey</td>\n",
       "      <td>Goodwin</td>\n",
       "      <td>36</td>\n",
       "      <td>Buffalo-Cheektowaga, NY MSA</td>\n",
       "      <td>2018-10-02</td>\n",
       "      <td>surf</td>\n",
       "      <td>NaN</td>\n",
       "    </tr>\n",
       "    <tr>\n",
       "      <th>205</th>\n",
       "      <td>1205</td>\n",
       "      <td>Rafael</td>\n",
       "      <td>Wade</td>\n",
       "      <td>43</td>\n",
       "      <td>New York-Newark-Jersey City, NY-NJ-PA MSA</td>\n",
       "      <td>2018-04-05</td>\n",
       "      <td>surf</td>\n",
       "      <td>NaN</td>\n",
       "    </tr>\n",
       "  </tbody>\n",
       "</table>\n",
       "</div>"
      ],
      "text/plain": [
       "     user_id first_name  last_name  age  \\\n",
       "309     1309    Winfred  Zimmerman   19   \n",
       "368     1368      Enola        Ray   60   \n",
       "463     1463    Dinorah    Simmons   30   \n",
       "192     1192      Korey    Goodwin   36   \n",
       "205     1205     Rafael       Wade   43   \n",
       "\n",
       "                                          city    reg_date      plan  \\\n",
       "309     San Diego-Chula Vista-Carlsbad, CA MSA  2018-07-04      surf   \n",
       "368                         Pittsburgh, PA MSA  2018-05-20  ultimate   \n",
       "463      Atlanta-Sandy Springs-Roswell, GA MSA  2018-11-27  ultimate   \n",
       "192                Buffalo-Cheektowaga, NY MSA  2018-10-02      surf   \n",
       "205  New York-Newark-Jersey City, NY-NJ-PA MSA  2018-04-05      surf   \n",
       "\n",
       "    churn_date  \n",
       "309        NaN  \n",
       "368        NaN  \n",
       "463        NaN  \n",
       "192        NaN  \n",
       "205        NaN  "
      ]
     },
     "execution_count": 12,
     "metadata": {},
     "output_type": "execute_result"
    }
   ],
   "source": [
    "df_users.sample(5)"
   ]
  },
  {
   "cell_type": "markdown",
   "metadata": {},
   "source": [
    "The datasets for analysis include: user data, plan data, and data on individual calls, messages, and internet sessions. The date strings will need to be converted to dateTime and telephone minute usage needs to be rounded up (as per charging stipulation). All of the various media tables will need to be summed for each user in order to synthesize these tables into one."
   ]
  },
  {
   "cell_type": "markdown",
   "metadata": {},
   "source": [
    "### Step 2. Data preprocessing"
   ]
  },
  {
   "cell_type": "code",
   "execution_count": 13,
   "metadata": {},
   "outputs": [
    {
     "name": "stdout",
     "output_type": "stream",
     "text": [
      "Null values:\n",
      "id           0\n",
      "user_id      0\n",
      "call_date    0\n",
      "duration     0\n",
      "dtype: int64\n"
     ]
    },
    {
     "data": {
      "text/plain": [
       "count    110901.000000\n",
       "mean          8.378196\n",
       "std           5.354567\n",
       "min           0.010000\n",
       "25%           4.150000\n",
       "50%           7.710000\n",
       "75%          11.820000\n",
       "max          37.600000\n",
       "Name: duration, dtype: float64"
      ]
     },
     "execution_count": 13,
     "metadata": {},
     "output_type": "execute_result"
    }
   ],
   "source": [
    "print(\"Null values:\")\n",
    "print(df_calls.isnull().sum()) # none\n",
    "df_calls.describe() # minimum call duration of 0, should leave entries of 0 out\n",
    "df_calls = df_calls.query('duration > 0')\n",
    "df_calls['duration'].describe()\n",
    "# no visible outliers"
   ]
  },
  {
   "cell_type": "code",
   "execution_count": 14,
   "metadata": {},
   "outputs": [
    {
     "name": "stdout",
     "output_type": "stream",
     "text": [
      "Null values:\n",
      "id              0\n",
      "user_id         0\n",
      "session_date    0\n",
      "mb_used         0\n",
      "dtype: int64\n"
     ]
    },
    {
     "data": {
      "text/plain": [
       "count    91078.000000\n",
       "mean       422.064206\n",
       "std        255.063501\n",
       "min          0.010000\n",
       "25%        223.380000\n",
       "50%        395.905000\n",
       "75%        588.367500\n",
       "max       1693.470000\n",
       "Name: mb_used, dtype: float64"
      ]
     },
     "execution_count": 14,
     "metadata": {},
     "output_type": "execute_result"
    }
   ],
   "source": [
    "print(\"Null values:\")\n",
    "print(df_internet.isnull().sum())\n",
    "df_internet = df_internet.query('mb_used > 0')\n",
    "df_internet['mb_used'].describe()\n",
    "# no visible outliers"
   ]
  },
  {
   "cell_type": "code",
   "execution_count": 16,
   "metadata": {},
   "outputs": [
    {
     "name": "stdout",
     "output_type": "stream",
     "text": [
      "user_id         0\n",
      "first_name      0\n",
      "last_name       0\n",
      "age             0\n",
      "city            0\n",
      "reg_date        0\n",
      "plan            0\n",
      "churn_date    466\n",
      "state           0\n",
      "dtype: int64\n"
     ]
    },
    {
     "data": {
      "text/plain": [
       "NY-NJ-PA       80\n",
       "CA             78\n",
       "TX             39\n",
       "FL             25\n",
       "IL-IN-WI       19\n",
       "PA-NJ-DE-MD    17\n",
       "MI             16\n",
       "GA             14\n",
       "WA             13\n",
       "TN             12\n",
       "MA-NH          12\n",
       "DC-VA-MD-WV    11\n",
       "MN-WI          11\n",
       "AZ             11\n",
       "OH              9\n",
       "LA              9\n",
       "CO              9\n",
       "OR-WA           8\n",
       "NC-SC           8\n",
       "OH-KY-IN        8\n",
       "SC              7\n",
       "NV              7\n",
       "CT              6\n",
       "NY              6\n",
       "IN              6\n",
       "OK              6\n",
       "PA              5\n",
       "KY-IN           5\n",
       "HI              5\n",
       "AL              4\n",
       "VA-NC           4\n",
       "MD              4\n",
       "VA              4\n",
       "RI-MA           3\n",
       "UT              3\n",
       "WI              3\n",
       "MO-IL           3\n",
       "NM              2\n",
       "MO-KS           2\n",
       "NE-IA           2\n",
       "TN-MS-AR        2\n",
       "NC              2\n",
       "Name: state, dtype: int64"
      ]
     },
     "execution_count": 16,
     "metadata": {},
     "output_type": "execute_result"
    }
   ],
   "source": [
    "# take the state string from within city string\n",
    "df_users['state'] = df_users['city'].str.extract(r'([A-Z|\\-]+) MSA')\n",
    "print(df_users.isna().sum())\n",
    "df_users['state'].value_counts()"
   ]
  },
  {
   "cell_type": "markdown",
   "metadata": {},
   "source": [
    "#### Data Type Conversion"
   ]
  },
  {
   "cell_type": "code",
   "execution_count": 17,
   "metadata": {},
   "outputs": [
    {
     "name": "stdout",
     "output_type": "stream",
     "text": [
      "<class 'pandas.core.frame.DataFrame'>\n",
      "Int64Index: 110901 entries, 0 to 137734\n",
      "Data columns (total 5 columns):\n",
      " #   Column      Non-Null Count   Dtype         \n",
      "---  ------      --------------   -----         \n",
      " 0   id          110901 non-null  object        \n",
      " 1   user_id     110901 non-null  int64         \n",
      " 2   call_date   110901 non-null  datetime64[ns]\n",
      " 3   duration    110901 non-null  float64       \n",
      " 4   call_month  110901 non-null  int64         \n",
      "dtypes: datetime64[ns](1), float64(1), int64(2), object(1)\n",
      "memory usage: 5.1+ MB\n",
      "<class 'pandas.core.frame.DataFrame'>\n",
      "Int64Index: 91078 entries, 0 to 104824\n",
      "Data columns (total 5 columns):\n",
      " #   Column         Non-Null Count  Dtype         \n",
      "---  ------         --------------  -----         \n",
      " 0   id             91078 non-null  object        \n",
      " 1   user_id        91078 non-null  int64         \n",
      " 2   session_date   91078 non-null  datetime64[ns]\n",
      " 3   mb_used        91078 non-null  float64       \n",
      " 4   session_month  91078 non-null  int64         \n",
      "dtypes: datetime64[ns](1), float64(1), int64(2), object(1)\n",
      "memory usage: 4.2+ MB\n",
      "<class 'pandas.core.frame.DataFrame'>\n",
      "RangeIndex: 76051 entries, 0 to 76050\n",
      "Data columns (total 4 columns):\n",
      " #   Column         Non-Null Count  Dtype         \n",
      "---  ------         --------------  -----         \n",
      " 0   id             76051 non-null  object        \n",
      " 1   user_id        76051 non-null  int64         \n",
      " 2   message_date   76051 non-null  datetime64[ns]\n",
      " 3   message_month  76051 non-null  int64         \n",
      "dtypes: datetime64[ns](1), int64(2), object(1)\n",
      "memory usage: 2.3+ MB\n"
     ]
    }
   ],
   "source": [
    "try:\n",
    "    df_calls['call_date'] = pd.to_datetime(df_calls['call_date'], format='%Y-%m-%d')\n",
    "    df_calls['call_month'] = df_calls['call_date'].dt.month\n",
    "    df_calls['duration'] = np.ceil(df_calls['duration'])\n",
    "    df_internet['session_date'] = pd.to_datetime(df_internet['session_date'], format='%Y-%m-%d')\n",
    "    df_internet['session_month'] = df_internet['session_date'].dt.month\n",
    "    df_messages['message_date'] = pd.to_datetime(df_messages['message_date'],format='%Y-%m-%d')\n",
    "    df_messages['message_month'] = df_messages['message_date'].dt.month\n",
    "    df_users['reg_date'] = pd.to_datetime(df_users['reg_date'], format='%Y-%m-%d')\n",
    "    df_users['churn_date'] = pd.to_datetime(df_users['churn_date'], format='%Y-%m-%d')\n",
    "    df_calls.info()\n",
    "    df_internet.info()\n",
    "    df_messages.info()\n",
    "except:\n",
    "    print('Error converting')"
   ]
  },
  {
   "cell_type": "code",
   "execution_count": 18,
   "metadata": {},
   "outputs": [
    {
     "data": {
      "text/html": [
       "<div>\n",
       "<style scoped>\n",
       "    .dataframe tbody tr th:only-of-type {\n",
       "        vertical-align: middle;\n",
       "    }\n",
       "\n",
       "    .dataframe tbody tr th {\n",
       "        vertical-align: top;\n",
       "    }\n",
       "\n",
       "    .dataframe thead th {\n",
       "        text-align: right;\n",
       "    }\n",
       "</style>\n",
       "<table border=\"1\" class=\"dataframe\">\n",
       "  <thead>\n",
       "    <tr style=\"text-align: right;\">\n",
       "      <th></th>\n",
       "      <th>user_id</th>\n",
       "      <th>first_name</th>\n",
       "      <th>last_name</th>\n",
       "      <th>age</th>\n",
       "      <th>city</th>\n",
       "      <th>reg_date</th>\n",
       "      <th>plan</th>\n",
       "      <th>churn_date</th>\n",
       "      <th>state</th>\n",
       "      <th>jan_call_count</th>\n",
       "      <th>...</th>\n",
       "      <th>aug_call_count</th>\n",
       "      <th>aug_call_sum</th>\n",
       "      <th>sep_call_count</th>\n",
       "      <th>sep_call_sum</th>\n",
       "      <th>oct_call_count</th>\n",
       "      <th>oct_call_sum</th>\n",
       "      <th>nov_call_count</th>\n",
       "      <th>nov_call_sum</th>\n",
       "      <th>dec_call_count</th>\n",
       "      <th>dec_call_sum</th>\n",
       "    </tr>\n",
       "  </thead>\n",
       "  <tbody>\n",
       "    <tr>\n",
       "      <th>67</th>\n",
       "      <td>1067</td>\n",
       "      <td>Robt</td>\n",
       "      <td>Allen</td>\n",
       "      <td>37</td>\n",
       "      <td>Grand Rapids-Kentwood, MI MSA</td>\n",
       "      <td>2018-09-24</td>\n",
       "      <td>surf</td>\n",
       "      <td>2018-11-24</td>\n",
       "      <td>MI</td>\n",
       "      <td>NaN</td>\n",
       "      <td>...</td>\n",
       "      <td>NaN</td>\n",
       "      <td>NaN</td>\n",
       "      <td>8.0</td>\n",
       "      <td>70.0</td>\n",
       "      <td>49.0</td>\n",
       "      <td>470.0</td>\n",
       "      <td>50.0</td>\n",
       "      <td>413.0</td>\n",
       "      <td>38.0</td>\n",
       "      <td>344.0</td>\n",
       "    </tr>\n",
       "    <tr>\n",
       "      <th>115</th>\n",
       "      <td>1115</td>\n",
       "      <td>Yevette</td>\n",
       "      <td>Yang</td>\n",
       "      <td>21</td>\n",
       "      <td>El Paso, TX MSA</td>\n",
       "      <td>2018-11-19</td>\n",
       "      <td>surf</td>\n",
       "      <td>NaT</td>\n",
       "      <td>TX</td>\n",
       "      <td>NaN</td>\n",
       "      <td>...</td>\n",
       "      <td>NaN</td>\n",
       "      <td>NaN</td>\n",
       "      <td>NaN</td>\n",
       "      <td>NaN</td>\n",
       "      <td>NaN</td>\n",
       "      <td>NaN</td>\n",
       "      <td>34.0</td>\n",
       "      <td>342.0</td>\n",
       "      <td>93.0</td>\n",
       "      <td>883.0</td>\n",
       "    </tr>\n",
       "    <tr>\n",
       "      <th>451</th>\n",
       "      <td>1451</td>\n",
       "      <td>Lenard</td>\n",
       "      <td>Harding</td>\n",
       "      <td>53</td>\n",
       "      <td>Charlotte-Concord-Gastonia, NC-SC MSA</td>\n",
       "      <td>2018-02-15</td>\n",
       "      <td>ultimate</td>\n",
       "      <td>2018-12-10</td>\n",
       "      <td>NC-SC</td>\n",
       "      <td>NaN</td>\n",
       "      <td>...</td>\n",
       "      <td>30.0</td>\n",
       "      <td>262.0</td>\n",
       "      <td>60.0</td>\n",
       "      <td>595.0</td>\n",
       "      <td>63.0</td>\n",
       "      <td>518.0</td>\n",
       "      <td>68.0</td>\n",
       "      <td>600.0</td>\n",
       "      <td>41.0</td>\n",
       "      <td>425.0</td>\n",
       "    </tr>\n",
       "    <tr>\n",
       "      <th>213</th>\n",
       "      <td>1213</td>\n",
       "      <td>Carl</td>\n",
       "      <td>Newman</td>\n",
       "      <td>47</td>\n",
       "      <td>San Diego-Chula Vista-Carlsbad, CA MSA</td>\n",
       "      <td>2018-11-25</td>\n",
       "      <td>ultimate</td>\n",
       "      <td>NaT</td>\n",
       "      <td>CA</td>\n",
       "      <td>NaN</td>\n",
       "      <td>...</td>\n",
       "      <td>NaN</td>\n",
       "      <td>NaN</td>\n",
       "      <td>NaN</td>\n",
       "      <td>NaN</td>\n",
       "      <td>NaN</td>\n",
       "      <td>NaN</td>\n",
       "      <td>4.0</td>\n",
       "      <td>42.0</td>\n",
       "      <td>67.0</td>\n",
       "      <td>566.0</td>\n",
       "    </tr>\n",
       "    <tr>\n",
       "      <th>478</th>\n",
       "      <td>1478</td>\n",
       "      <td>Elane</td>\n",
       "      <td>David</td>\n",
       "      <td>51</td>\n",
       "      <td>Portland-Vancouver-Hillsboro, OR-WA MSA</td>\n",
       "      <td>2018-06-28</td>\n",
       "      <td>ultimate</td>\n",
       "      <td>NaT</td>\n",
       "      <td>OR-WA</td>\n",
       "      <td>NaN</td>\n",
       "      <td>...</td>\n",
       "      <td>24.0</td>\n",
       "      <td>222.0</td>\n",
       "      <td>49.0</td>\n",
       "      <td>445.0</td>\n",
       "      <td>43.0</td>\n",
       "      <td>369.0</td>\n",
       "      <td>47.0</td>\n",
       "      <td>389.0</td>\n",
       "      <td>45.0</td>\n",
       "      <td>376.0</td>\n",
       "    </tr>\n",
       "  </tbody>\n",
       "</table>\n",
       "<p>5 rows × 33 columns</p>\n",
       "</div>"
      ],
      "text/plain": [
       "     user_id first_name last_name  age  \\\n",
       "67      1067       Robt     Allen   37   \n",
       "115     1115    Yevette      Yang   21   \n",
       "451     1451     Lenard   Harding   53   \n",
       "213     1213       Carl    Newman   47   \n",
       "478     1478      Elane     David   51   \n",
       "\n",
       "                                        city   reg_date      plan churn_date  \\\n",
       "67             Grand Rapids-Kentwood, MI MSA 2018-09-24      surf 2018-11-24   \n",
       "115                          El Paso, TX MSA 2018-11-19      surf        NaT   \n",
       "451    Charlotte-Concord-Gastonia, NC-SC MSA 2018-02-15  ultimate 2018-12-10   \n",
       "213   San Diego-Chula Vista-Carlsbad, CA MSA 2018-11-25  ultimate        NaT   \n",
       "478  Portland-Vancouver-Hillsboro, OR-WA MSA 2018-06-28  ultimate        NaT   \n",
       "\n",
       "     state  jan_call_count  ...  aug_call_count  aug_call_sum  sep_call_count  \\\n",
       "67      MI             NaN  ...             NaN           NaN             8.0   \n",
       "115     TX             NaN  ...             NaN           NaN             NaN   \n",
       "451  NC-SC             NaN  ...            30.0         262.0            60.0   \n",
       "213     CA             NaN  ...             NaN           NaN             NaN   \n",
       "478  OR-WA             NaN  ...            24.0         222.0            49.0   \n",
       "\n",
       "     sep_call_sum  oct_call_count  oct_call_sum  nov_call_count  nov_call_sum  \\\n",
       "67           70.0            49.0         470.0            50.0         413.0   \n",
       "115           NaN             NaN           NaN            34.0         342.0   \n",
       "451         595.0            63.0         518.0            68.0         600.0   \n",
       "213           NaN             NaN           NaN             4.0          42.0   \n",
       "478         445.0            43.0         369.0            47.0         389.0   \n",
       "\n",
       "     dec_call_count  dec_call_sum  \n",
       "67             38.0         344.0  \n",
       "115            93.0         883.0  \n",
       "451            41.0         425.0  \n",
       "213            67.0         566.0  \n",
       "478            45.0         376.0  \n",
       "\n",
       "[5 rows x 33 columns]"
      ]
     },
     "execution_count": 18,
     "metadata": {},
     "output_type": "execute_result"
    }
   ],
   "source": [
    "#The number of calls made and minutes used per month\n",
    "months = [\"\",\"jan\",\"feb\",\"mar\",\"apr\",\"may\",\"jun\",\"jul\",\"aug\",\"sep\",\"oct\",\"nov\",\"dec\"]\n",
    "for n in range(1,13):\n",
    "    df = (\n",
    "        df_calls\n",
    "        .query(\"call_month == @n\")\n",
    "        .pivot_table(index='user_id',values='duration',aggfunc=['count','sum'])\n",
    "    )\n",
    "    df.columns = [months[n]+\"_call_count\",months[n]+\"_call_sum\"]\n",
    "    df_users = pd.merge(df_users,df,how='outer',on='user_id')\n",
    "df_users.sample(5)"
   ]
  },
  {
   "cell_type": "code",
   "execution_count": 19,
   "metadata": {},
   "outputs": [],
   "source": [
    "#The number of text messages sent per month\n",
    "for n in range(1,13):\n",
    "    df = (\n",
    "        df_messages\n",
    "        .query(\"message_month == @n\")\n",
    "        .pivot_table(index='user_id',values=\"message_month\",aggfunc=['count'])\n",
    "    )\n",
    "    df.columns = [months[n]+\"_message_count\"]\n",
    "    df_users = pd.merge(df_users,df,how='outer',on='user_id')"
   ]
  },
  {
   "cell_type": "code",
   "execution_count": 20,
   "metadata": {},
   "outputs": [
    {
     "name": "stdout",
     "output_type": "stream",
     "text": [
      "<class 'pandas.core.frame.DataFrame'>\n",
      "Int64Index: 500 entries, 0 to 499\n",
      "Data columns (total 57 columns):\n",
      " #   Column             Non-Null Count  Dtype         \n",
      "---  ------             --------------  -----         \n",
      " 0   user_id            500 non-null    int64         \n",
      " 1   first_name         500 non-null    object        \n",
      " 2   last_name          500 non-null    object        \n",
      " 3   age                500 non-null    int64         \n",
      " 4   city               500 non-null    object        \n",
      " 5   reg_date           500 non-null    datetime64[ns]\n",
      " 6   plan               500 non-null    object        \n",
      " 7   churn_date         34 non-null     datetime64[ns]\n",
      " 8   state              500 non-null    object        \n",
      " 9   jan_call_count     6 non-null      float64       \n",
      " 10  jan_call_sum       6 non-null      float64       \n",
      " 11  feb_call_count     15 non-null     float64       \n",
      " 12  feb_call_sum       15 non-null     float64       \n",
      " 13  mar_call_count     35 non-null     float64       \n",
      " 14  mar_call_sum       35 non-null     float64       \n",
      " 15  apr_call_count     71 non-null     float64       \n",
      " 16  apr_call_sum       71 non-null     float64       \n",
      " 17  may_call_count     104 non-null    float64       \n",
      " 18  may_call_sum       104 non-null    float64       \n",
      " 19  jun_call_count     141 non-null    float64       \n",
      " 20  jun_call_sum       141 non-null    float64       \n",
      " 21  jul_call_count     179 non-null    float64       \n",
      " 22  jul_call_sum       179 non-null    float64       \n",
      " 23  aug_call_count     230 non-null    float64       \n",
      " 24  aug_call_sum       230 non-null    float64       \n",
      " 25  sep_call_count     277 non-null    float64       \n",
      " 26  sep_call_sum       277 non-null    float64       \n",
      " 27  oct_call_count     336 non-null    float64       \n",
      " 28  oct_call_sum       336 non-null    float64       \n",
      " 29  nov_call_count     402 non-null    float64       \n",
      " 30  nov_call_sum       402 non-null    float64       \n",
      " 31  dec_call_count     460 non-null    float64       \n",
      " 32  dec_call_sum       460 non-null    float64       \n",
      " 33  jan_message_count  4 non-null      float64       \n",
      " 34  feb_message_count  11 non-null     float64       \n",
      " 35  mar_message_count  23 non-null     float64       \n",
      " 36  apr_message_count  52 non-null     float64       \n",
      " 37  may_message_count  77 non-null     float64       \n",
      " 38  jun_message_count  111 non-null    float64       \n",
      " 39  jul_message_count  138 non-null    float64       \n",
      " 40  aug_message_count  181 non-null    float64       \n",
      " 41  sep_message_count  222 non-null    float64       \n",
      " 42  oct_message_count  278 non-null    float64       \n",
      " 43  nov_message_count  329 non-null    float64       \n",
      " 44  dec_message_count  380 non-null    float64       \n",
      " 45  jan_mb_sum         6 non-null      float64       \n",
      " 46  feb_mb_sum         16 non-null     float64       \n",
      " 47  mar_mb_sum         35 non-null     float64       \n",
      " 48  apr_mb_sum         70 non-null     float64       \n",
      " 49  may_mb_sum         105 non-null    float64       \n",
      " 50  jun_mb_sum         142 non-null    float64       \n",
      " 51  jul_mb_sum         179 non-null    float64       \n",
      " 52  aug_mb_sum         230 non-null    float64       \n",
      " 53  sep_mb_sum         279 non-null    float64       \n",
      " 54  oct_mb_sum         339 non-null    float64       \n",
      " 55  nov_mb_sum         408 non-null    float64       \n",
      " 56  dec_mb_sum         468 non-null    float64       \n",
      "dtypes: datetime64[ns](2), float64(48), int64(2), object(5)\n",
      "memory usage: 226.6+ KB\n"
     ]
    }
   ],
   "source": [
    "#The volume of data per month\n",
    "# rounding function for monthly mb to gb\n",
    "def round_up_mbs(value):\n",
    "    # 1 gb = 1024 mb\n",
    "    return int(np.ceil(value / 1024)) * 1024\n",
    "\n",
    "for n in range(1,13):\n",
    "    df = (\n",
    "        df_internet\n",
    "        .query(\"session_month == @n\")\n",
    "        .pivot_table(index='user_id',values='mb_used',aggfunc=['sum'])\n",
    "    )\n",
    "    df.columns = [months[n]+\"_mb_sum\"]\n",
    "    df[months[n]+\"_mb_sum\"] = df.apply(round_up_mbs,axis=1)\n",
    "    df_users = pd.merge(df_users,df,how='outer',on='user_id')\n",
    "df_users.info()"
   ]
  },
  {
   "cell_type": "code",
   "execution_count": 21,
   "metadata": {},
   "outputs": [
    {
     "data": {
      "text/html": [
       "<div>\n",
       "<style scoped>\n",
       "    .dataframe tbody tr th:only-of-type {\n",
       "        vertical-align: middle;\n",
       "    }\n",
       "\n",
       "    .dataframe tbody tr th {\n",
       "        vertical-align: top;\n",
       "    }\n",
       "\n",
       "    .dataframe thead th {\n",
       "        text-align: right;\n",
       "    }\n",
       "</style>\n",
       "<table border=\"1\" class=\"dataframe\">\n",
       "  <thead>\n",
       "    <tr style=\"text-align: right;\">\n",
       "      <th></th>\n",
       "      <th>user_id</th>\n",
       "      <th>first_name</th>\n",
       "      <th>last_name</th>\n",
       "      <th>age</th>\n",
       "      <th>city</th>\n",
       "      <th>reg_date</th>\n",
       "      <th>plan</th>\n",
       "      <th>churn_date</th>\n",
       "      <th>state</th>\n",
       "      <th>jan_call_count</th>\n",
       "      <th>...</th>\n",
       "      <th>mar_profit</th>\n",
       "      <th>apr_profit</th>\n",
       "      <th>may_profit</th>\n",
       "      <th>jun_profit</th>\n",
       "      <th>jul_profit</th>\n",
       "      <th>aug_profit</th>\n",
       "      <th>sep_profit</th>\n",
       "      <th>oct_profit</th>\n",
       "      <th>nov_profit</th>\n",
       "      <th>dec_profit</th>\n",
       "    </tr>\n",
       "  </thead>\n",
       "  <tbody>\n",
       "    <tr>\n",
       "      <th>0</th>\n",
       "      <td>1000</td>\n",
       "      <td>Anamaria</td>\n",
       "      <td>Bauer</td>\n",
       "      <td>45</td>\n",
       "      <td>Atlanta-Sandy Springs-Roswell, GA MSA</td>\n",
       "      <td>2018-12-24</td>\n",
       "      <td>ultimate</td>\n",
       "      <td>NaT</td>\n",
       "      <td>GA</td>\n",
       "      <td>NaN</td>\n",
       "      <td>...</td>\n",
       "      <td>NaN</td>\n",
       "      <td>NaN</td>\n",
       "      <td>NaN</td>\n",
       "      <td>NaN</td>\n",
       "      <td>NaN</td>\n",
       "      <td>NaN</td>\n",
       "      <td>NaN</td>\n",
       "      <td>NaN</td>\n",
       "      <td>NaN</td>\n",
       "      <td>562.61</td>\n",
       "    </tr>\n",
       "    <tr>\n",
       "      <th>1</th>\n",
       "      <td>1001</td>\n",
       "      <td>Mickey</td>\n",
       "      <td>Wilkerson</td>\n",
       "      <td>28</td>\n",
       "      <td>Seattle-Tacoma-Bellevue, WA MSA</td>\n",
       "      <td>2018-08-13</td>\n",
       "      <td>surf</td>\n",
       "      <td>NaT</td>\n",
       "      <td>WA</td>\n",
       "      <td>NaN</td>\n",
       "      <td>...</td>\n",
       "      <td>NaN</td>\n",
       "      <td>NaN</td>\n",
       "      <td>NaN</td>\n",
       "      <td>NaN</td>\n",
       "      <td>NaN</td>\n",
       "      <td>346.36</td>\n",
       "      <td>60.90</td>\n",
       "      <td>20.00</td>\n",
       "      <td>20.42</td>\n",
       "      <td>20.18</td>\n",
       "    </tr>\n",
       "    <tr>\n",
       "      <th>2</th>\n",
       "      <td>1002</td>\n",
       "      <td>Carlee</td>\n",
       "      <td>Hoffman</td>\n",
       "      <td>36</td>\n",
       "      <td>Las Vegas-Henderson-Paradise, NV MSA</td>\n",
       "      <td>2018-10-21</td>\n",
       "      <td>surf</td>\n",
       "      <td>NaT</td>\n",
       "      <td>NV</td>\n",
       "      <td>NaN</td>\n",
       "      <td>...</td>\n",
       "      <td>NaN</td>\n",
       "      <td>NaN</td>\n",
       "      <td>NaN</td>\n",
       "      <td>NaN</td>\n",
       "      <td>NaN</td>\n",
       "      <td>NaN</td>\n",
       "      <td>NaN</td>\n",
       "      <td>346.81</td>\n",
       "      <td>20.54</td>\n",
       "      <td>20.27</td>\n",
       "    </tr>\n",
       "    <tr>\n",
       "      <th>3</th>\n",
       "      <td>1003</td>\n",
       "      <td>Reynaldo</td>\n",
       "      <td>Jenkins</td>\n",
       "      <td>52</td>\n",
       "      <td>Tulsa, OK MSA</td>\n",
       "      <td>2018-01-28</td>\n",
       "      <td>surf</td>\n",
       "      <td>NaT</td>\n",
       "      <td>OK</td>\n",
       "      <td>NaN</td>\n",
       "      <td>...</td>\n",
       "      <td>NaN</td>\n",
       "      <td>NaN</td>\n",
       "      <td>NaN</td>\n",
       "      <td>NaN</td>\n",
       "      <td>NaN</td>\n",
       "      <td>NaN</td>\n",
       "      <td>NaN</td>\n",
       "      <td>NaN</td>\n",
       "      <td>NaN</td>\n",
       "      <td>20.00</td>\n",
       "    </tr>\n",
       "    <tr>\n",
       "      <th>4</th>\n",
       "      <td>1004</td>\n",
       "      <td>Leonila</td>\n",
       "      <td>Thompson</td>\n",
       "      <td>40</td>\n",
       "      <td>Seattle-Tacoma-Bellevue, WA MSA</td>\n",
       "      <td>2018-05-23</td>\n",
       "      <td>surf</td>\n",
       "      <td>NaT</td>\n",
       "      <td>WA</td>\n",
       "      <td>NaN</td>\n",
       "      <td>...</td>\n",
       "      <td>NaN</td>\n",
       "      <td>NaN</td>\n",
       "      <td>347.05</td>\n",
       "      <td>20.96</td>\n",
       "      <td>20.72</td>\n",
       "      <td>20.75</td>\n",
       "      <td>20.87</td>\n",
       "      <td>20.78</td>\n",
       "      <td>20.75</td>\n",
       "      <td>20.57</td>\n",
       "    </tr>\n",
       "  </tbody>\n",
       "</table>\n",
       "<p>5 rows × 69 columns</p>\n",
       "</div>"
      ],
      "text/plain": [
       "   user_id first_name  last_name  age                                   city  \\\n",
       "0     1000   Anamaria      Bauer   45  Atlanta-Sandy Springs-Roswell, GA MSA   \n",
       "1     1001     Mickey  Wilkerson   28        Seattle-Tacoma-Bellevue, WA MSA   \n",
       "2     1002     Carlee    Hoffman   36   Las Vegas-Henderson-Paradise, NV MSA   \n",
       "3     1003   Reynaldo    Jenkins   52                          Tulsa, OK MSA   \n",
       "4     1004    Leonila   Thompson   40        Seattle-Tacoma-Bellevue, WA MSA   \n",
       "\n",
       "    reg_date      plan churn_date state  jan_call_count  ...  mar_profit  \\\n",
       "0 2018-12-24  ultimate        NaT    GA             NaN  ...         NaN   \n",
       "1 2018-08-13      surf        NaT    WA             NaN  ...         NaN   \n",
       "2 2018-10-21      surf        NaT    NV             NaN  ...         NaN   \n",
       "3 2018-01-28      surf        NaT    OK             NaN  ...         NaN   \n",
       "4 2018-05-23      surf        NaT    WA             NaN  ...         NaN   \n",
       "\n",
       "   apr_profit  may_profit  jun_profit  jul_profit  aug_profit  sep_profit  \\\n",
       "0         NaN         NaN         NaN         NaN         NaN         NaN   \n",
       "1         NaN         NaN         NaN         NaN      346.36       60.90   \n",
       "2         NaN         NaN         NaN         NaN         NaN         NaN   \n",
       "3         NaN         NaN         NaN         NaN         NaN         NaN   \n",
       "4         NaN      347.05       20.96       20.72       20.75       20.87   \n",
       "\n",
       "   oct_profit  nov_profit  dec_profit  \n",
       "0         NaN         NaN      562.61  \n",
       "1       20.00       20.42       20.18  \n",
       "2      346.81       20.54       20.27  \n",
       "3         NaN         NaN       20.00  \n",
       "4       20.78       20.75       20.57  \n",
       "\n",
       "[5 rows x 69 columns]"
      ]
     },
     "execution_count": 21,
     "metadata": {},
     "output_type": "execute_result"
    }
   ],
   "source": [
    "#The monthly profit from each user \n",
    "def monthly_profit(row,month):\n",
    "    if row['plan'] == 'surf':\n",
    "        plan_id = 0\n",
    "    else :\n",
    "        plan_id = 1\n",
    "    plan_message_limit = df_plans['messages_included'][plan_id]\n",
    "    plan_mb_limit = df_plans['mb_per_month_included'][plan_id]\n",
    "    plan_minute_limit = df_plans['minutes_included'][plan_id]\n",
    "    overage_message = max(plan_message_limit - row[month+\"_message_count\"],0)\n",
    "    overage_rate_message = df_plans['usd_per_message'][plan_id]\n",
    "    overage_mb = max(plan_mb_limit-row[month+\"_mb_sum\"],0)\n",
    "    overage_rate_gb = df_plans['usd_per_gb'][plan_id]\n",
    "    overage_minute = max(plan_mb_limit - row[month+\"_mb_sum\"],0)\n",
    "    overage_rate_minute = df_plans['usd_per_minute'][plan_id]\n",
    "    monthly_fee = df_plans['usd_monthly_pay'][plan_id]\n",
    "    return (\n",
    "        (overage_message*overage_rate_message)+(round(overage_mb/1024*overage_rate_gb,2))+(overage_minute*overage_rate_minute)+monthly_fee\n",
    "    )\n",
    "\n",
    "for n in range(1,13):\n",
    "    df_users[months[n]+\"_profit\"] = df_users.apply(monthly_profit,axis=1,month=months[n])\n",
    "df_users.head()"
   ]
  },
  {
   "cell_type": "code",
   "execution_count": 22,
   "metadata": {},
   "outputs": [
    {
     "data": {
      "text/html": [
       "<div>\n",
       "<style scoped>\n",
       "    .dataframe tbody tr th:only-of-type {\n",
       "        vertical-align: middle;\n",
       "    }\n",
       "\n",
       "    .dataframe tbody tr th {\n",
       "        vertical-align: top;\n",
       "    }\n",
       "\n",
       "    .dataframe thead th {\n",
       "        text-align: right;\n",
       "    }\n",
       "</style>\n",
       "<table border=\"1\" class=\"dataframe\">\n",
       "  <thead>\n",
       "    <tr style=\"text-align: right;\">\n",
       "      <th></th>\n",
       "      <th>user_id</th>\n",
       "      <th>age</th>\n",
       "      <th>jan_call_count</th>\n",
       "      <th>jan_call_sum</th>\n",
       "      <th>feb_call_count</th>\n",
       "      <th>feb_call_sum</th>\n",
       "      <th>mar_call_count</th>\n",
       "      <th>mar_call_sum</th>\n",
       "      <th>apr_call_count</th>\n",
       "      <th>apr_call_sum</th>\n",
       "      <th>...</th>\n",
       "      <th>mar_profit</th>\n",
       "      <th>apr_profit</th>\n",
       "      <th>may_profit</th>\n",
       "      <th>jun_profit</th>\n",
       "      <th>jul_profit</th>\n",
       "      <th>aug_profit</th>\n",
       "      <th>sep_profit</th>\n",
       "      <th>oct_profit</th>\n",
       "      <th>nov_profit</th>\n",
       "      <th>dec_profit</th>\n",
       "    </tr>\n",
       "  </thead>\n",
       "  <tbody>\n",
       "    <tr>\n",
       "      <th>count</th>\n",
       "      <td>500.000000</td>\n",
       "      <td>500.000000</td>\n",
       "      <td>6.000000</td>\n",
       "      <td>6.000000</td>\n",
       "      <td>15.000000</td>\n",
       "      <td>15.000000</td>\n",
       "      <td>35.000000</td>\n",
       "      <td>35.000000</td>\n",
       "      <td>71.000000</td>\n",
       "      <td>71.000000</td>\n",
       "      <td>...</td>\n",
       "      <td>23.000000</td>\n",
       "      <td>51.000000</td>\n",
       "      <td>76.000000</td>\n",
       "      <td>109.000000</td>\n",
       "      <td>137.000000</td>\n",
       "      <td>179.000000</td>\n",
       "      <td>221.000000</td>\n",
       "      <td>274.000000</td>\n",
       "      <td>327.000000</td>\n",
       "      <td>379.000000</td>\n",
       "    </tr>\n",
       "    <tr>\n",
       "      <th>mean</th>\n",
       "      <td>1249.500000</td>\n",
       "      <td>45.486000</td>\n",
       "      <td>22.166667</td>\n",
       "      <td>196.666667</td>\n",
       "      <td>41.933333</td>\n",
       "      <td>366.333333</td>\n",
       "      <td>37.428571</td>\n",
       "      <td>321.171429</td>\n",
       "      <td>39.507042</td>\n",
       "      <td>347.197183</td>\n",
       "      <td>...</td>\n",
       "      <td>193.834348</td>\n",
       "      <td>260.440000</td>\n",
       "      <td>188.981579</td>\n",
       "      <td>191.051927</td>\n",
       "      <td>178.067299</td>\n",
       "      <td>163.588101</td>\n",
       "      <td>167.893394</td>\n",
       "      <td>159.278796</td>\n",
       "      <td>169.249755</td>\n",
       "      <td>148.496807</td>\n",
       "    </tr>\n",
       "    <tr>\n",
       "      <th>std</th>\n",
       "      <td>144.481833</td>\n",
       "      <td>16.972269</td>\n",
       "      <td>12.998718</td>\n",
       "      <td>114.611809</td>\n",
       "      <td>26.871298</td>\n",
       "      <td>238.701447</td>\n",
       "      <td>25.400655</td>\n",
       "      <td>208.275056</td>\n",
       "      <td>23.884767</td>\n",
       "      <td>213.589635</td>\n",
       "      <td>...</td>\n",
       "      <td>205.804440</td>\n",
       "      <td>196.778208</td>\n",
       "      <td>177.261309</td>\n",
       "      <td>185.181651</td>\n",
       "      <td>179.299191</td>\n",
       "      <td>165.078740</td>\n",
       "      <td>166.188919</td>\n",
       "      <td>162.155117</td>\n",
       "      <td>168.335774</td>\n",
       "      <td>156.345158</td>\n",
       "    </tr>\n",
       "    <tr>\n",
       "      <th>min</th>\n",
       "      <td>1000.000000</td>\n",
       "      <td>18.000000</td>\n",
       "      <td>2.000000</td>\n",
       "      <td>16.000000</td>\n",
       "      <td>4.000000</td>\n",
       "      <td>39.000000</td>\n",
       "      <td>3.000000</td>\n",
       "      <td>23.000000</td>\n",
       "      <td>2.000000</td>\n",
       "      <td>16.000000</td>\n",
       "      <td>...</td>\n",
       "      <td>20.000000</td>\n",
       "      <td>20.000000</td>\n",
       "      <td>20.000000</td>\n",
       "      <td>20.000000</td>\n",
       "      <td>20.000000</td>\n",
       "      <td>20.000000</td>\n",
       "      <td>20.000000</td>\n",
       "      <td>20.000000</td>\n",
       "      <td>20.000000</td>\n",
       "      <td>20.000000</td>\n",
       "    </tr>\n",
       "    <tr>\n",
       "      <th>25%</th>\n",
       "      <td>1124.750000</td>\n",
       "      <td>30.000000</td>\n",
       "      <td>15.000000</td>\n",
       "      <td>130.750000</td>\n",
       "      <td>27.500000</td>\n",
       "      <td>248.500000</td>\n",
       "      <td>16.000000</td>\n",
       "      <td>148.000000</td>\n",
       "      <td>21.000000</td>\n",
       "      <td>189.500000</td>\n",
       "      <td>...</td>\n",
       "      <td>20.975000</td>\n",
       "      <td>41.005000</td>\n",
       "      <td>20.772500</td>\n",
       "      <td>20.810000</td>\n",
       "      <td>20.780000</td>\n",
       "      <td>20.630000</td>\n",
       "      <td>20.600000</td>\n",
       "      <td>20.427500</td>\n",
       "      <td>20.600000</td>\n",
       "      <td>20.345000</td>\n",
       "    </tr>\n",
       "    <tr>\n",
       "      <th>50%</th>\n",
       "      <td>1249.500000</td>\n",
       "      <td>46.000000</td>\n",
       "      <td>25.000000</td>\n",
       "      <td>234.000000</td>\n",
       "      <td>36.000000</td>\n",
       "      <td>307.000000</td>\n",
       "      <td>37.000000</td>\n",
       "      <td>307.000000</td>\n",
       "      <td>38.000000</td>\n",
       "      <td>321.000000</td>\n",
       "      <td>...</td>\n",
       "      <td>79.740000</td>\n",
       "      <td>269.150000</td>\n",
       "      <td>102.505000</td>\n",
       "      <td>102.790000</td>\n",
       "      <td>101.440000</td>\n",
       "      <td>79.260000</td>\n",
       "      <td>101.440000</td>\n",
       "      <td>79.260000</td>\n",
       "      <td>101.440000</td>\n",
       "      <td>60.720000</td>\n",
       "    </tr>\n",
       "    <tr>\n",
       "      <th>75%</th>\n",
       "      <td>1374.250000</td>\n",
       "      <td>61.000000</td>\n",
       "      <td>32.750000</td>\n",
       "      <td>289.250000</td>\n",
       "      <td>58.000000</td>\n",
       "      <td>481.000000</td>\n",
       "      <td>48.000000</td>\n",
       "      <td>430.500000</td>\n",
       "      <td>56.000000</td>\n",
       "      <td>490.500000</td>\n",
       "      <td>...</td>\n",
       "      <td>331.655000</td>\n",
       "      <td>455.220000</td>\n",
       "      <td>325.485000</td>\n",
       "      <td>338.010000</td>\n",
       "      <td>338.140000</td>\n",
       "      <td>286.600000</td>\n",
       "      <td>320.650000</td>\n",
       "      <td>299.147500</td>\n",
       "      <td>303.850000</td>\n",
       "      <td>286.130000</td>\n",
       "    </tr>\n",
       "    <tr>\n",
       "      <th>max</th>\n",
       "      <td>1499.000000</td>\n",
       "      <td>75.000000</td>\n",
       "      <td>34.000000</td>\n",
       "      <td>292.000000</td>\n",
       "      <td>88.000000</td>\n",
       "      <td>811.000000</td>\n",
       "      <td>99.000000</td>\n",
       "      <td>788.000000</td>\n",
       "      <td>109.000000</td>\n",
       "      <td>1043.000000</td>\n",
       "      <td>...</td>\n",
       "      <td>550.770000</td>\n",
       "      <td>591.490000</td>\n",
       "      <td>550.830000</td>\n",
       "      <td>591.340000</td>\n",
       "      <td>591.310000</td>\n",
       "      <td>591.520000</td>\n",
       "      <td>591.520000</td>\n",
       "      <td>590.080000</td>\n",
       "      <td>591.490000</td>\n",
       "      <td>591.460000</td>\n",
       "    </tr>\n",
       "  </tbody>\n",
       "</table>\n",
       "<p>8 rows × 62 columns</p>\n",
       "</div>"
      ],
      "text/plain": [
       "           user_id         age  jan_call_count  jan_call_sum  feb_call_count  \\\n",
       "count   500.000000  500.000000        6.000000      6.000000       15.000000   \n",
       "mean   1249.500000   45.486000       22.166667    196.666667       41.933333   \n",
       "std     144.481833   16.972269       12.998718    114.611809       26.871298   \n",
       "min    1000.000000   18.000000        2.000000     16.000000        4.000000   \n",
       "25%    1124.750000   30.000000       15.000000    130.750000       27.500000   \n",
       "50%    1249.500000   46.000000       25.000000    234.000000       36.000000   \n",
       "75%    1374.250000   61.000000       32.750000    289.250000       58.000000   \n",
       "max    1499.000000   75.000000       34.000000    292.000000       88.000000   \n",
       "\n",
       "       feb_call_sum  mar_call_count  mar_call_sum  apr_call_count  \\\n",
       "count     15.000000       35.000000     35.000000       71.000000   \n",
       "mean     366.333333       37.428571    321.171429       39.507042   \n",
       "std      238.701447       25.400655    208.275056       23.884767   \n",
       "min       39.000000        3.000000     23.000000        2.000000   \n",
       "25%      248.500000       16.000000    148.000000       21.000000   \n",
       "50%      307.000000       37.000000    307.000000       38.000000   \n",
       "75%      481.000000       48.000000    430.500000       56.000000   \n",
       "max      811.000000       99.000000    788.000000      109.000000   \n",
       "\n",
       "       apr_call_sum  ...  mar_profit  apr_profit  may_profit  jun_profit  \\\n",
       "count     71.000000  ...   23.000000   51.000000   76.000000  109.000000   \n",
       "mean     347.197183  ...  193.834348  260.440000  188.981579  191.051927   \n",
       "std      213.589635  ...  205.804440  196.778208  177.261309  185.181651   \n",
       "min       16.000000  ...   20.000000   20.000000   20.000000   20.000000   \n",
       "25%      189.500000  ...   20.975000   41.005000   20.772500   20.810000   \n",
       "50%      321.000000  ...   79.740000  269.150000  102.505000  102.790000   \n",
       "75%      490.500000  ...  331.655000  455.220000  325.485000  338.010000   \n",
       "max     1043.000000  ...  550.770000  591.490000  550.830000  591.340000   \n",
       "\n",
       "       jul_profit  aug_profit  sep_profit  oct_profit  nov_profit  dec_profit  \n",
       "count  137.000000  179.000000  221.000000  274.000000  327.000000  379.000000  \n",
       "mean   178.067299  163.588101  167.893394  159.278796  169.249755  148.496807  \n",
       "std    179.299191  165.078740  166.188919  162.155117  168.335774  156.345158  \n",
       "min     20.000000   20.000000   20.000000   20.000000   20.000000   20.000000  \n",
       "25%     20.780000   20.630000   20.600000   20.427500   20.600000   20.345000  \n",
       "50%    101.440000   79.260000  101.440000   79.260000  101.440000   60.720000  \n",
       "75%    338.140000  286.600000  320.650000  299.147500  303.850000  286.130000  \n",
       "max    591.310000  591.520000  591.520000  590.080000  591.490000  591.460000  \n",
       "\n",
       "[8 rows x 62 columns]"
      ]
     },
     "execution_count": 22,
     "metadata": {},
     "output_type": "execute_result"
    }
   ],
   "source": [
    "df_users.describe()"
   ]
  },
  {
   "cell_type": "markdown",
   "metadata": {},
   "source": [
    "There were call/internet usages of 0 min/mbs (essentially non-entries) that were removed. Significant data have types converted and month added to each media consumption table in order to do monthly analysis. \n",
    "\n",
    "The monthly usage for messages/call minutes/mb has been added to each user. It's possible to see the growth of the users throughtout the months of the year. There are very few entries in the first half of the year. All the other variables (median, etc.) for monthly profit seem consistent throughout the year without outliers but requires further investigation. "
   ]
  },
  {
   "cell_type": "markdown",
   "metadata": {},
   "source": [
    "### Step 3. Analyze the data"
   ]
  },
  {
   "cell_type": "markdown",
   "metadata": {},
   "source": [
    "We will start by plotting the monthly medians throughout the year to get a 'big-picture' view of changes throughout the year. Hopefully this will give me an idea of which month(s) to focus my analysis because doing the monthly analysis 12 times is tedious and unnecessary."
   ]
  },
  {
   "cell_type": "code",
   "execution_count": 23,
   "metadata": {},
   "outputs": [
    {
     "data": {
      "text/html": [
       "<div>\n",
       "<style scoped>\n",
       "    .dataframe tbody tr th:only-of-type {\n",
       "        vertical-align: middle;\n",
       "    }\n",
       "\n",
       "    .dataframe tbody tr th {\n",
       "        vertical-align: top;\n",
       "    }\n",
       "\n",
       "    .dataframe thead th {\n",
       "        text-align: right;\n",
       "    }\n",
       "</style>\n",
       "<table border=\"1\" class=\"dataframe\">\n",
       "  <thead>\n",
       "    <tr style=\"text-align: right;\">\n",
       "      <th></th>\n",
       "      <th>users</th>\n",
       "      <th>call_count_median</th>\n",
       "      <th>call_sum_median</th>\n",
       "      <th>messages_median</th>\n",
       "      <th>mbs_median</th>\n",
       "      <th>profit_median</th>\n",
       "    </tr>\n",
       "  </thead>\n",
       "  <tbody>\n",
       "    <tr>\n",
       "      <th>count</th>\n",
       "      <td>12.000000</td>\n",
       "      <td>12.000000</td>\n",
       "      <td>12.000000</td>\n",
       "      <td>12.000000</td>\n",
       "      <td>12.000000</td>\n",
       "      <td>12.000000</td>\n",
       "    </tr>\n",
       "    <tr>\n",
       "      <th>mean</th>\n",
       "      <td>149.250000</td>\n",
       "      <td>43.333333</td>\n",
       "      <td>382.833333</td>\n",
       "      <td>28.708333</td>\n",
       "      <td>15957.333333</td>\n",
       "      <td>146.198750</td>\n",
       "    </tr>\n",
       "    <tr>\n",
       "      <th>std</th>\n",
       "      <td>127.534042</td>\n",
       "      <td>7.773303</td>\n",
       "      <td>71.494543</td>\n",
       "      <td>8.086066</td>\n",
       "      <td>2836.728120</td>\n",
       "      <td>110.486782</td>\n",
       "    </tr>\n",
       "    <tr>\n",
       "      <th>min</th>\n",
       "      <td>4.000000</td>\n",
       "      <td>25.000000</td>\n",
       "      <td>234.000000</td>\n",
       "      <td>15.000000</td>\n",
       "      <td>7680.000000</td>\n",
       "      <td>60.720000</td>\n",
       "    </tr>\n",
       "    <tr>\n",
       "      <th>25%</th>\n",
       "      <td>44.000000</td>\n",
       "      <td>37.750000</td>\n",
       "      <td>317.500000</td>\n",
       "      <td>21.750000</td>\n",
       "      <td>16128.000000</td>\n",
       "      <td>79.620000</td>\n",
       "    </tr>\n",
       "    <tr>\n",
       "      <th>50%</th>\n",
       "      <td>123.000000</td>\n",
       "      <td>46.500000</td>\n",
       "      <td>414.000000</td>\n",
       "      <td>29.000000</td>\n",
       "      <td>16384.000000</td>\n",
       "      <td>101.440000</td>\n",
       "    </tr>\n",
       "    <tr>\n",
       "      <th>75%</th>\n",
       "      <td>234.250000</td>\n",
       "      <td>48.500000</td>\n",
       "      <td>433.750000</td>\n",
       "      <td>35.000000</td>\n",
       "      <td>17408.000000</td>\n",
       "      <td>140.127500</td>\n",
       "    </tr>\n",
       "    <tr>\n",
       "      <th>max</th>\n",
       "      <td>379.000000</td>\n",
       "      <td>51.000000</td>\n",
       "      <td>450.500000</td>\n",
       "      <td>42.000000</td>\n",
       "      <td>18432.000000</td>\n",
       "      <td>424.500000</td>\n",
       "    </tr>\n",
       "  </tbody>\n",
       "</table>\n",
       "</div>"
      ],
      "text/plain": [
       "            users  call_count_median  call_sum_median  messages_median  \\\n",
       "count   12.000000          12.000000        12.000000        12.000000   \n",
       "mean   149.250000          43.333333       382.833333        28.708333   \n",
       "std    127.534042           7.773303        71.494543         8.086066   \n",
       "min      4.000000          25.000000       234.000000        15.000000   \n",
       "25%     44.000000          37.750000       317.500000        21.750000   \n",
       "50%    123.000000          46.500000       414.000000        29.000000   \n",
       "75%    234.250000          48.500000       433.750000        35.000000   \n",
       "max    379.000000          51.000000       450.500000        42.000000   \n",
       "\n",
       "         mbs_median  profit_median  \n",
       "count     12.000000      12.000000  \n",
       "mean   15957.333333     146.198750  \n",
       "std     2836.728120     110.486782  \n",
       "min     7680.000000      60.720000  \n",
       "25%    16128.000000      79.620000  \n",
       "50%    16384.000000     101.440000  \n",
       "75%    17408.000000     140.127500  \n",
       "max    18432.000000     424.500000  "
      ]
     },
     "execution_count": 23,
     "metadata": {},
     "output_type": "execute_result"
    }
   ],
   "source": [
    "def year_df (df):\n",
    "    month_list = []\n",
    "    for n in range(1,13):\n",
    "            month_row = {\n",
    "                'users' : df[months[n]+\"_profit\"].notna().sum(),\n",
    "                'call_count_median': df[months[n]+\"_call_count\"].median(),\n",
    "                'call_sum_median' : df[months[n]+\"_call_sum\"].median(),\n",
    "                'messages_median' : df[months[n]+\"_message_count\"].median(),\n",
    "                'mbs_median': df[months[n]+\"_mb_sum\"].median(),\n",
    "                'profit_median': df[months[n]+\"_profit\"].median()\n",
    "            }\n",
    "            month_list.append(month_row)\n",
    "\n",
    "    return pd.DataFrame(month_list)\n",
    "# created a function that builds a new dataframe to show the monthly medians on the various media consumptions/profit for the year\n",
    "df_all_year = year_df(df_users)\n",
    "df_all_year.describe()"
   ]
  },
  {
   "cell_type": "code",
   "execution_count": 24,
   "metadata": {},
   "outputs": [
    {
     "data": {
      "text/plain": [
       "<AxesSubplot:>"
      ]
     },
     "execution_count": 24,
     "metadata": {},
     "output_type": "execute_result"
    },
    {
     "data": {
      "image/png": "[encoded data removed]",
      "text/plain": [
       "<Figure size 432x288 with 1 Axes>"
      ]
     },
     "metadata": {
      "needs_background": "light"
     },
     "output_type": "display_data"
    }
   ],
   "source": [
    "df_all_year.plot()\n",
    "# the mb_used data is messing up the range of data in comparison so I will scale it down to GBs"
   ]
  },
  {
   "cell_type": "code",
   "execution_count": 25,
   "metadata": {},
   "outputs": [
    {
     "data": {
      "text/plain": [
       "<AxesSubplot:>"
      ]
     },
     "execution_count": 25,
     "metadata": {},
     "output_type": "execute_result"
    },
    {
     "data": {
      "image/png": "[encoded data removed]",
      "text/plain": [
       "<Figure size 720x720 with 1 Axes>"
      ]
     },
     "metadata": {
      "needs_background": "light"
     },
     "output_type": "display_data"
    }
   ],
   "source": [
    "df_all_year['mbs_median'] = df_all_year['mbs_median'] / 1024\n",
    "df_all_year.rename(columns={'mbs_median': 'gbs_median'}, inplace=True)\n",
    "df_all_year.plot(figsize=(10,10))"
   ]
  },
  {
   "cell_type": "markdown",
   "metadata": {},
   "source": [
    "By the above graph we can see as the number of users increases, the more steady the media usage medians from month to month become. This makes perfect sense by law of large numbers. As the earlier months have little data with greater profit variances I will only analyse the last month - December. There is also a slightly increasing median duration of calls while the median number of calls stays steady. This could be explained by users growing comfortability with the service making longer calls, requires further analysis."
   ]
  },
  {
   "cell_type": "markdown",
   "metadata": {},
   "source": [
    "#### Number of calls"
   ]
  },
  {
   "cell_type": "code",
   "execution_count": 26,
   "metadata": {},
   "outputs": [
    {
     "name": "stdout",
     "output_type": "stream",
     "text": [
      "----------------------------\n",
      "ALL USER DATA\n",
      "dec_call_count\n",
      "COUNT:  460\n",
      "MEAN: 53.62\n",
      "VARIANCE: 718.44\n",
      "STANDARD DEVIATION: 26.80\n",
      "----------------------------\n"
     ]
    },
    {
     "data": {
      "image/png": "[encoded data removed]",
      "text/plain": [
       "<Figure size 432x288 with 1 Axes>"
      ]
     },
     "metadata": {
      "needs_background": "light"
     },
     "output_type": "display_data"
    }
   ],
   "source": [
    "df_users.name = \"ALL USER DATA\"\n",
    "# create function to calculate entry count, mean, var and std\n",
    "def analyze(df,col):\n",
    "    print(\"----------------------------\")\n",
    "    print(df.name)\n",
    "    print(col)\n",
    "    count = df[col].notna().sum()\n",
    "    print(\"COUNT: \",count)\n",
    "    mean = df[col].mean()\n",
    "    print(\"MEAN: {:.2f}\".format(mean))\n",
    "    variance = np.var(df[col])\n",
    "    print(\"VARIANCE: {:.2f}\".format(variance))\n",
    "    standard_deviation = np.sqrt(variance)\n",
    "    print(\"STANDARD DEVIATION: {:.2f}\".format(standard_deviation))\n",
    "    df[col].plot(kind='hist',grid=True,log=True,alpha=0.5)\n",
    "    print(\"----------------------------\")\n",
    "    \n",
    "analyze(df_users,'dec_call_count')"
   ]
  },
  {
   "cell_type": "markdown",
   "metadata": {},
   "source": [
    "The number of call in December graph has a poisson distribution."
   ]
  },
  {
   "cell_type": "code",
   "execution_count": 27,
   "metadata": {},
   "outputs": [
    {
     "name": "stdout",
     "output_type": "stream",
     "text": [
      "There are  339  users with surf plan and  161  users with ultimate plan.\n"
     ]
    }
   ],
   "source": [
    "# function to compare dataframe with the analysis function\n",
    "def compare(dfs,col):\n",
    "    for df in dfs:\n",
    "        analyze(df,col)\n",
    "        \n",
    "# creating seperate dataframes for users on the different monthly plans\n",
    "df_surf = df_users.query('plan == \"surf\"')\n",
    "df_surf.name = \"USERS WITH SURF PLAN\"\n",
    "df_ultimate = df_users.query('plan == \"ultimate\"')\n",
    "df_ultimate.name = \"USERS WITH ULTIMATE PLAN\"\n",
    "surf_user_count = df_surf.notna().sum()[0]\n",
    "ultimate_user_count = df_ultimate.notna().sum()[0]\n",
    "print(\"There are \",surf_user_count,\" users with surf plan and \",ultimate_user_count, \" users with ultimate plan.\")"
   ]
  },
  {
   "cell_type": "code",
   "execution_count": 28,
   "metadata": {
    "scrolled": false
   },
   "outputs": [
    {
     "name": "stdout",
     "output_type": "stream",
     "text": [
      "----------------------------\n",
      "USERS WITH SURF PLAN\n",
      "dec_call_count\n",
      "COUNT:  311\n",
      "MEAN: 54.00\n",
      "VARIANCE: 705.23\n",
      "STANDARD DEVIATION: 26.56\n",
      "----------------------------\n",
      "----------------------------\n",
      "USERS WITH ULTIMATE PLAN\n",
      "dec_call_count\n",
      "COUNT:  149\n",
      "MEAN: 52.84\n",
      "VARIANCE: 745.11\n",
      "STANDARD DEVIATION: 27.30\n",
      "----------------------------\n"
     ]
    },
    {
     "data": {
      "image/png": "[encoded data removed]",
      "text/plain": [
       "<Figure size 432x288 with 1 Axes>"
      ]
     },
     "metadata": {
      "needs_background": "light"
     },
     "output_type": "display_data"
    }
   ],
   "source": [
    "surf_and_ultimate = [df_surf,df_ultimate]\n",
    "compare(surf_and_ultimate,'dec_call_count')"
   ]
  },
  {
   "cell_type": "markdown",
   "metadata": {},
   "source": [
    "It appear by comparison that the surf plan users make slightly more calls but the ultimate plan data has a larger variance. "
   ]
  },
  {
   "cell_type": "code",
   "execution_count": 29,
   "metadata": {},
   "outputs": [
    {
     "name": "stdout",
     "output_type": "stream",
     "text": [
      "There are  103  users in NY-NJ and  397  users in other states.\n"
     ]
    }
   ],
   "source": [
    "# creating seperate dataframes for users in NY-NJ versus others\n",
    "df_ny_nj = df_users.query('state == \"NY\" or state == \"NY-NJ-PA\" or state == \"PA-NJ-DE-MD\"')\n",
    "df_ny_nj.name = \"USERS IN NY OR NJ\"\n",
    "df_other = df_users.query('state != \"NY\" and state != \"NY-NJ-PA\" and state != \"PA-NJ-DE-MD\"')\n",
    "df_other.name = \"USERS IN OTHER STATES\"\n",
    "ny_nj_user_count = df_ny_nj.notna().sum()[0]\n",
    "other_user_count = df_other.notna().sum()[0]\n",
    "print(\"There are \",ny_nj_user_count,\" users in NY-NJ and \",other_user_count, \" users in other states.\")"
   ]
  },
  {
   "cell_type": "code",
   "execution_count": 30,
   "metadata": {},
   "outputs": [
    {
     "name": "stdout",
     "output_type": "stream",
     "text": [
      "----------------------------\n",
      "USERS IN NY OR NJ\n",
      "dec_call_count\n",
      "COUNT:  96\n",
      "MEAN: 48.79\n",
      "VARIANCE: 555.77\n",
      "STANDARD DEVIATION: 23.57\n",
      "----------------------------\n",
      "----------------------------\n",
      "USERS IN OTHER STATES\n",
      "dec_call_count\n",
      "COUNT:  364\n",
      "MEAN: 54.90\n",
      "VARIANCE: 753.57\n",
      "STANDARD DEVIATION: 27.45\n",
      "----------------------------\n"
     ]
    },
    {
     "data": {
      "image/png": "[encoded data removed]",
      "text/plain": [
       "<Figure size 432x288 with 1 Axes>"
      ]
     },
     "metadata": {
      "needs_background": "light"
     },
     "output_type": "display_data"
    }
   ],
   "source": [
    "ny_nj_and_other = [df_ny_nj,df_other]\n",
    "compare(ny_nj_and_other,'dec_call_count')"
   ]
  },
  {
   "cell_type": "markdown",
   "metadata": {},
   "source": [
    "The median is slightly higher for other states but the variance is also higher."
   ]
  },
  {
   "cell_type": "markdown",
   "metadata": {},
   "source": [
    "#### Call Durations"
   ]
  },
  {
   "cell_type": "code",
   "execution_count": 31,
   "metadata": {
    "scrolled": false
   },
   "outputs": [
    {
     "name": "stdout",
     "output_type": "stream",
     "text": [
      "----------------------------\n",
      "ALL USER DATA\n",
      "dec_call_sum\n",
      "COUNT:  460\n",
      "MEAN: 478.27\n",
      "VARIANCE: 59889.54\n",
      "STANDARD DEVIATION: 244.72\n",
      "----------------------------\n"
     ]
    },
    {
     "data": {
      "image/png": "[encoded data removed]",
      "text/plain": [
       "<Figure size 432x288 with 1 Axes>"
      ]
     },
     "metadata": {
      "needs_background": "light"
     },
     "output_type": "display_data"
    }
   ],
   "source": [
    "analyze(df_users,'dec_call_sum')"
   ]
  },
  {
   "cell_type": "markdown",
   "metadata": {},
   "source": [
    "Another poisson distribution"
   ]
  },
  {
   "cell_type": "code",
   "execution_count": 32,
   "metadata": {},
   "outputs": [
    {
     "name": "stdout",
     "output_type": "stream",
     "text": [
      "----------------------------\n",
      "USERS WITH SURF PLAN\n",
      "dec_call_sum\n",
      "COUNT:  311\n",
      "MEAN: 484.50\n",
      "VARIANCE: 59689.83\n",
      "STANDARD DEVIATION: 244.32\n",
      "----------------------------\n",
      "----------------------------\n",
      "USERS WITH ULTIMATE PLAN\n",
      "dec_call_sum\n",
      "COUNT:  149\n",
      "MEAN: 465.26\n",
      "VARIANCE: 60056.14\n",
      "STANDARD DEVIATION: 245.06\n",
      "----------------------------\n"
     ]
    },
    {
     "data": {
      "image/png": "[encoded data removed]",
      "text/plain": [
       "<Figure size 432x288 with 1 Axes>"
      ]
     },
     "metadata": {
      "needs_background": "light"
     },
     "output_type": "display_data"
    }
   ],
   "source": [
    "compare(surf_and_ultimate,'dec_call_sum')"
   ]
  },
  {
   "cell_type": "markdown",
   "metadata": {},
   "source": [
    "The surf users have a higher median call duration but a fairly high variance. The surf users' median is right around the monthly limit of 500."
   ]
  },
  {
   "cell_type": "code",
   "execution_count": 33,
   "metadata": {},
   "outputs": [
    {
     "name": "stdout",
     "output_type": "stream",
     "text": [
      "----------------------------\n",
      "USERS IN NY OR NJ\n",
      "dec_call_sum\n",
      "COUNT:  96\n",
      "MEAN: 438.00\n",
      "VARIANCE: 49156.12\n",
      "STANDARD DEVIATION: 221.71\n",
      "----------------------------\n",
      "----------------------------\n",
      "USERS IN OTHER STATES\n",
      "dec_call_sum\n",
      "COUNT:  364\n",
      "MEAN: 488.89\n",
      "VARIANCE: 62179.86\n",
      "STANDARD DEVIATION: 249.36\n",
      "----------------------------\n"
     ]
    },
    {
     "data": {
      "image/png": "[encoded data removed]",
      "text/plain": [
       "<Figure size 432x288 with 1 Axes>"
      ]
     },
     "metadata": {
      "needs_background": "light"
     },
     "output_type": "display_data"
    }
   ],
   "source": [
    "compare(ny_nj_and_other,'dec_call_sum')"
   ]
  },
  {
   "cell_type": "markdown",
   "metadata": {},
   "source": [
    "The users in non-NY-NJ states have a higher median call duration but fairly high variance"
   ]
  },
  {
   "cell_type": "markdown",
   "metadata": {},
   "source": [
    "#### Messages"
   ]
  },
  {
   "cell_type": "code",
   "execution_count": 34,
   "metadata": {},
   "outputs": [
    {
     "name": "stdout",
     "output_type": "stream",
     "text": [
      "----------------------------\n",
      "ALL USER DATA\n",
      "dec_message_count\n",
      "COUNT:  380\n",
      "MEAN: 50.19\n",
      "VARIANCE: 1361.12\n",
      "STANDARD DEVIATION: 36.89\n",
      "----------------------------\n"
     ]
    },
    {
     "data": {
      "image/png": "[encoded data removed]",
      "text/plain": [
       "<Figure size 432x288 with 1 Axes>"
      ]
     },
     "metadata": {
      "needs_background": "light"
     },
     "output_type": "display_data"
    }
   ],
   "source": [
    "analyze(df_users,'dec_message_count')"
   ]
  },
  {
   "cell_type": "markdown",
   "metadata": {},
   "source": [
    "Poisson distribution with a few outlier heavy users. "
   ]
  },
  {
   "cell_type": "code",
   "execution_count": 35,
   "metadata": {},
   "outputs": [
    {
     "name": "stdout",
     "output_type": "stream",
     "text": [
      "----------------------------\n",
      "USERS WITH SURF PLAN\n",
      "dec_message_count\n",
      "COUNT:  254\n",
      "MEAN: 48.33\n",
      "VARIANCE: 1349.79\n",
      "STANDARD DEVIATION: 36.74\n",
      "----------------------------\n",
      "----------------------------\n",
      "USERS WITH ULTIMATE PLAN\n",
      "dec_message_count\n",
      "COUNT:  126\n",
      "MEAN: 53.94\n",
      "VARIANCE: 1362.90\n",
      "STANDARD DEVIATION: 36.92\n",
      "----------------------------\n"
     ]
    },
    {
     "data": {
      "image/png": "[encoded data removed]",
      "text/plain": [
       "<Figure size 432x288 with 1 Axes>"
      ]
     },
     "metadata": {
      "needs_background": "light"
     },
     "output_type": "display_data"
    }
   ],
   "source": [
    "compare(surf_and_ultimate,'dec_message_count')"
   ]
  },
  {
   "cell_type": "markdown",
   "metadata": {},
   "source": [
    "Higher median in ultimate plan, heavy message senders are on surf plan. The median message count for surf users is right at the monthly limit of 50 messages."
   ]
  },
  {
   "cell_type": "code",
   "execution_count": 36,
   "metadata": {},
   "outputs": [
    {
     "name": "stdout",
     "output_type": "stream",
     "text": [
      "----------------------------\n",
      "USERS IN NY OR NJ\n",
      "dec_message_count\n",
      "COUNT:  79\n",
      "MEAN: 48.57\n",
      "VARIANCE: 1109.94\n",
      "STANDARD DEVIATION: 33.32\n",
      "----------------------------\n",
      "----------------------------\n",
      "USERS IN OTHER STATES\n",
      "dec_message_count\n",
      "COUNT:  301\n",
      "MEAN: 50.61\n",
      "VARIANCE: 1426.17\n",
      "STANDARD DEVIATION: 37.76\n",
      "----------------------------\n"
     ]
    },
    {
     "data": {
      "image/png": "[encoded data removed]",
      "text/plain": [
       "<Figure size 432x288 with 1 Axes>"
      ]
     },
     "metadata": {
      "needs_background": "light"
     },
     "output_type": "display_data"
    }
   ],
   "source": [
    "compare(ny_nj_and_other,'dec_message_count')"
   ]
  },
  {
   "cell_type": "markdown",
   "metadata": {},
   "source": [
    "Higher median in non-NY-NJ states, also the outlier users."
   ]
  },
  {
   "cell_type": "markdown",
   "metadata": {},
   "source": [
    "#### Internet Usage"
   ]
  },
  {
   "cell_type": "code",
   "execution_count": 37,
   "metadata": {},
   "outputs": [
    {
     "name": "stdout",
     "output_type": "stream",
     "text": [
      "----------------------------\n",
      "ALL USER DATA\n",
      "dec_mb_sum\n",
      "COUNT:  468\n",
      "MEAN: 18768.96\n",
      "VARIANCE: 68187294.81\n",
      "STANDARD DEVIATION: 8257.56\n",
      "----------------------------\n"
     ]
    },
    {
     "data": {
      "image/png": "[encoded data removed]",
      "text/plain": [
       "<Figure size 432x288 with 1 Axes>"
      ]
     },
     "metadata": {
      "needs_background": "light"
     },
     "output_type": "display_data"
    }
   ],
   "source": [
    "analyze(df_users,'dec_mb_sum')"
   ]
  },
  {
   "cell_type": "markdown",
   "metadata": {},
   "source": [
    "A left-skewed normal distribution with a group of very heavy internet users."
   ]
  },
  {
   "cell_type": "code",
   "execution_count": 38,
   "metadata": {},
   "outputs": [
    {
     "name": "stdout",
     "output_type": "stream",
     "text": [
      "----------------------------\n",
      "USERS WITH SURF PLAN\n",
      "dec_mb_sum\n",
      "COUNT:  317\n",
      "MEAN: 18735.65\n",
      "VARIANCE: 71468975.93\n",
      "STANDARD DEVIATION: 8453.93\n",
      "----------------------------\n",
      "----------------------------\n",
      "USERS WITH ULTIMATE PLAN\n",
      "dec_mb_sum\n",
      "COUNT:  151\n",
      "MEAN: 18838.89\n",
      "VARIANCE: 61290718.13\n",
      "STANDARD DEVIATION: 7828.84\n",
      "----------------------------\n"
     ]
    },
    {
     "data": {
      "image/png": "[encoded data removed]",
      "text/plain": [
       "<Figure size 432x288 with 1 Axes>"
      ]
     },
     "metadata": {
      "needs_background": "light"
     },
     "output_type": "display_data"
    }
   ],
   "source": [
    "compare(surf_and_ultimate,'dec_mb_sum')"
   ]
  },
  {
   "cell_type": "markdown",
   "metadata": {},
   "source": [
    "The median internet usage is slightly higher for ultimate plan users but all of the outlier heavy internet users are on the surf plan."
   ]
  },
  {
   "cell_type": "code",
   "execution_count": 39,
   "metadata": {},
   "outputs": [
    {
     "name": "stdout",
     "output_type": "stream",
     "text": [
      "----------------------------\n",
      "USERS IN NY OR NJ\n",
      "dec_mb_sum\n",
      "COUNT:  98\n",
      "MEAN: 17972.24\n",
      "VARIANCE: 58487481.74\n",
      "STANDARD DEVIATION: 7647.71\n",
      "----------------------------\n",
      "----------------------------\n",
      "USERS IN OTHER STATES\n",
      "dec_mb_sum\n",
      "COUNT:  370\n",
      "MEAN: 18979.98\n",
      "VARIANCE: 70543781.45\n",
      "STANDARD DEVIATION: 8399.03\n",
      "----------------------------\n"
     ]
    },
    {
     "data": {
      "image/png": "[encoded data removed]",
      "text/plain": [
       "<Figure size 432x288 with 1 Axes>"
      ]
     },
     "metadata": {
      "needs_background": "light"
     },
     "output_type": "display_data"
    }
   ],
   "source": [
    "compare(ny_nj_and_other,'dec_mb_sum')"
   ]
  },
  {
   "cell_type": "markdown",
   "metadata": {},
   "source": [
    "The heavy internet users and higher median is in the non-NY-NJ states."
   ]
  },
  {
   "cell_type": "markdown",
   "metadata": {},
   "source": [
    "#### Profit"
   ]
  },
  {
   "cell_type": "code",
   "execution_count": 40,
   "metadata": {},
   "outputs": [
    {
     "name": "stdout",
     "output_type": "stream",
     "text": [
      "----------------------------\n",
      "ALL USER DATA\n",
      "dec_profit\n",
      "COUNT:  379\n",
      "MEAN: 148.50\n",
      "VARIANCE: 24379.31\n",
      "STANDARD DEVIATION: 156.14\n",
      "----------------------------\n"
     ]
    },
    {
     "data": {
      "image/png": "[encoded data removed]",
      "text/plain": [
       "<Figure size 432x288 with 1 Axes>"
      ]
     },
     "metadata": {
      "needs_background": "light"
     },
     "output_type": "display_data"
    }
   ],
   "source": [
    "analyze(df_users,'dec_profit')"
   ]
  },
  {
   "cell_type": "markdown",
   "metadata": {},
   "source": [
    "Abnormal poisson distribution."
   ]
  },
  {
   "cell_type": "code",
   "execution_count": 41,
   "metadata": {},
   "outputs": [
    {
     "name": "stdout",
     "output_type": "stream",
     "text": [
      "----------------------------\n",
      "USERS WITH SURF PLAN\n",
      "dec_profit\n",
      "COUNT:  253\n",
      "MEAN: 80.32\n",
      "VARIANCE: 16532.44\n",
      "STANDARD DEVIATION: 128.58\n",
      "----------------------------\n",
      "----------------------------\n",
      "USERS WITH ULTIMATE PLAN\n",
      "dec_profit\n",
      "COUNT:  126\n",
      "MEAN: 285.38\n",
      "VARIANCE: 12065.68\n",
      "STANDARD DEVIATION: 109.84\n",
      "----------------------------\n"
     ]
    },
    {
     "data": {
      "image/png": "[encoded data removed]",
      "text/plain": [
       "<Figure size 432x288 with 1 Axes>"
      ]
     },
     "metadata": {
      "needs_background": "light"
     },
     "output_type": "display_data"
    }
   ],
   "source": [
    "compare(surf_and_ultimate,'dec_profit')"
   ]
  },
  {
   "cell_type": "markdown",
   "metadata": {},
   "source": [
    "Overall distribution now makes some more sense. The surf plan users have a poisson distribution while the ultimate users have very flat normal distribution while both plans have heavy users with massive overage charges. The mean profit of the ultimate plan is much higher. It looks like the surf users are more either light users or are more careful about their overuse as they chose the cheaper plan."
   ]
  },
  {
   "cell_type": "code",
   "execution_count": 42,
   "metadata": {},
   "outputs": [
    {
     "name": "stdout",
     "output_type": "stream",
     "text": [
      "----------------------------\n",
      "USERS IN NY OR NJ\n",
      "dec_profit\n",
      "COUNT:  79\n",
      "MEAN: 140.85\n",
      "VARIANCE: 24186.59\n",
      "STANDARD DEVIATION: 155.52\n",
      "----------------------------\n",
      "----------------------------\n",
      "USERS IN OTHER STATES\n",
      "dec_profit\n",
      "COUNT:  300\n",
      "MEAN: 150.51\n",
      "VARIANCE: 24410.62\n",
      "STANDARD DEVIATION: 156.24\n",
      "----------------------------\n"
     ]
    },
    {
     "data": {
      "image/png": "[encoded data removed]",
      "text/plain": [
       "<Figure size 432x288 with 1 Axes>"
      ]
     },
     "metadata": {
      "needs_background": "light"
     },
     "output_type": "display_data"
    }
   ],
   "source": [
    "compare(ny_nj_and_other,'dec_profit')"
   ]
  },
  {
   "cell_type": "markdown",
   "metadata": {},
   "source": [
    "Both share similar distribution, slightly higher profit from other states."
   ]
  },
  {
   "cell_type": "markdown",
   "metadata": {},
   "source": [
    "### Step 4. Test the hypotheses"
   ]
  },
  {
   "cell_type": "markdown",
   "metadata": {},
   "source": [
    "We will test the hypotheses in terms of profit between the user comparisons because it is the most important for a business and appeared in the analysis and the largest difference in distribution. The null hypothesis is that the distribution of the user profit data from both surf and ultimate plan users are not significantly different. The alternative hypothesis is that there is a statistically significant difference between the distributions of the user types. The p-value is the level of statistical significance in the difference between the mean and the means value it's compared to."
   ]
  },
  {
   "cell_type": "code",
   "execution_count": 43,
   "metadata": {},
   "outputs": [
    {
     "name": "stdout",
     "output_type": "stream",
     "text": [
      "The variance of the december profits for surf plan users is: 16532.44\n",
      "The variance of the december profits for ultimate plan users is: 12065.68\n"
     ]
    },
    {
     "data": {
      "image/png": "[encoded data removed]",
      "text/plain": [
       "<Figure size 432x288 with 1 Axes>"
      ]
     },
     "metadata": {
      "needs_background": "light"
     },
     "output_type": "display_data"
    }
   ],
   "source": [
    "alpha = .05 # critical statistical significance level, if the p-value is less than alpha, we reject the hypothesis\n",
    "df_surf_non_zero = df_surf.query('dec_profit > 0')\n",
    "df_ultimate_non_zero = df_ultimate.query('dec_profit > 0')\n",
    "df_surf_non_zero['dec_profit'].plot(kind=\"hist\")\n",
    "df_ultimate_non_zero['dec_profit'].plot(kind=\"hist\")\n",
    "print(\"The variance of the december profits for surf plan users is: {:.2f}\".format(np.var(df_surf_non_zero['dec_profit'])))\n",
    "print(\"The variance of the december profits for ultimate plan users is: {:.2f}\".format(np.var(df_ultimate_non_zero['dec_profit'])))"
   ]
  },
  {
   "cell_type": "code",
   "execution_count": 44,
   "metadata": {},
   "outputs": [
    {
     "name": "stdout",
     "output_type": "stream",
     "text": [
      "p-value:  5.1821814659688007e-42\n",
      "We reject the null hypothesis\n"
     ]
    }
   ],
   "source": [
    "# Calculate the p-value with equal_val as False\n",
    "results = st.ttest_ind(\n",
    "        df_surf_non_zero['dec_profit'], \n",
    "        df_ultimate_non_zero['dec_profit'],\n",
    "        equal_var = False)\n",
    "\n",
    "print('p-value: ', results.pvalue)\n",
    "\n",
    "if results.pvalue < alpha:\n",
    "        print(\"We reject the null hypothesis\")\n",
    "else:\n",
    "        print(\"We can't reject the null hypothesis\")"
   ]
  },
  {
   "cell_type": "markdown",
   "metadata": {},
   "source": [
    "This indicates that there is a statistically significant difference between surf and ultimate users in terms of profit."
   ]
  },
  {
   "cell_type": "code",
   "execution_count": 45,
   "metadata": {},
   "outputs": [
    {
     "name": "stdout",
     "output_type": "stream",
     "text": [
      "The variance of the december profits for users in NY-NJ is: 24186.59\n",
      "The variance of the december profits for users in other states is: 24410.62\n"
     ]
    },
    {
     "data": {
      "image/png": "[encoded data removed]",
      "text/plain": [
       "<Figure size 432x288 with 1 Axes>"
      ]
     },
     "metadata": {
      "needs_background": "light"
     },
     "output_type": "display_data"
    }
   ],
   "source": [
    "df_ny_nj_non_zero = df_ny_nj.query('dec_profit > 0')\n",
    "df_other_non_zero = df_other.query('dec_profit > 0')\n",
    "df_ny_nj_non_zero['dec_profit'].plot(kind=\"hist\")\n",
    "df_other_non_zero['dec_profit'].plot(kind=\"hist\")\n",
    "print(\"The variance of the december profits for users in NY-NJ is: {:.2f}\".format(np.var(df_ny_nj_non_zero['dec_profit'])))\n",
    "print(\"The variance of the december profits for users in other states is: {:.2f}\".format(np.var(df_other_non_zero['dec_profit'])))\n"
   ]
  },
  {
   "cell_type": "code",
   "execution_count": 46,
   "metadata": {},
   "outputs": [
    {
     "name": "stdout",
     "output_type": "stream",
     "text": [
      "p-value:  0.6258773396081954\n",
      "We can't reject the null hypothesis\n"
     ]
    }
   ],
   "source": [
    "# Calculate the p-value with equal_val as True\n",
    "# The variances of the statistical populations from which the samples are taken are approximately equal\n",
    "results = st.ttest_ind(\n",
    "        df_ny_nj_non_zero['dec_profit'], \n",
    "        df_other_non_zero['dec_profit'],\n",
    "        equal_var = True)\n",
    "\n",
    "print('p-value: ', results.pvalue)\n",
    "\n",
    "if results.pvalue < alpha:\n",
    "        print(\"We reject the null hypothesis\")\n",
    "else:\n",
    "        print(\"We can't reject the null hypothesis\")"
   ]
  },
  {
   "cell_type": "markdown",
   "metadata": {},
   "source": [
    "This indicates that there is no statistically significant difference between users in NY-NJ and the rest of the states by profit."
   ]
  },
  {
   "cell_type": "markdown",
   "metadata": {},
   "source": [
    "The result of the hypotheses were predictable by the analysis on profit between the user groups. The median of the ultimate users was much higher than median of the surf users, even by a difference larger than the standard distribution. Conversely, the users by states had very similar distributions."
   ]
  },
  {
   "cell_type": "markdown",
   "metadata": {},
   "source": [
    "## Conclusion"
   ]
  },
  {
   "cell_type": "markdown",
   "metadata": {},
   "source": [
    "I think the most important part of the analysis was looking at the yearly medians to get an overall picture of the usages and profits so I would could choose to analyze the proper month and focus efforts. Throughout the analysis it was apparent that the median usages by surf users was right around the respective monthly limits. This makes sense that users on the cheaper plan want to spend less and incur less overages (even more so because their overage fees are higher). This causes the median profit on surf plan users to be much less than the ultimate pln users who aren't as put off by the smaller overage charges. It also explains why the distribution sharply increases towards the flat monthly fee of the surf users. "
   ]
  }
 ],
 "metadata": {
  "kernelspec": {
   "display_name": "Python 3",
   "language": "python",
   "name": "python3"
  },
  "language_info": {
   "codemirror_mode": {
    "name": "ipython",
    "version": 3
   },
   "file_extension": ".py",
   "mimetype": "text/x-python",
   "name": "python",
   "nbconvert_exporter": "python",
   "pygments_lexer": "ipython3",
   "version": "3.9.7"
  },
  "toc": {
   "base_numbering": 1,
   "nav_menu": {},
   "number_sections": true,
   "sideBar": true,
   "skip_h1_title": true,
   "title_cell": "Table of Contents",
   "title_sidebar": "Contents",
   "toc_cell": false,
   "toc_position": {},
   "toc_section_display": true,
   "toc_window_display": false
  }
 },
 "nbformat": 4,
 "nbformat_minor": 4
}
