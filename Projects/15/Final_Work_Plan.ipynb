{
 "cells": [
  {
   "cell_type": "markdown",
   "id": "698446e2",
   "metadata": {},
   "source": [
    "## Table of Contents\n",
    "\n",
    "- [1. Data Extraction](#1)\n",
    "- [2. Data Preprocessing](#2)\n",
    "- [3. Exploratory Data Analysis](#3)\n",
    "    - [3.1 Data Distribution](#3_1)\n",
    "    - [3.2 Time Series Analysis](#3_2)\n",
    "    - [3.3 Customer Grouping](#3_3)\n",
    "- [4. Clarifying Questions](#4)\n",
    "- [5. Rough Plan](#5)"
   ]
  },
  {
   "cell_type": "markdown",
   "id": "ac222cae",
   "metadata": {},
   "source": [
    "### 1. Data extraction <a class=\"anchor\" id=\"1\"></a>"
   ]
  },
  {
   "cell_type": "code",
   "execution_count": 1,
   "id": "09876839",
   "metadata": {},
   "outputs": [],
   "source": [
    "# import libraries and data sources\n",
    "import pandas as pd\n",
    "import numpy as np\n",
    "import matplotlib.pyplot as plt\n",
    "import re\n",
    "import warnings\n",
    "warnings.filterwarnings(\"ignore\")\n",
    "\n",
    "from sklearn.decomposition import PCA\n",
    "from sklearn.cluster import KMeans\n",
    "from sklearn.preprocessing import StandardScaler\n",
    "\n",
    "from IPython.display import display"
   ]
  },
  {
   "cell_type": "code",
   "execution_count": 2,
   "id": "8c6365bd",
   "metadata": {},
   "outputs": [
    {
     "data": {
      "text/html": [
       "<div>\n",
       "<style scoped>\n",
       "    .dataframe tbody tr th:only-of-type {\n",
       "        vertical-align: middle;\n",
       "    }\n",
       "\n",
       "    .dataframe tbody tr th {\n",
       "        vertical-align: top;\n",
       "    }\n",
       "\n",
       "    .dataframe thead th {\n",
       "        text-align: right;\n",
       "    }\n",
       "</style>\n",
       "<table border=\"1\" class=\"dataframe\">\n",
       "  <thead>\n",
       "    <tr style=\"text-align: right;\">\n",
       "      <th></th>\n",
       "      <th>customerID</th>\n",
       "      <th>BeginDate</th>\n",
       "      <th>EndDate</th>\n",
       "      <th>Type</th>\n",
       "      <th>PaperlessBilling</th>\n",
       "      <th>PaymentMethod</th>\n",
       "      <th>MonthlyCharges</th>\n",
       "      <th>TotalCharges</th>\n",
       "    </tr>\n",
       "  </thead>\n",
       "  <tbody>\n",
       "    <tr>\n",
       "      <th>0</th>\n",
       "      <td>7590-VHVEG</td>\n",
       "      <td>2020-01-01</td>\n",
       "      <td>No</td>\n",
       "      <td>Month-to-month</td>\n",
       "      <td>Yes</td>\n",
       "      <td>Electronic check</td>\n",
       "      <td>29.85</td>\n",
       "      <td>29.85</td>\n",
       "    </tr>\n",
       "    <tr>\n",
       "      <th>1</th>\n",
       "      <td>5575-GNVDE</td>\n",
       "      <td>2017-04-01</td>\n",
       "      <td>No</td>\n",
       "      <td>One year</td>\n",
       "      <td>No</td>\n",
       "      <td>Mailed check</td>\n",
       "      <td>56.95</td>\n",
       "      <td>1889.5</td>\n",
       "    </tr>\n",
       "    <tr>\n",
       "      <th>2</th>\n",
       "      <td>3668-QPYBK</td>\n",
       "      <td>2019-10-01</td>\n",
       "      <td>2019-12-01 00:00:00</td>\n",
       "      <td>Month-to-month</td>\n",
       "      <td>Yes</td>\n",
       "      <td>Mailed check</td>\n",
       "      <td>53.85</td>\n",
       "      <td>108.15</td>\n",
       "    </tr>\n",
       "    <tr>\n",
       "      <th>3</th>\n",
       "      <td>7795-CFOCW</td>\n",
       "      <td>2016-05-01</td>\n",
       "      <td>No</td>\n",
       "      <td>One year</td>\n",
       "      <td>No</td>\n",
       "      <td>Bank transfer (automatic)</td>\n",
       "      <td>42.30</td>\n",
       "      <td>1840.75</td>\n",
       "    </tr>\n",
       "    <tr>\n",
       "      <th>4</th>\n",
       "      <td>9237-HQITU</td>\n",
       "      <td>2019-09-01</td>\n",
       "      <td>2019-11-01 00:00:00</td>\n",
       "      <td>Month-to-month</td>\n",
       "      <td>Yes</td>\n",
       "      <td>Electronic check</td>\n",
       "      <td>70.70</td>\n",
       "      <td>151.65</td>\n",
       "    </tr>\n",
       "  </tbody>\n",
       "</table>\n",
       "</div>"
      ],
      "text/plain": [
       "   customerID   BeginDate              EndDate            Type  \\\n",
       "0  7590-VHVEG  2020-01-01                   No  Month-to-month   \n",
       "1  5575-GNVDE  2017-04-01                   No        One year   \n",
       "2  3668-QPYBK  2019-10-01  2019-12-01 00:00:00  Month-to-month   \n",
       "3  7795-CFOCW  2016-05-01                   No        One year   \n",
       "4  9237-HQITU  2019-09-01  2019-11-01 00:00:00  Month-to-month   \n",
       "\n",
       "  PaperlessBilling              PaymentMethod  MonthlyCharges TotalCharges  \n",
       "0              Yes           Electronic check           29.85        29.85  \n",
       "1               No               Mailed check           56.95       1889.5  \n",
       "2              Yes               Mailed check           53.85       108.15  \n",
       "3               No  Bank transfer (automatic)           42.30      1840.75  \n",
       "4              Yes           Electronic check           70.70       151.65  "
      ]
     },
     "metadata": {},
     "output_type": "display_data"
    },
    {
     "data": {
      "text/plain": [
       "(7043, 8)"
      ]
     },
     "metadata": {},
     "output_type": "display_data"
    },
    {
     "data": {
      "text/html": [
       "<div>\n",
       "<style scoped>\n",
       "    .dataframe tbody tr th:only-of-type {\n",
       "        vertical-align: middle;\n",
       "    }\n",
       "\n",
       "    .dataframe tbody tr th {\n",
       "        vertical-align: top;\n",
       "    }\n",
       "\n",
       "    .dataframe thead th {\n",
       "        text-align: right;\n",
       "    }\n",
       "</style>\n",
       "<table border=\"1\" class=\"dataframe\">\n",
       "  <thead>\n",
       "    <tr style=\"text-align: right;\">\n",
       "      <th></th>\n",
       "      <th>customerID</th>\n",
       "      <th>InternetService</th>\n",
       "      <th>OnlineSecurity</th>\n",
       "      <th>OnlineBackup</th>\n",
       "      <th>DeviceProtection</th>\n",
       "      <th>TechSupport</th>\n",
       "      <th>StreamingTV</th>\n",
       "      <th>StreamingMovies</th>\n",
       "    </tr>\n",
       "  </thead>\n",
       "  <tbody>\n",
       "    <tr>\n",
       "      <th>0</th>\n",
       "      <td>7590-VHVEG</td>\n",
       "      <td>DSL</td>\n",
       "      <td>No</td>\n",
       "      <td>Yes</td>\n",
       "      <td>No</td>\n",
       "      <td>No</td>\n",
       "      <td>No</td>\n",
       "      <td>No</td>\n",
       "    </tr>\n",
       "    <tr>\n",
       "      <th>1</th>\n",
       "      <td>5575-GNVDE</td>\n",
       "      <td>DSL</td>\n",
       "      <td>Yes</td>\n",
       "      <td>No</td>\n",
       "      <td>Yes</td>\n",
       "      <td>No</td>\n",
       "      <td>No</td>\n",
       "      <td>No</td>\n",
       "    </tr>\n",
       "    <tr>\n",
       "      <th>2</th>\n",
       "      <td>3668-QPYBK</td>\n",
       "      <td>DSL</td>\n",
       "      <td>Yes</td>\n",
       "      <td>Yes</td>\n",
       "      <td>No</td>\n",
       "      <td>No</td>\n",
       "      <td>No</td>\n",
       "      <td>No</td>\n",
       "    </tr>\n",
       "    <tr>\n",
       "      <th>3</th>\n",
       "      <td>7795-CFOCW</td>\n",
       "      <td>DSL</td>\n",
       "      <td>Yes</td>\n",
       "      <td>No</td>\n",
       "      <td>Yes</td>\n",
       "      <td>Yes</td>\n",
       "      <td>No</td>\n",
       "      <td>No</td>\n",
       "    </tr>\n",
       "    <tr>\n",
       "      <th>4</th>\n",
       "      <td>9237-HQITU</td>\n",
       "      <td>Fiber optic</td>\n",
       "      <td>No</td>\n",
       "      <td>No</td>\n",
       "      <td>No</td>\n",
       "      <td>No</td>\n",
       "      <td>No</td>\n",
       "      <td>No</td>\n",
       "    </tr>\n",
       "  </tbody>\n",
       "</table>\n",
       "</div>"
      ],
      "text/plain": [
       "   customerID InternetService OnlineSecurity OnlineBackup DeviceProtection  \\\n",
       "0  7590-VHVEG             DSL             No          Yes               No   \n",
       "1  5575-GNVDE             DSL            Yes           No              Yes   \n",
       "2  3668-QPYBK             DSL            Yes          Yes               No   \n",
       "3  7795-CFOCW             DSL            Yes           No              Yes   \n",
       "4  9237-HQITU     Fiber optic             No           No               No   \n",
       "\n",
       "  TechSupport StreamingTV StreamingMovies  \n",
       "0          No          No              No  \n",
       "1          No          No              No  \n",
       "2          No          No              No  \n",
       "3         Yes          No              No  \n",
       "4          No          No              No  "
      ]
     },
     "metadata": {},
     "output_type": "display_data"
    },
    {
     "data": {
      "text/plain": [
       "(5517, 8)"
      ]
     },
     "metadata": {},
     "output_type": "display_data"
    },
    {
     "data": {
      "text/html": [
       "<div>\n",
       "<style scoped>\n",
       "    .dataframe tbody tr th:only-of-type {\n",
       "        vertical-align: middle;\n",
       "    }\n",
       "\n",
       "    .dataframe tbody tr th {\n",
       "        vertical-align: top;\n",
       "    }\n",
       "\n",
       "    .dataframe thead th {\n",
       "        text-align: right;\n",
       "    }\n",
       "</style>\n",
       "<table border=\"1\" class=\"dataframe\">\n",
       "  <thead>\n",
       "    <tr style=\"text-align: right;\">\n",
       "      <th></th>\n",
       "      <th>customerID</th>\n",
       "      <th>gender</th>\n",
       "      <th>SeniorCitizen</th>\n",
       "      <th>Partner</th>\n",
       "      <th>Dependents</th>\n",
       "    </tr>\n",
       "  </thead>\n",
       "  <tbody>\n",
       "    <tr>\n",
       "      <th>0</th>\n",
       "      <td>7590-VHVEG</td>\n",
       "      <td>Female</td>\n",
       "      <td>0</td>\n",
       "      <td>Yes</td>\n",
       "      <td>No</td>\n",
       "    </tr>\n",
       "    <tr>\n",
       "      <th>1</th>\n",
       "      <td>5575-GNVDE</td>\n",
       "      <td>Male</td>\n",
       "      <td>0</td>\n",
       "      <td>No</td>\n",
       "      <td>No</td>\n",
       "    </tr>\n",
       "    <tr>\n",
       "      <th>2</th>\n",
       "      <td>3668-QPYBK</td>\n",
       "      <td>Male</td>\n",
       "      <td>0</td>\n",
       "      <td>No</td>\n",
       "      <td>No</td>\n",
       "    </tr>\n",
       "    <tr>\n",
       "      <th>3</th>\n",
       "      <td>7795-CFOCW</td>\n",
       "      <td>Male</td>\n",
       "      <td>0</td>\n",
       "      <td>No</td>\n",
       "      <td>No</td>\n",
       "    </tr>\n",
       "    <tr>\n",
       "      <th>4</th>\n",
       "      <td>9237-HQITU</td>\n",
       "      <td>Female</td>\n",
       "      <td>0</td>\n",
       "      <td>No</td>\n",
       "      <td>No</td>\n",
       "    </tr>\n",
       "  </tbody>\n",
       "</table>\n",
       "</div>"
      ],
      "text/plain": [
       "   customerID  gender  SeniorCitizen Partner Dependents\n",
       "0  7590-VHVEG  Female              0     Yes         No\n",
       "1  5575-GNVDE    Male              0      No         No\n",
       "2  3668-QPYBK    Male              0      No         No\n",
       "3  7795-CFOCW    Male              0      No         No\n",
       "4  9237-HQITU  Female              0      No         No"
      ]
     },
     "metadata": {},
     "output_type": "display_data"
    },
    {
     "data": {
      "text/plain": [
       "(7043, 5)"
      ]
     },
     "metadata": {},
     "output_type": "display_data"
    },
    {
     "data": {
      "text/html": [
       "<div>\n",
       "<style scoped>\n",
       "    .dataframe tbody tr th:only-of-type {\n",
       "        vertical-align: middle;\n",
       "    }\n",
       "\n",
       "    .dataframe tbody tr th {\n",
       "        vertical-align: top;\n",
       "    }\n",
       "\n",
       "    .dataframe thead th {\n",
       "        text-align: right;\n",
       "    }\n",
       "</style>\n",
       "<table border=\"1\" class=\"dataframe\">\n",
       "  <thead>\n",
       "    <tr style=\"text-align: right;\">\n",
       "      <th></th>\n",
       "      <th>customerID</th>\n",
       "      <th>MultipleLines</th>\n",
       "    </tr>\n",
       "  </thead>\n",
       "  <tbody>\n",
       "    <tr>\n",
       "      <th>0</th>\n",
       "      <td>5575-GNVDE</td>\n",
       "      <td>No</td>\n",
       "    </tr>\n",
       "    <tr>\n",
       "      <th>1</th>\n",
       "      <td>3668-QPYBK</td>\n",
       "      <td>No</td>\n",
       "    </tr>\n",
       "    <tr>\n",
       "      <th>2</th>\n",
       "      <td>9237-HQITU</td>\n",
       "      <td>No</td>\n",
       "    </tr>\n",
       "    <tr>\n",
       "      <th>3</th>\n",
       "      <td>9305-CDSKC</td>\n",
       "      <td>Yes</td>\n",
       "    </tr>\n",
       "    <tr>\n",
       "      <th>4</th>\n",
       "      <td>1452-KIOVK</td>\n",
       "      <td>Yes</td>\n",
       "    </tr>\n",
       "  </tbody>\n",
       "</table>\n",
       "</div>"
      ],
      "text/plain": [
       "   customerID MultipleLines\n",
       "0  5575-GNVDE            No\n",
       "1  3668-QPYBK            No\n",
       "2  9237-HQITU            No\n",
       "3  9305-CDSKC           Yes\n",
       "4  1452-KIOVK           Yes"
      ]
     },
     "metadata": {},
     "output_type": "display_data"
    },
    {
     "data": {
      "text/plain": [
       "(6361, 2)"
      ]
     },
     "metadata": {},
     "output_type": "display_data"
    }
   ],
   "source": [
    "try:\n",
    "    df_contract = pd.read_csv('../datasets/contract.csv')\n",
    "    df_internet = pd.read_csv('../datasets/internet.csv')\n",
    "    df_personal = pd.read_csv('../datasets/personal.csv')\n",
    "    df_phone = pd.read_csv('../datasets/phone.csv')\n",
    "\n",
    "    dfs = [df_contract,df_internet,df_personal,df_phone]\n",
    "    for df in dfs:\n",
    "        display(df.head(),df.shape)\n",
    "except:\n",
    "    print(\"Data not found\")"
   ]
  },
  {
   "cell_type": "markdown",
   "id": "495de921",
   "metadata": {},
   "source": [
    "The data provided contains various information on the company's customers. The dataframes are of varying sizes so there could be missing information for some customers."
   ]
  },
  {
   "cell_type": "code",
   "execution_count": 3,
   "id": "e5c50812",
   "metadata": {},
   "outputs": [
    {
     "data": {
      "text/html": [
       "<div>\n",
       "<style scoped>\n",
       "    .dataframe tbody tr th:only-of-type {\n",
       "        vertical-align: middle;\n",
       "    }\n",
       "\n",
       "    .dataframe tbody tr th {\n",
       "        vertical-align: top;\n",
       "    }\n",
       "\n",
       "    .dataframe thead th {\n",
       "        text-align: right;\n",
       "    }\n",
       "</style>\n",
       "<table border=\"1\" class=\"dataframe\">\n",
       "  <thead>\n",
       "    <tr style=\"text-align: right;\">\n",
       "      <th></th>\n",
       "      <th>customerID</th>\n",
       "      <th>BeginDate</th>\n",
       "      <th>EndDate</th>\n",
       "      <th>Type</th>\n",
       "      <th>PaperlessBilling</th>\n",
       "      <th>PaymentMethod</th>\n",
       "      <th>MonthlyCharges</th>\n",
       "      <th>TotalCharges</th>\n",
       "      <th>InternetService</th>\n",
       "      <th>OnlineSecurity</th>\n",
       "      <th>OnlineBackup</th>\n",
       "      <th>DeviceProtection</th>\n",
       "      <th>TechSupport</th>\n",
       "      <th>StreamingTV</th>\n",
       "      <th>StreamingMovies</th>\n",
       "      <th>gender</th>\n",
       "      <th>SeniorCitizen</th>\n",
       "      <th>Partner</th>\n",
       "      <th>Dependents</th>\n",
       "      <th>MultipleLines</th>\n",
       "    </tr>\n",
       "  </thead>\n",
       "  <tbody>\n",
       "    <tr>\n",
       "      <th>2232</th>\n",
       "      <td>6479-SZPLM</td>\n",
       "      <td>2017-02-01</td>\n",
       "      <td>No</td>\n",
       "      <td>Two year</td>\n",
       "      <td>No</td>\n",
       "      <td>Credit card (automatic)</td>\n",
       "      <td>19.45</td>\n",
       "      <td>754.5</td>\n",
       "      <td>NaN</td>\n",
       "      <td>NaN</td>\n",
       "      <td>NaN</td>\n",
       "      <td>NaN</td>\n",
       "      <td>NaN</td>\n",
       "      <td>NaN</td>\n",
       "      <td>NaN</td>\n",
       "      <td>Male</td>\n",
       "      <td>0</td>\n",
       "      <td>Yes</td>\n",
       "      <td>Yes</td>\n",
       "      <td>No</td>\n",
       "    </tr>\n",
       "    <tr>\n",
       "      <th>6608</th>\n",
       "      <td>4576-CSAJH</td>\n",
       "      <td>2018-02-01</td>\n",
       "      <td>2019-12-01 00:00:00</td>\n",
       "      <td>One year</td>\n",
       "      <td>Yes</td>\n",
       "      <td>Credit card (automatic)</td>\n",
       "      <td>55.15</td>\n",
       "      <td>1193.05</td>\n",
       "      <td>DSL</td>\n",
       "      <td>No</td>\n",
       "      <td>Yes</td>\n",
       "      <td>No</td>\n",
       "      <td>Yes</td>\n",
       "      <td>No</td>\n",
       "      <td>No</td>\n",
       "      <td>Male</td>\n",
       "      <td>0</td>\n",
       "      <td>No</td>\n",
       "      <td>No</td>\n",
       "      <td>No</td>\n",
       "    </tr>\n",
       "    <tr>\n",
       "      <th>3722</th>\n",
       "      <td>8328-SKJNO</td>\n",
       "      <td>2018-03-01</td>\n",
       "      <td>No</td>\n",
       "      <td>One year</td>\n",
       "      <td>No</td>\n",
       "      <td>Bank transfer (automatic)</td>\n",
       "      <td>40.65</td>\n",
       "      <td>947.4</td>\n",
       "      <td>DSL</td>\n",
       "      <td>Yes</td>\n",
       "      <td>Yes</td>\n",
       "      <td>No</td>\n",
       "      <td>Yes</td>\n",
       "      <td>No</td>\n",
       "      <td>No</td>\n",
       "      <td>Male</td>\n",
       "      <td>0</td>\n",
       "      <td>No</td>\n",
       "      <td>Yes</td>\n",
       "      <td>NaN</td>\n",
       "    </tr>\n",
       "    <tr>\n",
       "      <th>3973</th>\n",
       "      <td>3441-CGZJH</td>\n",
       "      <td>2016-07-01</td>\n",
       "      <td>No</td>\n",
       "      <td>One year</td>\n",
       "      <td>Yes</td>\n",
       "      <td>Credit card (automatic)</td>\n",
       "      <td>60.40</td>\n",
       "      <td>2640.55</td>\n",
       "      <td>DSL</td>\n",
       "      <td>Yes</td>\n",
       "      <td>No</td>\n",
       "      <td>Yes</td>\n",
       "      <td>Yes</td>\n",
       "      <td>Yes</td>\n",
       "      <td>Yes</td>\n",
       "      <td>Female</td>\n",
       "      <td>0</td>\n",
       "      <td>Yes</td>\n",
       "      <td>Yes</td>\n",
       "      <td>NaN</td>\n",
       "    </tr>\n",
       "    <tr>\n",
       "      <th>1417</th>\n",
       "      <td>5651-WYIPH</td>\n",
       "      <td>2018-08-01</td>\n",
       "      <td>No</td>\n",
       "      <td>Month-to-month</td>\n",
       "      <td>Yes</td>\n",
       "      <td>Credit card (automatic)</td>\n",
       "      <td>49.85</td>\n",
       "      <td>865.75</td>\n",
       "      <td>DSL</td>\n",
       "      <td>No</td>\n",
       "      <td>Yes</td>\n",
       "      <td>No</td>\n",
       "      <td>No</td>\n",
       "      <td>No</td>\n",
       "      <td>No</td>\n",
       "      <td>Female</td>\n",
       "      <td>1</td>\n",
       "      <td>No</td>\n",
       "      <td>No</td>\n",
       "      <td>No</td>\n",
       "    </tr>\n",
       "  </tbody>\n",
       "</table>\n",
       "</div>"
      ],
      "text/plain": [
       "      customerID   BeginDate              EndDate            Type  \\\n",
       "2232  6479-SZPLM  2017-02-01                   No        Two year   \n",
       "6608  4576-CSAJH  2018-02-01  2019-12-01 00:00:00        One year   \n",
       "3722  8328-SKJNO  2018-03-01                   No        One year   \n",
       "3973  3441-CGZJH  2016-07-01                   No        One year   \n",
       "1417  5651-WYIPH  2018-08-01                   No  Month-to-month   \n",
       "\n",
       "     PaperlessBilling              PaymentMethod  MonthlyCharges TotalCharges  \\\n",
       "2232               No    Credit card (automatic)           19.45        754.5   \n",
       "6608              Yes    Credit card (automatic)           55.15      1193.05   \n",
       "3722               No  Bank transfer (automatic)           40.65        947.4   \n",
       "3973              Yes    Credit card (automatic)           60.40      2640.55   \n",
       "1417              Yes    Credit card (automatic)           49.85       865.75   \n",
       "\n",
       "     InternetService OnlineSecurity OnlineBackup DeviceProtection TechSupport  \\\n",
       "2232             NaN            NaN          NaN              NaN         NaN   \n",
       "6608             DSL             No          Yes               No         Yes   \n",
       "3722             DSL            Yes          Yes               No         Yes   \n",
       "3973             DSL            Yes           No              Yes         Yes   \n",
       "1417             DSL             No          Yes               No          No   \n",
       "\n",
       "     StreamingTV StreamingMovies  gender  SeniorCitizen Partner Dependents  \\\n",
       "2232         NaN             NaN    Male              0     Yes        Yes   \n",
       "6608          No              No    Male              0      No         No   \n",
       "3722          No              No    Male              0      No        Yes   \n",
       "3973         Yes             Yes  Female              0     Yes        Yes   \n",
       "1417          No              No  Female              1      No         No   \n",
       "\n",
       "     MultipleLines  \n",
       "2232            No  \n",
       "6608            No  \n",
       "3722           NaN  \n",
       "3973           NaN  \n",
       "1417            No  "
      ]
     },
     "metadata": {},
     "output_type": "display_data"
    },
    {
     "data": {
      "text/plain": [
       "(7043, 20)"
      ]
     },
     "metadata": {},
     "output_type": "display_data"
    }
   ],
   "source": [
    "# merge all dataframes\n",
    "dfs = [df_internet,df_personal,df_phone]\n",
    "df = df_contract\n",
    "for d in dfs:\n",
    "    df = pd.merge(df,d,on='customerID',how='left')\n",
    "\n",
    "display(df.sample(5),df.shape)"
   ]
  },
  {
   "cell_type": "markdown",
   "id": "25963359",
   "metadata": {},
   "source": [
    "We have merged all customer data into one dataframe. Now to rename columns for consistency."
   ]
  },
  {
   "cell_type": "code",
   "execution_count": 4,
   "id": "eb68973e",
   "metadata": {},
   "outputs": [
    {
     "name": "stdout",
     "output_type": "stream",
     "text": [
      "<class 'pandas.core.frame.DataFrame'>\n",
      "Int64Index: 7043 entries, 0 to 7042\n",
      "Data columns (total 20 columns):\n",
      " #   Column             Non-Null Count  Dtype  \n",
      "---  ------             --------------  -----  \n",
      " 0   customer_id        7043 non-null   object \n",
      " 1   begin_date         7043 non-null   object \n",
      " 2   end_date           7043 non-null   object \n",
      " 3   type               7043 non-null   object \n",
      " 4   paperless_billing  7043 non-null   object \n",
      " 5   payment_method     7043 non-null   object \n",
      " 6   monthly_charges    7043 non-null   float64\n",
      " 7   total_charges      7043 non-null   object \n",
      " 8   internet_service   5517 non-null   object \n",
      " 9   online_security    5517 non-null   object \n",
      " 10  online_backup      5517 non-null   object \n",
      " 11  device_protection  5517 non-null   object \n",
      " 12  tech_support       5517 non-null   object \n",
      " 13  streaming_tv       5517 non-null   object \n",
      " 14  streaming_movies   5517 non-null   object \n",
      " 15  gender             7043 non-null   object \n",
      " 16  senior_citizen     7043 non-null   int64  \n",
      " 17  partner            7043 non-null   object \n",
      " 18  dependents         7043 non-null   object \n",
      " 19  multiple_lines     6361 non-null   object \n",
      "dtypes: float64(1), int64(1), object(18)\n",
      "memory usage: 1.1+ MB\n"
     ]
    }
   ],
   "source": [
    "def camel_to_snake(name):\n",
    "  name = re.sub('(.)([A-Z][a-z]+)', r'\\1_\\2', name)\n",
    "  return re.sub('([a-z0-9])([A-Z])', r'\\1_\\2', name).lower()\n",
    "\n",
    "for column in df.columns:\n",
    "    df = df.rename(columns={column:camel_to_snake(column)})\n",
    "\n",
    "df.info()"
   ]
  },
  {
   "cell_type": "markdown",
   "id": "1341550b",
   "metadata": {},
   "source": [
    "Our missing data is in the binary columns of service information which should be available to the company- this needs to be answered by the company as it accounts for part of our data. In the mean time we will only look at data that has full customer information because assuming the missing data as No/0 could create imbalance in the data."
   ]
  },
  {
   "cell_type": "code",
   "execution_count": 5,
   "id": "9ad66d15",
   "metadata": {},
   "outputs": [
    {
     "data": {
      "text/plain": [
       "(4835, 20)"
      ]
     },
     "metadata": {},
     "output_type": "display_data"
    }
   ],
   "source": [
    "# drop missing values and duplicates\n",
    "df.dropna(inplace=True)\n",
    "df.drop_duplicates(inplace=True)\n",
    "display(df.shape)"
   ]
  },
  {
   "cell_type": "markdown",
   "id": "6152d08e",
   "metadata": {},
   "source": [
    "### 2. Data Preprocessing <a class=\"anchor\" id=\"2\"></a>"
   ]
  },
  {
   "cell_type": "markdown",
   "id": "e6f2ede4",
   "metadata": {},
   "source": [
    "The datatype of `begin_date` should be DateTime, `total_charges` should be a float, there are a few class type columns that can be converted to ordinal, and all the columns with Yes/No values and `gender` should be changed to binary like the `senior_citizen` column. We will need to explore `end_date` more in depth as it has a combination of dates and binary and it's the most important column- our target."
   ]
  },
  {
   "cell_type": "markdown",
   "id": "ecaf1dba",
   "metadata": {},
   "source": [
    "#### Convert Data Types"
   ]
  },
  {
   "cell_type": "markdown",
   "id": "10461009",
   "metadata": {},
   "source": [
    "##### Dates and Floats"
   ]
  },
  {
   "cell_type": "code",
   "execution_count": 6,
   "id": "1c7d8d3d",
   "metadata": {},
   "outputs": [
    {
     "data": {
      "text/html": [
       "<div>\n",
       "<style scoped>\n",
       "    .dataframe tbody tr th:only-of-type {\n",
       "        vertical-align: middle;\n",
       "    }\n",
       "\n",
       "    .dataframe tbody tr th {\n",
       "        vertical-align: top;\n",
       "    }\n",
       "\n",
       "    .dataframe thead th {\n",
       "        text-align: right;\n",
       "    }\n",
       "</style>\n",
       "<table border=\"1\" class=\"dataframe\">\n",
       "  <thead>\n",
       "    <tr style=\"text-align: right;\">\n",
       "      <th></th>\n",
       "      <th>customer_id</th>\n",
       "      <th>begin_date</th>\n",
       "      <th>end_date</th>\n",
       "      <th>type</th>\n",
       "      <th>paperless_billing</th>\n",
       "      <th>payment_method</th>\n",
       "      <th>monthly_charges</th>\n",
       "      <th>total_charges</th>\n",
       "      <th>internet_service</th>\n",
       "      <th>online_security</th>\n",
       "      <th>online_backup</th>\n",
       "      <th>device_protection</th>\n",
       "      <th>tech_support</th>\n",
       "      <th>streaming_tv</th>\n",
       "      <th>streaming_movies</th>\n",
       "      <th>gender</th>\n",
       "      <th>senior_citizen</th>\n",
       "      <th>partner</th>\n",
       "      <th>dependents</th>\n",
       "      <th>multiple_lines</th>\n",
       "    </tr>\n",
       "  </thead>\n",
       "  <tbody>\n",
       "    <tr>\n",
       "      <th>936</th>\n",
       "      <td>5709-LVOEQ</td>\n",
       "      <td>2020-02-01</td>\n",
       "      <td>No</td>\n",
       "      <td>Two year</td>\n",
       "      <td>No</td>\n",
       "      <td>Mailed check</td>\n",
       "      <td>80.85</td>\n",
       "      <td></td>\n",
       "      <td>DSL</td>\n",
       "      <td>Yes</td>\n",
       "      <td>Yes</td>\n",
       "      <td>Yes</td>\n",
       "      <td>No</td>\n",
       "      <td>Yes</td>\n",
       "      <td>Yes</td>\n",
       "      <td>Female</td>\n",
       "      <td>0</td>\n",
       "      <td>Yes</td>\n",
       "      <td>Yes</td>\n",
       "      <td>No</td>\n",
       "    </tr>\n",
       "    <tr>\n",
       "      <th>6670</th>\n",
       "      <td>4075-WKNIU</td>\n",
       "      <td>2020-02-01</td>\n",
       "      <td>No</td>\n",
       "      <td>Two year</td>\n",
       "      <td>No</td>\n",
       "      <td>Mailed check</td>\n",
       "      <td>73.35</td>\n",
       "      <td></td>\n",
       "      <td>DSL</td>\n",
       "      <td>No</td>\n",
       "      <td>Yes</td>\n",
       "      <td>Yes</td>\n",
       "      <td>Yes</td>\n",
       "      <td>Yes</td>\n",
       "      <td>No</td>\n",
       "      <td>Female</td>\n",
       "      <td>0</td>\n",
       "      <td>Yes</td>\n",
       "      <td>Yes</td>\n",
       "      <td>Yes</td>\n",
       "    </tr>\n",
       "    <tr>\n",
       "      <th>6754</th>\n",
       "      <td>2775-SEFEE</td>\n",
       "      <td>2020-02-01</td>\n",
       "      <td>No</td>\n",
       "      <td>Two year</td>\n",
       "      <td>Yes</td>\n",
       "      <td>Bank transfer (automatic)</td>\n",
       "      <td>61.90</td>\n",
       "      <td></td>\n",
       "      <td>DSL</td>\n",
       "      <td>Yes</td>\n",
       "      <td>Yes</td>\n",
       "      <td>No</td>\n",
       "      <td>Yes</td>\n",
       "      <td>No</td>\n",
       "      <td>No</td>\n",
       "      <td>Male</td>\n",
       "      <td>0</td>\n",
       "      <td>No</td>\n",
       "      <td>Yes</td>\n",
       "      <td>Yes</td>\n",
       "    </tr>\n",
       "  </tbody>\n",
       "</table>\n",
       "</div>"
      ],
      "text/plain": [
       "     customer_id  begin_date end_date      type paperless_billing  \\\n",
       "936   5709-LVOEQ  2020-02-01       No  Two year                No   \n",
       "6670  4075-WKNIU  2020-02-01       No  Two year                No   \n",
       "6754  2775-SEFEE  2020-02-01       No  Two year               Yes   \n",
       "\n",
       "                 payment_method  monthly_charges total_charges  \\\n",
       "936                Mailed check            80.85                 \n",
       "6670               Mailed check            73.35                 \n",
       "6754  Bank transfer (automatic)            61.90                 \n",
       "\n",
       "     internet_service online_security online_backup device_protection  \\\n",
       "936               DSL             Yes           Yes               Yes   \n",
       "6670              DSL              No           Yes               Yes   \n",
       "6754              DSL             Yes           Yes                No   \n",
       "\n",
       "     tech_support streaming_tv streaming_movies  gender  senior_citizen  \\\n",
       "936            No          Yes              Yes  Female               0   \n",
       "6670          Yes          Yes               No  Female               0   \n",
       "6754          Yes           No               No    Male               0   \n",
       "\n",
       "     partner dependents multiple_lines  \n",
       "936      Yes        Yes             No  \n",
       "6670     Yes        Yes            Yes  \n",
       "6754      No        Yes            Yes  "
      ]
     },
     "execution_count": 6,
     "metadata": {},
     "output_type": "execute_result"
    }
   ],
   "source": [
    "df[pd.to_numeric(df['total_charges'],errors='coerce').isna()]"
   ]
  },
  {
   "cell_type": "markdown",
   "id": "1a8130d1",
   "metadata": {},
   "source": [
    "We have found that that the `total_charges` column contains empty strings (cannot be converted to float). These rows will be removed and this could be another question for the company."
   ]
  },
  {
   "cell_type": "code",
   "execution_count": 7,
   "id": "23b17e8c",
   "metadata": {},
   "outputs": [
    {
     "name": "stdout",
     "output_type": "stream",
     "text": [
      "total_charges data type:\n",
      "float64\n"
     ]
    }
   ],
   "source": [
    "indices = df[pd.to_numeric(df['total_charges'],errors='coerce').isna()].index\n",
    "df = df.drop(index=indices)\n",
    "\n",
    "try:\n",
    "    df['total_charges'] = pd.to_numeric(df['total_charges'])\n",
    "    print(\"total_charges data type:\")\n",
    "    print(df['total_charges'].dtypes)\n",
    "except:\n",
    "    print('error converting')"
   ]
  },
  {
   "cell_type": "code",
   "execution_count": 8,
   "id": "aadfdb1d",
   "metadata": {},
   "outputs": [
    {
     "name": "stdout",
     "output_type": "stream",
     "text": [
      "begin_date data type:\n",
      "datetime64[ns]\n"
     ]
    }
   ],
   "source": [
    "try:\n",
    "    df['begin_date'] = pd.to_datetime(df['begin_date']).dt.normalize()\n",
    "    print('begin_date data type:')\n",
    "    print(df['begin_date'].dtypes)\n",
    "except:\n",
    "    print('Error converting')"
   ]
  },
  {
   "cell_type": "markdown",
   "id": "47fa5a3e",
   "metadata": {},
   "source": [
    "##### Binary"
   ]
  },
  {
   "cell_type": "code",
   "execution_count": 9,
   "id": "1a7351b0",
   "metadata": {},
   "outputs": [
    {
     "name": "stdout",
     "output_type": "stream",
     "text": [
      "Month-to-month    2975\n",
      "One year           964\n",
      "Two year           893\n",
      "Name: type, dtype: int64 \n",
      "\n",
      "Yes    3337\n",
      "No     1495\n",
      "Name: paperless_billing, dtype: int64 \n",
      "\n",
      "Electronic check             2017\n",
      "Bank transfer (automatic)    1068\n",
      "Credit card (automatic)      1037\n",
      "Mailed check                  710\n",
      "Name: payment_method, dtype: int64 \n",
      "\n",
      "Fiber optic    3096\n",
      "DSL            1736\n",
      "Name: internet_service, dtype: int64 \n",
      "\n",
      "No     3098\n",
      "Yes    1734\n",
      "Name: online_security, dtype: int64 \n",
      "\n",
      "No     2693\n",
      "Yes    2139\n",
      "Name: online_backup, dtype: int64 \n",
      "\n",
      "No     2717\n",
      "Yes    2115\n",
      "Name: device_protection, dtype: int64 \n",
      "\n",
      "No     3079\n",
      "Yes    1753\n",
      "Name: tech_support, dtype: int64 \n",
      "\n",
      "Yes    2420\n",
      "No     2412\n",
      "Name: streaming_tv, dtype: int64 \n",
      "\n",
      "Yes    2433\n",
      "No     2399\n",
      "Name: streaming_movies, dtype: int64 \n",
      "\n",
      "Male      2424\n",
      "Female    2408\n",
      "Name: gender, dtype: int64 \n",
      "\n",
      "0    3846\n",
      "1     986\n",
      "Name: senior_citizen, dtype: int64 \n",
      "\n",
      "No     2481\n",
      "Yes    2351\n",
      "Name: partner, dtype: int64 \n",
      "\n",
      "No     3574\n",
      "Yes    1258\n",
      "Name: dependents, dtype: int64 \n",
      "\n",
      "Yes    2627\n",
      "No     2205\n",
      "Name: multiple_lines, dtype: int64 \n",
      "\n"
     ]
    }
   ],
   "source": [
    "# check value_counts of all relevant columns to confirm if we want binary/ordinal encoding\n",
    "for col in df.columns:\n",
    "    if (\n",
    "        col != 'customer_id' and \n",
    "        col != 'begin_date' and \n",
    "        col != 'end_date' and \n",
    "        col != 'monthly_charges' and \n",
    "        col != 'total_charges'\n",
    "    ):\n",
    "        print(df[col].value_counts(),'\\n')"
   ]
  },
  {
   "cell_type": "code",
   "execution_count": 10,
   "id": "c68ea9ab",
   "metadata": {},
   "outputs": [
    {
     "data": {
      "text/html": [
       "<div>\n",
       "<style scoped>\n",
       "    .dataframe tbody tr th:only-of-type {\n",
       "        vertical-align: middle;\n",
       "    }\n",
       "\n",
       "    .dataframe tbody tr th {\n",
       "        vertical-align: top;\n",
       "    }\n",
       "\n",
       "    .dataframe thead th {\n",
       "        text-align: right;\n",
       "    }\n",
       "</style>\n",
       "<table border=\"1\" class=\"dataframe\">\n",
       "  <thead>\n",
       "    <tr style=\"text-align: right;\">\n",
       "      <th></th>\n",
       "      <th>paperless_billing</th>\n",
       "      <th>online_security</th>\n",
       "      <th>online_backup</th>\n",
       "      <th>device_protection</th>\n",
       "      <th>tech_support</th>\n",
       "      <th>streaming_tv</th>\n",
       "      <th>streaming_movies</th>\n",
       "      <th>partner</th>\n",
       "      <th>dependents</th>\n",
       "      <th>multiple_lines</th>\n",
       "      <th>male</th>\n",
       "    </tr>\n",
       "  </thead>\n",
       "  <tbody>\n",
       "    <tr>\n",
       "      <th>1</th>\n",
       "      <td>0</td>\n",
       "      <td>1</td>\n",
       "      <td>0</td>\n",
       "      <td>1</td>\n",
       "      <td>0</td>\n",
       "      <td>0</td>\n",
       "      <td>0</td>\n",
       "      <td>0</td>\n",
       "      <td>0</td>\n",
       "      <td>0</td>\n",
       "      <td>1</td>\n",
       "    </tr>\n",
       "    <tr>\n",
       "      <th>2</th>\n",
       "      <td>1</td>\n",
       "      <td>1</td>\n",
       "      <td>1</td>\n",
       "      <td>0</td>\n",
       "      <td>0</td>\n",
       "      <td>0</td>\n",
       "      <td>0</td>\n",
       "      <td>0</td>\n",
       "      <td>0</td>\n",
       "      <td>0</td>\n",
       "      <td>1</td>\n",
       "    </tr>\n",
       "    <tr>\n",
       "      <th>4</th>\n",
       "      <td>1</td>\n",
       "      <td>0</td>\n",
       "      <td>0</td>\n",
       "      <td>0</td>\n",
       "      <td>0</td>\n",
       "      <td>0</td>\n",
       "      <td>0</td>\n",
       "      <td>0</td>\n",
       "      <td>0</td>\n",
       "      <td>0</td>\n",
       "      <td>0</td>\n",
       "    </tr>\n",
       "    <tr>\n",
       "      <th>5</th>\n",
       "      <td>1</td>\n",
       "      <td>0</td>\n",
       "      <td>0</td>\n",
       "      <td>1</td>\n",
       "      <td>0</td>\n",
       "      <td>1</td>\n",
       "      <td>1</td>\n",
       "      <td>0</td>\n",
       "      <td>0</td>\n",
       "      <td>1</td>\n",
       "      <td>0</td>\n",
       "    </tr>\n",
       "    <tr>\n",
       "      <th>6</th>\n",
       "      <td>1</td>\n",
       "      <td>0</td>\n",
       "      <td>1</td>\n",
       "      <td>0</td>\n",
       "      <td>0</td>\n",
       "      <td>1</td>\n",
       "      <td>0</td>\n",
       "      <td>0</td>\n",
       "      <td>1</td>\n",
       "      <td>1</td>\n",
       "      <td>1</td>\n",
       "    </tr>\n",
       "  </tbody>\n",
       "</table>\n",
       "</div>"
      ],
      "text/plain": [
       "   paperless_billing  online_security  online_backup  device_protection  \\\n",
       "1                  0                1              0                  1   \n",
       "2                  1                1              1                  0   \n",
       "4                  1                0              0                  0   \n",
       "5                  1                0              0                  1   \n",
       "6                  1                0              1                  0   \n",
       "\n",
       "   tech_support  streaming_tv  streaming_movies  partner  dependents  \\\n",
       "1             0             0                 0        0           0   \n",
       "2             0             0                 0        0           0   \n",
       "4             0             0                 0        0           0   \n",
       "5             0             1                 1        0           0   \n",
       "6             0             1                 0        0           1   \n",
       "\n",
       "   multiple_lines  male  \n",
       "1               0     1  \n",
       "2               0     1  \n",
       "4               0     0  \n",
       "5               1     0  \n",
       "6               1     1  "
      ]
     },
     "execution_count": 10,
     "metadata": {},
     "output_type": "execute_result"
    }
   ],
   "source": [
    "binary_cols = [\n",
    "    'paperless_billing',\n",
    "    'online_security',\n",
    "    'online_backup',\n",
    "    'device_protection',\n",
    "    'tech_support',\n",
    "    'streaming_tv',\n",
    "    'streaming_movies',\n",
    "    'partner',\n",
    "    'dependents',\n",
    "    'multiple_lines'\n",
    "]\n",
    "\n",
    "for col in binary_cols:\n",
    "    df[col] = np.where(df[col] == 'Yes', 1, 0)\n",
    "    \n",
    "df.rename(columns = {'gender':'male'}, inplace = True)\n",
    "df['male'] = np.where(df['male'] == 'Male', 1, 0)\n",
    "binary_cols.append('male')\n",
    "df[binary_cols].head()"
   ]
  },
  {
   "cell_type": "markdown",
   "id": "dafab853",
   "metadata": {},
   "source": [
    "##### Ordinal"
   ]
  },
  {
   "cell_type": "code",
   "execution_count": 11,
   "id": "63502d5c",
   "metadata": {},
   "outputs": [],
   "source": [
    "df = df.replace(\n",
    "    {\n",
    "        'Month-to-month': 'monthly',\n",
    "        'One year':'annually',\n",
    "        'Two year':'bi_annually',\n",
    "        'Electronic check': 'electronic_check',\n",
    "        'Bank transfer (automatic)':'bank_transfer',\n",
    "        'Credit card (automatic)': 'credit_card',\n",
    "        # We don't want to lose the information about automated payment methods (see below)\n",
    "        'Mailed check':'mailed_check',\n",
    "        'Fiber optic': 'fiber_optic',\n",
    "        'DSL':'dsl'\n",
    "    }\n",
    ")\n",
    "\n",
    "ord_cols = [\n",
    "    'internet_service',\n",
    "    'type',\n",
    "    'payment_method'\n",
    "]\n",
    "\n",
    "df_encoded = pd.get_dummies(df, columns=ord_cols)\n",
    "\n",
    "# here we return the automated payment data (this binary value will be 1 if it's by cc or bank transfer)\n",
    "df_encoded['payment_method_automated'] = df_encoded['payment_method_credit_card'] + df_encoded['payment_method_bank_transfer']"
   ]
  },
  {
   "cell_type": "code",
   "execution_count": 12,
   "id": "773fa805",
   "metadata": {},
   "outputs": [
    {
     "name": "stdout",
     "output_type": "stream",
     "text": [
      "<class 'pandas.core.frame.DataFrame'>\n",
      "Int64Index: 4832 entries, 1 to 7042\n",
      "Data columns (total 27 columns):\n",
      " #   Column                           Non-Null Count  Dtype         \n",
      "---  ------                           --------------  -----         \n",
      " 0   customer_id                      4832 non-null   object        \n",
      " 1   begin_date                       4832 non-null   datetime64[ns]\n",
      " 2   end_date                         4832 non-null   object        \n",
      " 3   paperless_billing                4832 non-null   int32         \n",
      " 4   monthly_charges                  4832 non-null   float64       \n",
      " 5   total_charges                    4832 non-null   float64       \n",
      " 6   online_security                  4832 non-null   int32         \n",
      " 7   online_backup                    4832 non-null   int32         \n",
      " 8   device_protection                4832 non-null   int32         \n",
      " 9   tech_support                     4832 non-null   int32         \n",
      " 10  streaming_tv                     4832 non-null   int32         \n",
      " 11  streaming_movies                 4832 non-null   int32         \n",
      " 12  male                             4832 non-null   int32         \n",
      " 13  senior_citizen                   4832 non-null   int64         \n",
      " 14  partner                          4832 non-null   int32         \n",
      " 15  dependents                       4832 non-null   int32         \n",
      " 16  multiple_lines                   4832 non-null   int32         \n",
      " 17  internet_service_dsl             4832 non-null   uint8         \n",
      " 18  internet_service_fiber_optic     4832 non-null   uint8         \n",
      " 19  type_annually                    4832 non-null   uint8         \n",
      " 20  type_bi_annually                 4832 non-null   uint8         \n",
      " 21  type_monthly                     4832 non-null   uint8         \n",
      " 22  payment_method_bank_transfer     4832 non-null   uint8         \n",
      " 23  payment_method_credit_card       4832 non-null   uint8         \n",
      " 24  payment_method_electronic_check  4832 non-null   uint8         \n",
      " 25  payment_method_mailed_check      4832 non-null   uint8         \n",
      " 26  payment_method_automated         4832 non-null   uint8         \n",
      "dtypes: datetime64[ns](1), float64(2), int32(11), int64(1), object(2), uint8(10)\n",
      "memory usage: 519.1+ KB\n"
     ]
    }
   ],
   "source": [
    "df_encoded.info()"
   ]
  },
  {
   "cell_type": "markdown",
   "id": "42d679ee",
   "metadata": {},
   "source": [
    "All of the feature columns have been converted to their proper datatype."
   ]
  },
  {
   "cell_type": "markdown",
   "id": "ff6a7cd4",
   "metadata": {},
   "source": [
    "### 3. Exploratory Data Analysis <a class=\"anchor\" id=\"3\"></a>"
   ]
  },
  {
   "cell_type": "markdown",
   "id": "da57a2e4",
   "metadata": {},
   "source": [
    "#### 3.1 Data Distribution <a class=\"anchor\" id=\"3_1\"></a>"
   ]
  },
  {
   "cell_type": "markdown",
   "id": "2c6631eb",
   "metadata": {},
   "source": [
    "We will investigate the distributions of our nominal features."
   ]
  },
  {
   "cell_type": "code",
   "execution_count": 13,
   "id": "8ebf46be",
   "metadata": {},
   "outputs": [
    {
     "data": {
      "text/html": [
       "<div>\n",
       "<style scoped>\n",
       "    .dataframe tbody tr th:only-of-type {\n",
       "        vertical-align: middle;\n",
       "    }\n",
       "\n",
       "    .dataframe tbody tr th {\n",
       "        vertical-align: top;\n",
       "    }\n",
       "\n",
       "    .dataframe thead th {\n",
       "        text-align: right;\n",
       "    }\n",
       "</style>\n",
       "<table border=\"1\" class=\"dataframe\">\n",
       "  <thead>\n",
       "    <tr style=\"text-align: right;\">\n",
       "      <th></th>\n",
       "      <th>monthly_charges</th>\n",
       "      <th>total_charges</th>\n",
       "    </tr>\n",
       "  </thead>\n",
       "  <tbody>\n",
       "    <tr>\n",
       "      <th>count</th>\n",
       "      <td>4832.000000</td>\n",
       "      <td>4832.000000</td>\n",
       "    </tr>\n",
       "    <tr>\n",
       "      <th>mean</th>\n",
       "      <td>81.761207</td>\n",
       "      <td>2902.470788</td>\n",
       "    </tr>\n",
       "    <tr>\n",
       "      <th>std</th>\n",
       "      <td>18.306134</td>\n",
       "      <td>2415.564128</td>\n",
       "    </tr>\n",
       "    <tr>\n",
       "      <th>min</th>\n",
       "      <td>42.900000</td>\n",
       "      <td>42.900000</td>\n",
       "    </tr>\n",
       "    <tr>\n",
       "      <th>25%</th>\n",
       "      <td>69.787500</td>\n",
       "      <td>659.600000</td>\n",
       "    </tr>\n",
       "    <tr>\n",
       "      <th>50%</th>\n",
       "      <td>82.500000</td>\n",
       "      <td>2350.625000</td>\n",
       "    </tr>\n",
       "    <tr>\n",
       "      <th>75%</th>\n",
       "      <td>95.700000</td>\n",
       "      <td>4871.150000</td>\n",
       "    </tr>\n",
       "    <tr>\n",
       "      <th>max</th>\n",
       "      <td>118.750000</td>\n",
       "      <td>8684.800000</td>\n",
       "    </tr>\n",
       "  </tbody>\n",
       "</table>\n",
       "</div>"
      ],
      "text/plain": [
       "       monthly_charges  total_charges\n",
       "count      4832.000000    4832.000000\n",
       "mean         81.761207    2902.470788\n",
       "std          18.306134    2415.564128\n",
       "min          42.900000      42.900000\n",
       "25%          69.787500     659.600000\n",
       "50%          82.500000    2350.625000\n",
       "75%          95.700000    4871.150000\n",
       "max         118.750000    8684.800000"
      ]
     },
     "execution_count": 13,
     "metadata": {},
     "output_type": "execute_result"
    }
   ],
   "source": [
    "df_encoded[['monthly_charges','total_charges']].describe()"
   ]
  },
  {
   "cell_type": "code",
   "execution_count": 14,
   "id": "676fe2ff",
   "metadata": {},
   "outputs": [
    {
     "data": {
      "image/png": "[encoded data removed]",
      "text/plain": [
       "<Figure size 432x288 with 1 Axes>"
      ]
     },
     "metadata": {
      "needs_background": "light"
     },
     "output_type": "display_data"
    }
   ],
   "source": [
    "df_encoded['monthly_charges'].sort_values().plot(kind='hist',bins=15,title='Distribution of Monthly Charges');"
   ]
  },
  {
   "cell_type": "code",
   "execution_count": 15,
   "id": "d7bb4380",
   "metadata": {},
   "outputs": [
    {
     "data": {
      "image/png": "[encoded data removed]",
      "text/plain": [
       "<Figure size 432x288 with 1 Axes>"
      ]
     },
     "metadata": {
      "needs_background": "light"
     },
     "output_type": "display_data"
    }
   ],
   "source": [
    "df_encoded[['monthly_charges']].boxplot();"
   ]
  },
  {
   "cell_type": "markdown",
   "id": "5320431a",
   "metadata": {},
   "source": [
    "The monthly charges are normally distributed. The customers have a good variety of payment amounts, implying there are a variety of services they are receiving."
   ]
  },
  {
   "cell_type": "code",
   "execution_count": 16,
   "id": "bf4b259d",
   "metadata": {},
   "outputs": [
    {
     "data": {
      "image/png": "[encoded data removed]",
      "text/plain": [
       "<Figure size 432x288 with 1 Axes>"
      ]
     },
     "metadata": {
      "needs_background": "light"
     },
     "output_type": "display_data"
    }
   ],
   "source": [
    "df_encoded['total_charges'].sort_values().plot(kind='hist',bins=50,title='Distribution of Total Charges');"
   ]
  },
  {
   "cell_type": "code",
   "execution_count": 17,
   "id": "d1cf728d",
   "metadata": {},
   "outputs": [
    {
     "data": {
      "image/png": "[encoded data removed]",
      "text/plain": [
       "<Figure size 432x288 with 1 Axes>"
      ]
     },
     "metadata": {
      "needs_background": "light"
     },
     "output_type": "display_data"
    }
   ],
   "source": [
    "df_encoded[['total_charges']].boxplot();"
   ]
  },
  {
   "cell_type": "markdown",
   "id": "74bf4e74",
   "metadata": {},
   "source": [
    "There is a right skew to distribution of total charges. This means that there is more short-term customers that haven't been charged much."
   ]
  },
  {
   "cell_type": "markdown",
   "id": "baf22bf0",
   "metadata": {},
   "source": [
    "### 3.2 Time Series Analysis <a class=\"anchor\" id=\"3_2\"></a>"
   ]
  },
  {
   "cell_type": "markdown",
   "id": "a6053f05",
   "metadata": {},
   "source": [
    "We will now examine our `end_date` and `start_date` with time series."
   ]
  },
  {
   "cell_type": "code",
   "execution_count": 18,
   "id": "12d4520b",
   "metadata": {},
   "outputs": [
    {
     "data": {
      "text/html": [
       "<div>\n",
       "<style scoped>\n",
       "    .dataframe tbody tr th:only-of-type {\n",
       "        vertical-align: middle;\n",
       "    }\n",
       "\n",
       "    .dataframe tbody tr th {\n",
       "        vertical-align: top;\n",
       "    }\n",
       "\n",
       "    .dataframe thead th {\n",
       "        text-align: right;\n",
       "    }\n",
       "</style>\n",
       "<table border=\"1\" class=\"dataframe\">\n",
       "  <thead>\n",
       "    <tr style=\"text-align: right;\">\n",
       "      <th></th>\n",
       "      <th>begin_date</th>\n",
       "      <th>end_date</th>\n",
       "    </tr>\n",
       "  </thead>\n",
       "  <tbody>\n",
       "    <tr>\n",
       "      <th>1</th>\n",
       "      <td>2017-04-01</td>\n",
       "      <td>No</td>\n",
       "    </tr>\n",
       "    <tr>\n",
       "      <th>2</th>\n",
       "      <td>2019-10-01</td>\n",
       "      <td>2019-12-01 00:00:00</td>\n",
       "    </tr>\n",
       "    <tr>\n",
       "      <th>4</th>\n",
       "      <td>2019-09-01</td>\n",
       "      <td>2019-11-01 00:00:00</td>\n",
       "    </tr>\n",
       "    <tr>\n",
       "      <th>5</th>\n",
       "      <td>2019-03-01</td>\n",
       "      <td>2019-11-01 00:00:00</td>\n",
       "    </tr>\n",
       "    <tr>\n",
       "      <th>6</th>\n",
       "      <td>2018-04-01</td>\n",
       "      <td>No</td>\n",
       "    </tr>\n",
       "  </tbody>\n",
       "</table>\n",
       "</div>"
      ],
      "text/plain": [
       "  begin_date             end_date\n",
       "1 2017-04-01                   No\n",
       "2 2019-10-01  2019-12-01 00:00:00\n",
       "4 2019-09-01  2019-11-01 00:00:00\n",
       "5 2019-03-01  2019-11-01 00:00:00\n",
       "6 2018-04-01                   No"
      ]
     },
     "execution_count": 18,
     "metadata": {},
     "output_type": "execute_result"
    }
   ],
   "source": [
    "date_cols = ['begin_date','end_date']\n",
    "dfr = df_encoded[date_cols]\n",
    "dfr.head()"
   ]
  },
  {
   "cell_type": "code",
   "execution_count": 19,
   "id": "e9a773cb",
   "metadata": {},
   "outputs": [
    {
     "data": {
      "text/html": [
       "<div>\n",
       "<style scoped>\n",
       "    .dataframe tbody tr th:only-of-type {\n",
       "        vertical-align: middle;\n",
       "    }\n",
       "\n",
       "    .dataframe tbody tr th {\n",
       "        vertical-align: top;\n",
       "    }\n",
       "\n",
       "    .dataframe thead th {\n",
       "        text-align: right;\n",
       "    }\n",
       "</style>\n",
       "<table border=\"1\" class=\"dataframe\">\n",
       "  <thead>\n",
       "    <tr style=\"text-align: right;\">\n",
       "      <th></th>\n",
       "      <th>customers_joined</th>\n",
       "    </tr>\n",
       "    <tr>\n",
       "      <th>date</th>\n",
       "      <th></th>\n",
       "    </tr>\n",
       "  </thead>\n",
       "  <tbody>\n",
       "    <tr>\n",
       "      <th>2013-10-31</th>\n",
       "      <td>3</td>\n",
       "    </tr>\n",
       "    <tr>\n",
       "      <th>2013-11-30</th>\n",
       "      <td>2</td>\n",
       "    </tr>\n",
       "    <tr>\n",
       "      <th>2013-12-31</th>\n",
       "      <td>3</td>\n",
       "    </tr>\n",
       "    <tr>\n",
       "      <th>2014-01-31</th>\n",
       "      <td>6</td>\n",
       "    </tr>\n",
       "    <tr>\n",
       "      <th>2014-02-28</th>\n",
       "      <td>269</td>\n",
       "    </tr>\n",
       "  </tbody>\n",
       "</table>\n",
       "</div>"
      ],
      "text/plain": [
       "            customers_joined\n",
       "date                        \n",
       "2013-10-31                 3\n",
       "2013-11-30                 2\n",
       "2013-12-31                 3\n",
       "2014-01-31                 6\n",
       "2014-02-28               269"
      ]
     },
     "execution_count": 19,
     "metadata": {},
     "output_type": "execute_result"
    }
   ],
   "source": [
    "dfr_1 = dfr.rename(columns={\"begin_date\":\"date\"})\n",
    "dfr_1 = dfr_1.set_index('date').sort_index()\n",
    "dfr_1 = dfr_1.resample('1M').count()\n",
    "dfr_1 = dfr_1.rename(columns={\"end_date\":\"customers_joined\"})\n",
    "dfr_1.head()"
   ]
  },
  {
   "cell_type": "code",
   "execution_count": 20,
   "id": "52b0b423",
   "metadata": {},
   "outputs": [
    {
     "data": {
      "text/html": [
       "<div>\n",
       "<style scoped>\n",
       "    .dataframe tbody tr th:only-of-type {\n",
       "        vertical-align: middle;\n",
       "    }\n",
       "\n",
       "    .dataframe tbody tr th {\n",
       "        vertical-align: top;\n",
       "    }\n",
       "\n",
       "    .dataframe thead th {\n",
       "        text-align: right;\n",
       "    }\n",
       "</style>\n",
       "<table border=\"1\" class=\"dataframe\">\n",
       "  <thead>\n",
       "    <tr style=\"text-align: right;\">\n",
       "      <th></th>\n",
       "      <th>customers_left</th>\n",
       "    </tr>\n",
       "    <tr>\n",
       "      <th>date</th>\n",
       "      <th></th>\n",
       "    </tr>\n",
       "  </thead>\n",
       "  <tbody>\n",
       "    <tr>\n",
       "      <th>2019-10-31</th>\n",
       "      <td>401</td>\n",
       "    </tr>\n",
       "    <tr>\n",
       "      <th>2019-11-30</th>\n",
       "      <td>414</td>\n",
       "    </tr>\n",
       "    <tr>\n",
       "      <th>2019-12-31</th>\n",
       "      <td>392</td>\n",
       "    </tr>\n",
       "    <tr>\n",
       "      <th>2020-01-31</th>\n",
       "      <td>379</td>\n",
       "    </tr>\n",
       "  </tbody>\n",
       "</table>\n",
       "</div>"
      ],
      "text/plain": [
       "            customers_left\n",
       "date                      \n",
       "2019-10-31             401\n",
       "2019-11-30             414\n",
       "2019-12-31             392\n",
       "2020-01-31             379"
      ]
     },
     "execution_count": 20,
     "metadata": {},
     "output_type": "execute_result"
    }
   ],
   "source": [
    "dfr['end_date'] = pd.to_datetime(dfr['end_date'],errors='coerce').dt.normalize()\n",
    "dfr_2 = dfr[dfr['end_date'].notna()]\n",
    "dfr_2 = dfr_2.rename(columns={\"end_date\":\"date\"})\n",
    "dfr_2 = dfr_2.set_index('date').sort_index()\n",
    "dfr_2 = dfr_2.resample('1M').count()\n",
    "dfr_2 = dfr_2.rename(columns={\"begin_date\":\"customers_left\"})\n",
    "dfr_2.head()"
   ]
  },
  {
   "cell_type": "code",
   "execution_count": 21,
   "id": "57c2f667",
   "metadata": {},
   "outputs": [
    {
     "data": {
      "text/html": [
       "<div>\n",
       "<style scoped>\n",
       "    .dataframe tbody tr th:only-of-type {\n",
       "        vertical-align: middle;\n",
       "    }\n",
       "\n",
       "    .dataframe tbody tr th {\n",
       "        vertical-align: top;\n",
       "    }\n",
       "\n",
       "    .dataframe thead th {\n",
       "        text-align: right;\n",
       "    }\n",
       "</style>\n",
       "<table border=\"1\" class=\"dataframe\">\n",
       "  <thead>\n",
       "    <tr style=\"text-align: right;\">\n",
       "      <th></th>\n",
       "      <th>customers_joined</th>\n",
       "      <th>customers_left</th>\n",
       "    </tr>\n",
       "    <tr>\n",
       "      <th>date</th>\n",
       "      <th></th>\n",
       "      <th></th>\n",
       "    </tr>\n",
       "  </thead>\n",
       "  <tbody>\n",
       "    <tr>\n",
       "      <th>2016-01-31</th>\n",
       "      <td>41</td>\n",
       "      <td>0.0</td>\n",
       "    </tr>\n",
       "    <tr>\n",
       "      <th>2016-10-31</th>\n",
       "      <td>45</td>\n",
       "      <td>0.0</td>\n",
       "    </tr>\n",
       "    <tr>\n",
       "      <th>2018-05-31</th>\n",
       "      <td>46</td>\n",
       "      <td>0.0</td>\n",
       "    </tr>\n",
       "    <tr>\n",
       "      <th>2018-03-31</th>\n",
       "      <td>58</td>\n",
       "      <td>0.0</td>\n",
       "    </tr>\n",
       "    <tr>\n",
       "      <th>2015-04-30</th>\n",
       "      <td>48</td>\n",
       "      <td>0.0</td>\n",
       "    </tr>\n",
       "  </tbody>\n",
       "</table>\n",
       "</div>"
      ],
      "text/plain": [
       "            customers_joined  customers_left\n",
       "date                                        \n",
       "2016-01-31                41             0.0\n",
       "2016-10-31                45             0.0\n",
       "2018-05-31                46             0.0\n",
       "2018-03-31                58             0.0\n",
       "2015-04-30                48             0.0"
      ]
     },
     "execution_count": 21,
     "metadata": {},
     "output_type": "execute_result"
    }
   ],
   "source": [
    "dfr = pd.merge(dfr_1,dfr_2,on='date',how='outer')\n",
    "dfr = dfr.fillna(0)\n",
    "dfr.sample(5)"
   ]
  },
  {
   "cell_type": "code",
   "execution_count": 22,
   "id": "7e61ec44",
   "metadata": {},
   "outputs": [
    {
     "data": {
      "image/png": "[encoded data removed]",
      "text/plain": [
       "<Figure size 1008x432 with 1 Axes>"
      ]
     },
     "metadata": {
      "needs_background": "light"
     },
     "output_type": "display_data"
    }
   ],
   "source": [
    "dfr['2019-01-30':'2022-01-31'].plot(title='# Customers Joining/Leaving Monthly Since 2019',figsize=(14,6),ylim=(4,500));"
   ]
  },
  {
   "cell_type": "markdown",
   "id": "483a2220",
   "metadata": {},
   "source": [
    "There has been a gradually slow increase in new customers with some decline recently. There is a significant amount of customers leaving recently. We can narrow investigations into the cause of the recent churn spike to Sep-Oct of 2019. We need to ask the company if they made any significant changes during this period."
   ]
  },
  {
   "cell_type": "markdown",
   "id": "21593d22",
   "metadata": {},
   "source": [
    "### 3.3 Customer Grouping <a class=\"anchor\" id=\"3_3\"></a>"
   ]
  },
  {
   "cell_type": "markdown",
   "id": "2412269c",
   "metadata": {},
   "source": [
    "As there are far too many features to accurately cluster customer groups we will:\n",
    "- simplify the `begin_date` (the year will suffice) and `end_date` (should be binary)\n",
    "- sum the number of extra services from `online_security`, `online_backup`, `device_protection`, `tech_support`, `streaming_tv`, `streaming_movies`, `multiple_lines` and `internet_service_fiber_optic` into one\n",
    "- combine the `type_annually` and `type_bi_annually` as they are yearly plans as oppose to the monthly plan"
   ]
  },
  {
   "cell_type": "code",
   "execution_count": 23,
   "id": "f5ac67f0",
   "metadata": {},
   "outputs": [
    {
     "data": {
      "text/plain": [
       "begin_year    int64\n",
       "end_date      int64\n",
       "dtype: object"
      ]
     },
     "metadata": {},
     "output_type": "display_data"
    },
    {
     "data": {
      "text/plain": [
       "0    3246\n",
       "1    1586\n",
       "Name: end_date, dtype: int64"
      ]
     },
     "metadata": {},
     "output_type": "display_data"
    },
    {
     "data": {
      "text/html": [
       "<div>\n",
       "<style scoped>\n",
       "    .dataframe tbody tr th:only-of-type {\n",
       "        vertical-align: middle;\n",
       "    }\n",
       "\n",
       "    .dataframe tbody tr th {\n",
       "        vertical-align: top;\n",
       "    }\n",
       "\n",
       "    .dataframe thead th {\n",
       "        text-align: right;\n",
       "    }\n",
       "</style>\n",
       "<table border=\"1\" class=\"dataframe\">\n",
       "  <thead>\n",
       "    <tr style=\"text-align: right;\">\n",
       "      <th></th>\n",
       "      <th>begin_year</th>\n",
       "      <th>end_date</th>\n",
       "    </tr>\n",
       "  </thead>\n",
       "  <tbody>\n",
       "    <tr>\n",
       "      <th>5121</th>\n",
       "      <td>2017</td>\n",
       "      <td>0</td>\n",
       "    </tr>\n",
       "    <tr>\n",
       "      <th>3119</th>\n",
       "      <td>2017</td>\n",
       "      <td>1</td>\n",
       "    </tr>\n",
       "    <tr>\n",
       "      <th>5154</th>\n",
       "      <td>2018</td>\n",
       "      <td>1</td>\n",
       "    </tr>\n",
       "    <tr>\n",
       "      <th>1836</th>\n",
       "      <td>2017</td>\n",
       "      <td>1</td>\n",
       "    </tr>\n",
       "    <tr>\n",
       "      <th>6070</th>\n",
       "      <td>2015</td>\n",
       "      <td>0</td>\n",
       "    </tr>\n",
       "  </tbody>\n",
       "</table>\n",
       "</div>"
      ],
      "text/plain": [
       "      begin_year  end_date\n",
       "5121        2017         0\n",
       "3119        2017         1\n",
       "5154        2018         1\n",
       "1836        2017         1\n",
       "6070        2015         0"
      ]
     },
     "metadata": {},
     "output_type": "display_data"
    },
    {
     "name": "stdout",
     "output_type": "stream",
     "text": [
      "<class 'pandas.core.frame.DataFrame'>\n",
      "Int64Index: 4832 entries, 1 to 7042\n",
      "Data columns (total 30 columns):\n",
      " #   Column                           Non-Null Count  Dtype         \n",
      "---  ------                           --------------  -----         \n",
      " 0   customer_id                      4832 non-null   object        \n",
      " 1   begin_date                       4832 non-null   datetime64[ns]\n",
      " 2   end_date                         4832 non-null   int64         \n",
      " 3   paperless_billing                4832 non-null   int32         \n",
      " 4   monthly_charges                  4832 non-null   float64       \n",
      " 5   total_charges                    4832 non-null   float64       \n",
      " 6   online_security                  4832 non-null   int32         \n",
      " 7   online_backup                    4832 non-null   int32         \n",
      " 8   device_protection                4832 non-null   int32         \n",
      " 9   tech_support                     4832 non-null   int32         \n",
      " 10  streaming_tv                     4832 non-null   int32         \n",
      " 11  streaming_movies                 4832 non-null   int32         \n",
      " 12  male                             4832 non-null   int32         \n",
      " 13  senior_citizen                   4832 non-null   int64         \n",
      " 14  partner                          4832 non-null   int32         \n",
      " 15  dependents                       4832 non-null   int32         \n",
      " 16  multiple_lines                   4832 non-null   int32         \n",
      " 17  internet_service_dsl             4832 non-null   uint8         \n",
      " 18  internet_service_fiber_optic     4832 non-null   uint8         \n",
      " 19  type_annually                    4832 non-null   uint8         \n",
      " 20  type_bi_annually                 4832 non-null   uint8         \n",
      " 21  type_monthly                     4832 non-null   uint8         \n",
      " 22  payment_method_bank_transfer     4832 non-null   uint8         \n",
      " 23  payment_method_credit_card       4832 non-null   uint8         \n",
      " 24  payment_method_electronic_check  4832 non-null   uint8         \n",
      " 25  payment_method_mailed_check      4832 non-null   uint8         \n",
      " 26  payment_method_automated         4832 non-null   uint8         \n",
      " 27  begin_year                       4832 non-null   int64         \n",
      " 28  num_services                     4832 non-null   int32         \n",
      " 29  type_yearly                      4832 non-null   uint8         \n",
      "dtypes: datetime64[ns](1), float64(2), int32(12), int64(3), object(1), uint8(11)\n",
      "memory usage: 580.4+ KB\n"
     ]
    }
   ],
   "source": [
    "df_encoded['begin_year'] = df_encoded['begin_date'].dt.year\n",
    "\n",
    "def simplify_end_date(row):\n",
    "    if row == 'No':\n",
    "        return 0\n",
    "    else:\n",
    "        return 1\n",
    "\n",
    "df_encoded['end_date'] = df_encoded['end_date'].apply(simplify_end_date)\n",
    "\n",
    "display(df_encoded[['begin_year','end_date']].dtypes)\n",
    "display(df_encoded['end_date'].value_counts())\n",
    "display(df_encoded[['begin_year','end_date']].sample(5))\n",
    "\n",
    "df_encoded['num_services'] = (\n",
    "    df_encoded['online_security'] + \n",
    "    df_encoded['online_backup'] + \n",
    "    df_encoded['device_protection'] +\n",
    "    df_encoded['tech_support'] +\n",
    "    df_encoded['streaming_tv'] +\n",
    "    df_encoded['streaming_movies'] +\n",
    "    df_encoded['multiple_lines'] +\n",
    "    df_encoded['internet_service_fiber_optic']\n",
    ")\n",
    "\n",
    "df_encoded['type_yearly'] = df_encoded['type_annually'] + df_encoded['type_bi_annually']\n",
    "\n",
    "df_encoded.info()"
   ]
  },
  {
   "cell_type": "code",
   "execution_count": 24,
   "id": "1266fb2d",
   "metadata": {},
   "outputs": [],
   "source": [
    "X = df_encoded.iloc[:, [2, 4, 5, 12, 13, 14, 15, 26, 27, 28, 29]].values"
   ]
  },
  {
   "cell_type": "code",
   "execution_count": 25,
   "id": "bf017c0d",
   "metadata": {},
   "outputs": [
    {
     "data": {
      "image/png": "[encoded data removed]",
      "text/plain": [
       "<Figure size 432x288 with 1 Axes>"
      ]
     },
     "metadata": {
      "needs_background": "light"
     },
     "output_type": "display_data"
    }
   ],
   "source": [
    "# data must be standardized for pca\n",
    "X_std = StandardScaler().fit_transform(X)\n",
    "\n",
    "pca = PCA(n_components=11)\n",
    "principalComponents = pca.fit_transform(X_std)\n",
    "\n",
    "features = range(pca.n_components_)\n",
    "plt.bar(features, pca.explained_variance_ratio_, color='black')\n",
    "plt.xlabel('PCA features')\n",
    "plt.ylabel('variance %')\n",
    "plt.xticks(features)\n",
    "plt.show();"
   ]
  },
  {
   "cell_type": "code",
   "execution_count": 26,
   "id": "3d533d83",
   "metadata": {},
   "outputs": [
    {
     "data": {
      "image/png": "[encoded data removed]",
      "text/plain": [
       "<Figure size 432x288 with 1 Axes>"
      ]
     },
     "metadata": {
      "needs_background": "light"
     },
     "output_type": "display_data"
    }
   ],
   "source": [
    "pca = PCA(n_components=4)\n",
    "principalComponents = pca.fit_transform(X_std)\n",
    "\n",
    "features = range(pca.n_components_)\n",
    "plt.bar(features, pca.explained_variance_ratio_, color='black')\n",
    "plt.xlabel('PCA features')\n",
    "plt.ylabel('variance %')\n",
    "plt.xticks(features)\n",
    "plt.show();"
   ]
  },
  {
   "cell_type": "code",
   "execution_count": 27,
   "id": "a65aa81a",
   "metadata": {},
   "outputs": [
    {
     "name": "stdout",
     "output_type": "stream",
     "text": [
      "   end_date  monthly_charges  total_charges      male    senior   married  \\\n",
      "0 -0.206914         0.320194       0.465081 -0.000005 -0.006280  0.245478   \n",
      "1  0.354657         0.471642       0.094855 -0.059015  0.446893 -0.243963   \n",
      "2  0.398804         0.205105      -0.052645  0.221025  0.089902  0.532256   \n",
      "3  0.123716         0.045448      -0.034284 -0.966170 -0.062302  0.094627   \n",
      "\n",
      "   dependents  automated_pay  begin_year  num_services  yearly_contract  \n",
      "0    0.135748       0.229971   -0.444647      0.414672         0.370249  \n",
      "1   -0.478157      -0.187631    0.003981      0.286868        -0.184153  \n",
      "2    0.535289      -0.328656    0.096891      0.085512        -0.211271  \n",
      "3    0.175563       0.002520    0.042021      0.030270        -0.040280  \n"
     ]
    }
   ],
   "source": [
    "pca_components = pd.DataFrame(pca.components_)\n",
    "pca_components = pca_components.rename(columns={\n",
    "    0:\"end_date\",\n",
    "    1:\"monthly_charges\",\n",
    "    2:\"total_charges\",\n",
    "    3:\"male\",\n",
    "    4:\"senior\",\n",
    "    5:\"married\",\n",
    "    6:\"dependents\",\n",
    "    7:\"automated_pay\",\n",
    "    8:\"begin_year\",\n",
    "    9:\"num_services\",\n",
    "    10:\"yearly_contract\"\n",
    "})\n",
    "\n",
    "print(pca_components)"
   ]
  },
  {
   "cell_type": "markdown",
   "id": "1ce1aa40",
   "metadata": {},
   "source": [
    "- CC1 = longest-time customers with most services, most stayed as customers, families, longest contract, pay automatically\n",
    "\n",
    "- CC2 = older no family, left as customer, most monthly cost with many services, short contract\n",
    "\n",
    "- CC3 = most family-oriented, most left, shortest contract, less auto pay\n",
    "\n",
    "- CC4 = women, very average\n",
    "\n",
    "(CC stands for customer cluster)"
   ]
  },
  {
   "cell_type": "code",
   "execution_count": 28,
   "id": "e92e5c33",
   "metadata": {},
   "outputs": [
    {
     "data": {
      "image/png": "[encoded data removed]",
      "text/plain": [
       "<Figure size 432x288 with 1 Axes>"
      ]
     },
     "metadata": {
      "needs_background": "light"
     },
     "output_type": "display_data"
    }
   ],
   "source": [
    "# use elbow method to find best number of clusters\n",
    "PCA_components = pd.DataFrame(principalComponents).values\n",
    "\n",
    "wcss = []\n",
    "for i in range(1, 11):\n",
    "    kmeans = KMeans(n_clusters = i, init = 'k-means++', random_state = 12345)\n",
    "    kmeans.fit(PCA_components)\n",
    "    wcss.append(kmeans.inertia_)\n",
    "plt.plot(range(1, 11), wcss)\n",
    "plt.title('The Elbow Method')\n",
    "plt.xlabel('Number of clusters')\n",
    "plt.ylabel('WCSS')\n",
    "plt.show()"
   ]
  },
  {
   "cell_type": "code",
   "execution_count": 29,
   "id": "38c5af87",
   "metadata": {},
   "outputs": [
    {
     "data": {
      "text/html": [
       "<div>\n",
       "<style scoped>\n",
       "    .dataframe tbody tr th:only-of-type {\n",
       "        vertical-align: middle;\n",
       "    }\n",
       "\n",
       "    .dataframe tbody tr th {\n",
       "        vertical-align: top;\n",
       "    }\n",
       "\n",
       "    .dataframe thead th {\n",
       "        text-align: right;\n",
       "    }\n",
       "</style>\n",
       "<table border=\"1\" class=\"dataframe\">\n",
       "  <thead>\n",
       "    <tr style=\"text-align: right;\">\n",
       "      <th></th>\n",
       "      <th>0</th>\n",
       "      <th>1</th>\n",
       "      <th>2</th>\n",
       "      <th>3</th>\n",
       "    </tr>\n",
       "    <tr>\n",
       "      <th>cluster</th>\n",
       "      <th></th>\n",
       "      <th></th>\n",
       "      <th></th>\n",
       "      <th></th>\n",
       "    </tr>\n",
       "  </thead>\n",
       "  <tbody>\n",
       "    <tr>\n",
       "      <th>0</th>\n",
       "      <td>2.432980</td>\n",
       "      <td>0.178549</td>\n",
       "      <td>-0.306211</td>\n",
       "      <td>-0.059430</td>\n",
       "    </tr>\n",
       "    <tr>\n",
       "      <th>1</th>\n",
       "      <td>-0.923583</td>\n",
       "      <td>1.330623</td>\n",
       "      <td>0.420446</td>\n",
       "      <td>0.004529</td>\n",
       "    </tr>\n",
       "    <tr>\n",
       "      <th>2</th>\n",
       "      <td>-1.983141</td>\n",
       "      <td>-0.385134</td>\n",
       "      <td>-0.607443</td>\n",
       "      <td>-0.103279</td>\n",
       "    </tr>\n",
       "    <tr>\n",
       "      <th>3</th>\n",
       "      <td>0.200018</td>\n",
       "      <td>-1.458598</td>\n",
       "      <td>0.923336</td>\n",
       "      <td>0.258181</td>\n",
       "    </tr>\n",
       "  </tbody>\n",
       "</table>\n",
       "</div>"
      ],
      "text/plain": [
       "                0         1         2         3\n",
       "cluster                                        \n",
       "0        2.432980  0.178549 -0.306211 -0.059430\n",
       "1       -0.923583  1.330623  0.420446  0.004529\n",
       "2       -1.983141 -0.385134 -0.607443 -0.103279\n",
       "3        0.200018 -1.458598  0.923336  0.258181"
      ]
     },
     "execution_count": 29,
     "metadata": {},
     "output_type": "execute_result"
    }
   ],
   "source": [
    "kmeans = KMeans(n_clusters = 4, init = 'k-means++', random_state = 12345)\n",
    "y_kmeans = kmeans.fit_predict(PCA_components)\n",
    "\n",
    "PCA_components_df = pd.DataFrame(PCA_components)\n",
    "PCA_components_df['cluster'] = y_kmeans\n",
    "\n",
    "PCA_components_df.groupby(\"cluster\").mean()"
   ]
  },
  {
   "cell_type": "code",
   "execution_count": 30,
   "id": "2a09fece",
   "metadata": {},
   "outputs": [
    {
     "data": {
      "image/png": "[encoded data removed]",
      "text/plain": [
       "<Figure size 432x288 with 1 Axes>"
      ]
     },
     "metadata": {
      "needs_background": "light"
     },
     "output_type": "display_data"
    }
   ],
   "source": [
    "plt.scatter(PCA_components[y_kmeans == 0, 0], PCA_components[y_kmeans == 0, 1], s = 100, c = 'red', label = 'Cluster 1')\n",
    "plt.scatter(PCA_components[y_kmeans == 1, 0], PCA_components[y_kmeans == 1, 1], s = 100, c = 'blue', label = 'Cluster 2')\n",
    "plt.scatter(PCA_components[y_kmeans == 2, 0], PCA_components[y_kmeans == 2, 1], s = 100, c = 'green', label = 'Cluster 3')\n",
    "plt.scatter(PCA_components[y_kmeans == 3, 0], PCA_components[y_kmeans == 3, 1], s = 100, c = 'cyan', label = 'Cluster 4')\n",
    "\n",
    "plt.scatter(kmeans.cluster_centers_[:, 0], kmeans.cluster_centers_[:, 1], s = 300, c = 'yellow', label = 'Centroids')\n",
    "plt.title('Customer Clusters')\n",
    "plt.xlabel('CC1')\n",
    "plt.ylabel('CC2')\n",
    "plt.legend()\n",
    "plt.show()"
   ]
  },
  {
   "cell_type": "code",
   "execution_count": 31,
   "id": "b324cf64",
   "metadata": {},
   "outputs": [
    {
     "data": {
      "image/png": "[encoded data removed]",
      "text/plain": [
       "<Figure size 432x288 with 1 Axes>"
      ]
     },
     "metadata": {
      "needs_background": "light"
     },
     "output_type": "display_data"
    }
   ],
   "source": [
    "plt.scatter(PCA_components[y_kmeans == 0, 0], PCA_components[y_kmeans == 0, 2], s = 100, c = 'red', label = 'Cluster 1')\n",
    "plt.scatter(PCA_components[y_kmeans == 1, 0], PCA_components[y_kmeans == 1, 2], s = 100, c = 'blue', label = 'Cluster 2')\n",
    "plt.scatter(PCA_components[y_kmeans == 2, 0], PCA_components[y_kmeans == 2, 2], s = 100, c = 'green', label = 'Cluster 3')\n",
    "plt.scatter(PCA_components[y_kmeans == 3, 0], PCA_components[y_kmeans == 3, 2], s = 100, c = 'cyan', label = 'Cluster 4')\n",
    "\n",
    "plt.scatter(kmeans.cluster_centers_[:, 0], kmeans.cluster_centers_[:, 1], s = 300, c = 'yellow', label = 'Centroids')\n",
    "plt.title('Customer Clusters')\n",
    "plt.xlabel('CC1')\n",
    "plt.ylabel('CC3')\n",
    "plt.legend()\n",
    "plt.show()"
   ]
  },
  {
   "cell_type": "code",
   "execution_count": 32,
   "id": "caef1d03",
   "metadata": {},
   "outputs": [
    {
     "data": {
      "image/png": "[encoded data removed]",
      "text/plain": [
       "<Figure size 432x288 with 1 Axes>"
      ]
     },
     "metadata": {
      "needs_background": "light"
     },
     "output_type": "display_data"
    }
   ],
   "source": [
    "plt.scatter(PCA_components[y_kmeans == 0, 0], PCA_components[y_kmeans == 0, 3], s = 100, c = 'red', label = 'Cluster 1')\n",
    "plt.scatter(PCA_components[y_kmeans == 1, 0], PCA_components[y_kmeans == 1, 3], s = 100, c = 'blue', label = 'Cluster 2')\n",
    "plt.scatter(PCA_components[y_kmeans == 2, 0], PCA_components[y_kmeans == 2, 3], s = 100, c = 'green', label = 'Cluster 3')\n",
    "plt.scatter(PCA_components[y_kmeans == 3, 0], PCA_components[y_kmeans == 3, 3], s = 100, c = 'cyan', label = 'Cluster 4')\n",
    "\n",
    "plt.scatter(kmeans.cluster_centers_[:, 0], kmeans.cluster_centers_[:, 1], s = 300, c = 'yellow', label = 'Centroids')\n",
    "plt.title('Customer Clusters')\n",
    "plt.xlabel('CC1')\n",
    "plt.ylabel('CC4')\n",
    "plt.legend()\n",
    "plt.show()"
   ]
  },
  {
   "cell_type": "code",
   "execution_count": 33,
   "id": "196dc8b8",
   "metadata": {},
   "outputs": [
    {
     "data": {
      "image/png": "[encoded data removed]",
      "text/plain": [
       "<Figure size 432x288 with 1 Axes>"
      ]
     },
     "metadata": {
      "needs_background": "light"
     },
     "output_type": "display_data"
    }
   ],
   "source": [
    "plt.scatter(PCA_components[y_kmeans == 0, 1], PCA_components[y_kmeans == 0, 2], s = 100, c = 'red', label = 'Cluster 1')\n",
    "plt.scatter(PCA_components[y_kmeans == 1, 1], PCA_components[y_kmeans == 1, 2], s = 100, c = 'blue', label = 'Cluster 2')\n",
    "plt.scatter(PCA_components[y_kmeans == 2, 1], PCA_components[y_kmeans == 2, 2], s = 100, c = 'green', label = 'Cluster 3')\n",
    "plt.scatter(PCA_components[y_kmeans == 3, 1], PCA_components[y_kmeans == 3, 2], s = 100, c = 'cyan', label = 'Cluster 4')\n",
    "\n",
    "plt.scatter(kmeans.cluster_centers_[:, 0], kmeans.cluster_centers_[:, 1], s = 300, c = 'yellow', label = 'Centroids')\n",
    "plt.title('Customer Clusters')\n",
    "plt.xlabel('CC2')\n",
    "plt.ylabel('CC3')\n",
    "plt.legend()\n",
    "plt.show()"
   ]
  },
  {
   "cell_type": "code",
   "execution_count": 34,
   "id": "364b2bba",
   "metadata": {},
   "outputs": [
    {
     "data": {
      "image/png": "[encoded data removed]",
      "text/plain": [
       "<Figure size 432x288 with 1 Axes>"
      ]
     },
     "metadata": {
      "needs_background": "light"
     },
     "output_type": "display_data"
    }
   ],
   "source": [
    "plt.scatter(PCA_components[y_kmeans == 0, 2], PCA_components[y_kmeans == 0, 3], s = 100, c = 'red', label = 'Cluster 1')\n",
    "plt.scatter(PCA_components[y_kmeans == 1, 2], PCA_components[y_kmeans == 1, 3], s = 100, c = 'blue', label = 'Cluster 2')\n",
    "plt.scatter(PCA_components[y_kmeans == 2, 2], PCA_components[y_kmeans == 2, 3], s = 100, c = 'green', label = 'Cluster 3')\n",
    "plt.scatter(PCA_components[y_kmeans == 3, 2], PCA_components[y_kmeans == 3, 3], s = 100, c = 'cyan', label = 'Cluster 4')\n",
    "\n",
    "plt.scatter(kmeans.cluster_centers_[:, 0], kmeans.cluster_centers_[:, 1], s = 300, c = 'yellow', label = 'Centroids')\n",
    "plt.title('Customer Clusters')\n",
    "plt.xlabel('CC3')\n",
    "plt.ylabel('CC4')\n",
    "plt.legend()\n",
    "plt.show()"
   ]
  },
  {
   "cell_type": "markdown",
   "id": "eed59c20",
   "metadata": {},
   "source": [
    "## 4. Clarifying Questions <a class=\"anchor\" id=\"4\"></a>"
   ]
  },
  {
   "cell_type": "markdown",
   "id": "269d2af5",
   "metadata": {},
   "source": [
    "- The spreadsheets for phone and internet are smaller than contract/personal. Is this because some customers only subscribe to phone or internet service? (I ask this because in Canada its prohibitively expensive to have home internet without a landline or vice-versa because telecom companies package them together)\n",
    "- The customers with ID's '2775-SEFEE', '4075-WKNIU', and '5709-LVOEQ' don't have total charges. Is this because they are brand new customers and their total charges should be 0?\n",
    "- Were there any significant changes to the company or the market for its products or services around September 2019?\n",
    "- How does the company's marketing segment customers?\n",
    "- How long does the company expect to train predictive models now and in the future for further models?"
   ]
  },
  {
   "cell_type": "markdown",
   "id": "282a1aaa",
   "metadata": {},
   "source": [
    "## 5. Rough Plan <a class=\"anchor\" id=\"5\"></a>"
   ]
  },
  {
   "cell_type": "markdown",
   "id": "678140f8",
   "metadata": {},
   "source": [
    "### 5.1 Data Preparation"
   ]
  },
  {
   "cell_type": "markdown",
   "id": "c4570ef3",
   "metadata": {},
   "source": [
    "- insert missing data based on company answers\n",
    "- standardize nominal data\n",
    "- split train and test data"
   ]
  },
  {
   "cell_type": "markdown",
   "id": "8a107fb9",
   "metadata": {},
   "source": [
    "### 5.2 Train Models"
   ]
  },
  {
   "cell_type": "markdown",
   "id": "89c5d643",
   "metadata": {},
   "source": [
    "- train baseline ROC/AUC and accuracy with some boosted linear regression models\n",
    "- evaluate the models and decide on one\n",
    "- hypertune the chosen model"
   ]
  },
  {
   "cell_type": "markdown",
   "id": "b0155e15",
   "metadata": {},
   "source": [
    "### 5.3 Conclusion"
   ]
  },
  {
   "cell_type": "markdown",
   "id": "bc209120",
   "metadata": {},
   "source": [
    "- write conclusion"
   ]
  }
 ],
 "metadata": {
  "kernelspec": {
   "display_name": "Python 3 (ipykernel)",
   "language": "python",
   "name": "python3"
  },
  "language_info": {
   "codemirror_mode": {
    "name": "ipython",
    "version": 3
   },
   "file_extension": ".py",
   "mimetype": "text/x-python",
   "name": "python",
   "nbconvert_exporter": "python",
   "pygments_lexer": "ipython3",
   "version": "3.9.7"
  },
  "toc": {
   "base_numbering": 1,
   "nav_menu": {},
   "number_sections": true,
   "sideBar": true,
   "skip_h1_title": true,
   "title_cell": "Table of Contents",
   "title_sidebar": "Contents",
   "toc_cell": false,
   "toc_position": {},
   "toc_section_display": true,
   "toc_window_display": false
  }
 },
 "nbformat": 4,
 "nbformat_minor": 5
}
