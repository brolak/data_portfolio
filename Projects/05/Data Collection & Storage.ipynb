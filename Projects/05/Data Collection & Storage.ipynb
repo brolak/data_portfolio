{
 "cells": [
  {
   "cell_type": "markdown",
   "metadata": {},
   "source": [
    "### Step 1. Parsing and Opening Data"
   ]
  },
  {
   "cell_type": "code",
   "execution_count": 29,
   "metadata": {},
   "outputs": [
    {
     "data": {
      "text/html": [
       "<div>\n",
       "<style scoped>\n",
       "    .dataframe tbody tr th:only-of-type {\n",
       "        vertical-align: middle;\n",
       "    }\n",
       "\n",
       "    .dataframe tbody tr th {\n",
       "        vertical-align: top;\n",
       "    }\n",
       "\n",
       "    .dataframe thead th {\n",
       "        text-align: right;\n",
       "    }\n",
       "</style>\n",
       "<table border=\"1\" class=\"dataframe\">\n",
       "  <thead>\n",
       "    <tr style=\"text-align: right;\">\n",
       "      <th></th>\n",
       "      <th>start_ts</th>\n",
       "      <th>weather_conditions</th>\n",
       "      <th>duration_seconds</th>\n",
       "    </tr>\n",
       "  </thead>\n",
       "  <tbody>\n",
       "    <tr>\n",
       "      <th>165</th>\n",
       "      <td>2017-11-18 13:00:00</td>\n",
       "      <td>Bad</td>\n",
       "      <td>2940.0</td>\n",
       "    </tr>\n",
       "    <tr>\n",
       "      <th>930</th>\n",
       "      <td>2017-11-11 12:00:00</td>\n",
       "      <td>Good</td>\n",
       "      <td>1800.0</td>\n",
       "    </tr>\n",
       "    <tr>\n",
       "      <th>612</th>\n",
       "      <td>2017-11-11 08:00:00</td>\n",
       "      <td>Good</td>\n",
       "      <td>1320.0</td>\n",
       "    </tr>\n",
       "    <tr>\n",
       "      <th>752</th>\n",
       "      <td>2017-11-04 06:00:00</td>\n",
       "      <td>Good</td>\n",
       "      <td>1532.0</td>\n",
       "    </tr>\n",
       "    <tr>\n",
       "      <th>993</th>\n",
       "      <td>2017-11-04 16:00:00</td>\n",
       "      <td>Bad</td>\n",
       "      <td>2580.0</td>\n",
       "    </tr>\n",
       "  </tbody>\n",
       "</table>\n",
       "</div>"
      ],
      "text/plain": [
       "                start_ts weather_conditions  duration_seconds\n",
       "165  2017-11-18 13:00:00                Bad            2940.0\n",
       "930  2017-11-11 12:00:00               Good            1800.0\n",
       "612  2017-11-11 08:00:00               Good            1320.0\n",
       "752  2017-11-04 06:00:00               Good            1532.0\n",
       "993  2017-11-04 16:00:00                Bad            2580.0"
      ]
     },
     "execution_count": 29,
     "metadata": {},
     "output_type": "execute_result"
    }
   ],
   "source": [
    "import pandas as pd\n",
    "import numpy as np\n",
    "import matplotlib.pyplot as plt\n",
    "from scipy import stats as st\n",
    "\n",
    "from IPython.display import display\n",
    "\n",
    "try:\n",
    "    df_weather = pd.read_csv('../datasets/project_sql_result_07.csv')\n",
    "    display(df.sample(5))\n",
    "except:\n",
    "    print(\"Data not found\")"
   ]
  },
  {
   "cell_type": "code",
   "execution_count": 30,
   "metadata": {},
   "outputs": [
    {
     "name": "stdout",
     "output_type": "stream",
     "text": [
      "<class 'pandas.core.frame.DataFrame'>\n",
      "RangeIndex: 1068 entries, 0 to 1067\n",
      "Data columns (total 3 columns):\n",
      " #   Column              Non-Null Count  Dtype  \n",
      "---  ------              --------------  -----  \n",
      " 0   start_ts            1068 non-null   object \n",
      " 1   weather_conditions  1068 non-null   object \n",
      " 2   duration_seconds    1068 non-null   float64\n",
      "dtypes: float64(1), object(2)\n",
      "memory usage: 25.2+ KB\n"
     ]
    }
   ],
   "source": [
    "df_weather.info()"
   ]
  },
  {
   "cell_type": "code",
   "execution_count": 31,
   "metadata": {},
   "outputs": [
    {
     "data": {
      "text/html": [
       "<div>\n",
       "<style scoped>\n",
       "    .dataframe tbody tr th:only-of-type {\n",
       "        vertical-align: middle;\n",
       "    }\n",
       "\n",
       "    .dataframe tbody tr th {\n",
       "        vertical-align: top;\n",
       "    }\n",
       "\n",
       "    .dataframe thead th {\n",
       "        text-align: right;\n",
       "    }\n",
       "</style>\n",
       "<table border=\"1\" class=\"dataframe\">\n",
       "  <thead>\n",
       "    <tr style=\"text-align: right;\">\n",
       "      <th></th>\n",
       "      <th>company_name</th>\n",
       "      <th>trips_amount</th>\n",
       "    </tr>\n",
       "  </thead>\n",
       "  <tbody>\n",
       "    <tr>\n",
       "      <th>28</th>\n",
       "      <td>5 Star Taxi</td>\n",
       "      <td>310</td>\n",
       "    </tr>\n",
       "    <tr>\n",
       "      <th>45</th>\n",
       "      <td>3011 - 66308 JBL Cab Inc.</td>\n",
       "      <td>25</td>\n",
       "    </tr>\n",
       "    <tr>\n",
       "      <th>27</th>\n",
       "      <td>Service Taxi Association</td>\n",
       "      <td>402</td>\n",
       "    </tr>\n",
       "    <tr>\n",
       "      <th>7</th>\n",
       "      <td>Sun Taxi</td>\n",
       "      <td>7701</td>\n",
       "    </tr>\n",
       "    <tr>\n",
       "      <th>54</th>\n",
       "      <td>2192 - 73487 Zeymane Corp</td>\n",
       "      <td>14</td>\n",
       "    </tr>\n",
       "  </tbody>\n",
       "</table>\n",
       "</div>"
      ],
      "text/plain": [
       "                 company_name  trips_amount\n",
       "28                5 Star Taxi           310\n",
       "45  3011 - 66308 JBL Cab Inc.            25\n",
       "27   Service Taxi Association           402\n",
       "7                    Sun Taxi          7701\n",
       "54  2192 - 73487 Zeymane Corp            14"
      ]
     },
     "execution_count": 31,
     "metadata": {},
     "output_type": "execute_result"
    }
   ],
   "source": [
    "try:\n",
    "    df_trips = pd.read_csv('../datasets/project_sql_result_01.csv')\n",
    "except:\n",
    "    df_trips = pd.read_csv('/datasets/project_sql_result_01.csv','\\t')\n",
    "\n",
    "df_trips.sample(5)"
   ]
  },
  {
   "cell_type": "code",
   "execution_count": 32,
   "metadata": {},
   "outputs": [
    {
     "name": "stdout",
     "output_type": "stream",
     "text": [
      "<class 'pandas.core.frame.DataFrame'>\n",
      "RangeIndex: 64 entries, 0 to 63\n",
      "Data columns (total 2 columns):\n",
      " #   Column        Non-Null Count  Dtype \n",
      "---  ------        --------------  ----- \n",
      " 0   company_name  64 non-null     object\n",
      " 1   trips_amount  64 non-null     int64 \n",
      "dtypes: int64(1), object(1)\n",
      "memory usage: 1.1+ KB\n"
     ]
    }
   ],
   "source": [
    "df_trips.info()"
   ]
  },
  {
   "cell_type": "code",
   "execution_count": 33,
   "metadata": {},
   "outputs": [
    {
     "data": {
      "text/html": [
       "<div>\n",
       "<style scoped>\n",
       "    .dataframe tbody tr th:only-of-type {\n",
       "        vertical-align: middle;\n",
       "    }\n",
       "\n",
       "    .dataframe tbody tr th {\n",
       "        vertical-align: top;\n",
       "    }\n",
       "\n",
       "    .dataframe thead th {\n",
       "        text-align: right;\n",
       "    }\n",
       "</style>\n",
       "<table border=\"1\" class=\"dataframe\">\n",
       "  <thead>\n",
       "    <tr style=\"text-align: right;\">\n",
       "      <th></th>\n",
       "      <th>dropoff_location_name</th>\n",
       "      <th>average_trips</th>\n",
       "    </tr>\n",
       "  </thead>\n",
       "  <tbody>\n",
       "    <tr>\n",
       "      <th>67</th>\n",
       "      <td>Auburn Gresham</td>\n",
       "      <td>15.166667</td>\n",
       "    </tr>\n",
       "    <tr>\n",
       "      <th>39</th>\n",
       "      <td>Jefferson Park</td>\n",
       "      <td>74.333333</td>\n",
       "    </tr>\n",
       "    <tr>\n",
       "      <th>18</th>\n",
       "      <td>West Town</td>\n",
       "      <td>516.400000</td>\n",
       "    </tr>\n",
       "    <tr>\n",
       "      <th>85</th>\n",
       "      <td>Montclare</td>\n",
       "      <td>5.766667</td>\n",
       "    </tr>\n",
       "    <tr>\n",
       "      <th>50</th>\n",
       "      <td>South Shore</td>\n",
       "      <td>40.533333</td>\n",
       "    </tr>\n",
       "  </tbody>\n",
       "</table>\n",
       "</div>"
      ],
      "text/plain": [
       "   dropoff_location_name  average_trips\n",
       "67        Auburn Gresham      15.166667\n",
       "39        Jefferson Park      74.333333\n",
       "18             West Town     516.400000\n",
       "85             Montclare       5.766667\n",
       "50           South Shore      40.533333"
      ]
     },
     "execution_count": 33,
     "metadata": {},
     "output_type": "execute_result"
    }
   ],
   "source": [
    "try:\n",
    "    df_average = pd.read_csv('../datasets/project_sql_result_04.csv')\n",
    "except:\n",
    "    df_average = pd.read_csv('/datasets/project_sql_result_04.csv','\\t')\n",
    "\n",
    "df_average.sample(5)"
   ]
  },
  {
   "cell_type": "code",
   "execution_count": 34,
   "metadata": {},
   "outputs": [
    {
     "name": "stdout",
     "output_type": "stream",
     "text": [
      "<class 'pandas.core.frame.DataFrame'>\n",
      "RangeIndex: 94 entries, 0 to 93\n",
      "Data columns (total 2 columns):\n",
      " #   Column                 Non-Null Count  Dtype  \n",
      "---  ------                 --------------  -----  \n",
      " 0   dropoff_location_name  94 non-null     object \n",
      " 1   average_trips          94 non-null     float64\n",
      "dtypes: float64(1), object(1)\n",
      "memory usage: 1.6+ KB\n"
     ]
    }
   ],
   "source": [
    "df_average.info()"
   ]
  },
  {
   "cell_type": "markdown",
   "metadata": {},
   "source": [
    "### Step 2. Data Preprocessing"
   ]
  },
  {
   "cell_type": "code",
   "execution_count": 35,
   "metadata": {},
   "outputs": [
    {
     "data": {
      "text/plain": [
       "1    888\n",
       "0    180\n",
       "Name: weather_condition_id, dtype: int64"
      ]
     },
     "execution_count": 35,
     "metadata": {},
     "output_type": "execute_result"
    }
   ],
   "source": [
    "# binary encode weather column\n",
    "def weather_id(row):\n",
    "    if row['weather_conditions'] == \"Bad\":\n",
    "        return 0\n",
    "    else:\n",
    "        return 1\n",
    "\n",
    "df_weather['weather_condition_id'] = df_weather.apply(weather_id,axis=1)\n",
    "df_weather['weather_condition_id'].value_counts()"
   ]
  },
  {
   "cell_type": "markdown",
   "metadata": {},
   "source": [
    "In all data frames we see undercase columns and correct data types."
   ]
  },
  {
   "cell_type": "code",
   "execution_count": 36,
   "metadata": {},
   "outputs": [
    {
     "data": {
      "text/plain": [
       "company_name    0\n",
       "trips_amount    0\n",
       "dtype: int64"
      ]
     },
     "metadata": {},
     "output_type": "display_data"
    },
    {
     "data": {
      "text/plain": [
       "dropoff_location_name    0\n",
       "average_trips            0\n",
       "dtype: int64"
      ]
     },
     "metadata": {},
     "output_type": "display_data"
    },
    {
     "data": {
      "text/plain": [
       "start_ts                197\n",
       "weather_conditions      197\n",
       "duration_seconds        197\n",
       "weather_condition_id    197\n",
       "dtype: int64"
      ]
     },
     "metadata": {},
     "output_type": "display_data"
    }
   ],
   "source": [
    "dfs = [df_trips,df_average,df_weather]\n",
    "for df in dfs:    \n",
    "    display(df[df.duplicated() == True].count())"
   ]
  },
  {
   "cell_type": "code",
   "execution_count": 37,
   "metadata": {},
   "outputs": [
    {
     "data": {
      "text/plain": [
       "company_name    0\n",
       "trips_amount    0\n",
       "dtype: int64"
      ]
     },
     "metadata": {},
     "output_type": "display_data"
    },
    {
     "data": {
      "text/plain": [
       "dropoff_location_name    0\n",
       "average_trips            0\n",
       "dtype: int64"
      ]
     },
     "metadata": {},
     "output_type": "display_data"
    },
    {
     "data": {
      "text/plain": [
       "start_ts                0\n",
       "weather_conditions      0\n",
       "duration_seconds        0\n",
       "weather_condition_id    0\n",
       "dtype: int64"
      ]
     },
     "metadata": {},
     "output_type": "display_data"
    }
   ],
   "source": [
    "# dropping found duplicates\n",
    "df_weather.drop_duplicates(inplace=True)\n",
    "\n",
    "for df in dfs:\n",
    "    display(df.isna().sum())"
   ]
  },
  {
   "cell_type": "markdown",
   "metadata": {},
   "source": [
    "No nulls found in either dataframe and duplicates dropped."
   ]
  },
  {
   "cell_type": "code",
   "execution_count": 38,
   "metadata": {},
   "outputs": [
    {
     "data": {
      "image/png": "[encoded data removed]",
      "text/plain": [
       "<Figure size 576x432 with 1 Axes>"
      ]
     },
     "metadata": {
      "needs_background": "light"
     },
     "output_type": "display_data"
    }
   ],
   "source": [
    "df_trips.head(10).plot(x='company_name',y='trips_amount',kind=\"bar\",figsize=(8,6))\n",
    "plt.suptitle(\"\")\n",
    "plt.title(\"Total Trips of Top 10 Taxi Companies (November 15-16, 2017)\")\n",
    "plt.show()"
   ]
  },
  {
   "cell_type": "markdown",
   "metadata": {},
   "source": [
    "Ordinary graph of total trips by company, clear leader in Flash Cab. With a look on their website they have existed since 1945 so they seem to be the established local company. Other companies have similar trip totals."
   ]
  },
  {
   "cell_type": "code",
   "execution_count": 39,
   "metadata": {},
   "outputs": [
    {
     "data": {
      "image/png": "[encoded data removed]",
      "text/plain": [
       "<Figure size 576x432 with 1 Axes>"
      ]
     },
     "metadata": {
      "needs_background": "light"
     },
     "output_type": "display_data"
    }
   ],
   "source": [
    "df_average.head(10).plot(x='dropoff_location_name',y='average_trips',kind=\"bar\",figsize=(8,6))\n",
    "plt.suptitle(\"\")\n",
    "plt.title(\"Average Trips of 10 Most Popular Dropoff Areas (November 2017)\")\n",
    "plt.show()"
   ]
  },
  {
   "cell_type": "markdown",
   "metadata": {},
   "source": [
    "By looking at a map of Chicago, all the top 4 areas by average trips are bordering. This is the downtown core."
   ]
  },
  {
   "cell_type": "code",
   "execution_count": 40,
   "metadata": {},
   "outputs": [
    {
     "data": {
      "image/png": "[encoded data removed]",
      "text/plain": [
       "<Figure size 576x432 with 1 Axes>"
      ]
     },
     "metadata": {
      "needs_background": "light"
     },
     "output_type": "display_data"
    }
   ],
   "source": [
    "(\n",
    "    df_weather\n",
    "    .groupby('weather_condition_id')['duration_seconds']\n",
    "    .plot(kind='hist',alpha=0.4,figsize=(8,6))\n",
    ")\n",
    "\n",
    "plt.suptitle(\"\")\n",
    "plt.title(\"Trip Durations in Good and Bad Weather Conditions\")\n",
    "plt.legend(['Bad Weather','Good Weather'])\n",
    "plt.show()"
   ]
  },
  {
   "cell_type": "markdown",
   "metadata": {},
   "source": [
    "There is far more data available for good weather but it looks less varied and a sharp peaked distribution. The graph indicates some outliers in trip_duration that I will slice out to get more accurate look."
   ]
  },
  {
   "cell_type": "code",
   "execution_count": 41,
   "metadata": {},
   "outputs": [
    {
     "data": {
      "image/png": "[encoded data removed]",
      "text/plain": [
       "<Figure size 576x432 with 1 Axes>"
      ]
     },
     "metadata": {
      "needs_background": "light"
     },
     "output_type": "display_data"
    }
   ],
   "source": [
    "min_durations = df_weather['duration_seconds'].quantile(0.05)\n",
    "max_durations = df_weather['duration_seconds'].quantile(0.95)\n",
    "\n",
    "df_weather = df_weather.query(\"@min_durations < duration_seconds < @max_durations\")\n",
    "(\n",
    "    df_weather\n",
    "    .groupby('weather_condition_id')['duration_seconds']\n",
    "    .plot(kind='hist',alpha=0.4,figsize=(8,6))\n",
    ")\n",
    "\n",
    "plt.suptitle(\"\")\n",
    "plt.title(\"Trip Durations in Good and Bad Weather Conditions\")\n",
    "plt.legend(['Bad Weather','Good Weather'])\n",
    "plt.show()"
   ]
  },
  {
   "cell_type": "markdown",
   "metadata": {},
   "source": [
    "We can now see more clearly that the good weather trip durations have a poisson distribution while the bad weather durations have a flat platykurtic distribution."
   ]
  },
  {
   "cell_type": "markdown",
   "metadata": {},
   "source": [
    "All relevant data has been imported to dataframes with no nulls or duplicate and we can see the leading taxi cab companies and popular drop-off areas (indicating the downtown core of Chicago)."
   ]
  },
  {
   "cell_type": "markdown",
   "metadata": {},
   "source": [
    "### Step 3. Testing hypotheses "
   ]
  },
  {
   "cell_type": "markdown",
   "metadata": {},
   "source": [
    "Test hypothesis on \"the average duration of rides from the Loop to O'Hare International Airport changes on rainy Saturdays\". \n",
    "\n",
    "Without the test I would assume that bad weather taxi rides take longer because people drive more carefully or slower and it causes more traffic. It was also apparent in the previous steps graph that their distributions have marked differences. The null hypothesis is that there is no statistically significant difference between travel duration on good and bad weather days. The alternative hypothesis is that there is a statistically significant difference between travel duration on good and bad weather days."
   ]
  },
  {
   "cell_type": "code",
   "execution_count": 42,
   "metadata": {},
   "outputs": [
    {
     "name": "stdout",
     "output_type": "stream",
     "text": [
      "The variance of trip durations in bad weather = 369458.68\n",
      "The variance of trip durations on good weather = 348473.94\n"
     ]
    }
   ],
   "source": [
    "df_bad = df_weather.query('weather_condition_id == 0')\n",
    "df_good = df_weather.query('weather_condition_id == 1')\n",
    "                \n",
    "print(\"The variance of trip durations in bad weather = {:.2f}\".format(np.var(df_bad['duration_seconds'])))\n",
    "print(\"The variance of trip durations on good weather = {:.2f}\".format(np.var(df_good['duration_seconds'])))"
   ]
  },
  {
   "cell_type": "markdown",
   "metadata": {},
   "source": [
    "Bad weather trip durations have more variance. Using alpha of 1% because it will indicate a significant difference."
   ]
  },
  {
   "cell_type": "code",
   "execution_count": 43,
   "metadata": {},
   "outputs": [
    {
     "name": "stdout",
     "output_type": "stream",
     "text": [
      "p-value:  7.593338311006286e-09\n",
      "We reject the null hypothesis\n"
     ]
    }
   ],
   "source": [
    "alpha = .01 # critical statistical significance level, if the p-value is less than alpha, we reject the hypothesis\n",
    "\n",
    "# Calculate the p-value with equal_val as True\n",
    "# The variances of the statistical populations from which the samples are different\n",
    "results = st.ttest_ind(\n",
    "        df_bad['duration_seconds'], \n",
    "        df_good['duration_seconds'],\n",
    "        equal_var = False)\n",
    "\n",
    "print('p-value: ', results.pvalue)\n",
    "\n",
    "if results.pvalue < alpha:\n",
    "        print(\"We reject the null hypothesis\")\n",
    "else:\n",
    "        print(\"We can't reject the null hypothesis\")"
   ]
  },
  {
   "cell_type": "markdown",
   "metadata": {},
   "source": [
    "This indicates that there is a statistically significant difference between trip durations in good and bad weather conditions. Choosing an alpha of 5% would not have made a difference in the result of the hypothesis test."
   ]
  },
  {
   "cell_type": "markdown",
   "metadata": {},
   "source": [
    "### Conclusion"
   ]
  },
  {
   "cell_type": "markdown",
   "metadata": {},
   "source": [
    "We tested the hypotheses on the trip durations between weather conditions and as a result rejected the null hypothesis, indicating a statistically significant difference between trip durations in good and bad weather conditions. This makes sense logically that weather effects a taxi ride duration due to traffic and could be seen in the stark difference between the distributions on their respective graphs."
   ]
  }
 ],
 "metadata": {
  "kernelspec": {
   "display_name": "Python 3",
   "language": "python",
   "name": "python3"
  },
  "language_info": {
   "codemirror_mode": {
    "name": "ipython",
    "version": 3
   },
   "file_extension": ".py",
   "mimetype": "text/x-python",
   "name": "python",
   "nbconvert_exporter": "python",
   "pygments_lexer": "ipython3",
   "version": "3.9.7"
  },
  "toc": {
   "base_numbering": 1,
   "nav_menu": {},
   "number_sections": true,
   "sideBar": true,
   "skip_h1_title": true,
   "title_cell": "Table of Contents",
   "title_sidebar": "Contents",
   "toc_cell": false,
   "toc_position": {},
   "toc_section_display": true,
   "toc_window_display": false
  }
 },
 "nbformat": 4,
 "nbformat_minor": 4
}
