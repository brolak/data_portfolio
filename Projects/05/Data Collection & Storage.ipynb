{
 "cells": [
  {
   "cell_type": "markdown",
   "metadata": {},
   "source": [
    "### Step 1. Parsing and Opening Data"
   ]
  },
  {
   "cell_type": "code",
   "execution_count": 1,
   "metadata": {},
   "outputs": [
    {
     "data": {
      "text/html": [
       "<div>\n",
       "<style scoped>\n",
       "    .dataframe tbody tr th:only-of-type {\n",
       "        vertical-align: middle;\n",
       "    }\n",
       "\n",
       "    .dataframe tbody tr th {\n",
       "        vertical-align: top;\n",
       "    }\n",
       "\n",
       "    .dataframe thead th {\n",
       "        text-align: right;\n",
       "    }\n",
       "</style>\n",
       "<table border=\"1\" class=\"dataframe\">\n",
       "  <thead>\n",
       "    <tr style=\"text-align: right;\">\n",
       "      <th></th>\n",
       "      <th>Date and time</th>\n",
       "      <th>Temperature</th>\n",
       "      <th>Description</th>\n",
       "    </tr>\n",
       "  </thead>\n",
       "  <tbody>\n",
       "    <tr>\n",
       "      <th>112</th>\n",
       "      <td>2017-11-05 16:00:00</td>\n",
       "      <td>283.510</td>\n",
       "      <td>proximity thunderstorm</td>\n",
       "    </tr>\n",
       "    <tr>\n",
       "      <th>385</th>\n",
       "      <td>2017-11-17 01:00:00</td>\n",
       "      <td>275.960</td>\n",
       "      <td>overcast clouds</td>\n",
       "    </tr>\n",
       "    <tr>\n",
       "      <th>609</th>\n",
       "      <td>2017-11-26 09:00:00</td>\n",
       "      <td>271.530</td>\n",
       "      <td>sky is clear</td>\n",
       "    </tr>\n",
       "    <tr>\n",
       "      <th>618</th>\n",
       "      <td>2017-11-26 18:00:00</td>\n",
       "      <td>278.500</td>\n",
       "      <td>scattered clouds</td>\n",
       "    </tr>\n",
       "    <tr>\n",
       "      <th>548</th>\n",
       "      <td>2017-11-23 20:00:00</td>\n",
       "      <td>280.590</td>\n",
       "      <td>sky is clear</td>\n",
       "    </tr>\n",
       "  </tbody>\n",
       "</table>\n",
       "</div>"
      ],
      "text/plain": [
       "           Date and time Temperature             Description\n",
       "112  2017-11-05 16:00:00     283.510  proximity thunderstorm\n",
       "385  2017-11-17 01:00:00     275.960         overcast clouds\n",
       "609  2017-11-26 09:00:00     271.530            sky is clear\n",
       "618  2017-11-26 18:00:00     278.500        scattered clouds\n",
       "548  2017-11-23 20:00:00     280.590            sky is clear"
      ]
     },
     "execution_count": 1,
     "metadata": {},
     "output_type": "execute_result"
    }
   ],
   "source": [
    "import pandas as pd\n",
    "import requests\n",
    "from bs4 import BeautifulSoup\n",
    "import numpy as np\n",
    "import matplotlib.pyplot as plt\n",
    "from scipy import stats as st\n",
    "\n",
    "URL='https://code.s3.yandex.net/data-analyst-eng/chicago_weather_2017.html'\n",
    "req = requests.get(URL)\n",
    "soup = BeautifulSoup(req.text, 'lxml')\n",
    "\n",
    "table = soup.find(attrs={\"id\": \"weather_records\"})\n",
    "\n",
    "heading = []\n",
    "for row in table.find_all('th'):\n",
    "    heading.append(row.text) # Add the content from the <th> tag to the heading_table list using append() \n",
    "\n",
    "content=[] \n",
    "for row in table.find_all('tr'):\n",
    "    if not row.find_all('th'): \n",
    "            content.append([element.text for element in row.find_all('td')])\n",
    "\n",
    "df_weather = pd.DataFrame(content, columns=heading) \n",
    "df_weather.sample(5)"
   ]
  },
  {
   "cell_type": "code",
   "execution_count": 6,
   "metadata": {},
   "outputs": [
    {
     "data": {
      "text/plain": [
       "sky is clear                        178\n",
       "overcast clouds                     146\n",
       "mist                                 97\n",
       "broken clouds                        63\n",
       "scattered clouds                     47\n",
       "few clouds                           37\n",
       "light rain                           31\n",
       "fog                                  24\n",
       "haze                                 18\n",
       "light intensity drizzle              13\n",
       "moderate rain                        12\n",
       "light snow                           11\n",
       "drizzle                               9\n",
       "proximity thunderstorm                5\n",
       "proximity thunderstorm with rain      2\n",
       "thunderstorm with drizzle             1\n",
       "thunderstorm with light rain          1\n",
       "heavy intensity rain                  1\n",
       "thunderstorm with rain                1\n",
       "Name: Description, dtype: int64"
      ]
     },
     "execution_count": 6,
     "metadata": {},
     "output_type": "execute_result"
    }
   ],
   "source": [
    "df_weather['Description'].value_counts()"
   ]
  },
  {
   "cell_type": "markdown",
   "metadata": {},
   "source": [
    "Next we will import csv files from previous database queries with data on cab rides for each taxi company on November 15-16, 2017."
   ]
  },
  {
   "cell_type": "code",
   "execution_count": 2,
   "metadata": {},
   "outputs": [
    {
     "data": {
      "text/html": [
       "<div>\n",
       "<style scoped>\n",
       "    .dataframe tbody tr th:only-of-type {\n",
       "        vertical-align: middle;\n",
       "    }\n",
       "\n",
       "    .dataframe tbody tr th {\n",
       "        vertical-align: top;\n",
       "    }\n",
       "\n",
       "    .dataframe thead th {\n",
       "        text-align: right;\n",
       "    }\n",
       "</style>\n",
       "<table border=\"1\" class=\"dataframe\">\n",
       "  <thead>\n",
       "    <tr style=\"text-align: right;\">\n",
       "      <th></th>\n",
       "      <th>company_name</th>\n",
       "      <th>trips_amount</th>\n",
       "    </tr>\n",
       "  </thead>\n",
       "  <tbody>\n",
       "    <tr>\n",
       "      <th>1</th>\n",
       "      <td>Taxi Affiliation Services</td>\n",
       "      <td>11422</td>\n",
       "    </tr>\n",
       "    <tr>\n",
       "      <th>54</th>\n",
       "      <td>2192 - 73487 Zeymane Corp</td>\n",
       "      <td>14</td>\n",
       "    </tr>\n",
       "    <tr>\n",
       "      <th>30</th>\n",
       "      <td>Setare Inc</td>\n",
       "      <td>230</td>\n",
       "    </tr>\n",
       "    <tr>\n",
       "      <th>40</th>\n",
       "      <td>6574 - Babylon Express Inc.</td>\n",
       "      <td>31</td>\n",
       "    </tr>\n",
       "    <tr>\n",
       "      <th>23</th>\n",
       "      <td>KOAM Taxi Association</td>\n",
       "      <td>1259</td>\n",
       "    </tr>\n",
       "  </tbody>\n",
       "</table>\n",
       "</div>"
      ],
      "text/plain": [
       "                   company_name  trips_amount\n",
       "1     Taxi Affiliation Services         11422\n",
       "54    2192 - 73487 Zeymane Corp            14\n",
       "30                   Setare Inc           230\n",
       "40  6574 - Babylon Express Inc.            31\n",
       "23        KOAM Taxi Association          1259"
      ]
     },
     "execution_count": 2,
     "metadata": {},
     "output_type": "execute_result"
    }
   ],
   "source": [
    "try:\n",
    "    df_trips = pd.read_csv('../datasets/project_sql_result_01.csv')\n",
    "except:\n",
    "    df_trips = pd.read_csv('/datasets/project_sql_result_01.csv','\\t')\n",
    "\n",
    "df_trips.sample(5)"
   ]
  },
  {
   "cell_type": "code",
   "execution_count": 3,
   "metadata": {},
   "outputs": [
    {
     "name": "stdout",
     "output_type": "stream",
     "text": [
      "<class 'pandas.core.frame.DataFrame'>\n",
      "RangeIndex: 64 entries, 0 to 63\n",
      "Data columns (total 2 columns):\n",
      " #   Column        Non-Null Count  Dtype \n",
      "---  ------        --------------  ----- \n",
      " 0   company_name  64 non-null     object\n",
      " 1   trips_amount  64 non-null     int64 \n",
      "dtypes: int64(1), object(1)\n",
      "memory usage: 1.1+ KB\n"
     ]
    }
   ],
   "source": [
    "df_trips.info()"
   ]
  },
  {
   "cell_type": "code",
   "execution_count": 4,
   "metadata": {},
   "outputs": [
    {
     "data": {
      "text/html": [
       "<div>\n",
       "<style scoped>\n",
       "    .dataframe tbody tr th:only-of-type {\n",
       "        vertical-align: middle;\n",
       "    }\n",
       "\n",
       "    .dataframe tbody tr th {\n",
       "        vertical-align: top;\n",
       "    }\n",
       "\n",
       "    .dataframe thead th {\n",
       "        text-align: right;\n",
       "    }\n",
       "</style>\n",
       "<table border=\"1\" class=\"dataframe\">\n",
       "  <thead>\n",
       "    <tr style=\"text-align: right;\">\n",
       "      <th></th>\n",
       "      <th>dropoff_location_name</th>\n",
       "      <th>average_trips</th>\n",
       "    </tr>\n",
       "  </thead>\n",
       "  <tbody>\n",
       "    <tr>\n",
       "      <th>55</th>\n",
       "      <td>Dunning</td>\n",
       "      <td>30.166667</td>\n",
       "    </tr>\n",
       "    <tr>\n",
       "      <th>90</th>\n",
       "      <td>Hegewisch</td>\n",
       "      <td>3.117647</td>\n",
       "    </tr>\n",
       "    <tr>\n",
       "      <th>65</th>\n",
       "      <td>Ashburn</td>\n",
       "      <td>16.133333</td>\n",
       "    </tr>\n",
       "    <tr>\n",
       "      <th>60</th>\n",
       "      <td>New City</td>\n",
       "      <td>22.933333</td>\n",
       "    </tr>\n",
       "    <tr>\n",
       "      <th>41</th>\n",
       "      <td>North Park</td>\n",
       "      <td>67.833333</td>\n",
       "    </tr>\n",
       "  </tbody>\n",
       "</table>\n",
       "</div>"
      ],
      "text/plain": [
       "   dropoff_location_name  average_trips\n",
       "55               Dunning      30.166667\n",
       "90             Hegewisch       3.117647\n",
       "65               Ashburn      16.133333\n",
       "60              New City      22.933333\n",
       "41            North Park      67.833333"
      ]
     },
     "execution_count": 4,
     "metadata": {},
     "output_type": "execute_result"
    }
   ],
   "source": [
    "try:\n",
    "    df_average = pd.read_csv('../datasets/project_sql_result_04.csv')\n",
    "except:\n",
    "    df_average = pd.read_csv('/datasets/project_sql_result_04.csv','\\t')\n",
    "\n",
    "df_average.sample(5)"
   ]
  },
  {
   "cell_type": "code",
   "execution_count": 5,
   "metadata": {},
   "outputs": [
    {
     "name": "stdout",
     "output_type": "stream",
     "text": [
      "<class 'pandas.core.frame.DataFrame'>\n",
      "RangeIndex: 94 entries, 0 to 93\n",
      "Data columns (total 2 columns):\n",
      " #   Column                 Non-Null Count  Dtype  \n",
      "---  ------                 --------------  -----  \n",
      " 0   dropoff_location_name  94 non-null     object \n",
      " 1   average_trips          94 non-null     float64\n",
      "dtypes: float64(1), object(1)\n",
      "memory usage: 1.6+ KB\n"
     ]
    }
   ],
   "source": [
    "df_average.info()"
   ]
  },
  {
   "cell_type": "markdown",
   "metadata": {},
   "source": [
    "### Step 2. Data Preprocessing"
   ]
  },
  {
   "cell_type": "code",
   "execution_count": 8,
   "metadata": {},
   "outputs": [],
   "source": [
    "# fix column consistency of weather columns\n"
   ]
  },
  {
   "cell_type": "code",
   "execution_count": 7,
   "metadata": {},
   "outputs": [
    {
     "name": "stdout",
     "output_type": "stream",
     "text": [
      "<class 'pandas.core.frame.DataFrame'>\n",
      "RangeIndex: 697 entries, 0 to 696\n",
      "Data columns (total 4 columns):\n",
      " #   Column                Non-Null Count  Dtype \n",
      "---  ------                --------------  ----- \n",
      " 0   Date and time         697 non-null    object\n",
      " 1   Temperature           697 non-null    object\n",
      " 2   Description           697 non-null    object\n",
      " 3   weather_condition_id  697 non-null    int64 \n",
      "dtypes: int64(1), object(3)\n",
      "memory usage: 21.9+ KB\n"
     ]
    }
   ],
   "source": [
    "good_weather = ['sky is clear','overcast clouds','mist','broken clouds','scattered clouds','few clouds','proximity thunderstorm']\n",
    "\n",
    "def weather_id(row):\n",
    "    if row['Description'] in good_weather:\n",
    "        return 1\n",
    "    else:\n",
    "        return 0\n",
    "        \n",
    "df_weather['weather_condition_id'] = df_weather.apply(weather_id,axis=1)\n",
    "df_weather.info()"
   ]
  },
  {
   "cell_type": "markdown",
   "metadata": {},
   "source": [
    "In all data frames we see undercase columns and correct data types."
   ]
  },
  {
   "cell_type": "code",
   "execution_count": null,
   "metadata": {},
   "outputs": [],
   "source": [
    "print(\"df_trips nulls: \\n\",df_trips.isna().sum(),\"\\n\")\n",
    "print(\"df_average nulls: \\n\",df_average.isna().sum(),'\\n')\n",
    "print(\"df_weather nulls: \\n\",df_weather.isna().sum())\n",
    "df_trips.drop_duplicates(inplace=True)\n",
    "df_average.drop_duplicates(inplace=True)\n",
    "df_weather.drop_duplicates(inplace=True)"
   ]
  },
  {
   "cell_type": "markdown",
   "metadata": {},
   "source": [
    "No nulls found in either dataframe and possible duplicates dropped."
   ]
  },
  {
   "cell_type": "code",
   "execution_count": null,
   "metadata": {},
   "outputs": [],
   "source": [
    "df_trips.head(10).plot(x='company_name',y='trips_amount',kind=\"bar\",figsize=(8,6))\n",
    "plt.suptitle(\"\")\n",
    "plt.title(\"Total Trips of Top 10 Taxi Companies (November 15-16, 2017)\")\n",
    "plt.show()"
   ]
  },
  {
   "cell_type": "markdown",
   "metadata": {},
   "source": [
    "Ordinary graph of total trips by company, clear leader in Flash Cab. With a look on their website they have existed since 1945 so they seem to be the established local company. Other companies have similar trip totals."
   ]
  },
  {
   "cell_type": "code",
   "execution_count": null,
   "metadata": {},
   "outputs": [],
   "source": [
    "df_average.head(10).plot(x='dropoff_location_name',y='average_trips',kind=\"bar\",figsize=(8,6))\n",
    "plt.suptitle(\"\")\n",
    "plt.title(\"Average Trips of 10 Most Popular Dropoff Areas (November 2017)\")\n",
    "plt.show()"
   ]
  },
  {
   "cell_type": "markdown",
   "metadata": {},
   "source": [
    "By looking at a map of Chicago, all the top 4 areas by average trips are bordering. This is the downtown core."
   ]
  },
  {
   "cell_type": "code",
   "execution_count": null,
   "metadata": {},
   "outputs": [],
   "source": [
    "(\n",
    "    df_weather\n",
    "    .groupby('weather_condition_id')['duration_seconds']\n",
    "    .plot(kind='hist',alpha=0.4,figsize=(8,6))\n",
    ")\n",
    "\n",
    "plt.suptitle(\"\")\n",
    "plt.title(\"Trip Durations in Good and Bad Weather Conditions\")\n",
    "plt.legend(['Bad Weather','Good Weather'])\n",
    "plt.show()"
   ]
  },
  {
   "cell_type": "markdown",
   "metadata": {},
   "source": [
    "There is far more data available for good weather but it looks less varied and a sharp peaked distribution. The graph indicates some outliers in trip_duration that I will slice out to get more accurate look."
   ]
  },
  {
   "cell_type": "code",
   "execution_count": null,
   "metadata": {},
   "outputs": [],
   "source": [
    "min_durations = df_weather['duration_seconds'].quantile(0.05)\n",
    "max_durations = df_weather['duration_seconds'].quantile(0.95)\n",
    "\n",
    "df_weather = df_weather.query(\"@min_durations < duration_seconds < @max_durations\")\n",
    "(\n",
    "    df_weather\n",
    "    .groupby('weather_condition_id')['duration_seconds']\n",
    "    .plot(kind='hist',alpha=0.4,figsize=(8,6))\n",
    ")\n",
    "\n",
    "plt.suptitle(\"\")\n",
    "plt.title(\"Trip Durations in Good and Bad Weather Conditions\")\n",
    "plt.legend(['Bad Weather','Good Weather'])\n",
    "plt.show()"
   ]
  },
  {
   "cell_type": "markdown",
   "metadata": {},
   "source": [
    "We can now see more clearly that the good weather trip durations have a poisson distribution while the bad weather durations have a flat platykurtic distribution."
   ]
  },
  {
   "cell_type": "markdown",
   "metadata": {},
   "source": [
    "All relevant data has been imported to dataframes with no nulls or duplicate and we can see the leading taxi cab companies and popular drop-off areas (indicating the downtown core of Chicago)."
   ]
  },
  {
   "cell_type": "markdown",
   "metadata": {},
   "source": [
    "### Step 3. Testing hypotheses "
   ]
  },
  {
   "cell_type": "markdown",
   "metadata": {},
   "source": [
    "Test hypothesis on \"the average duration of rides from the Loop to O'Hare International Airport changes on rainy Saturdays\". \n",
    "\n",
    "Without the test I would assume that bad weather taxi rides take longer because people drive more carefully or slower and it causes more traffic. It was also apparent in the previous steps graph that their distributions have marked differences. The null hypothesis is that there is no statistically significant difference between travel duration on good and bad weather days. The alternative hypothesis is that there is a statistically significant difference between travel duration on good and bad weather days."
   ]
  },
  {
   "cell_type": "code",
   "execution_count": null,
   "metadata": {},
   "outputs": [],
   "source": [
    "df_bad = df_weather.query('weather_condition_id == 0')\n",
    "df_good = df_weather.query('weather_condition_id == 1')\n",
    "                \n",
    "print(\"The variance of trip durations in bad weather = {:.2f}\".format(np.var(df_bad['duration_seconds'])))\n",
    "print(\"The variance of trip durations on good weather = {:.2f}\".format(np.var(df_good['duration_seconds'])))"
   ]
  },
  {
   "cell_type": "markdown",
   "metadata": {},
   "source": [
    "Bad weather trip durations have more variance. Using alpha of 1% because it will indicate a significant difference."
   ]
  },
  {
   "cell_type": "code",
   "execution_count": null,
   "metadata": {},
   "outputs": [],
   "source": [
    "alpha = .01 # critical statistical significance level, if the p-value is less than alpha, we reject the hypothesis\n",
    "\n",
    "# Calculate the p-value with equal_val as True\n",
    "# The variances of the statistical populations from which the samples are different\n",
    "results = st.ttest_ind(\n",
    "        df_bad['duration_seconds'], \n",
    "        df_good['duration_seconds'],\n",
    "        equal_var = False)\n",
    "\n",
    "print('p-value: ', results.pvalue)\n",
    "\n",
    "if results.pvalue < alpha:\n",
    "        print(\"We reject the null hypothesis\")\n",
    "else:\n",
    "        print(\"We can't reject the null hypothesis\")"
   ]
  },
  {
   "cell_type": "markdown",
   "metadata": {},
   "source": [
    "This indicates that there is a statistically significant difference between trip durations in good and bad weather conditions. Choosing an alpha of 5% would not have made a difference in the result of the hypothesis test."
   ]
  },
  {
   "cell_type": "markdown",
   "metadata": {},
   "source": [
    "### Conclusion"
   ]
  },
  {
   "cell_type": "markdown",
   "metadata": {},
   "source": [
    "We tested the hypotheses on the trip durations between weather conditions and as a result rejected the null hypothesis, indicating a statistically significant difference between trip durations in good and bad weather conditions. This makes sense logically that weather effects a taxi ride duration due to traffic and could be seen in the stark difference between the distributions on their respective graphs."
   ]
  }
 ],
 "metadata": {
  "kernelspec": {
   "display_name": "Python 3",
   "language": "python",
   "name": "python3"
  },
  "language_info": {
   "codemirror_mode": {
    "name": "ipython",
    "version": 3
   },
   "file_extension": ".py",
   "mimetype": "text/x-python",
   "name": "python",
   "nbconvert_exporter": "python",
   "pygments_lexer": "ipython3",
   "version": "3.9.7"
  },
  "toc": {
   "base_numbering": 1,
   "nav_menu": {},
   "number_sections": true,
   "sideBar": true,
   "skip_h1_title": true,
   "title_cell": "Table of Contents",
   "title_sidebar": "Contents",
   "toc_cell": false,
   "toc_position": {},
   "toc_section_display": true,
   "toc_window_display": false
  }
 },
 "nbformat": 4,
 "nbformat_minor": 4
}
