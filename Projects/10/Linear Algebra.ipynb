{
 "cells": [
  {
   "cell_type": "markdown",
   "metadata": {},
   "source": [
    "### 1. Data Preprocessing & Exploration"
   ]
  },
  {
   "cell_type": "code",
   "execution_count": 20,
   "metadata": {},
   "outputs": [
    {
     "data": {
      "text/html": [
       "<div>\n",
       "<style scoped>\n",
       "    .dataframe tbody tr th:only-of-type {\n",
       "        vertical-align: middle;\n",
       "    }\n",
       "\n",
       "    .dataframe tbody tr th {\n",
       "        vertical-align: top;\n",
       "    }\n",
       "\n",
       "    .dataframe thead th {\n",
       "        text-align: right;\n",
       "    }\n",
       "</style>\n",
       "<table border=\"1\" class=\"dataframe\">\n",
       "  <thead>\n",
       "    <tr style=\"text-align: right;\">\n",
       "      <th></th>\n",
       "      <th>Gender</th>\n",
       "      <th>Age</th>\n",
       "      <th>Salary</th>\n",
       "      <th>Family members</th>\n",
       "      <th>Insurance benefits</th>\n",
       "    </tr>\n",
       "  </thead>\n",
       "  <tbody>\n",
       "    <tr>\n",
       "      <th>893</th>\n",
       "      <td>0</td>\n",
       "      <td>40.0</td>\n",
       "      <td>54900.0</td>\n",
       "      <td>4</td>\n",
       "      <td>0</td>\n",
       "    </tr>\n",
       "    <tr>\n",
       "      <th>2337</th>\n",
       "      <td>0</td>\n",
       "      <td>26.0</td>\n",
       "      <td>47500.0</td>\n",
       "      <td>0</td>\n",
       "      <td>0</td>\n",
       "    </tr>\n",
       "    <tr>\n",
       "      <th>3007</th>\n",
       "      <td>1</td>\n",
       "      <td>30.0</td>\n",
       "      <td>35000.0</td>\n",
       "      <td>1</td>\n",
       "      <td>0</td>\n",
       "    </tr>\n",
       "    <tr>\n",
       "      <th>2862</th>\n",
       "      <td>0</td>\n",
       "      <td>25.0</td>\n",
       "      <td>33100.0</td>\n",
       "      <td>0</td>\n",
       "      <td>0</td>\n",
       "    </tr>\n",
       "    <tr>\n",
       "      <th>1990</th>\n",
       "      <td>1</td>\n",
       "      <td>19.0</td>\n",
       "      <td>41600.0</td>\n",
       "      <td>1</td>\n",
       "      <td>0</td>\n",
       "    </tr>\n",
       "  </tbody>\n",
       "</table>\n",
       "</div>"
      ],
      "text/plain": [
       "      Gender   Age   Salary  Family members  Insurance benefits\n",
       "893        0  40.0  54900.0               4                   0\n",
       "2337       0  26.0  47500.0               0                   0\n",
       "3007       1  30.0  35000.0               1                   0\n",
       "2862       0  25.0  33100.0               0                   0\n",
       "1990       1  19.0  41600.0               1                   0"
      ]
     },
     "metadata": {},
     "output_type": "display_data"
    }
   ],
   "source": [
    "import numpy as np\n",
    "import pandas as pd\n",
    "import math\n",
    "import seaborn as sns\n",
    "import warnings\n",
    "\n",
    "import sklearn.linear_model\n",
    "import sklearn.metrics\n",
    "import sklearn.neighbors\n",
    "import sklearn.preprocessing\n",
    "\n",
    "from sklearn.model_selection import train_test_split\n",
    "\n",
    "from IPython.display import display\n",
    "\n",
    "try:\n",
    "    df = pd.read_csv('../datasets/insurance_us.csv')\n",
    "    display(df.sample(5))\n",
    "except:\n",
    "    print(\"Data not found\")"
   ]
  },
  {
   "cell_type": "markdown",
   "metadata": {},
   "source": [
    "We rename the columns to make the code look more consistent with its style."
   ]
  },
  {
   "cell_type": "code",
   "execution_count": 21,
   "metadata": {},
   "outputs": [],
   "source": [
    "df = df.rename(columns={'Gender': 'gender', 'Age': 'age', 'Salary': 'income', 'Family members': 'family_members', 'Insurance benefits': 'insurance_benefits'})"
   ]
  },
  {
   "cell_type": "code",
   "execution_count": 22,
   "metadata": {},
   "outputs": [
    {
     "data": {
      "text/html": [
       "<div>\n",
       "<style scoped>\n",
       "    .dataframe tbody tr th:only-of-type {\n",
       "        vertical-align: middle;\n",
       "    }\n",
       "\n",
       "    .dataframe tbody tr th {\n",
       "        vertical-align: top;\n",
       "    }\n",
       "\n",
       "    .dataframe thead th {\n",
       "        text-align: right;\n",
       "    }\n",
       "</style>\n",
       "<table border=\"1\" class=\"dataframe\">\n",
       "  <thead>\n",
       "    <tr style=\"text-align: right;\">\n",
       "      <th></th>\n",
       "      <th>gender</th>\n",
       "      <th>age</th>\n",
       "      <th>income</th>\n",
       "      <th>family_members</th>\n",
       "      <th>insurance_benefits</th>\n",
       "    </tr>\n",
       "  </thead>\n",
       "  <tbody>\n",
       "    <tr>\n",
       "      <th>4413</th>\n",
       "      <td>0</td>\n",
       "      <td>18.0</td>\n",
       "      <td>53000.0</td>\n",
       "      <td>0</td>\n",
       "      <td>0</td>\n",
       "    </tr>\n",
       "    <tr>\n",
       "      <th>4909</th>\n",
       "      <td>1</td>\n",
       "      <td>42.0</td>\n",
       "      <td>45600.0</td>\n",
       "      <td>2</td>\n",
       "      <td>0</td>\n",
       "    </tr>\n",
       "    <tr>\n",
       "      <th>931</th>\n",
       "      <td>0</td>\n",
       "      <td>40.0</td>\n",
       "      <td>51600.0</td>\n",
       "      <td>0</td>\n",
       "      <td>0</td>\n",
       "    </tr>\n",
       "    <tr>\n",
       "      <th>1736</th>\n",
       "      <td>1</td>\n",
       "      <td>30.0</td>\n",
       "      <td>34700.0</td>\n",
       "      <td>0</td>\n",
       "      <td>0</td>\n",
       "    </tr>\n",
       "    <tr>\n",
       "      <th>1560</th>\n",
       "      <td>1</td>\n",
       "      <td>21.0</td>\n",
       "      <td>49800.0</td>\n",
       "      <td>1</td>\n",
       "      <td>0</td>\n",
       "    </tr>\n",
       "  </tbody>\n",
       "</table>\n",
       "</div>"
      ],
      "text/plain": [
       "      gender   age   income  family_members  insurance_benefits\n",
       "4413       0  18.0  53000.0               0                   0\n",
       "4909       1  42.0  45600.0               2                   0\n",
       "931        0  40.0  51600.0               0                   0\n",
       "1736       1  30.0  34700.0               0                   0\n",
       "1560       1  21.0  49800.0               1                   0"
      ]
     },
     "execution_count": 22,
     "metadata": {},
     "output_type": "execute_result"
    }
   ],
   "source": [
    "df.sample(5)"
   ]
  },
  {
   "cell_type": "code",
   "execution_count": 23,
   "metadata": {},
   "outputs": [
    {
     "name": "stdout",
     "output_type": "stream",
     "text": [
      "<class 'pandas.core.frame.DataFrame'>\n",
      "RangeIndex: 5000 entries, 0 to 4999\n",
      "Data columns (total 5 columns):\n",
      " #   Column              Non-Null Count  Dtype  \n",
      "---  ------              --------------  -----  \n",
      " 0   gender              5000 non-null   int64  \n",
      " 1   age                 5000 non-null   float64\n",
      " 2   income              5000 non-null   float64\n",
      " 3   family_members      5000 non-null   int64  \n",
      " 4   insurance_benefits  5000 non-null   int64  \n",
      "dtypes: float64(2), int64(3)\n",
      "memory usage: 195.4 KB\n"
     ]
    }
   ],
   "source": [
    "df.info()"
   ]
  },
  {
   "cell_type": "markdown",
   "metadata": {},
   "source": [
    "We want to change the data type of age to integer."
   ]
  },
  {
   "cell_type": "code",
   "execution_count": 24,
   "metadata": {},
   "outputs": [
    {
     "name": "stdout",
     "output_type": "stream",
     "text": [
      "<class 'pandas.core.frame.DataFrame'>\n",
      "RangeIndex: 5000 entries, 0 to 4999\n",
      "Data columns (total 5 columns):\n",
      " #   Column              Non-Null Count  Dtype  \n",
      "---  ------              --------------  -----  \n",
      " 0   gender              5000 non-null   int64  \n",
      " 1   age                 5000 non-null   int32  \n",
      " 2   income              5000 non-null   float64\n",
      " 3   family_members      5000 non-null   int64  \n",
      " 4   insurance_benefits  5000 non-null   int64  \n",
      "dtypes: float64(1), int32(1), int64(3)\n",
      "memory usage: 175.9 KB\n"
     ]
    },
    {
     "data": {
      "text/plain": [
       "None"
      ]
     },
     "metadata": {},
     "output_type": "display_data"
    }
   ],
   "source": [
    "try:\n",
    "    df['age'] = df['age'].astype('int')\n",
    "    display(df.info())\n",
    "except:\n",
    "    print(\"data conversion unsuccessful\")"
   ]
  },
  {
   "cell_type": "markdown",
   "metadata": {},
   "source": [
    "We now check for duplicate entries."
   ]
  },
  {
   "cell_type": "code",
   "execution_count": 25,
   "metadata": {},
   "outputs": [
    {
     "data": {
      "text/plain": [
       "gender                153\n",
       "age                   153\n",
       "income                153\n",
       "family_members        153\n",
       "insurance_benefits    153\n",
       "dtype: int64"
      ]
     },
     "metadata": {},
     "output_type": "display_data"
    }
   ],
   "source": [
    "display(df[df.duplicated() == True].count())"
   ]
  },
  {
   "cell_type": "code",
   "execution_count": 26,
   "metadata": {},
   "outputs": [
    {
     "name": "stdout",
     "output_type": "stream",
     "text": [
      "After duplicate removal there are now 4847 entries\n"
     ]
    }
   ],
   "source": [
    "df.drop_duplicates(inplace=True)\n",
    "df = df.reset_index(drop=True) \n",
    "entries = df.shape[0]\n",
    "print(\"After duplicate removal there are now {} entries\".format(entries))"
   ]
  },
  {
   "cell_type": "markdown",
   "metadata": {},
   "source": [
    "Now checking for nulls."
   ]
  },
  {
   "cell_type": "code",
   "execution_count": 27,
   "metadata": {},
   "outputs": [
    {
     "data": {
      "text/plain": [
       "gender                0\n",
       "age                   0\n",
       "income                0\n",
       "family_members        0\n",
       "insurance_benefits    0\n",
       "dtype: int64"
      ]
     },
     "execution_count": 27,
     "metadata": {},
     "output_type": "execute_result"
    }
   ],
   "source": [
    "df.isna().sum()"
   ]
  },
  {
   "cell_type": "markdown",
   "metadata": {},
   "source": [
    "Now all of the data is ready for analysis."
   ]
  },
  {
   "cell_type": "code",
   "execution_count": 28,
   "metadata": {},
   "outputs": [
    {
     "data": {
      "text/plain": [
       "gender                    1.0\n",
       "age                      19.0\n",
       "income                45900.0\n",
       "family_members            0.0\n",
       "insurance_benefits        0.0\n",
       "Name: 3920, dtype: float64"
      ]
     },
     "execution_count": 28,
     "metadata": {},
     "output_type": "execute_result"
    }
   ],
   "source": [
    "df.iloc[3920]"
   ]
  },
  {
   "cell_type": "markdown",
   "metadata": {},
   "source": [
    "### 2. EDA"
   ]
  },
  {
   "cell_type": "markdown",
   "metadata": {},
   "source": [
    "Let's quickly check whether there are apparent groups of customers by looking at the pair plot."
   ]
  },
  {
   "cell_type": "code",
   "execution_count": 29,
   "metadata": {},
   "outputs": [
    {
     "data": {
      "image/png": "[encoded data removed]",
      "text/plain": [
       "<Figure size 864x864 with 30 Axes>"
      ]
     },
     "metadata": {
      "needs_background": "light"
     },
     "output_type": "display_data"
    }
   ],
   "source": [
    "g = sns.pairplot(df, kind='hist')\n",
    "g.fig.set_size_inches(12, 12)"
   ]
  },
  {
   "cell_type": "markdown",
   "metadata": {},
   "source": [
    "It is a bit difficult to spot obvious groups (clusters) as it is difficult to combine several variables simultaneously (to analyze multivariate distributions). That's where linear algebra and machine learning can be quite handy."
   ]
  },
  {
   "cell_type": "markdown",
   "metadata": {},
   "source": [
    "### 3. Tasks\n",
    "#### 3.1  Similar Customers"
   ]
  },
  {
   "cell_type": "markdown",
   "metadata": {},
   "source": [
    "Write a function that returns k nearest neighbors for an $n^{th}$ object based on a specified distance metric. The number of received insurance benefits should not be taken into account for this task. \n",
    "\n",
    "Test it for four combination of two cases\n",
    "- Scaling\n",
    "  - the data is not scaled\n",
    "  - the data is scaled with the [MaxAbsScaler](https://scikit-learn.org/stable/modules/generated/sklearn.preprocessing.MaxAbsScaler.html) scaler\n",
    "- Distance Metrics\n",
    "  - Euclidean\n",
    "  - Manhattan\n",
    "\n",
    "Answer these questions:\n",
    "- Does the data being not scaled affect the kNN algorithm? If so, how does that appear?\n",
    "- How similar are the results using the Manhattan distance metric (regardless of the scaling)?"
   ]
  },
  {
   "cell_type": "code",
   "execution_count": 30,
   "metadata": {},
   "outputs": [],
   "source": [
    "feature_names = ['gender', 'age', 'income', 'family_members']\n",
    "target = 'insurance_benefits'"
   ]
  },
  {
   "cell_type": "code",
   "execution_count": 31,
   "metadata": {},
   "outputs": [],
   "source": [
    "def get_knn(df, n, k, metric):\n",
    "    \n",
    "    \"\"\"\n",
    "    Returns k nearest neighbors\n",
    "\n",
    "    :param df: pandas DataFrame used to find similar objects within\n",
    "    :param n: object no for which the nearest neighbours are looked for\n",
    "    :param k: the number of the nearest neighbours to return\n",
    "    :param metric: name of distance metric\n",
    "    \"\"\"\n",
    "    \n",
    "    nbrs = sklearn.neighbors.NearestNeighbors(n_neighbors=k, metric=metric, algorithm='brute').fit(df[feature_names])\n",
    "    nbrs_distances, nbrs_indices = nbrs.kneighbors([df.iloc[n][feature_names]], k, return_distance=True)\n",
    "    df_res = pd.concat([\n",
    "        df.iloc[nbrs_indices[0]], \n",
    "        pd.DataFrame(nbrs_distances.T, index=nbrs_indices[0], columns=['distance'])\n",
    "        ], axis=1)\n",
    "    return df_res"
   ]
  },
  {
   "cell_type": "markdown",
   "metadata": {},
   "source": [
    "Scaling the data."
   ]
  },
  {
   "cell_type": "code",
   "execution_count": 32,
   "metadata": {},
   "outputs": [],
   "source": [
    "feature_names = ['gender', 'age', 'income', 'family_members']\n",
    "\n",
    "transformer_mas = sklearn.preprocessing.MaxAbsScaler().fit(df[feature_names].to_numpy())\n",
    "\n",
    "df_scaled = df.copy()\n",
    "df_scaled.loc[:, feature_names] = transformer_mas.transform(df[feature_names].to_numpy())"
   ]
  },
  {
   "cell_type": "code",
   "execution_count": 33,
   "metadata": {},
   "outputs": [
    {
     "data": {
      "text/html": [
       "<div>\n",
       "<style scoped>\n",
       "    .dataframe tbody tr th:only-of-type {\n",
       "        vertical-align: middle;\n",
       "    }\n",
       "\n",
       "    .dataframe tbody tr th {\n",
       "        vertical-align: top;\n",
       "    }\n",
       "\n",
       "    .dataframe thead th {\n",
       "        text-align: right;\n",
       "    }\n",
       "</style>\n",
       "<table border=\"1\" class=\"dataframe\">\n",
       "  <thead>\n",
       "    <tr style=\"text-align: right;\">\n",
       "      <th></th>\n",
       "      <th>gender</th>\n",
       "      <th>age</th>\n",
       "      <th>income</th>\n",
       "      <th>family_members</th>\n",
       "      <th>insurance_benefits</th>\n",
       "    </tr>\n",
       "  </thead>\n",
       "  <tbody>\n",
       "    <tr>\n",
       "      <th>461</th>\n",
       "      <td>1.0</td>\n",
       "      <td>0.292308</td>\n",
       "      <td>0.591139</td>\n",
       "      <td>0.500000</td>\n",
       "      <td>0</td>\n",
       "    </tr>\n",
       "    <tr>\n",
       "      <th>3977</th>\n",
       "      <td>0.0</td>\n",
       "      <td>0.415385</td>\n",
       "      <td>0.537975</td>\n",
       "      <td>0.166667</td>\n",
       "      <td>0</td>\n",
       "    </tr>\n",
       "    <tr>\n",
       "      <th>2295</th>\n",
       "      <td>0.0</td>\n",
       "      <td>0.723077</td>\n",
       "      <td>0.555696</td>\n",
       "      <td>0.000000</td>\n",
       "      <td>1</td>\n",
       "    </tr>\n",
       "    <tr>\n",
       "      <th>3490</th>\n",
       "      <td>0.0</td>\n",
       "      <td>0.415385</td>\n",
       "      <td>0.664557</td>\n",
       "      <td>0.666667</td>\n",
       "      <td>0</td>\n",
       "    </tr>\n",
       "    <tr>\n",
       "      <th>507</th>\n",
       "      <td>0.0</td>\n",
       "      <td>0.446154</td>\n",
       "      <td>0.255696</td>\n",
       "      <td>0.000000</td>\n",
       "      <td>0</td>\n",
       "    </tr>\n",
       "  </tbody>\n",
       "</table>\n",
       "</div>"
      ],
      "text/plain": [
       "      gender       age    income  family_members  insurance_benefits\n",
       "461      1.0  0.292308  0.591139        0.500000                   0\n",
       "3977     0.0  0.415385  0.537975        0.166667                   0\n",
       "2295     0.0  0.723077  0.555696        0.000000                   1\n",
       "3490     0.0  0.415385  0.664557        0.666667                   0\n",
       "507      0.0  0.446154  0.255696        0.000000                   0"
      ]
     },
     "execution_count": 33,
     "metadata": {},
     "output_type": "execute_result"
    }
   ],
   "source": [
    "df_scaled.sample(5)"
   ]
  },
  {
   "cell_type": "markdown",
   "metadata": {},
   "source": [
    "Now, let's get similar records for a given one for every combination"
   ]
  },
  {
   "cell_type": "code",
   "execution_count": 34,
   "metadata": {},
   "outputs": [
    {
     "data": {
      "text/html": [
       "<div>\n",
       "<style scoped>\n",
       "    .dataframe tbody tr th:only-of-type {\n",
       "        vertical-align: middle;\n",
       "    }\n",
       "\n",
       "    .dataframe tbody tr th {\n",
       "        vertical-align: top;\n",
       "    }\n",
       "\n",
       "    .dataframe thead th {\n",
       "        text-align: right;\n",
       "    }\n",
       "</style>\n",
       "<table border=\"1\" class=\"dataframe\">\n",
       "  <thead>\n",
       "    <tr style=\"text-align: right;\">\n",
       "      <th></th>\n",
       "      <th>gender</th>\n",
       "      <th>age</th>\n",
       "      <th>income</th>\n",
       "      <th>family_members</th>\n",
       "      <th>insurance_benefits</th>\n",
       "      <th>distance</th>\n",
       "    </tr>\n",
       "  </thead>\n",
       "  <tbody>\n",
       "    <tr>\n",
       "      <th>1</th>\n",
       "      <td>0</td>\n",
       "      <td>46</td>\n",
       "      <td>38000.0</td>\n",
       "      <td>1</td>\n",
       "      <td>1</td>\n",
       "      <td>0.000000</td>\n",
       "    </tr>\n",
       "    <tr>\n",
       "      <th>3810</th>\n",
       "      <td>0</td>\n",
       "      <td>40</td>\n",
       "      <td>38000.0</td>\n",
       "      <td>0</td>\n",
       "      <td>0</td>\n",
       "      <td>6.082763</td>\n",
       "    </tr>\n",
       "    <tr>\n",
       "      <th>4796</th>\n",
       "      <td>1</td>\n",
       "      <td>37</td>\n",
       "      <td>38000.0</td>\n",
       "      <td>1</td>\n",
       "      <td>0</td>\n",
       "      <td>9.055385</td>\n",
       "    </tr>\n",
       "    <tr>\n",
       "      <th>2480</th>\n",
       "      <td>1</td>\n",
       "      <td>36</td>\n",
       "      <td>38000.0</td>\n",
       "      <td>0</td>\n",
       "      <td>0</td>\n",
       "      <td>10.099505</td>\n",
       "    </tr>\n",
       "    <tr>\n",
       "      <th>3498</th>\n",
       "      <td>0</td>\n",
       "      <td>33</td>\n",
       "      <td>38000.0</td>\n",
       "      <td>0</td>\n",
       "      <td>0</td>\n",
       "      <td>13.038405</td>\n",
       "    </tr>\n",
       "  </tbody>\n",
       "</table>\n",
       "</div>"
      ],
      "text/plain": [
       "      gender  age   income  family_members  insurance_benefits   distance\n",
       "1          0   46  38000.0               1                   1   0.000000\n",
       "3810       0   40  38000.0               0                   0   6.082763\n",
       "4796       1   37  38000.0               1                   0   9.055385\n",
       "2480       1   36  38000.0               0                   0  10.099505\n",
       "3498       0   33  38000.0               0                   0  13.038405"
      ]
     },
     "execution_count": 34,
     "metadata": {},
     "output_type": "execute_result"
    }
   ],
   "source": [
    "# not scaled, Euclidean\n",
    "warnings.filterwarnings(\"ignore\")\n",
    "get_knn(df,1,5,'euclidean')"
   ]
  },
  {
   "cell_type": "code",
   "execution_count": 35,
   "metadata": {},
   "outputs": [
    {
     "data": {
      "text/html": [
       "<div>\n",
       "<style scoped>\n",
       "    .dataframe tbody tr th:only-of-type {\n",
       "        vertical-align: middle;\n",
       "    }\n",
       "\n",
       "    .dataframe tbody tr th {\n",
       "        vertical-align: top;\n",
       "    }\n",
       "\n",
       "    .dataframe thead th {\n",
       "        text-align: right;\n",
       "    }\n",
       "</style>\n",
       "<table border=\"1\" class=\"dataframe\">\n",
       "  <thead>\n",
       "    <tr style=\"text-align: right;\">\n",
       "      <th></th>\n",
       "      <th>gender</th>\n",
       "      <th>age</th>\n",
       "      <th>income</th>\n",
       "      <th>family_members</th>\n",
       "      <th>insurance_benefits</th>\n",
       "      <th>distance</th>\n",
       "    </tr>\n",
       "  </thead>\n",
       "  <tbody>\n",
       "    <tr>\n",
       "      <th>1</th>\n",
       "      <td>0.0</td>\n",
       "      <td>0.707692</td>\n",
       "      <td>0.481013</td>\n",
       "      <td>0.166667</td>\n",
       "      <td>1</td>\n",
       "      <td>0.000000</td>\n",
       "    </tr>\n",
       "    <tr>\n",
       "      <th>4041</th>\n",
       "      <td>0.0</td>\n",
       "      <td>0.707692</td>\n",
       "      <td>0.477215</td>\n",
       "      <td>0.166667</td>\n",
       "      <td>1</td>\n",
       "      <td>0.003797</td>\n",
       "    </tr>\n",
       "    <tr>\n",
       "      <th>1835</th>\n",
       "      <td>0.0</td>\n",
       "      <td>0.707692</td>\n",
       "      <td>0.492405</td>\n",
       "      <td>0.166667</td>\n",
       "      <td>1</td>\n",
       "      <td>0.011392</td>\n",
       "    </tr>\n",
       "    <tr>\n",
       "      <th>4833</th>\n",
       "      <td>0.0</td>\n",
       "      <td>0.723077</td>\n",
       "      <td>0.491139</td>\n",
       "      <td>0.166667</td>\n",
       "      <td>1</td>\n",
       "      <td>0.018418</td>\n",
       "    </tr>\n",
       "    <tr>\n",
       "      <th>4341</th>\n",
       "      <td>0.0</td>\n",
       "      <td>0.692308</td>\n",
       "      <td>0.459494</td>\n",
       "      <td>0.166667</td>\n",
       "      <td>1</td>\n",
       "      <td>0.026453</td>\n",
       "    </tr>\n",
       "  </tbody>\n",
       "</table>\n",
       "</div>"
      ],
      "text/plain": [
       "      gender       age    income  family_members  insurance_benefits  distance\n",
       "1        0.0  0.707692  0.481013        0.166667                   1  0.000000\n",
       "4041     0.0  0.707692  0.477215        0.166667                   1  0.003797\n",
       "1835     0.0  0.707692  0.492405        0.166667                   1  0.011392\n",
       "4833     0.0  0.723077  0.491139        0.166667                   1  0.018418\n",
       "4341     0.0  0.692308  0.459494        0.166667                   1  0.026453"
      ]
     },
     "execution_count": 35,
     "metadata": {},
     "output_type": "execute_result"
    }
   ],
   "source": [
    "# scaled, Euclidean\n",
    "get_knn(df_scaled,1,5,'euclidean')"
   ]
  },
  {
   "cell_type": "code",
   "execution_count": 36,
   "metadata": {},
   "outputs": [
    {
     "data": {
      "text/html": [
       "<div>\n",
       "<style scoped>\n",
       "    .dataframe tbody tr th:only-of-type {\n",
       "        vertical-align: middle;\n",
       "    }\n",
       "\n",
       "    .dataframe tbody tr th {\n",
       "        vertical-align: top;\n",
       "    }\n",
       "\n",
       "    .dataframe thead th {\n",
       "        text-align: right;\n",
       "    }\n",
       "</style>\n",
       "<table border=\"1\" class=\"dataframe\">\n",
       "  <thead>\n",
       "    <tr style=\"text-align: right;\">\n",
       "      <th></th>\n",
       "      <th>gender</th>\n",
       "      <th>age</th>\n",
       "      <th>income</th>\n",
       "      <th>family_members</th>\n",
       "      <th>insurance_benefits</th>\n",
       "      <th>distance</th>\n",
       "    </tr>\n",
       "  </thead>\n",
       "  <tbody>\n",
       "    <tr>\n",
       "      <th>1</th>\n",
       "      <td>0</td>\n",
       "      <td>46</td>\n",
       "      <td>38000.0</td>\n",
       "      <td>1</td>\n",
       "      <td>1</td>\n",
       "      <td>0.0</td>\n",
       "    </tr>\n",
       "    <tr>\n",
       "      <th>3810</th>\n",
       "      <td>0</td>\n",
       "      <td>40</td>\n",
       "      <td>38000.0</td>\n",
       "      <td>0</td>\n",
       "      <td>0</td>\n",
       "      <td>7.0</td>\n",
       "    </tr>\n",
       "    <tr>\n",
       "      <th>4796</th>\n",
       "      <td>1</td>\n",
       "      <td>37</td>\n",
       "      <td>38000.0</td>\n",
       "      <td>1</td>\n",
       "      <td>0</td>\n",
       "      <td>10.0</td>\n",
       "    </tr>\n",
       "    <tr>\n",
       "      <th>2480</th>\n",
       "      <td>1</td>\n",
       "      <td>36</td>\n",
       "      <td>38000.0</td>\n",
       "      <td>0</td>\n",
       "      <td>0</td>\n",
       "      <td>12.0</td>\n",
       "    </tr>\n",
       "    <tr>\n",
       "      <th>3498</th>\n",
       "      <td>0</td>\n",
       "      <td>33</td>\n",
       "      <td>38000.0</td>\n",
       "      <td>0</td>\n",
       "      <td>0</td>\n",
       "      <td>14.0</td>\n",
       "    </tr>\n",
       "  </tbody>\n",
       "</table>\n",
       "</div>"
      ],
      "text/plain": [
       "      gender  age   income  family_members  insurance_benefits  distance\n",
       "1          0   46  38000.0               1                   1       0.0\n",
       "3810       0   40  38000.0               0                   0       7.0\n",
       "4796       1   37  38000.0               1                   0      10.0\n",
       "2480       1   36  38000.0               0                   0      12.0\n",
       "3498       0   33  38000.0               0                   0      14.0"
      ]
     },
     "execution_count": 36,
     "metadata": {},
     "output_type": "execute_result"
    }
   ],
   "source": [
    "# not scaled, Manhattan\n",
    "get_knn(df,1,5,'manhattan')"
   ]
  },
  {
   "cell_type": "code",
   "execution_count": 37,
   "metadata": {},
   "outputs": [
    {
     "data": {
      "text/html": [
       "<div>\n",
       "<style scoped>\n",
       "    .dataframe tbody tr th:only-of-type {\n",
       "        vertical-align: middle;\n",
       "    }\n",
       "\n",
       "    .dataframe tbody tr th {\n",
       "        vertical-align: top;\n",
       "    }\n",
       "\n",
       "    .dataframe thead th {\n",
       "        text-align: right;\n",
       "    }\n",
       "</style>\n",
       "<table border=\"1\" class=\"dataframe\">\n",
       "  <thead>\n",
       "    <tr style=\"text-align: right;\">\n",
       "      <th></th>\n",
       "      <th>gender</th>\n",
       "      <th>age</th>\n",
       "      <th>income</th>\n",
       "      <th>family_members</th>\n",
       "      <th>insurance_benefits</th>\n",
       "      <th>distance</th>\n",
       "    </tr>\n",
       "  </thead>\n",
       "  <tbody>\n",
       "    <tr>\n",
       "      <th>1</th>\n",
       "      <td>0.0</td>\n",
       "      <td>0.707692</td>\n",
       "      <td>0.481013</td>\n",
       "      <td>0.166667</td>\n",
       "      <td>1</td>\n",
       "      <td>0.000000</td>\n",
       "    </tr>\n",
       "    <tr>\n",
       "      <th>4041</th>\n",
       "      <td>0.0</td>\n",
       "      <td>0.707692</td>\n",
       "      <td>0.477215</td>\n",
       "      <td>0.166667</td>\n",
       "      <td>1</td>\n",
       "      <td>0.003797</td>\n",
       "    </tr>\n",
       "    <tr>\n",
       "      <th>1835</th>\n",
       "      <td>0.0</td>\n",
       "      <td>0.707692</td>\n",
       "      <td>0.492405</td>\n",
       "      <td>0.166667</td>\n",
       "      <td>1</td>\n",
       "      <td>0.011392</td>\n",
       "    </tr>\n",
       "    <tr>\n",
       "      <th>4833</th>\n",
       "      <td>0.0</td>\n",
       "      <td>0.723077</td>\n",
       "      <td>0.491139</td>\n",
       "      <td>0.166667</td>\n",
       "      <td>1</td>\n",
       "      <td>0.025511</td>\n",
       "    </tr>\n",
       "    <tr>\n",
       "      <th>2394</th>\n",
       "      <td>0.0</td>\n",
       "      <td>0.676923</td>\n",
       "      <td>0.482278</td>\n",
       "      <td>0.166667</td>\n",
       "      <td>1</td>\n",
       "      <td>0.032035</td>\n",
       "    </tr>\n",
       "  </tbody>\n",
       "</table>\n",
       "</div>"
      ],
      "text/plain": [
       "      gender       age    income  family_members  insurance_benefits  distance\n",
       "1        0.0  0.707692  0.481013        0.166667                   1  0.000000\n",
       "4041     0.0  0.707692  0.477215        0.166667                   1  0.003797\n",
       "1835     0.0  0.707692  0.492405        0.166667                   1  0.011392\n",
       "4833     0.0  0.723077  0.491139        0.166667                   1  0.025511\n",
       "2394     0.0  0.676923  0.482278        0.166667                   1  0.032035"
      ]
     },
     "execution_count": 37,
     "metadata": {},
     "output_type": "execute_result"
    }
   ],
   "source": [
    "# scaled, Manhattan\n",
    "get_knn(df_scaled,1,5,'manhattan')"
   ]
  },
  {
   "cell_type": "markdown",
   "metadata": {},
   "source": [
    "**Does the data being not scaled affect the kNN algorithm? If so, how does that appear?** \n",
    "\n",
    "The data being scaled affects the kNN algorithm. It can be seen in the difference between the resulting neighbours using Euclidean or Manhattan metric. The kNN finds neighbours with the same income using unscaled data, due to the larger magnitude of the feature, while finding neighbours with the same gender or family members when scaled. "
   ]
  },
  {
   "cell_type": "markdown",
   "metadata": {},
   "source": [
    "**How similar are the results using the Manhattan distance metric (regardless of the scaling)?** \n",
    "\n",
    "The results are largely similar between Euclidean and Manhattan metric, regardless of scaling."
   ]
  },
  {
   "cell_type": "markdown",
   "metadata": {},
   "source": [
    "#### 3.2 Is Customer Likely to Receive Insurance Benefit?"
   ]
  },
  {
   "cell_type": "markdown",
   "metadata": {},
   "source": [
    "In terms of machine learning we can look at this like a binary classification task."
   ]
  },
  {
   "cell_type": "markdown",
   "metadata": {},
   "source": [
    "With `insurance_benefits` being more than zero as the target, evaluate whether the kNN classification approach can do better than a dummy model.\n",
    "\n",
    "Instructions:\n",
    "- Build a KNN-based classifier and measure its quality with the F1 metric for k=1..10 for both the original data and the scaled one. That'd be interesting to see how k may influece the evaluation metric, and whether scaling the data makes any difference. You can use a ready implemention of the kNN classification algorithm from scikit-learn (check [the link](https://scikit-learn.org/stable/modules/generated/sklearn.neighbors.KNeighborsClassifier.html)) or use your own.\n",
    "- Build the dummy model which is just random for this case. It should return \"1\" with some probability. Let's test the model with four probability values: 0, the probability of paying any insurance benefit, 0.5, 1.\n",
    "\n",
    "The probability of paying any insurance benefit can be defined as\n",
    "\n",
    "$$\n",
    "P\\{\\text{insurance benefit received}\\}=\\frac{\\text{number of clients received any insurance benefit}}{\\text{total number of clients}}.\n",
    "$$\n",
    "\n",
    "Split the whole data in the 70:30 proportion for the training/testing parts."
   ]
  },
  {
   "cell_type": "code",
   "execution_count": 38,
   "metadata": {},
   "outputs": [],
   "source": [
    "# calculate the target\n",
    "\n",
    "df['insurance_benefits_received'] = np.where(df['insurance_benefits'] > 0, 1, 0)"
   ]
  },
  {
   "cell_type": "code",
   "execution_count": 39,
   "metadata": {},
   "outputs": [
    {
     "data": {
      "text/plain": [
       "0    4284\n",
       "1     563\n",
       "Name: insurance_benefits_received, dtype: int64"
      ]
     },
     "execution_count": 39,
     "metadata": {},
     "output_type": "execute_result"
    }
   ],
   "source": [
    "# check for the class imbalance with value_counts()\n",
    "\n",
    "df['insurance_benefits_received'].value_counts()"
   ]
  },
  {
   "cell_type": "code",
   "execution_count": 40,
   "metadata": {},
   "outputs": [],
   "source": [
    "def eval_classifier(y_true, y_pred):\n",
    "    \n",
    "    f1_score = sklearn.metrics.f1_score(y_true, y_pred)\n",
    "    print(f'F1: {f1_score:.2f}')\n",
    "    \n",
    "# if you have an issue with the following line, restart the kernel and run the notebook again\n",
    "    cm = sklearn.metrics.confusion_matrix(y_true, y_pred, normalize='all')\n",
    "    print('Confusion Matrix')\n",
    "    print(cm)"
   ]
  },
  {
   "cell_type": "code",
   "execution_count": 41,
   "metadata": {},
   "outputs": [],
   "source": [
    "# generating output of a random model\n",
    "\n",
    "def rnd_model_predict(P, size, seed=42):\n",
    "\n",
    "    rng = np.random.default_rng(seed=seed)\n",
    "    return rng.binomial(n=1, p=P, size=size)"
   ]
  },
  {
   "cell_type": "code",
   "execution_count": 42,
   "metadata": {},
   "outputs": [
    {
     "name": "stdout",
     "output_type": "stream",
     "text": [
      "The probability: 0.00\n",
      "F1: 0.00\n",
      "Confusion Matrix\n",
      "[[0.88384568 0.        ]\n",
      " [0.11615432 0.        ]]\n",
      "\n",
      "The probability: 0.12\n",
      "F1: 0.13\n",
      "Confusion Matrix\n",
      "[[0.78502166 0.09882401]\n",
      " [0.1017124  0.01444192]]\n",
      "\n",
      "The probability: 0.50\n",
      "F1: 0.19\n",
      "Confusion Matrix\n",
      "[[0.44873117 0.4351145 ]\n",
      " [0.05921188 0.05694244]]\n",
      "\n",
      "The probability: 1.00\n",
      "F1: 0.21\n",
      "Confusion Matrix\n",
      "[[0.         0.88384568]\n",
      " [0.         0.11615432]]\n",
      "\n"
     ]
    }
   ],
   "source": [
    "for P in [0, df['insurance_benefits_received'].sum() / len(df), 0.5, 1]:\n",
    "\n",
    "    print(f'The probability: {P:.2f}')\n",
    "    y_pred_rnd = rnd_model_predict(P,len(df),42)\n",
    "        \n",
    "    eval_classifier(df['insurance_benefits_received'], y_pred_rnd)\n",
    "    \n",
    "    print()"
   ]
  },
  {
   "cell_type": "code",
   "execution_count": 43,
   "metadata": {},
   "outputs": [
    {
     "name": "stdout",
     "output_type": "stream",
     "text": [
      "Scores using 1 neighbours:\n",
      "F1: 0.67\n",
      "Confusion Matrix\n",
      "[[0.86323024 0.02130584]\n",
      " [0.04604811 0.06941581]]\n",
      "\n",
      "\n",
      "Scores using 2 neighbours:\n",
      "F1: 0.38\n",
      "Confusion Matrix\n",
      "[[0.87972509 0.004811  ]\n",
      " [0.08728522 0.02817869]]\n",
      "\n",
      "\n",
      "Scores using 3 neighbours:\n",
      "F1: 0.38\n",
      "Confusion Matrix\n",
      "[[0.87079038 0.0137457 ]\n",
      " [0.08522337 0.03024055]]\n",
      "\n",
      "\n",
      "Scores using 4 neighbours:\n",
      "F1: 0.18\n",
      "Confusion Matrix\n",
      "[[0.8790378  0.00549828]\n",
      " [0.10378007 0.01168385]]\n",
      "\n",
      "\n",
      "Scores using 5 neighbours:\n",
      "F1: 0.23\n",
      "Confusion Matrix\n",
      "[[0.87766323 0.00687285]\n",
      " [0.09965636 0.01580756]]\n",
      "\n",
      "\n",
      "Scores using 6 neighbours:\n",
      "F1: 0.06\n",
      "Confusion Matrix\n",
      "[[8.83848797e-01 6.87285223e-04]\n",
      " [1.12027491e-01 3.43642612e-03]]\n",
      "\n",
      "\n",
      "Scores using 7 neighbours:\n",
      "F1: 0.07\n",
      "Confusion Matrix\n",
      "[[0.88316151 0.00137457]\n",
      " [0.11134021 0.00412371]]\n",
      "\n",
      "\n",
      "Scores using 8 neighbours:\n",
      "F1: 0.00\n",
      "Confusion Matrix\n",
      "[[0.88453608 0.        ]\n",
      " [0.11546392 0.        ]]\n",
      "\n",
      "\n",
      "Scores using 9 neighbours:\n",
      "F1: 0.01\n",
      "Confusion Matrix\n",
      "[[8.84536082e-01 0.00000000e+00]\n",
      " [1.14776632e-01 6.87285223e-04]]\n",
      "\n",
      "\n",
      "Scores using 10 neighbours:\n",
      "F1: 0.00\n",
      "Confusion Matrix\n",
      "[[0.88453608 0.        ]\n",
      " [0.11546392 0.        ]]\n",
      "\n",
      "\n"
     ]
    }
   ],
   "source": [
    "# using unscaled data\n",
    "target = 'insurance_benefits_received'\n",
    "feature_names = ['gender', 'age', 'income', 'family_members']\n",
    "\n",
    "df_train, df_valid = train_test_split(df, test_size=0.3,random_state=12345)\n",
    "\n",
    "def test_n_neighbours(df_train,df_valid):\n",
    "    for n in range(1,11):\n",
    "        nbrc = sklearn.neighbors.KNeighborsClassifier(n_neighbors=n)\n",
    "        nbrc.fit(df_train[feature_names], df_train[target])\n",
    "        y_pred = nbrc.predict(df_valid[feature_names])\n",
    "        print(\"Scores using {} neighbours:\".format(n))\n",
    "        eval_classifier(df_valid['insurance_benefits_received'], y_pred)\n",
    "        print(\"\\n\")\n",
    "\n",
    "test_n_neighbours(df_train,df_valid)"
   ]
  },
  {
   "cell_type": "markdown",
   "metadata": {},
   "source": [
    "We can see the F1 scores of the unscaled data performing better with few neighbours but worse as the number of neighbours increases."
   ]
  },
  {
   "cell_type": "code",
   "execution_count": 44,
   "metadata": {},
   "outputs": [
    {
     "name": "stdout",
     "output_type": "stream",
     "text": [
      "Scores using 1 neighbours:\n",
      "F1: 0.93\n",
      "Confusion Matrix\n",
      "[[0.87972509 0.004811  ]\n",
      " [0.01168385 0.10378007]]\n",
      "\n",
      "\n",
      "Scores using 2 neighbours:\n",
      "F1: 0.89\n",
      "Confusion Matrix\n",
      "[[0.88247423 0.00206186]\n",
      " [0.02199313 0.09347079]]\n",
      "\n",
      "\n",
      "Scores using 3 neighbours:\n",
      "F1: 0.91\n",
      "Confusion Matrix\n",
      "[[0.88041237 0.00412371]\n",
      " [0.01649485 0.09896907]]\n",
      "\n",
      "\n",
      "Scores using 4 neighbours:\n",
      "F1: 0.88\n",
      "Confusion Matrix\n",
      "[[0.88178694 0.00274914]\n",
      " [0.0233677  0.09209622]]\n",
      "\n",
      "\n",
      "Scores using 5 neighbours:\n",
      "F1: 0.89\n",
      "Confusion Matrix\n",
      "[[0.87972509 0.004811  ]\n",
      " [0.0185567  0.09690722]]\n",
      "\n",
      "\n",
      "Scores using 6 neighbours:\n",
      "F1: 0.87\n",
      "Confusion Matrix\n",
      "[[0.88178694 0.00274914]\n",
      " [0.02405498 0.09140893]]\n",
      "\n",
      "\n",
      "Scores using 7 neighbours:\n",
      "F1: 0.90\n",
      "Confusion Matrix\n",
      "[[0.88178694 0.00274914]\n",
      " [0.01924399 0.09621993]]\n",
      "\n",
      "\n",
      "Scores using 8 neighbours:\n",
      "F1: 0.86\n",
      "Confusion Matrix\n",
      "[[0.88178694 0.00274914]\n",
      " [0.02542955 0.09003436]]\n",
      "\n",
      "\n",
      "Scores using 9 neighbours:\n",
      "F1: 0.87\n",
      "Confusion Matrix\n",
      "[[0.88178694 0.00274914]\n",
      " [0.02405498 0.09140893]]\n",
      "\n",
      "\n",
      "Scores using 10 neighbours:\n",
      "F1: 0.86\n",
      "Confusion Matrix\n",
      "[[0.88178694 0.00274914]\n",
      " [0.02542955 0.09003436]]\n",
      "\n",
      "\n"
     ]
    }
   ],
   "source": [
    "# using scaled data\n",
    "df_scaled = df.copy()\n",
    "df_scaled.loc[:, feature_names] = transformer_mas.transform(df[feature_names].to_numpy())\n",
    "\n",
    "df_train, df_valid = train_test_split(df_scaled, test_size=0.3,random_state=12345)\n",
    "\n",
    "test_n_neighbours(df_train,df_valid)"
   ]
  },
  {
   "cell_type": "markdown",
   "metadata": {},
   "source": [
    "The kNN classification approach performed far better with the scaled data, with a drop-off in accuracy as the number of neighbours increased."
   ]
  },
  {
   "cell_type": "markdown",
   "metadata": {},
   "source": [
    "#### 3.3 Regression (with Linear Regression)"
   ]
  },
  {
   "cell_type": "markdown",
   "metadata": {},
   "source": [
    "With `insurance_benefits` as the target, evaluate what RMSE would be for a Linear Regression model."
   ]
  },
  {
   "cell_type": "markdown",
   "metadata": {},
   "source": [
    "Build your own implementation of LR. For that, recall how the linear regression task's solution is formulated in terms of LA. Check RMSE for both the original data and the scaled one. Can you see any difference in RMSE between these two cases?\n",
    "\n",
    "Let's denote\n",
    "- $X$ — feature matrix, each row is a case, each column is a feature, the first column consists of unities\n",
    "- $y$ — target (a vector)\n",
    "- $\\hat{y}$ — estimated tagret (a vector)\n",
    "- $w$ — weight vector\n",
    "\n",
    "The task of linear regression in the language of matrices can be formulated as\n",
    "\n",
    "$$\n",
    "y = Xw\n",
    "$$\n",
    "\n",
    "The training objective then is to find such $w$ that it would minimize the L2-distance (MSE) between $Xw$ and $y$:\n",
    "\n",
    "$$\n",
    "\\min_w d_2(Xw, y) \\quad \\text{or} \\quad \\min_w \\text{MSE}(Xw, y)\n",
    "$$\n",
    "\n",
    "It appears that there is analytical solution for the above:\n",
    "\n",
    "$$\n",
    "w = (X^T X)^{-1} X^T y\n",
    "$$\n",
    "\n",
    "The formula above can be used to find the weights $w$ and the latter can be used to calculate predicted values\n",
    "\n",
    "$$\n",
    "\\hat{y} = X_{val}w\n",
    "$$"
   ]
  },
  {
   "cell_type": "markdown",
   "metadata": {},
   "source": [
    "Split the whole data in the 70:30 proportion for the training/validation parts. Use the RMSE metric for the model evaluation."
   ]
  },
  {
   "cell_type": "code",
   "execution_count": 45,
   "metadata": {},
   "outputs": [],
   "source": [
    "class MyLinearRegression:\n",
    "    \n",
    "    def __init__(self):\n",
    "        \n",
    "        self.weights = None\n",
    "    \n",
    "    def fit(self, X, y):\n",
    "        \n",
    "        # adding the unities\n",
    "        X2 = np.append(np.ones([len(X), 1]), X, axis=1)\n",
    "        self.weights = np.linalg.inv(X.T.dot(X)).dot(X.T).dot(y)\n",
    "\n",
    "    def predict(self, X):\n",
    "        \n",
    "        y_pred = X.dot(self.weights)\n",
    "        \n",
    "        return y_pred"
   ]
  },
  {
   "cell_type": "code",
   "execution_count": 46,
   "metadata": {},
   "outputs": [],
   "source": [
    "def eval_regressor(y_true, y_pred):\n",
    "    \n",
    "    rmse = math.sqrt(sklearn.metrics.mean_squared_error(y_true, y_pred))\n",
    "    print(f'RMSE: {rmse:.2f}')\n",
    "    \n",
    "    r2_score = math.sqrt(sklearn.metrics.r2_score(y_true, y_pred))\n",
    "    print(f'R2: {r2_score:.2f}')    "
   ]
  },
  {
   "cell_type": "markdown",
   "metadata": {},
   "source": [
    "Now we evaluate the model without scaling:"
   ]
  },
  {
   "cell_type": "code",
   "execution_count": 47,
   "metadata": {},
   "outputs": [
    {
     "name": "stdout",
     "output_type": "stream",
     "text": [
      "[ 2.28587827e-02 -3.57052853e-02 -1.13606227e-05 -4.73354538e-02]\n",
      "RMSE: 0.39\n",
      "R2: 0.57\n"
     ]
    }
   ],
   "source": [
    "X = df[['age', 'gender', 'income', 'family_members']].to_numpy()\n",
    "y = df['insurance_benefits'].to_numpy()\n",
    "\n",
    "X_train, X_test, y_train, y_test = train_test_split(X, y, test_size=0.3, random_state=12345)\n",
    "\n",
    "lr = MyLinearRegression()\n",
    "\n",
    "lr.fit(X_train, y_train)\n",
    "print(lr.weights)\n",
    "\n",
    "y_test_pred = lr.predict(X_test)\n",
    "eval_regressor(y_test, y_test_pred)"
   ]
  },
  {
   "cell_type": "markdown",
   "metadata": {},
   "source": [
    "Now we evaluate the model with scaled data:"
   ]
  },
  {
   "cell_type": "code",
   "execution_count": 48,
   "metadata": {},
   "outputs": [
    {
     "name": "stdout",
     "output_type": "stream",
     "text": [
      "[ 1.48582087 -0.03570529 -0.89748919 -0.28401272]\n",
      "RMSE: 0.39\n",
      "R2: 0.57\n"
     ]
    }
   ],
   "source": [
    "# using scaled data\n",
    "X = df_scaled[['age', 'gender', 'income', 'family_members']].to_numpy()\n",
    "y = df_scaled['insurance_benefits'].to_numpy()\n",
    "\n",
    "X_train, X_test, y_train, y_test = train_test_split(X, y, test_size=0.3, random_state=12345)\n",
    "\n",
    "lr = MyLinearRegression()\n",
    "\n",
    "lr.fit(X_train, y_train)\n",
    "print(lr.weights)\n",
    "\n",
    "y_test_pred = lr.predict(X_test)\n",
    "eval_regressor(y_test, y_test_pred)"
   ]
  },
  {
   "cell_type": "markdown",
   "metadata": {},
   "source": [
    "We can see that the linear regression model is fairly accurate by the RMSE and R2 scores, and isn't affected by scaled data (the weights are different but the end result is just as accurate)."
   ]
  },
  {
   "cell_type": "markdown",
   "metadata": {},
   "source": [
    "#### 3.4 Obfuscating Data"
   ]
  },
  {
   "cell_type": "markdown",
   "metadata": {},
   "source": [
    "It best to obfuscate data by multiplying the numerical features (remember, they can be seen as the matrix $X$) by an invertible matrix $P$. \n",
    "\n",
    "$$\n",
    "X' = X \\times P\n",
    "$$\n",
    "\n",
    "Try to do that and check how the features' values will look like after the transformation. By the way, the invertible property is important here so make sure that $P$ is indeed invertible.\n",
    "\n",
    "You may want to review the 'Matrices and Matrix Operations -> Matrix Multiplication' lesson to recall the rule of matrix multiplication and its implementation with NumPy."
   ]
  },
  {
   "cell_type": "code",
   "execution_count": 49,
   "metadata": {},
   "outputs": [],
   "source": [
    "personal_info_column_list = ['gender', 'age', 'income', 'family_members']\n",
    "df_pn = df[personal_info_column_list]"
   ]
  },
  {
   "cell_type": "code",
   "execution_count": 50,
   "metadata": {},
   "outputs": [
    {
     "name": "stdout",
     "output_type": "stream",
     "text": [
      "[[1.00e+00 4.10e+01 4.96e+04 1.00e+00]\n",
      " [0.00e+00 4.60e+01 3.80e+04 1.00e+00]\n",
      " [0.00e+00 2.90e+01 2.10e+04 0.00e+00]\n",
      " ...\n",
      " [0.00e+00 2.00e+01 3.39e+04 2.00e+00]\n",
      " [1.00e+00 2.20e+01 3.27e+04 3.00e+00]\n",
      " [1.00e+00 2.80e+01 4.06e+04 1.00e+00]]\n"
     ]
    }
   ],
   "source": [
    "X = df_pn.to_numpy()\n",
    "print(X)"
   ]
  },
  {
   "cell_type": "markdown",
   "metadata": {},
   "source": [
    "Generating a random matrix $P$."
   ]
  },
  {
   "cell_type": "code",
   "execution_count": 51,
   "metadata": {},
   "outputs": [
    {
     "name": "stdout",
     "output_type": "stream",
     "text": [
      "[[0.77395605 0.43887844 0.85859792 0.69736803]\n",
      " [0.09417735 0.97562235 0.7611397  0.78606431]\n",
      " [0.12811363 0.45038594 0.37079802 0.92676499]\n",
      " [0.64386512 0.82276161 0.4434142  0.22723872]]\n"
     ]
    }
   ],
   "source": [
    "rng = np.random.default_rng(seed=42)\n",
    "P = rng.random(size=(X.shape[1], X.shape[1]))\n",
    "print(P)"
   ]
  },
  {
   "cell_type": "markdown",
   "metadata": {},
   "source": [
    "Checking the matrix $P$ is invertible"
   ]
  },
  {
   "cell_type": "code",
   "execution_count": 52,
   "metadata": {},
   "outputs": [
    {
     "name": "stdout",
     "output_type": "stream",
     "text": [
      "P is invertible\n"
     ]
    }
   ],
   "source": [
    "try:\n",
    "    np.linalg.inv(P)\n",
    "    print(\"P is invertible\")\n",
    "except:\n",
    "    print(\"P is not invertible\")"
   ]
  },
  {
   "cell_type": "markdown",
   "metadata": {},
   "source": [
    "Can you guess the customers' ages or income after the transformation?"
   ]
  },
  {
   "cell_type": "code",
   "execution_count": 53,
   "metadata": {},
   "outputs": [
    {
     "name": "stdout",
     "output_type": "stream",
     "text": [
      "[[ 6359.71527314 22380.40467609 18424.09074184 46000.69669016]\n",
      " [ 4873.29406479 17160.36702982 14125.78076133 35253.45577301]\n",
      " [ 2693.11742928  9486.397744    7808.83156024 19484.86063067]\n",
      " ...\n",
      " [ 4346.2234249  15289.24126492 12586.16264392 31433.50888552]\n",
      " [ 4194.09324155 14751.9910242  12144.02930637 30323.88763426]\n",
      " [ 5205.46827354 18314.24814446 15077.01370762 37649.59295455]]\n"
     ]
    }
   ],
   "source": [
    "transformed_X = X @ P\n",
    "print(transformed_X)"
   ]
  },
  {
   "cell_type": "markdown",
   "metadata": {},
   "source": [
    "Can you recover the original data from $X'$ if you know $P$? Try to check that with calculations by moving $P$ from the right side of the formula above to the left one. The rules of matrix multiplcation are really helpful here."
   ]
  },
  {
   "cell_type": "code",
   "execution_count": 54,
   "metadata": {},
   "outputs": [
    {
     "name": "stdout",
     "output_type": "stream",
     "text": [
      "[[1.00000000e+00 4.10000000e+01 4.96000000e+04 1.00000000e+00]\n",
      " [6.66555413e-13 4.60000000e+01 3.80000000e+04 1.00000000e+00]\n",
      " [3.84747671e-13 2.90000000e+01 2.10000000e+04 1.41940791e-12]\n",
      " ...\n",
      " [1.18077361e-12 2.00000000e+01 3.39000000e+04 2.00000000e+00]\n",
      " [1.00000000e+00 2.20000000e+01 3.27000000e+04 3.00000000e+00]\n",
      " [1.00000000e+00 2.80000000e+01 4.06000000e+04 1.00000000e+00]]\n"
     ]
    }
   ],
   "source": [
    "reversed_X = transformed_X @ np.linalg.inv(P)\n",
    "print(reversed_X)"
   ]
  },
  {
   "cell_type": "markdown",
   "metadata": {},
   "source": [
    "Print all three cases for a few customers\n",
    "- The original data\n",
    "- The transformed one\n",
    "- The reversed (recovered) one"
   ]
  },
  {
   "cell_type": "code",
   "execution_count": 55,
   "metadata": {},
   "outputs": [
    {
     "name": "stdout",
     "output_type": "stream",
     "text": [
      "[3389 1101 3822 1535  989]\n"
     ]
    }
   ],
   "source": [
    "rng = np.random.default_rng(12345)\n",
    "customers =  rng.integers(low=0, high=len(df), size=5)\n",
    "print(customers)"
   ]
  },
  {
   "cell_type": "code",
   "execution_count": 56,
   "metadata": {},
   "outputs": [
    {
     "data": {
      "text/plain": [
       "array([[1.00e+00, 2.60e+01, 3.58e+04, 0.00e+00],\n",
       "       [1.00e+00, 3.60e+01, 3.34e+04, 0.00e+00],\n",
       "       [1.00e+00, 2.70e+01, 3.00e+04, 1.00e+00],\n",
       "       [1.00e+00, 4.20e+01, 4.05e+04, 0.00e+00],\n",
       "       [1.00e+00, 3.10e+01, 2.58e+04, 1.00e+00]])"
      ]
     },
     "execution_count": 56,
     "metadata": {},
     "output_type": "execute_result"
    }
   ],
   "source": [
    "# original\n",
    "X[customers]"
   ]
  },
  {
   "cell_type": "code",
   "execution_count": 57,
   "metadata": {},
   "outputs": [
    {
     "data": {
      "text/plain": [
       "array([[ 4589.69061688, 16149.62163624, 13295.2174977 , 33199.32164075],\n",
       "       [ 4283.15967194, 15078.45160881, 12412.91363656, 30982.94631056],\n",
       "       [ 3847.36958983, 13539.18158041, 11145.79351105, 27825.09800845],\n",
       "       [ 5193.33152802, 18282.04550198, 15050.14644682, 37567.69411722],\n",
       "       [ 3309.66904198, 11651.46313066,  9591.48636808, 23935.82931251]])"
      ]
     },
     "execution_count": 57,
     "metadata": {},
     "output_type": "execute_result"
    }
   ],
   "source": [
    "# transformed\n",
    "transformed_X[customers]"
   ]
  },
  {
   "cell_type": "code",
   "execution_count": 58,
   "metadata": {},
   "outputs": [
    {
     "data": {
      "text/plain": [
       "array([[1.00000000e+00, 2.60000000e+01, 3.58000000e+04, 3.65435738e-13],\n",
       "       [1.00000000e+00, 3.60000000e+01, 3.34000000e+04, 5.38386600e-12],\n",
       "       [1.00000000e+00, 2.70000000e+01, 3.00000000e+04, 1.00000000e+00],\n",
       "       [1.00000000e+00, 4.20000000e+01, 4.05000000e+04, 3.36637152e-12],\n",
       "       [1.00000000e+00, 3.10000000e+01, 2.58000000e+04, 1.00000000e+00]])"
      ]
     },
     "execution_count": 58,
     "metadata": {},
     "output_type": "execute_result"
    }
   ],
   "source": [
    "#reversed\n",
    "reversed_X[customers]"
   ]
  },
  {
   "cell_type": "markdown",
   "metadata": {},
   "source": [
    "You can probably see that some values are not exactly the same as they are in the original data. \n",
    "\n",
    "**What might be the reason for that?**"
   ]
  },
  {
   "cell_type": "markdown",
   "metadata": {},
   "source": [
    "The values are slightly off from a rounding error with floats."
   ]
  },
  {
   "cell_type": "markdown",
   "metadata": {},
   "source": [
    "#### Proof That Data Obfuscation Can Work with LR"
   ]
  },
  {
   "cell_type": "markdown",
   "metadata": {},
   "source": [
    "The regression task has been solved with linear regression in this project. Your next task is to prove _analytically_ that the given obfuscation method won't affect linear regression in terms of predicted values i.e. their values will remain the same. Can you believe that? Well, you don't have to, you should prove it!"
   ]
  },
  {
   "cell_type": "markdown",
   "metadata": {},
   "source": [
    "So, the data is obfuscated and there is $X \\times P$ instead of just $X$ now. Consequently, there are other weights $w_P$ as\n",
    "$$\n",
    "w = (X^T X)^{-1} X^T y \\quad \\Rightarrow \\quad w_P = [(XP)^T XP]^{-1} (XP)^T y\n",
    "$$\n",
    "\n",
    "How would $w$ and $w_P$ be linked if you simplify the formula for $w_P$ above? \n",
    "\n",
    "What would be predicted values with $w_P$? \n",
    "\n",
    "What does that mean for the quality of linear regression if you measure it with RMSE?"
   ]
  },
  {
   "cell_type": "markdown",
   "metadata": {},
   "source": [
    "**Answer**"
   ]
  },
  {
   "cell_type": "markdown",
   "metadata": {},
   "source": [
    "$w$ and $w_P$ are linked by multiplication of the $P$ matrix (by its original form or inverse) to result in identical y predictions."
   ]
  },
  {
   "cell_type": "markdown",
   "metadata": {},
   "source": [
    "**Analytical proof**"
   ]
  },
  {
   "cell_type": "markdown",
   "metadata": {},
   "source": [
    "$X'=XP$"
   ]
  },
  {
   "cell_type": "markdown",
   "metadata": {},
   "source": [
    "$w = (X^T X)^{-1} X^T y$"
   ]
  },
  {
   "cell_type": "markdown",
   "metadata": {},
   "source": [
    "$w' = (X'^T X')^{-1} X'^T y $"
   ]
  },
  {
   "cell_type": "markdown",
   "metadata": {},
   "source": [
    "$ = [(XP)^{T}(XP)]^{-1}(XP)^{T}y $"
   ]
  },
  {
   "cell_type": "markdown",
   "metadata": {},
   "source": [
    "$= (P^{T}X^{T}XP)^{-1}P^{T}X^{T}y $"
   ]
  },
  {
   "cell_type": "markdown",
   "metadata": {},
   "source": [
    "$ = (XP)^{-1}(P^T X^T)^{-1} (P^T X^T) y $"
   ]
  },
  {
   "cell_type": "markdown",
   "metadata": {},
   "source": [
    "$=P^{-1}(X^{T}X)^{-1}P^{T^{-1}}P^{T}X^{T}y = P^{-1}w$  "
   ]
  },
  {
   "cell_type": "markdown",
   "metadata": {},
   "source": [
    "Let $R = (P^T)^{-1}P^T$"
   ]
  },
  {
   "cell_type": "markdown",
   "metadata": {},
   "source": [
    "$\\hat{y}'= XPw' = XPP^{-1}w = XRw = Xw = \\hat{y}$"
   ]
  },
  {
   "cell_type": "markdown",
   "metadata": {},
   "source": [
    "#### Test Linear Regression With Data Obfuscation"
   ]
  },
  {
   "cell_type": "markdown",
   "metadata": {},
   "source": [
    "Now, let's prove Linear Regression can work computationally with the chosen obfuscation transformation.\n",
    "\n",
    "Build a procedure or a class that runs Linear Regression optionally with the obfuscation. You can use either a ready implementation of Linear Regression from sciki-learn or your own.\n",
    "\n",
    "Run Linear Regression for the original data and the obfuscated one, compare the predicted values and the RMSE, $R^2$ metric values. Is there any difference?"
   ]
  },
  {
   "cell_type": "markdown",
   "metadata": {},
   "source": [
    "**Procedure**\n",
    "\n",
    "- Create a square matrix $P$ of random numbers.\n",
    "- Check that it is invertible. If not, repeat the first point until we get an invertible matrix.\n",
    "- <! your comment here !>\n",
    "- Use $XP$ as the new feature matrix"
   ]
  },
  {
   "cell_type": "code",
   "execution_count": 59,
   "metadata": {},
   "outputs": [
    {
     "name": "stdout",
     "output_type": "stream",
     "text": [
      "[[0.77395605 0.43887844 0.85859792 0.69736803]\n",
      " [0.09417735 0.97562235 0.7611397  0.78606431]\n",
      " [0.12811363 0.45038594 0.37079802 0.92676499]\n",
      " [0.64386512 0.82276161 0.4434142  0.22723872]]\n"
     ]
    }
   ],
   "source": [
    "rng = np.random.default_rng(seed=42)\n",
    "invertible = False\n",
    "while invertible == False:\n",
    "    P = rng.random(size=(X.shape[1], X.shape[1]))\n",
    "    try:\n",
    "        np.linalg.inv(P)\n",
    "        invertible = True\n",
    "    except:\n",
    "        print(\"P isn't invertible\")\n",
    "\n",
    "print(P)\n",
    "\n",
    "def evaluate(X,y):\n",
    "    X_train, X_test, y_train, y_test = train_test_split(X, y, test_size=0.3, random_state=12345)\n",
    "    lr = MyLinearRegression()\n",
    "    lr.fit(X_train, y_train)\n",
    "    y_test_pred = lr.predict(X_test)\n",
    "    eval_regressor(y_test, y_test_pred)\n",
    "        \n",
    "def eval_obf(X,y,P):\n",
    "    obf_X = X @ P\n",
    "    evaluate(obf_X,y)"
   ]
  },
  {
   "cell_type": "code",
   "execution_count": 60,
   "metadata": {},
   "outputs": [
    {
     "name": "stdout",
     "output_type": "stream",
     "text": [
      "RMSE: 0.39\n",
      "R2: 0.57\n"
     ]
    }
   ],
   "source": [
    "evaluate(X,y)"
   ]
  },
  {
   "cell_type": "code",
   "execution_count": 61,
   "metadata": {},
   "outputs": [
    {
     "name": "stdout",
     "output_type": "stream",
     "text": [
      "RMSE: 0.39\n",
      "R2: 0.57\n"
     ]
    }
   ],
   "source": [
    "eval_obf(X,y,P)"
   ]
  },
  {
   "cell_type": "markdown",
   "metadata": {},
   "source": [
    "There is no difference between the RMSE and $R^2$ metric values for the linear regression on the original and obfuscated data."
   ]
  },
  {
   "cell_type": "markdown",
   "metadata": {},
   "source": [
    "### Conclusions"
   ]
  },
  {
   "cell_type": "markdown",
   "metadata": {},
   "source": [
    "In the first part we looked at kNN algorithms and how it is affected by metrics and scaling, with the later having effect. In the second part we took a classification approach and boosted scores significantly with scaling. Then we performed a linear regression, saw its results and scores untouched by data scaling and obfuscation. We have seen the power of matrix operations to improve parts of models and procedures in data analysis."
   ]
  }
 ],
 "metadata": {
  "ExecuteTimeLog": [
   {
    "duration": 1698,
    "start_time": "2021-11-25T11:01:02.375Z"
   },
   {
    "duration": 259,
    "start_time": "2021-11-25T11:01:04.076Z"
   },
   {
    "duration": 5,
    "start_time": "2021-11-25T11:01:04.338Z"
   },
   {
    "duration": 26,
    "start_time": "2021-11-25T11:01:04.346Z"
   },
   {
    "duration": 9,
    "start_time": "2021-11-25T11:01:04.375Z"
   },
   {
    "duration": 16,
    "start_time": "2021-11-25T11:01:04.387Z"
   },
   {
    "duration": 10,
    "start_time": "2021-11-25T11:01:04.407Z"
   },
   {
    "duration": 8,
    "start_time": "2021-11-25T11:01:04.419Z"
   },
   {
    "duration": 40,
    "start_time": "2021-11-25T11:01:04.430Z"
   },
   {
    "duration": 8424,
    "start_time": "2021-11-25T11:01:04.472Z"
   },
   {
    "duration": 4,
    "start_time": "2021-11-25T11:01:12.898Z"
   },
   {
    "duration": 13,
    "start_time": "2021-11-25T11:01:12.905Z"
   },
   {
    "duration": 35,
    "start_time": "2021-11-25T11:01:12.921Z"
   },
   {
    "duration": 17,
    "start_time": "2021-11-25T11:01:12.958Z"
   },
   {
    "duration": 191,
    "start_time": "2021-11-25T11:01:12.978Z"
   },
   {
    "duration": 7,
    "start_time": "2021-11-25T11:01:34.324Z"
   },
   {
    "duration": 14,
    "start_time": "2021-11-25T11:01:36.835Z"
   },
   {
    "duration": 22,
    "start_time": "2021-11-25T11:01:36.852Z"
   },
   {
    "duration": 898,
    "start_time": "2021-11-25T11:01:36.960Z"
   },
   {
    "duration": 6,
    "start_time": "2021-11-25T11:01:53.239Z"
   },
   {
    "duration": 16,
    "start_time": "2021-11-25T11:01:53.897Z"
   },
   {
    "duration": 21,
    "start_time": "2021-11-25T11:01:54.084Z"
   },
   {
    "duration": 811,
    "start_time": "2021-11-25T11:01:55.165Z"
   },
   {
    "duration": 6,
    "start_time": "2021-11-25T11:02:07.997Z"
   },
   {
    "duration": 15,
    "start_time": "2021-11-25T11:02:08.378Z"
   },
   {
    "duration": 14,
    "start_time": "2021-11-25T11:02:08.516Z"
   },
   {
    "duration": 213,
    "start_time": "2021-11-25T11:02:09.559Z"
   },
   {
    "duration": 7,
    "start_time": "2021-11-25T11:03:58.210Z"
   },
   {
    "duration": 17,
    "start_time": "2021-11-25T11:03:59.515Z"
   },
   {
    "duration": 14,
    "start_time": "2021-11-25T11:03:59.699Z"
   },
   {
    "duration": 26,
    "start_time": "2021-11-25T11:04:00.375Z"
   },
   {
    "duration": 27,
    "start_time": "2021-11-25T11:05:12.910Z"
   },
   {
    "duration": 26,
    "start_time": "2021-11-25T11:05:16.291Z"
   },
   {
    "duration": 432,
    "start_time": "2021-11-25T11:06:26.363Z"
   },
   {
    "duration": 106,
    "start_time": "2021-11-25T11:06:36.764Z"
   },
   {
    "duration": 6,
    "start_time": "2021-11-25T11:06:47.395Z"
   },
   {
    "duration": 6,
    "start_time": "2021-11-25T11:06:56.017Z"
   },
   {
    "duration": 12,
    "start_time": "2021-11-25T11:07:11.583Z"
   },
   {
    "duration": 179,
    "start_time": "2021-11-25T11:07:18.286Z"
   },
   {
    "duration": 10,
    "start_time": "2021-11-25T11:07:23.776Z"
   },
   {
    "duration": 18,
    "start_time": "2021-11-25T11:08:25.255Z"
   },
   {
    "duration": 6,
    "start_time": "2021-11-25T11:08:35.593Z"
   },
   {
    "duration": 5,
    "start_time": "2021-11-25T11:08:37.944Z"
   },
   {
    "duration": 12,
    "start_time": "2021-11-25T11:08:44.635Z"
   },
   {
    "duration": 13,
    "start_time": "2021-11-25T11:08:51.473Z"
   },
   {
    "duration": 19,
    "start_time": "2021-11-25T11:09:07.873Z"
   },
   {
    "duration": 6,
    "start_time": "2021-11-25T11:09:13.288Z"
   },
   {
    "duration": 15,
    "start_time": "2021-11-25T11:09:17.346Z"
   },
   {
    "duration": 14,
    "start_time": "2021-11-25T11:09:17.504Z"
   },
   {
    "duration": 152,
    "start_time": "2021-11-25T11:09:18.618Z"
   },
   {
    "duration": 26,
    "start_time": "2021-11-25T11:09:39.944Z"
   },
   {
    "duration": 5,
    "start_time": "2021-11-25T11:09:40.665Z"
   },
   {
    "duration": 13,
    "start_time": "2021-11-25T11:09:42.511Z"
   },
   {
    "duration": 114,
    "start_time": "2021-11-25T11:10:24.856Z"
   },
   {
    "duration": 22,
    "start_time": "2021-11-25T11:10:31.127Z"
   },
   {
    "duration": 24,
    "start_time": "2021-11-25T11:10:34.001Z"
   },
   {
    "duration": 367,
    "start_time": "2021-11-25T11:11:50.053Z"
   },
   {
    "duration": 20,
    "start_time": "2021-11-25T11:11:57.676Z"
   },
   {
    "duration": 17,
    "start_time": "2021-11-25T11:12:03.792Z"
   },
   {
    "duration": 4,
    "start_time": "2021-11-25T11:12:06.750Z"
   },
   {
    "duration": 6,
    "start_time": "2021-11-25T11:12:11.462Z"
   },
   {
    "duration": 21,
    "start_time": "2021-11-25T11:12:15.409Z"
   },
   {
    "duration": 5,
    "start_time": "2021-11-25T11:12:15.974Z"
   },
   {
    "duration": 12,
    "start_time": "2021-11-25T11:12:16.395Z"
   },
   {
    "duration": 12,
    "start_time": "2021-11-25T11:12:18.613Z"
   },
   {
    "duration": 13,
    "start_time": "2021-11-25T11:12:20.088Z"
   },
   {
    "duration": 10,
    "start_time": "2021-11-25T11:12:25.333Z"
   },
   {
    "duration": 14,
    "start_time": "2021-11-25T11:12:28.867Z"
   },
   {
    "duration": 13,
    "start_time": "2021-11-25T11:12:29.026Z"
   },
   {
    "duration": 44,
    "start_time": "2021-11-25T11:12:30.228Z"
   },
   {
    "duration": 71,
    "start_time": "2021-11-25T11:12:32.001Z"
   },
   {
    "duration": 23,
    "start_time": "2021-11-25T11:12:32.699Z"
   },
   {
    "duration": 23,
    "start_time": "2021-11-25T11:12:35.250Z"
   },
   {
    "duration": 254,
    "start_time": "2021-11-25T11:15:12.844Z"
   },
   {
    "duration": 6,
    "start_time": "2021-11-25T11:15:13.365Z"
   },
   {
    "duration": 14,
    "start_time": "2021-11-25T11:15:13.529Z"
   },
   {
    "duration": 9,
    "start_time": "2021-11-25T11:15:13.710Z"
   },
   {
    "duration": 10,
    "start_time": "2021-11-25T11:15:14.259Z"
   },
   {
    "duration": 8,
    "start_time": "2021-11-25T11:15:15.096Z"
   },
   {
    "duration": 8,
    "start_time": "2021-11-25T11:15:17.086Z"
   },
   {
    "duration": 9,
    "start_time": "2021-11-25T11:15:17.654Z"
   },
   {
    "duration": 8894,
    "start_time": "2021-11-25T11:15:18.967Z"
   },
   {
    "duration": 3,
    "start_time": "2021-11-25T11:15:27.868Z"
   },
   {
    "duration": 9,
    "start_time": "2021-11-25T11:15:27.874Z"
   },
   {
    "duration": 20,
    "start_time": "2021-11-25T11:15:27.886Z"
   },
   {
    "duration": 15,
    "start_time": "2021-11-25T11:15:27.908Z"
   },
   {
    "duration": 150,
    "start_time": "2021-11-25T11:15:27.925Z"
   },
   {
    "duration": 39,
    "start_time": "2021-11-25T11:15:28.632Z"
   },
   {
    "duration": 28,
    "start_time": "2021-11-25T11:15:28.972Z"
   },
   {
    "duration": 26,
    "start_time": "2021-11-25T11:15:29.520Z"
   },
   {
    "duration": 6552,
    "start_time": "2021-11-25T18:14:26.306Z"
   },
   {
    "duration": 1160,
    "start_time": "2021-11-25T18:14:32.860Z"
   },
   {
    "duration": 185,
    "start_time": "2021-11-25T18:14:34.022Z"
   },
   {
    "duration": 4,
    "start_time": "2021-11-25T18:14:34.208Z"
   },
   {
    "duration": 35,
    "start_time": "2021-11-25T18:14:34.213Z"
   },
   {
    "duration": 18,
    "start_time": "2021-11-25T18:14:34.249Z"
   },
   {
    "duration": 19,
    "start_time": "2021-11-25T18:14:34.268Z"
   },
   {
    "duration": 8,
    "start_time": "2021-11-25T18:14:34.289Z"
   },
   {
    "duration": 4,
    "start_time": "2021-11-25T18:14:34.299Z"
   },
   {
    "duration": 4,
    "start_time": "2021-11-25T18:14:34.305Z"
   },
   {
    "duration": 4595,
    "start_time": "2021-11-25T18:14:34.311Z"
   },
   {
    "duration": 3,
    "start_time": "2021-11-25T18:14:38.908Z"
   },
   {
    "duration": 9,
    "start_time": "2021-11-25T18:14:38.913Z"
   },
   {
    "duration": 16,
    "start_time": "2021-11-25T18:14:38.924Z"
   },
   {
    "duration": 11,
    "start_time": "2021-11-25T18:14:38.942Z"
   },
   {
    "duration": 233,
    "start_time": "2021-11-25T18:14:38.955Z"
   },
   {
    "duration": 110,
    "start_time": "2021-11-25T18:14:39.190Z"
   },
   {
    "duration": 17,
    "start_time": "2021-11-25T18:14:39.388Z"
   },
   {
    "duration": 13,
    "start_time": "2021-11-25T18:14:39.406Z"
   },
   {
    "duration": 3,
    "start_time": "2021-11-25T18:14:39.420Z"
   },
   {
    "duration": 7,
    "start_time": "2021-11-25T18:14:39.425Z"
   },
   {
    "duration": 3,
    "start_time": "2021-11-25T18:14:39.434Z"
   },
   {
    "duration": 4,
    "start_time": "2021-11-25T18:14:39.440Z"
   },
   {
    "duration": 57,
    "start_time": "2021-11-25T18:14:39.445Z"
   },
   {
    "duration": 65,
    "start_time": "2021-11-25T18:14:39.504Z"
   },
   {
    "duration": 89,
    "start_time": "2021-11-25T18:14:39.571Z"
   },
   {
    "duration": 3,
    "start_time": "2021-11-25T18:14:39.662Z"
   },
   {
    "duration": 14,
    "start_time": "2021-11-25T18:14:39.667Z"
   },
   {
    "duration": 15,
    "start_time": "2021-11-25T18:14:39.682Z"
   },
   {
    "duration": 7,
    "start_time": "2021-11-25T18:14:39.698Z"
   },
   {
    "duration": 85,
    "start_time": "2021-11-25T18:14:39.707Z"
   },
   {
    "duration": 7,
    "start_time": "2021-11-25T18:14:39.794Z"
   },
   {
    "duration": 86,
    "start_time": "2021-11-25T18:14:39.803Z"
   },
   {
    "duration": 8,
    "start_time": "2021-11-25T18:14:39.891Z"
   },
   {
    "duration": 6,
    "start_time": "2021-11-25T18:14:39.901Z"
   },
   {
    "duration": 83,
    "start_time": "2021-11-25T18:14:39.909Z"
   },
   {
    "duration": 8,
    "start_time": "2021-11-25T18:14:39.993Z"
   },
   {
    "duration": 87,
    "start_time": "2021-11-25T18:14:40.003Z"
   },
   {
    "duration": 6,
    "start_time": "2021-11-25T18:14:40.092Z"
   },
   {
    "duration": 4,
    "start_time": "2021-11-25T18:14:40.100Z"
   },
   {
    "duration": 86,
    "start_time": "2021-11-25T18:14:40.106Z"
   },
   {
    "duration": 10,
    "start_time": "2021-11-25T18:14:40.194Z"
   },
   {
    "duration": 6,
    "start_time": "2021-11-25T18:14:40.206Z"
   },
   {
    "duration": 332,
    "start_time": "2021-11-25T18:18:34.043Z"
   },
   {
    "duration": 416,
    "start_time": "2021-11-25T18:18:43.289Z"
   },
   {
    "duration": 425,
    "start_time": "2021-11-25T18:19:23.688Z"
   },
   {
    "duration": 468,
    "start_time": "2021-11-25T18:19:39.881Z"
   },
   {
    "duration": 425,
    "start_time": "2021-11-25T18:21:40.779Z"
   },
   {
    "duration": 477,
    "start_time": "2021-11-25T18:21:42.234Z"
   },
   {
    "duration": 481,
    "start_time": "2021-11-25T18:21:49.860Z"
   },
   {
    "duration": 435,
    "start_time": "2021-11-25T18:23:10.519Z"
   },
   {
    "duration": 427,
    "start_time": "2021-11-25T18:23:20.164Z"
   },
   {
    "duration": 485,
    "start_time": "2021-11-25T18:23:44.720Z"
   },
   {
    "duration": 2395,
    "start_time": "2021-11-25T18:27:56.348Z"
   },
   {
    "duration": 1113,
    "start_time": "2021-11-25T18:27:58.745Z"
   },
   {
    "duration": 177,
    "start_time": "2021-11-25T18:27:59.860Z"
   },
   {
    "duration": 3,
    "start_time": "2021-11-25T18:28:00.039Z"
   },
   {
    "duration": 15,
    "start_time": "2021-11-25T18:28:00.043Z"
   },
   {
    "duration": 7,
    "start_time": "2021-11-25T18:28:00.060Z"
   },
   {
    "duration": 20,
    "start_time": "2021-11-25T18:28:00.069Z"
   },
   {
    "duration": 17,
    "start_time": "2021-11-25T18:28:00.091Z"
   },
   {
    "duration": 8,
    "start_time": "2021-11-25T18:28:00.111Z"
   },
   {
    "duration": 10,
    "start_time": "2021-11-25T18:28:00.121Z"
   },
   {
    "duration": 4539,
    "start_time": "2021-11-25T18:28:00.132Z"
   },
   {
    "duration": 2,
    "start_time": "2021-11-25T18:28:04.673Z"
   },
   {
    "duration": 4,
    "start_time": "2021-11-25T18:28:04.688Z"
   },
   {
    "duration": 11,
    "start_time": "2021-11-25T18:28:04.693Z"
   },
   {
    "duration": 9,
    "start_time": "2021-11-25T18:28:04.706Z"
   },
   {
    "duration": 75,
    "start_time": "2021-11-25T18:28:04.717Z"
   },
   {
    "duration": 194,
    "start_time": "2021-11-25T18:28:04.794Z"
   },
   {
    "duration": 106,
    "start_time": "2021-11-25T18:28:04.990Z"
   },
   {
    "duration": 13,
    "start_time": "2021-11-25T18:28:05.097Z"
   },
   {
    "duration": 6,
    "start_time": "2021-11-25T18:28:05.112Z"
   },
   {
    "duration": 7,
    "start_time": "2021-11-25T18:28:05.119Z"
   },
   {
    "duration": 3,
    "start_time": "2021-11-25T18:28:05.127Z"
   },
   {
    "duration": 7,
    "start_time": "2021-11-25T18:28:05.131Z"
   },
   {
    "duration": 53,
    "start_time": "2021-11-25T18:28:05.139Z"
   },
   {
    "duration": 471,
    "start_time": "2021-11-25T18:28:05.193Z"
   },
   {
    "duration": 482,
    "start_time": "2021-11-25T18:28:05.665Z"
   },
   {
    "duration": 4,
    "start_time": "2021-11-25T18:28:06.150Z"
   },
   {
    "duration": 8,
    "start_time": "2021-11-25T18:28:06.156Z"
   },
   {
    "duration": 13,
    "start_time": "2021-11-25T18:28:06.166Z"
   },
   {
    "duration": 6,
    "start_time": "2021-11-25T18:28:06.188Z"
   },
   {
    "duration": 3,
    "start_time": "2021-11-25T18:28:06.196Z"
   },
   {
    "duration": 5,
    "start_time": "2021-11-25T18:28:06.200Z"
   },
   {
    "duration": 84,
    "start_time": "2021-11-25T18:28:06.206Z"
   },
   {
    "duration": 6,
    "start_time": "2021-11-25T18:28:06.292Z"
   },
   {
    "duration": 6,
    "start_time": "2021-11-25T18:28:06.299Z"
   },
   {
    "duration": 83,
    "start_time": "2021-11-25T18:28:06.307Z"
   },
   {
    "duration": 8,
    "start_time": "2021-11-25T18:28:06.392Z"
   },
   {
    "duration": 5,
    "start_time": "2021-11-25T18:28:06.402Z"
   },
   {
    "duration": 5,
    "start_time": "2021-11-25T18:28:06.489Z"
   },
   {
    "duration": 8,
    "start_time": "2021-11-25T18:28:06.495Z"
   },
   {
    "duration": 87,
    "start_time": "2021-11-25T18:28:06.504Z"
   },
   {
    "duration": 7,
    "start_time": "2021-11-25T18:28:06.593Z"
   },
   {
    "duration": 87,
    "start_time": "2021-11-25T18:28:06.602Z"
   }
  ],
  "kernelspec": {
   "display_name": "Python 3",
   "language": "python",
   "name": "python3"
  },
  "language_info": {
   "codemirror_mode": {
    "name": "ipython",
    "version": 3
   },
   "file_extension": ".py",
   "mimetype": "text/x-python",
   "name": "python",
   "nbconvert_exporter": "python",
   "pygments_lexer": "ipython3",
   "version": "3.9.7"
  },
  "toc": {
   "base_numbering": 1,
   "nav_menu": {},
   "number_sections": true,
   "sideBar": true,
   "skip_h1_title": true,
   "title_cell": "Table of Contents",
   "title_sidebar": "Contents",
   "toc_cell": false,
   "toc_position": {},
   "toc_section_display": true,
   "toc_window_display": false
  }
 },
 "nbformat": 4,
 "nbformat_minor": 4
}
