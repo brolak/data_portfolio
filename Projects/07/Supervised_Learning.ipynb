{
 "cells": [
  {
   "cell_type": "markdown",
   "metadata": {},
   "source": [
    "### Step 1. Open the data file"
   ]
  },
  {
   "cell_type": "markdown",
   "metadata": {},
   "source": [
    "Begin by importing required libraries and the dataset."
   ]
  },
  {
   "cell_type": "code",
   "execution_count": 26,
   "metadata": {},
   "outputs": [
    {
     "data": {
      "text/html": [
       "<div>\n",
       "<style scoped>\n",
       "    .dataframe tbody tr th:only-of-type {\n",
       "        vertical-align: middle;\n",
       "    }\n",
       "\n",
       "    .dataframe tbody tr th {\n",
       "        vertical-align: top;\n",
       "    }\n",
       "\n",
       "    .dataframe thead th {\n",
       "        text-align: right;\n",
       "    }\n",
       "</style>\n",
       "<table border=\"1\" class=\"dataframe\">\n",
       "  <thead>\n",
       "    <tr style=\"text-align: right;\">\n",
       "      <th></th>\n",
       "      <th>RowNumber</th>\n",
       "      <th>CustomerId</th>\n",
       "      <th>Surname</th>\n",
       "      <th>CreditScore</th>\n",
       "      <th>Geography</th>\n",
       "      <th>Gender</th>\n",
       "      <th>Age</th>\n",
       "      <th>Tenure</th>\n",
       "      <th>Balance</th>\n",
       "      <th>NumOfProducts</th>\n",
       "      <th>HasCrCard</th>\n",
       "      <th>IsActiveMember</th>\n",
       "      <th>EstimatedSalary</th>\n",
       "      <th>Exited</th>\n",
       "    </tr>\n",
       "  </thead>\n",
       "  <tbody>\n",
       "    <tr>\n",
       "      <th>7308</th>\n",
       "      <td>7309</td>\n",
       "      <td>15618703</td>\n",
       "      <td>White</td>\n",
       "      <td>663</td>\n",
       "      <td>Spain</td>\n",
       "      <td>Female</td>\n",
       "      <td>53</td>\n",
       "      <td>6.0</td>\n",
       "      <td>150200.23</td>\n",
       "      <td>1</td>\n",
       "      <td>0</td>\n",
       "      <td>1</td>\n",
       "      <td>151317.27</td>\n",
       "      <td>1</td>\n",
       "    </tr>\n",
       "    <tr>\n",
       "      <th>9241</th>\n",
       "      <td>9242</td>\n",
       "      <td>15775627</td>\n",
       "      <td>Gordon</td>\n",
       "      <td>509</td>\n",
       "      <td>France</td>\n",
       "      <td>Male</td>\n",
       "      <td>35</td>\n",
       "      <td>8.0</td>\n",
       "      <td>0.00</td>\n",
       "      <td>2</td>\n",
       "      <td>0</td>\n",
       "      <td>1</td>\n",
       "      <td>67431.28</td>\n",
       "      <td>0</td>\n",
       "    </tr>\n",
       "    <tr>\n",
       "      <th>2998</th>\n",
       "      <td>2999</td>\n",
       "      <td>15766289</td>\n",
       "      <td>Dickinson</td>\n",
       "      <td>751</td>\n",
       "      <td>France</td>\n",
       "      <td>Male</td>\n",
       "      <td>47</td>\n",
       "      <td>5.0</td>\n",
       "      <td>142669.93</td>\n",
       "      <td>2</td>\n",
       "      <td>1</td>\n",
       "      <td>0</td>\n",
       "      <td>162760.96</td>\n",
       "      <td>0</td>\n",
       "    </tr>\n",
       "    <tr>\n",
       "      <th>8945</th>\n",
       "      <td>8946</td>\n",
       "      <td>15616745</td>\n",
       "      <td>Hs?</td>\n",
       "      <td>542</td>\n",
       "      <td>Spain</td>\n",
       "      <td>Male</td>\n",
       "      <td>35</td>\n",
       "      <td>2.0</td>\n",
       "      <td>174894.53</td>\n",
       "      <td>1</td>\n",
       "      <td>1</td>\n",
       "      <td>1</td>\n",
       "      <td>22314.55</td>\n",
       "      <td>0</td>\n",
       "    </tr>\n",
       "    <tr>\n",
       "      <th>6859</th>\n",
       "      <td>6860</td>\n",
       "      <td>15811927</td>\n",
       "      <td>Marcelo</td>\n",
       "      <td>733</td>\n",
       "      <td>France</td>\n",
       "      <td>Female</td>\n",
       "      <td>38</td>\n",
       "      <td>3.0</td>\n",
       "      <td>157658.36</td>\n",
       "      <td>1</td>\n",
       "      <td>0</td>\n",
       "      <td>0</td>\n",
       "      <td>19658.43</td>\n",
       "      <td>0</td>\n",
       "    </tr>\n",
       "  </tbody>\n",
       "</table>\n",
       "</div>"
      ],
      "text/plain": [
       "      RowNumber  CustomerId    Surname  CreditScore Geography  Gender  Age  \\\n",
       "7308       7309    15618703      White          663     Spain  Female   53   \n",
       "9241       9242    15775627     Gordon          509    France    Male   35   \n",
       "2998       2999    15766289  Dickinson          751    France    Male   47   \n",
       "8945       8946    15616745        Hs?          542     Spain    Male   35   \n",
       "6859       6860    15811927    Marcelo          733    France  Female   38   \n",
       "\n",
       "      Tenure    Balance  NumOfProducts  HasCrCard  IsActiveMember  \\\n",
       "7308     6.0  150200.23              1          0               1   \n",
       "9241     8.0       0.00              2          0               1   \n",
       "2998     5.0  142669.93              2          1               0   \n",
       "8945     2.0  174894.53              1          1               1   \n",
       "6859     3.0  157658.36              1          0               0   \n",
       "\n",
       "      EstimatedSalary  Exited  \n",
       "7308        151317.27       1  \n",
       "9241         67431.28       0  \n",
       "2998        162760.96       0  \n",
       "8945         22314.55       0  \n",
       "6859         19658.43       0  "
      ]
     },
     "execution_count": 26,
     "metadata": {},
     "output_type": "execute_result"
    }
   ],
   "source": [
    "import pandas as pd\n",
    "import numpy as np\n",
    "import matplotlib.pyplot as plt\n",
    "\n",
    "from sklearn.model_selection import train_test_split \n",
    "from sklearn.tree import DecisionTreeClassifier\n",
    "from sklearn.ensemble import RandomForestClassifier \n",
    "from sklearn.linear_model import LogisticRegression\n",
    "from sklearn.preprocessing import StandardScaler\n",
    "from sklearn.metrics import confusion_matrix\n",
    "from sklearn.utils import shuffle\n",
    "from sklearn.metrics import f1_score\n",
    "from sklearn.metrics import roc_curve\n",
    "from sklearn.metrics import roc_auc_score\n",
    "\n",
    "from imblearn.over_sampling import SMOTE \n",
    "from imblearn.under_sampling import TomekLinks\n",
    "\n",
    "from IPython.display import display\n",
    "\n",
    "try:\n",
    "    df = pd.read_csv('../datasets/Churn.csv')\n",
    "    display(df.sample(5))\n",
    "except:\n",
    "    print(\"Data not found\")\n",
    "\n"
   ]
  },
  {
   "cell_type": "markdown",
   "metadata": {},
   "source": [
    "Data is customers and their personal/banking information. \n",
    "RowNumber is redundant column, and surname/customerid are not logical choices as a features for the model. Also, gender and geography need encoding because they are strings."
   ]
  },
  {
   "cell_type": "code",
   "execution_count": 27,
   "metadata": {},
   "outputs": [
    {
     "name": "stdout",
     "output_type": "stream",
     "text": [
      "<class 'pandas.core.frame.DataFrame'>\n",
      "RangeIndex: 10000 entries, 0 to 9999\n",
      "Data columns (total 11 columns):\n",
      " #   Column           Non-Null Count  Dtype  \n",
      "---  ------           --------------  -----  \n",
      " 0   CreditScore      10000 non-null  int64  \n",
      " 1   Geography        10000 non-null  object \n",
      " 2   Gender           10000 non-null  object \n",
      " 3   Age              10000 non-null  int64  \n",
      " 4   Tenure           9091 non-null   float64\n",
      " 5   Balance          10000 non-null  float64\n",
      " 6   NumOfProducts    10000 non-null  int64  \n",
      " 7   HasCrCard        10000 non-null  int64  \n",
      " 8   IsActiveMember   10000 non-null  int64  \n",
      " 9   EstimatedSalary  10000 non-null  float64\n",
      " 10  Exited           10000 non-null  int64  \n",
      "dtypes: float64(3), int64(6), object(2)\n",
      "memory usage: 859.5+ KB\n"
     ]
    }
   ],
   "source": [
    "# dropping columns that won't be used in features\n",
    "df = df.drop(['RowNumber','CustomerId','Surname'],axis=1)\n",
    "df.info()"
   ]
  },
  {
   "cell_type": "markdown",
   "metadata": {},
   "source": [
    "All datatypes are correct. Missing tenure values need to be investigated."
   ]
  },
  {
   "cell_type": "code",
   "execution_count": 28,
   "metadata": {},
   "outputs": [
    {
     "name": "stdout",
     "output_type": "stream",
     "text": [
      "1.0     952\n",
      "2.0     950\n",
      "8.0     933\n",
      "3.0     928\n",
      "5.0     927\n",
      "7.0     925\n",
      "4.0     885\n",
      "9.0     882\n",
      "6.0     881\n",
      "10.0    446\n",
      "0.0     382\n",
      "Name: Tenure, dtype: int64\n"
     ]
    },
    {
     "data": {
      "text/html": [
       "<div>\n",
       "<style scoped>\n",
       "    .dataframe tbody tr th:only-of-type {\n",
       "        vertical-align: middle;\n",
       "    }\n",
       "\n",
       "    .dataframe tbody tr th {\n",
       "        vertical-align: top;\n",
       "    }\n",
       "\n",
       "    .dataframe thead th {\n",
       "        text-align: right;\n",
       "    }\n",
       "</style>\n",
       "<table border=\"1\" class=\"dataframe\">\n",
       "  <thead>\n",
       "    <tr style=\"text-align: right;\">\n",
       "      <th></th>\n",
       "      <th>CreditScore</th>\n",
       "      <th>Geography</th>\n",
       "      <th>Gender</th>\n",
       "      <th>Age</th>\n",
       "      <th>Tenure</th>\n",
       "      <th>Balance</th>\n",
       "      <th>NumOfProducts</th>\n",
       "      <th>HasCrCard</th>\n",
       "      <th>IsActiveMember</th>\n",
       "      <th>EstimatedSalary</th>\n",
       "      <th>Exited</th>\n",
       "    </tr>\n",
       "  </thead>\n",
       "  <tbody>\n",
       "    <tr>\n",
       "      <th>30</th>\n",
       "      <td>591</td>\n",
       "      <td>Spain</td>\n",
       "      <td>Female</td>\n",
       "      <td>39</td>\n",
       "      <td>NaN</td>\n",
       "      <td>0.00</td>\n",
       "      <td>3</td>\n",
       "      <td>1</td>\n",
       "      <td>0</td>\n",
       "      <td>140469.38</td>\n",
       "      <td>1</td>\n",
       "    </tr>\n",
       "    <tr>\n",
       "      <th>48</th>\n",
       "      <td>550</td>\n",
       "      <td>Germany</td>\n",
       "      <td>Male</td>\n",
       "      <td>38</td>\n",
       "      <td>NaN</td>\n",
       "      <td>103391.38</td>\n",
       "      <td>1</td>\n",
       "      <td>0</td>\n",
       "      <td>1</td>\n",
       "      <td>90878.13</td>\n",
       "      <td>0</td>\n",
       "    </tr>\n",
       "    <tr>\n",
       "      <th>51</th>\n",
       "      <td>585</td>\n",
       "      <td>Germany</td>\n",
       "      <td>Male</td>\n",
       "      <td>36</td>\n",
       "      <td>NaN</td>\n",
       "      <td>146050.97</td>\n",
       "      <td>2</td>\n",
       "      <td>0</td>\n",
       "      <td>0</td>\n",
       "      <td>86424.57</td>\n",
       "      <td>0</td>\n",
       "    </tr>\n",
       "    <tr>\n",
       "      <th>53</th>\n",
       "      <td>655</td>\n",
       "      <td>Germany</td>\n",
       "      <td>Male</td>\n",
       "      <td>41</td>\n",
       "      <td>NaN</td>\n",
       "      <td>125561.97</td>\n",
       "      <td>1</td>\n",
       "      <td>0</td>\n",
       "      <td>0</td>\n",
       "      <td>164040.94</td>\n",
       "      <td>1</td>\n",
       "    </tr>\n",
       "    <tr>\n",
       "      <th>60</th>\n",
       "      <td>742</td>\n",
       "      <td>Germany</td>\n",
       "      <td>Male</td>\n",
       "      <td>35</td>\n",
       "      <td>NaN</td>\n",
       "      <td>136857.00</td>\n",
       "      <td>1</td>\n",
       "      <td>0</td>\n",
       "      <td>0</td>\n",
       "      <td>84509.57</td>\n",
       "      <td>0</td>\n",
       "    </tr>\n",
       "  </tbody>\n",
       "</table>\n",
       "</div>"
      ],
      "text/plain": [
       "    CreditScore Geography  Gender  Age  Tenure    Balance  NumOfProducts  \\\n",
       "30          591     Spain  Female   39     NaN       0.00              3   \n",
       "48          550   Germany    Male   38     NaN  103391.38              1   \n",
       "51          585   Germany    Male   36     NaN  146050.97              2   \n",
       "53          655   Germany    Male   41     NaN  125561.97              1   \n",
       "60          742   Germany    Male   35     NaN  136857.00              1   \n",
       "\n",
       "    HasCrCard  IsActiveMember  EstimatedSalary  Exited  \n",
       "30          1               0        140469.38       1  \n",
       "48          0               1         90878.13       0  \n",
       "51          0               0         86424.57       0  \n",
       "53          0               0        164040.94       1  \n",
       "60          0               0         84509.57       0  "
      ]
     },
     "execution_count": 28,
     "metadata": {},
     "output_type": "execute_result"
    }
   ],
   "source": [
    "print(df['Tenure'].value_counts())\n",
    "df[df['Tenure'].isna()].head()"
   ]
  },
  {
   "cell_type": "markdown",
   "metadata": {},
   "source": [
    "Even though there are far fewer rows with 0.0 tenure, this missing data could mean many things as there are missing values from customers that have exited and haven't. We need to verify. Simply dropping these rows will remove less than 10% of data so will drop for now."
   ]
  },
  {
   "cell_type": "code",
   "execution_count": 29,
   "metadata": {},
   "outputs": [
    {
     "data": {
      "text/plain": [
       "CreditScore        0\n",
       "Geography          0\n",
       "Gender             0\n",
       "Age                0\n",
       "Tenure             0\n",
       "Balance            0\n",
       "NumOfProducts      0\n",
       "HasCrCard          0\n",
       "IsActiveMember     0\n",
       "EstimatedSalary    0\n",
       "Exited             0\n",
       "dtype: int64"
      ]
     },
     "execution_count": 29,
     "metadata": {},
     "output_type": "execute_result"
    }
   ],
   "source": [
    "df[df.duplicated() == True].count()"
   ]
  },
  {
   "cell_type": "code",
   "execution_count": 30,
   "metadata": {},
   "outputs": [
    {
     "data": {
      "text/plain": [
       "CreditScore        9091\n",
       "Geography          9091\n",
       "Gender             9091\n",
       "Age                9091\n",
       "Tenure             9091\n",
       "Balance            9091\n",
       "NumOfProducts      9091\n",
       "HasCrCard          9091\n",
       "IsActiveMember     9091\n",
       "EstimatedSalary    9091\n",
       "Exited             9091\n",
       "dtype: int64"
      ]
     },
     "execution_count": 30,
     "metadata": {},
     "output_type": "execute_result"
    }
   ],
   "source": [
    "# drop missing values\n",
    "df.dropna(inplace=True)\n",
    "df.count()"
   ]
  },
  {
   "cell_type": "markdown",
   "metadata": {},
   "source": [
    "The data has been imported cleanly for feature preparation and model training. Missing data rows need to be investigated further"
   ]
  },
  {
   "cell_type": "markdown",
   "metadata": {},
   "source": [
    "### Step 2. Feature Preparation"
   ]
  },
  {
   "cell_type": "markdown",
   "metadata": {},
   "source": [
    "Now for encoding the geography and gender:"
   ]
  },
  {
   "cell_type": "code",
   "execution_count": 31,
   "metadata": {},
   "outputs": [
    {
     "data": {
      "text/html": [
       "<div>\n",
       "<style scoped>\n",
       "    .dataframe tbody tr th:only-of-type {\n",
       "        vertical-align: middle;\n",
       "    }\n",
       "\n",
       "    .dataframe tbody tr th {\n",
       "        vertical-align: top;\n",
       "    }\n",
       "\n",
       "    .dataframe thead th {\n",
       "        text-align: right;\n",
       "    }\n",
       "</style>\n",
       "<table border=\"1\" class=\"dataframe\">\n",
       "  <thead>\n",
       "    <tr style=\"text-align: right;\">\n",
       "      <th></th>\n",
       "      <th>CreditScore</th>\n",
       "      <th>Age</th>\n",
       "      <th>Tenure</th>\n",
       "      <th>Balance</th>\n",
       "      <th>NumOfProducts</th>\n",
       "      <th>HasCrCard</th>\n",
       "      <th>IsActiveMember</th>\n",
       "      <th>EstimatedSalary</th>\n",
       "      <th>Exited</th>\n",
       "      <th>Geography_Germany</th>\n",
       "      <th>Geography_Spain</th>\n",
       "      <th>Gender_Male</th>\n",
       "    </tr>\n",
       "  </thead>\n",
       "  <tbody>\n",
       "    <tr>\n",
       "      <th>9753</th>\n",
       "      <td>656</td>\n",
       "      <td>68</td>\n",
       "      <td>7.0</td>\n",
       "      <td>153545.11</td>\n",
       "      <td>1</td>\n",
       "      <td>1</td>\n",
       "      <td>1</td>\n",
       "      <td>186574.68</td>\n",
       "      <td>0</td>\n",
       "      <td>1</td>\n",
       "      <td>0</td>\n",
       "      <td>1</td>\n",
       "    </tr>\n",
       "    <tr>\n",
       "      <th>7596</th>\n",
       "      <td>599</td>\n",
       "      <td>40</td>\n",
       "      <td>10.0</td>\n",
       "      <td>137456.28</td>\n",
       "      <td>2</td>\n",
       "      <td>1</td>\n",
       "      <td>1</td>\n",
       "      <td>14113.11</td>\n",
       "      <td>0</td>\n",
       "      <td>1</td>\n",
       "      <td>0</td>\n",
       "      <td>1</td>\n",
       "    </tr>\n",
       "    <tr>\n",
       "      <th>5277</th>\n",
       "      <td>577</td>\n",
       "      <td>40</td>\n",
       "      <td>1.0</td>\n",
       "      <td>0.00</td>\n",
       "      <td>2</td>\n",
       "      <td>1</td>\n",
       "      <td>1</td>\n",
       "      <td>108787.00</td>\n",
       "      <td>0</td>\n",
       "      <td>0</td>\n",
       "      <td>1</td>\n",
       "      <td>0</td>\n",
       "    </tr>\n",
       "    <tr>\n",
       "      <th>2363</th>\n",
       "      <td>571</td>\n",
       "      <td>33</td>\n",
       "      <td>9.0</td>\n",
       "      <td>0.00</td>\n",
       "      <td>2</td>\n",
       "      <td>0</td>\n",
       "      <td>1</td>\n",
       "      <td>77519.62</td>\n",
       "      <td>0</td>\n",
       "      <td>0</td>\n",
       "      <td>0</td>\n",
       "      <td>0</td>\n",
       "    </tr>\n",
       "    <tr>\n",
       "      <th>1353</th>\n",
       "      <td>626</td>\n",
       "      <td>29</td>\n",
       "      <td>7.0</td>\n",
       "      <td>0.00</td>\n",
       "      <td>2</td>\n",
       "      <td>1</td>\n",
       "      <td>0</td>\n",
       "      <td>49361.84</td>\n",
       "      <td>0</td>\n",
       "      <td>0</td>\n",
       "      <td>1</td>\n",
       "      <td>1</td>\n",
       "    </tr>\n",
       "  </tbody>\n",
       "</table>\n",
       "</div>"
      ],
      "text/plain": [
       "      CreditScore  Age  Tenure    Balance  NumOfProducts  HasCrCard  \\\n",
       "9753          656   68     7.0  153545.11              1          1   \n",
       "7596          599   40    10.0  137456.28              2          1   \n",
       "5277          577   40     1.0       0.00              2          1   \n",
       "2363          571   33     9.0       0.00              2          0   \n",
       "1353          626   29     7.0       0.00              2          1   \n",
       "\n",
       "      IsActiveMember  EstimatedSalary  Exited  Geography_Germany  \\\n",
       "9753               1        186574.68       0                  1   \n",
       "7596               1         14113.11       0                  1   \n",
       "5277               1        108787.00       0                  0   \n",
       "2363               1         77519.62       0                  0   \n",
       "1353               0         49361.84       0                  0   \n",
       "\n",
       "      Geography_Spain  Gender_Male  \n",
       "9753                0            1  \n",
       "7596                0            1  \n",
       "5277                1            0  \n",
       "2363                0            0  \n",
       "1353                1            1  "
      ]
     },
     "execution_count": 31,
     "metadata": {},
     "output_type": "execute_result"
    }
   ],
   "source": [
    "# drop on the first dummy columns because the high correlation will confuse our model\n",
    "df_ohe = pd.get_dummies(df,drop_first=True)\n",
    "df_ohe.sample(5)"
   ]
  },
  {
   "cell_type": "markdown",
   "metadata": {},
   "source": [
    "### Step 3. Data splitting"
   ]
  },
  {
   "cell_type": "markdown",
   "metadata": {},
   "source": [
    "A common ratio, that I will use, for splitting raw data into training, validation, and test data is 3:1:1. The target will be the 'Exited' column because we want to predict if customers will exit. This is a binary target so we will need a classifier model."
   ]
  },
  {
   "cell_type": "code",
   "execution_count": 32,
   "metadata": {},
   "outputs": [
    {
     "name": "stdout",
     "output_type": "stream",
     "text": [
      "Size of training dataset: 5454\n",
      "Size of validation dataset: 1818\n",
      "Size of testing dataset: 1819\n"
     ]
    }
   ],
   "source": [
    "# split data into training, validation, and testing \n",
    "df_train, df_valid_test = train_test_split(df_ohe, test_size=0.4,random_state=12345)\n",
    "df_valid, df_test = train_test_split(df_valid_test, test_size=0.5,random_state=12345)\n",
    "\n",
    "# Declare variables for the features and target of split data.\n",
    "features_train = df_train.drop(['Exited'], axis=1)\n",
    "target_train = df_train['Exited']\n",
    "features_valid = df_valid.drop(['Exited'], axis=1)\n",
    "target_valid = df_valid['Exited']\n",
    "features_test = df_test.drop(['Exited'], axis=1)\n",
    "target_test = df_test['Exited']\n",
    "\n",
    "print(\"Size of training dataset:\",len(df_train))\n",
    "print(\"Size of validation dataset:\",len(df_valid))\n",
    "print(\"Size of testing dataset:\",len(df_test))"
   ]
  },
  {
   "cell_type": "markdown",
   "metadata": {},
   "source": [
    "I will also standardize all the numerical columns in each data split (with standardizer fit to training data) so that dispersion will have less effect on classes."
   ]
  },
  {
   "cell_type": "code",
   "execution_count": 33,
   "metadata": {},
   "outputs": [
    {
     "data": {
      "text/html": [
       "<div>\n",
       "<style scoped>\n",
       "    .dataframe tbody tr th:only-of-type {\n",
       "        vertical-align: middle;\n",
       "    }\n",
       "\n",
       "    .dataframe tbody tr th {\n",
       "        vertical-align: top;\n",
       "    }\n",
       "\n",
       "    .dataframe thead th {\n",
       "        text-align: right;\n",
       "    }\n",
       "</style>\n",
       "<table border=\"1\" class=\"dataframe\">\n",
       "  <thead>\n",
       "    <tr style=\"text-align: right;\">\n",
       "      <th></th>\n",
       "      <th>CreditScore</th>\n",
       "      <th>Age</th>\n",
       "      <th>Balance</th>\n",
       "      <th>NumOfProducts</th>\n",
       "      <th>EstimatedSalary</th>\n",
       "      <th>Tenure</th>\n",
       "    </tr>\n",
       "  </thead>\n",
       "  <tbody>\n",
       "    <tr>\n",
       "      <th>2686</th>\n",
       "      <td>-1.224787</td>\n",
       "      <td>0.278313</td>\n",
       "      <td>0.376446</td>\n",
       "      <td>-0.908179</td>\n",
       "      <td>-0.050990</td>\n",
       "      <td>-1.715002</td>\n",
       "    </tr>\n",
       "    <tr>\n",
       "      <th>8354</th>\n",
       "      <td>-0.956359</td>\n",
       "      <td>-0.756975</td>\n",
       "      <td>0.840230</td>\n",
       "      <td>0.809300</td>\n",
       "      <td>0.426637</td>\n",
       "      <td>-1.370498</td>\n",
       "    </tr>\n",
       "    <tr>\n",
       "      <th>5361</th>\n",
       "      <td>-0.615661</td>\n",
       "      <td>0.654782</td>\n",
       "      <td>-1.237830</td>\n",
       "      <td>0.809300</td>\n",
       "      <td>1.211532</td>\n",
       "      <td>1.385532</td>\n",
       "    </tr>\n",
       "    <tr>\n",
       "      <th>2388</th>\n",
       "      <td>1.170422</td>\n",
       "      <td>-0.474624</td>\n",
       "      <td>0.196638</td>\n",
       "      <td>0.809300</td>\n",
       "      <td>-0.546377</td>\n",
       "      <td>-0.336987</td>\n",
       "    </tr>\n",
       "    <tr>\n",
       "      <th>3802</th>\n",
       "      <td>-0.347232</td>\n",
       "      <td>0.466548</td>\n",
       "      <td>0.798902</td>\n",
       "      <td>0.809300</td>\n",
       "      <td>0.179338</td>\n",
       "      <td>1.385532</td>\n",
       "    </tr>\n",
       "  </tbody>\n",
       "</table>\n",
       "</div>"
      ],
      "text/plain": [
       "      CreditScore       Age   Balance  NumOfProducts  EstimatedSalary  \\\n",
       "2686    -1.224787  0.278313  0.376446      -0.908179        -0.050990   \n",
       "8354    -0.956359 -0.756975  0.840230       0.809300         0.426637   \n",
       "5361    -0.615661  0.654782 -1.237830       0.809300         1.211532   \n",
       "2388     1.170422 -0.474624  0.196638       0.809300        -0.546377   \n",
       "3802    -0.347232  0.466548  0.798902       0.809300         0.179338   \n",
       "\n",
       "        Tenure  \n",
       "2686 -1.715002  \n",
       "8354 -1.370498  \n",
       "5361  1.385532  \n",
       "2388 -0.336987  \n",
       "3802  1.385532  "
      ]
     },
     "execution_count": 33,
     "metadata": {},
     "output_type": "execute_result"
    }
   ],
   "source": [
    "numeric = ['CreditScore','Age','Balance','NumOfProducts','EstimatedSalary','Tenure']\n",
    "scaler = StandardScaler()\n",
    "scaler.fit(features_train[numeric])\n",
    "features_valid[numeric] = scaler.transform(features_valid[numeric])\n",
    "features_test[numeric] = scaler.transform(features_test[numeric])\n",
    "features_train[numeric] = scaler.transform(features_train[numeric])\n",
    "features_train[numeric].sample(5)"
   ]
  },
  {
   "cell_type": "markdown",
   "metadata": {},
   "source": [
    "### Step 4. Class Balance"
   ]
  },
  {
   "cell_type": "markdown",
   "metadata": {},
   "source": [
    "Now we will train various models with and without class balance. Our measure for how well a model predicts will be evaluated by F1 score. F1 is a good metric because it aggregates both precision and recall."
   ]
  },
  {
   "cell_type": "code",
   "execution_count": 34,
   "metadata": {},
   "outputs": [],
   "source": [
    "# define function for displaying class balance of model\n",
    "def display_class_balance(model,model_string,class_balance_string):\n",
    "    model.fit(features_train, target_train)\n",
    "    print(\"- MODEL: \",model_string,\" -\")\n",
    "    print(\"- CLASS BALANCE: \",class_balance_string,\" -\")\n",
    "    predictions_valid = model.predict(features_valid)\n",
    "    class_frequency = pd.Series(predictions_valid).value_counts(normalize=True)\n",
    "    class_frequency.plot(kind='bar')\n",
    "    plt.title('Class Frequency of Model Predictions')\n",
    "    plt.xlabel('Class')\n",
    "    plt.ylabel('Count')\n",
    "    plt.show()\n",
    "    print(\"f1 score: {:.3f}\".format(f1_score(target_valid, predictions_valid)))\n",
    "    print(\"confusion matrix:\")\n",
    "    print(confusion_matrix(target_valid, predictions_valid))\n",
    "    probabilities_test = model.predict_proba(features_test)\n",
    "    probabilities_one_test = probabilities_test[:, 1]\n",
    "    auc_roc = roc_auc_score(target_test,probabilities_one_test)\n",
    "    print(\"AUC-ROC value = {:.3f}\".format(auc_roc))"
   ]
  },
  {
   "cell_type": "markdown",
   "metadata": {},
   "source": [
    "#### Logistic Regression"
   ]
  },
  {
   "cell_type": "code",
   "execution_count": 35,
   "metadata": {},
   "outputs": [
    {
     "name": "stdout",
     "output_type": "stream",
     "text": [
      "- MODEL:  LOGISTIC REGRESSION  -\n",
      "- CLASS BALANCE:  NONE  -\n"
     ]
    },
    {
     "data": {
      "image/png": "[encoded data removed]",
      "text/plain": [
       "<Figure size 432x288 with 1 Axes>"
      ]
     },
     "metadata": {
      "needs_background": "light"
     },
     "output_type": "display_data"
    },
    {
     "name": "stdout",
     "output_type": "stream",
     "text": [
      "f1 score: 0.304\n",
      "confusion matrix:\n",
      "[[1394   47]\n",
      " [ 301   76]]\n",
      "AUC-ROC value = 0.781\n",
      "\n",
      "--------------\n",
      "\n",
      "- MODEL:  LOGISTIC REGRESSION  -\n",
      "- CLASS BALANCE:  BALANCED  -\n"
     ]
    },
    {
     "data": {
      "image/png": "[encoded data removed]",
      "text/plain": [
       "<Figure size 432x288 with 1 Axes>"
      ]
     },
     "metadata": {
      "needs_background": "light"
     },
     "output_type": "display_data"
    },
    {
     "name": "stdout",
     "output_type": "stream",
     "text": [
      "f1 score: 0.510\n",
      "confusion matrix:\n",
      "[[1014  427]\n",
      " [ 102  275]]\n",
      "AUC-ROC value = 0.782\n"
     ]
    }
   ],
   "source": [
    "model = LogisticRegression(random_state=12345,solver='liblinear')\n",
    "model_balanced = LogisticRegression(random_state=12345,class_weight='balanced',solver='liblinear')\n",
    "\n",
    "display_class_balance(model,\"LOGISTIC REGRESSION\",\"NONE\")\n",
    "print(\"\\n--------------\\n\")\n",
    "display_class_balance(model_balanced,\"LOGISTIC REGRESSION\",\"BALANCED\")"
   ]
  },
  {
   "cell_type": "markdown",
   "metadata": {},
   "source": [
    "#### Decision Tree"
   ]
  },
  {
   "cell_type": "code",
   "execution_count": 36,
   "metadata": {},
   "outputs": [
    {
     "name": "stdout",
     "output_type": "stream",
     "text": [
      "- MODEL:  DECISION TREE  -\n",
      "- CLASS BALANCE:  NONE  -\n"
     ]
    },
    {
     "data": {
      "image/png": "[encoded data removed]",
      "text/plain": [
       "<Figure size 432x288 with 1 Axes>"
      ]
     },
     "metadata": {
      "needs_background": "light"
     },
     "output_type": "display_data"
    },
    {
     "name": "stdout",
     "output_type": "stream",
     "text": [
      "f1 score: 0.493\n",
      "confusion matrix:\n",
      "[[1252  189]\n",
      " [ 192  185]]\n",
      "AUC-ROC value = 0.690\n",
      "\n",
      "------------\n",
      "\n",
      "- MODEL:  DECISION TREE  -\n",
      "- CLASS BALANCE:  BALANCED  -\n"
     ]
    },
    {
     "data": {
      "image/png": "[encoded data removed]",
      "text/plain": [
       "<Figure size 432x288 with 1 Axes>"
      ]
     },
     "metadata": {
      "needs_background": "light"
     },
     "output_type": "display_data"
    },
    {
     "name": "stdout",
     "output_type": "stream",
     "text": [
      "f1 score: 0.464\n",
      "confusion matrix:\n",
      "[[1258  183]\n",
      " [ 208  169]]\n",
      "AUC-ROC value = 0.680\n"
     ]
    }
   ],
   "source": [
    "model = DecisionTreeClassifier(random_state=12345)\n",
    "model_balanced = DecisionTreeClassifier(random_state=12345,class_weight='balanced')\n",
    "\n",
    "display_class_balance(model,\"DECISION TREE\",\"NONE\")\n",
    "print(\"\\n------------\\n\")\n",
    "display_class_balance(model_balanced,\"DECISION TREE\",\"BALANCED\")"
   ]
  },
  {
   "cell_type": "markdown",
   "metadata": {},
   "source": [
    "#### Random Forest"
   ]
  },
  {
   "cell_type": "code",
   "execution_count": 37,
   "metadata": {},
   "outputs": [
    {
     "name": "stdout",
     "output_type": "stream",
     "text": [
      "- MODEL:  RANDOM FOREST  -\n",
      "- CLASS BALANCE:  NONE  -\n"
     ]
    },
    {
     "data": {
      "image/png": "[encoded data removed]",
      "text/plain": [
       "<Figure size 432x288 with 1 Axes>"
      ]
     },
     "metadata": {
      "needs_background": "light"
     },
     "output_type": "display_data"
    },
    {
     "name": "stdout",
     "output_type": "stream",
     "text": [
      "f1 score: 0.585\n",
      "confusion matrix:\n",
      "[[1390   51]\n",
      " [ 200  177]]\n",
      "AUC-ROC value = 0.852\n",
      "\n",
      "------------\n",
      "\n",
      "- MODEL:  RANDOM FOREST  -\n",
      "- CLASS BALANCE:  BALANCED  -\n"
     ]
    },
    {
     "data": {
      "image/png": "[encoded data removed]",
      "text/plain": [
       "<Figure size 432x288 with 1 Axes>"
      ]
     },
     "metadata": {
      "needs_background": "light"
     },
     "output_type": "display_data"
    },
    {
     "name": "stdout",
     "output_type": "stream",
     "text": [
      "f1 score: 0.556\n",
      "confusion matrix:\n",
      "[[1390   51]\n",
      " [ 212  165]]\n",
      "AUC-ROC value = 0.851\n"
     ]
    }
   ],
   "source": [
    "model = RandomForestClassifier(random_state=12345)\n",
    "model_balanced = RandomForestClassifier(random_state=12345,class_weight='balanced')\n",
    "\n",
    "display_class_balance(model,\"RANDOM FOREST\",\"NONE\")\n",
    "print(\"\\n------------\\n\")\n",
    "display_class_balance(model_balanced,\"RANDOM FOREST\",\"BALANCED\")"
   ]
  },
  {
   "cell_type": "markdown",
   "metadata": {},
   "source": [
    "In decision tree and random forest models, adding class balancing slightly negatively effected the model's score. The similar effect follows logically as the forest model includes decision trees. We can also see why the class balance does little in the confusion matrix of the compared models by the lack of change. In the logistic regression model adding class balance greatly increased the model's score. With the class balance, True Positives were greatly increased and False Negatives were decreased to improve recall and precision as seen in the confusion matrix. Overall the Random Forest model performed the best. Let's take a closer look at it's class probabilities:"
   ]
  },
  {
   "cell_type": "markdown",
   "metadata": {},
   "source": [
    "#### Threshold"
   ]
  },
  {
   "cell_type": "code",
   "execution_count": 38,
   "metadata": {},
   "outputs": [
    {
     "name": "stdout",
     "output_type": "stream",
     "text": [
      "[0.59 0.02 0.61 0.03 0.03]\n"
     ]
    }
   ],
   "source": [
    "#random forest model with class balance\n",
    "model = RandomForestClassifier(random_state=12345,class_weight='balanced').fit(features_train, target_train)\n",
    "predictions_valid = model.predict(features_valid)\n",
    "\n",
    "probabilities_valid = model.predict_proba(features_valid)\n",
    "probabilities_one_valid = probabilities_valid[:,1]\n",
    "\n",
    "print(probabilities_one_valid[:5])"
   ]
  },
  {
   "cell_type": "markdown",
   "metadata": {},
   "source": [
    "Some class probabilities are low so we will try adjusting the threshold:"
   ]
  },
  {
   "cell_type": "code",
   "execution_count": 39,
   "metadata": {},
   "outputs": [
    {
     "name": "stdout",
     "output_type": "stream",
     "text": [
      "Threshold = 0.040 | F1 Score = 0.556\n",
      "Threshold = 0.050 | F1 Score = 0.556\n",
      "Threshold = 0.060 | F1 Score = 0.556\n",
      "Threshold = 0.070 | F1 Score = 0.556\n",
      "Threshold = 0.080 | F1 Score = 0.556\n",
      "Threshold = 0.090 | F1 Score = 0.556\n",
      "Threshold = 0.100 | F1 Score = 0.556\n",
      "Threshold = 0.110 | F1 Score = 0.556\n",
      "Threshold = 0.120 | F1 Score = 0.556\n",
      "Threshold = 0.130 | F1 Score = 0.556\n",
      "Threshold = 0.140 | F1 Score = 0.556\n"
     ]
    }
   ],
   "source": [
    "for threshold in np.arange(0.04, 0.15, 0.01):\n",
    "    predicted_valid = probabilities_one_valid > threshold\n",
    "    score = f1_score(target_valid, predictions_valid)\n",
    "\n",
    "    print(\"Threshold = {:.3f} | F1 Score = {:.3f}\".format(\n",
    "        threshold, score))"
   ]
  },
  {
   "cell_type": "markdown",
   "metadata": {},
   "source": [
    "Adjusting the threshold had no affect. The confusion matrix showed far more negative than positive so we will upsample, tuning the amount of repetitions."
   ]
  },
  {
   "cell_type": "markdown",
   "metadata": {},
   "source": [
    "#### Upsample"
   ]
  },
  {
   "cell_type": "code",
   "execution_count": 40,
   "metadata": {},
   "outputs": [
    {
     "name": "stdout",
     "output_type": "stream",
     "text": [
      "Upsample Repititions = 2 | F1 Score = 0.556\n",
      "Upsample Repititions = 3 | F1 Score = 0.556\n",
      "Upsample Repititions = 4 | F1 Score = 0.556\n",
      "Upsample Repititions = 5 | F1 Score = 0.556\n",
      "Upsample Repititions = 6 | F1 Score = 0.556\n",
      "Upsample Repititions = 7 | F1 Score = 0.556\n",
      "Upsample Repititions = 8 | F1 Score = 0.556\n",
      "Upsample Repititions = 9 | F1 Score = 0.556\n"
     ]
    }
   ],
   "source": [
    "def upsample (features,target,repeat):\n",
    "    features_zeros = features[target == 0]\n",
    "    features_ones = features[target == 1]\n",
    "    target_zeros = target[target == 0]\n",
    "    target_ones = target[target == 1]\n",
    "    features_upsampled = pd.concat([features_zeros] + [features_ones] * repeat)\n",
    "    target_upsampled = pd.concat([target_zeros] + [target_ones] * repeat)\n",
    "    return shuffle(features_upsampled,target_upsampled,random_state=12345)\n",
    "\n",
    "for i in range(2,10):\n",
    "    features_upsampled, target_upsampled = upsample(features_train, target_train, 10)\n",
    "    model = RandomForestClassifier(random_state=12345,class_weight='balanced').fit(features_train, target_train)\n",
    "    predictions_valid = model.predict(features_valid)\n",
    "    score = f1_score(target_valid, predictions_valid)\n",
    "    print(\"Upsample Repititions = {:.0f} | F1 Score = {:.3f}\".format(\n",
    "        i, score))"
   ]
  },
  {
   "cell_type": "markdown",
   "metadata": {},
   "source": [
    "Adding upsamples did not effect the F1 score, so let's try downsampling.\n",
    "###  Downsample"
   ]
  },
  {
   "cell_type": "code",
   "execution_count": 41,
   "metadata": {},
   "outputs": [
    {
     "name": "stdout",
     "output_type": "stream",
     "text": [
      "Downsample Fractions = 0.1 | F1 Score = 0.556\n",
      "Downsample Fractions = 0.2 | F1 Score = 0.556\n",
      "Downsample Fractions = 0.3 | F1 Score = 0.556\n",
      "Downsample Fractions = 0.4 | F1 Score = 0.556\n",
      "Downsample Fractions = 0.5 | F1 Score = 0.556\n",
      "Downsample Fractions = 0.6 | F1 Score = 0.556\n"
     ]
    }
   ],
   "source": [
    "def downsample(features, target, fraction):\n",
    "    features_zeros = features[target == 0]\n",
    "    features_ones = features[target == 1]\n",
    "    target_zeros = target[target == 0]\n",
    "    target_ones = target[target == 1]\n",
    "\n",
    "    features_downsampled = pd.concat(\n",
    "        [features_zeros.sample(frac=fraction, random_state=12345)] + [features_ones])\n",
    "    target_downsampled = pd.concat(\n",
    "        [target_zeros.sample(frac=fraction, random_state=12345)] + [target_ones])\n",
    "    \n",
    "    features_downsampled, target_downsampled = shuffle(\n",
    "        features_downsampled, target_downsampled, random_state=12345)\n",
    "    \n",
    "    return features_downsampled, target_downsampled\n",
    "\n",
    "for fraction in np.arange(0.1, 0.61, 0.1):\n",
    "    features_downsampled, target_downsampled = downsample(features_train, target_train, fraction)\n",
    "    model = RandomForestClassifier(random_state=12345,class_weight='balanced').fit(features_train, target_train)\n",
    "    model.fit(features_downsampled,target_downsampled)\n",
    "    predicted_valid= model.predict(features_valid)\n",
    "    score = f1_score(target_valid, predictions_valid)\n",
    "    print(\"Downsample Fractions = {:.1f} | F1 Score = {:.3f}\".format(\n",
    "        fraction, score))"
   ]
  },
  {
   "cell_type": "markdown",
   "metadata": {},
   "source": [
    "Downsampling also had no affect on the F1 score of the model. We will try other upsampling and downsampling techniques."
   ]
  },
  {
   "cell_type": "markdown",
   "metadata": {},
   "source": [
    "#### Tomek's Links"
   ]
  },
  {
   "cell_type": "markdown",
   "metadata": {},
   "source": [
    "Tomek's links are pairs of close instances of opposite classes. Removing the instances of the majority class of each pair increases the space between the two classes, facilitating the classification process. Tomek’s link exists if the two samples are the nearest neighbors of each other"
   ]
  },
  {
   "cell_type": "code",
   "execution_count": 42,
   "metadata": {},
   "outputs": [
    {
     "name": "stdout",
     "output_type": "stream",
     "text": [
      "original target shape: (5454,)\n",
      "Resample target shape (5180,)\n",
      "F1 Score = 0.556\n"
     ]
    }
   ],
   "source": [
    "tl = TomekLinks()\n",
    "\n",
    "X_tl, y_tl = tl.fit_resample(features_train, target_train)\n",
    "\n",
    "print('original target shape:', target_train.shape)\n",
    "print('Resample target shape', y_tl.shape)\n",
    "\n",
    "model = RandomForestClassifier(random_state=12345,class_weight='balanced').fit(X_tl, y_tl)\n",
    "predicted_valid= model.predict(features_valid)\n",
    "score = f1_score(target_valid, predictions_valid)\n",
    "print(\"F1 Score = {:.3f}\".format(score))"
   ]
  },
  {
   "cell_type": "markdown",
   "metadata": {},
   "source": [
    "#### SMOTE"
   ]
  },
  {
   "cell_type": "markdown",
   "metadata": {},
   "source": [
    "Synthetic Minority Oversampling Technique works by randomly picking a point from the minority class and computing the k-nearest neighbors for this point. The synthetic points are added between the chosen point and its neighbors."
   ]
  },
  {
   "cell_type": "code",
   "execution_count": 43,
   "metadata": {},
   "outputs": [
    {
     "name": "stdout",
     "output_type": "stream",
     "text": [
      "original target shape: (5454,)\n",
      "Resample target shape (8656,)\n",
      "F1 Score = 0.556\n"
     ]
    }
   ],
   "source": [
    "sm = SMOTE(random_state=12345)\n",
    "X_sm, y_sm = sm.fit_resample(features_train, target_train)\n",
    "\n",
    "print('original target shape:', target_train.shape)\n",
    "print('Resample target shape', y_sm.shape)\n",
    "\n",
    "model = RandomForestClassifier(random_state=12345,class_weight='balanced').fit(X_sm, y_sm)\n",
    "predicted_valid= model.predict(features_valid)\n",
    "score = f1_score(target_valid, predictions_valid)\n",
    "print(\"F1 Score = {:.3f}\".format(score))"
   ]
  },
  {
   "cell_type": "markdown",
   "metadata": {},
   "source": [
    "Tomek's links and SMOTE had no impact on the F1 score."
   ]
  },
  {
   "cell_type": "markdown",
   "metadata": {},
   "source": [
    "### Step 5. Hypertuning parameters"
   ]
  },
  {
   "cell_type": "code",
   "execution_count": 44,
   "metadata": {},
   "outputs": [
    {
     "name": "stdout",
     "output_type": "stream",
     "text": [
      "Estimators = 100 | Max Depth = 2 | Minimum Sample Split = 2 | F1 Score = 0.581\n",
      "Estimators = 100 | Max Depth = 2 | Minimum Sample Split = 3 | F1 Score = 0.581\n",
      "Estimators = 100 | Max Depth = 2 | Minimum Sample Split = 4 | F1 Score = 0.581\n",
      "Estimators = 100 | Max Depth = 2 | Minimum Sample Split = 5 | F1 Score = 0.581\n",
      "Estimators = 100 | Max Depth = 2 | Minimum Sample Split = 6 | F1 Score = 0.581\n",
      "Estimators = 100 | Max Depth = 2 | Minimum Sample Split = 7 | F1 Score = 0.581\n",
      "Estimators = 100 | Max Depth = 2 | Minimum Sample Split = 8 | F1 Score = 0.581\n",
      "Estimators = 100 | Max Depth = 2 | Minimum Sample Split = 9 | F1 Score = 0.581\n",
      "Estimators = 100 | Max Depth = 2 | Minimum Sample Split = 10 | F1 Score = 0.581\n",
      "Estimators = 100 | Max Depth = 3 | Minimum Sample Split = 2 | F1 Score = 0.586\n",
      "Estimators = 100 | Max Depth = 3 | Minimum Sample Split = 3 | F1 Score = 0.583\n",
      "Estimators = 100 | Max Depth = 3 | Minimum Sample Split = 4 | F1 Score = 0.583\n",
      "Estimators = 100 | Max Depth = 3 | Minimum Sample Split = 5 | F1 Score = 0.583\n",
      "Estimators = 100 | Max Depth = 3 | Minimum Sample Split = 6 | F1 Score = 0.583\n",
      "Estimators = 100 | Max Depth = 3 | Minimum Sample Split = 7 | F1 Score = 0.583\n",
      "Estimators = 100 | Max Depth = 3 | Minimum Sample Split = 8 | F1 Score = 0.583\n",
      "Estimators = 100 | Max Depth = 3 | Minimum Sample Split = 9 | F1 Score = 0.583\n",
      "Estimators = 100 | Max Depth = 3 | Minimum Sample Split = 10 | F1 Score = 0.580\n",
      "Estimators = 100 | Max Depth = 4 | Minimum Sample Split = 2 | F1 Score = 0.589\n",
      "Estimators = 100 | Max Depth = 4 | Minimum Sample Split = 3 | F1 Score = 0.591\n",
      "Estimators = 100 | Max Depth = 4 | Minimum Sample Split = 4 | F1 Score = 0.591\n",
      "Estimators = 100 | Max Depth = 4 | Minimum Sample Split = 5 | F1 Score = 0.589\n",
      "Estimators = 100 | Max Depth = 4 | Minimum Sample Split = 6 | F1 Score = 0.593\n",
      "Estimators = 100 | Max Depth = 4 | Minimum Sample Split = 7 | F1 Score = 0.589\n",
      "Estimators = 100 | Max Depth = 4 | Minimum Sample Split = 8 | F1 Score = 0.593\n",
      "Estimators = 100 | Max Depth = 4 | Minimum Sample Split = 9 | F1 Score = 0.594\n",
      "Estimators = 100 | Max Depth = 4 | Minimum Sample Split = 10 | F1 Score = 0.592\n",
      "Estimators = 100 | Max Depth = 5 | Minimum Sample Split = 2 | F1 Score = 0.602\n",
      "Estimators = 100 | Max Depth = 5 | Minimum Sample Split = 3 | F1 Score = 0.600\n",
      "Estimators = 100 | Max Depth = 5 | Minimum Sample Split = 4 | F1 Score = 0.600\n",
      "Estimators = 100 | Max Depth = 5 | Minimum Sample Split = 5 | F1 Score = 0.600\n",
      "Estimators = 100 | Max Depth = 5 | Minimum Sample Split = 6 | F1 Score = 0.598\n",
      "Estimators = 100 | Max Depth = 5 | Minimum Sample Split = 7 | F1 Score = 0.597\n",
      "Estimators = 100 | Max Depth = 5 | Minimum Sample Split = 8 | F1 Score = 0.598\n",
      "Estimators = 100 | Max Depth = 5 | Minimum Sample Split = 9 | F1 Score = 0.597\n",
      "Estimators = 100 | Max Depth = 5 | Minimum Sample Split = 10 | F1 Score = 0.598\n",
      "Estimators = 100 | Max Depth = 6 | Minimum Sample Split = 2 | F1 Score = 0.614\n",
      "Estimators = 100 | Max Depth = 6 | Minimum Sample Split = 3 | F1 Score = 0.613\n",
      "Estimators = 100 | Max Depth = 6 | Minimum Sample Split = 4 | F1 Score = 0.615\n",
      "Estimators = 100 | Max Depth = 6 | Minimum Sample Split = 5 | F1 Score = 0.611\n",
      "Estimators = 100 | Max Depth = 6 | Minimum Sample Split = 6 | F1 Score = 0.615\n",
      "Estimators = 100 | Max Depth = 6 | Minimum Sample Split = 7 | F1 Score = 0.613\n",
      "Estimators = 100 | Max Depth = 6 | Minimum Sample Split = 8 | F1 Score = 0.611\n",
      "Estimators = 100 | Max Depth = 6 | Minimum Sample Split = 9 | F1 Score = 0.613\n",
      "Estimators = 100 | Max Depth = 6 | Minimum Sample Split = 10 | F1 Score = 0.616\n",
      "Estimators = 100 | Max Depth = 7 | Minimum Sample Split = 2 | F1 Score = 0.625\n",
      "Estimators = 100 | Max Depth = 7 | Minimum Sample Split = 3 | F1 Score = 0.623\n",
      "Estimators = 100 | Max Depth = 7 | Minimum Sample Split = 4 | F1 Score = 0.627\n",
      "Estimators = 100 | Max Depth = 7 | Minimum Sample Split = 5 | F1 Score = 0.624\n",
      "Estimators = 100 | Max Depth = 7 | Minimum Sample Split = 6 | F1 Score = 0.627\n",
      "Estimators = 100 | Max Depth = 7 | Minimum Sample Split = 7 | F1 Score = 0.621\n",
      "Estimators = 100 | Max Depth = 7 | Minimum Sample Split = 8 | F1 Score = 0.624\n",
      "Estimators = 100 | Max Depth = 7 | Minimum Sample Split = 9 | F1 Score = 0.620\n",
      "Estimators = 100 | Max Depth = 7 | Minimum Sample Split = 10 | F1 Score = 0.628\n",
      "Estimators = 100 | Max Depth = 8 | Minimum Sample Split = 2 | F1 Score = 0.637\n",
      "Estimators = 100 | Max Depth = 8 | Minimum Sample Split = 3 | F1 Score = 0.642\n",
      "Estimators = 100 | Max Depth = 8 | Minimum Sample Split = 4 | F1 Score = 0.636\n",
      "Estimators = 100 | Max Depth = 8 | Minimum Sample Split = 5 | F1 Score = 0.638\n",
      "Estimators = 100 | Max Depth = 8 | Minimum Sample Split = 6 | F1 Score = 0.638\n",
      "Estimators = 100 | Max Depth = 8 | Minimum Sample Split = 7 | F1 Score = 0.640\n",
      "Estimators = 100 | Max Depth = 8 | Minimum Sample Split = 8 | F1 Score = 0.642\n",
      "Estimators = 100 | Max Depth = 8 | Minimum Sample Split = 9 | F1 Score = 0.642\n",
      "Estimators = 100 | Max Depth = 8 | Minimum Sample Split = 10 | F1 Score = 0.643\n",
      "Estimators = 100 | Max Depth = 9 | Minimum Sample Split = 2 | F1 Score = 0.637\n",
      "Estimators = 100 | Max Depth = 9 | Minimum Sample Split = 3 | F1 Score = 0.646\n",
      "Estimators = 100 | Max Depth = 9 | Minimum Sample Split = 4 | F1 Score = 0.642\n",
      "Estimators = 100 | Max Depth = 9 | Minimum Sample Split = 5 | F1 Score = 0.649\n",
      "Estimators = 100 | Max Depth = 9 | Minimum Sample Split = 6 | F1 Score = 0.633\n",
      "Estimators = 100 | Max Depth = 9 | Minimum Sample Split = 7 | F1 Score = 0.640\n",
      "Estimators = 100 | Max Depth = 9 | Minimum Sample Split = 8 | F1 Score = 0.642\n",
      "Estimators = 100 | Max Depth = 9 | Minimum Sample Split = 9 | F1 Score = 0.640\n",
      "Estimators = 100 | Max Depth = 9 | Minimum Sample Split = 10 | F1 Score = 0.636\n",
      "Estimators = 100 | Max Depth = 10 | Minimum Sample Split = 2 | F1 Score = 0.636\n",
      "Estimators = 100 | Max Depth = 10 | Minimum Sample Split = 3 | F1 Score = 0.650\n",
      "Estimators = 100 | Max Depth = 10 | Minimum Sample Split = 4 | F1 Score = 0.643\n",
      "Estimators = 100 | Max Depth = 10 | Minimum Sample Split = 5 | F1 Score = 0.637\n",
      "Estimators = 100 | Max Depth = 10 | Minimum Sample Split = 6 | F1 Score = 0.642\n",
      "Estimators = 100 | Max Depth = 10 | Minimum Sample Split = 7 | F1 Score = 0.639\n",
      "Estimators = 100 | Max Depth = 10 | Minimum Sample Split = 8 | F1 Score = 0.639\n",
      "Estimators = 100 | Max Depth = 10 | Minimum Sample Split = 9 | F1 Score = 0.643\n",
      "Estimators = 100 | Max Depth = 10 | Minimum Sample Split = 10 | F1 Score = 0.638\n",
      "Estimators = 101 | Max Depth = 2 | Minimum Sample Split = 2 | F1 Score = 0.581\n",
      "Estimators = 101 | Max Depth = 2 | Minimum Sample Split = 3 | F1 Score = 0.581\n",
      "Estimators = 101 | Max Depth = 2 | Minimum Sample Split = 4 | F1 Score = 0.581\n",
      "Estimators = 101 | Max Depth = 2 | Minimum Sample Split = 5 | F1 Score = 0.581\n",
      "Estimators = 101 | Max Depth = 2 | Minimum Sample Split = 6 | F1 Score = 0.581\n",
      "Estimators = 101 | Max Depth = 2 | Minimum Sample Split = 7 | F1 Score = 0.581\n",
      "Estimators = 101 | Max Depth = 2 | Minimum Sample Split = 8 | F1 Score = 0.581\n",
      "Estimators = 101 | Max Depth = 2 | Minimum Sample Split = 9 | F1 Score = 0.581\n",
      "Estimators = 101 | Max Depth = 2 | Minimum Sample Split = 10 | F1 Score = 0.581\n",
      "Estimators = 101 | Max Depth = 3 | Minimum Sample Split = 2 | F1 Score = 0.581\n",
      "Estimators = 101 | Max Depth = 3 | Minimum Sample Split = 3 | F1 Score = 0.583\n",
      "Estimators = 101 | Max Depth = 3 | Minimum Sample Split = 4 | F1 Score = 0.583\n",
      "Estimators = 101 | Max Depth = 3 | Minimum Sample Split = 5 | F1 Score = 0.583\n",
      "Estimators = 101 | Max Depth = 3 | Minimum Sample Split = 6 | F1 Score = 0.583\n",
      "Estimators = 101 | Max Depth = 3 | Minimum Sample Split = 7 | F1 Score = 0.583\n",
      "Estimators = 101 | Max Depth = 3 | Minimum Sample Split = 8 | F1 Score = 0.583\n",
      "Estimators = 101 | Max Depth = 3 | Minimum Sample Split = 9 | F1 Score = 0.582\n",
      "Estimators = 101 | Max Depth = 3 | Minimum Sample Split = 10 | F1 Score = 0.579\n",
      "Estimators = 101 | Max Depth = 4 | Minimum Sample Split = 2 | F1 Score = 0.589\n",
      "Estimators = 101 | Max Depth = 4 | Minimum Sample Split = 3 | F1 Score = 0.592\n",
      "Estimators = 101 | Max Depth = 4 | Minimum Sample Split = 4 | F1 Score = 0.586\n",
      "Estimators = 101 | Max Depth = 4 | Minimum Sample Split = 5 | F1 Score = 0.591\n",
      "Estimators = 101 | Max Depth = 4 | Minimum Sample Split = 6 | F1 Score = 0.590\n",
      "Estimators = 101 | Max Depth = 4 | Minimum Sample Split = 7 | F1 Score = 0.589\n",
      "Estimators = 101 | Max Depth = 4 | Minimum Sample Split = 8 | F1 Score = 0.592\n",
      "Estimators = 101 | Max Depth = 4 | Minimum Sample Split = 9 | F1 Score = 0.594\n",
      "Estimators = 101 | Max Depth = 4 | Minimum Sample Split = 10 | F1 Score = 0.592\n",
      "Estimators = 101 | Max Depth = 5 | Minimum Sample Split = 2 | F1 Score = 0.602\n",
      "Estimators = 101 | Max Depth = 5 | Minimum Sample Split = 3 | F1 Score = 0.599\n",
      "Estimators = 101 | Max Depth = 5 | Minimum Sample Split = 4 | F1 Score = 0.601\n",
      "Estimators = 101 | Max Depth = 5 | Minimum Sample Split = 5 | F1 Score = 0.602\n",
      "Estimators = 101 | Max Depth = 5 | Minimum Sample Split = 6 | F1 Score = 0.600\n",
      "Estimators = 101 | Max Depth = 5 | Minimum Sample Split = 7 | F1 Score = 0.597\n",
      "Estimators = 101 | Max Depth = 5 | Minimum Sample Split = 8 | F1 Score = 0.599\n",
      "Estimators = 101 | Max Depth = 5 | Minimum Sample Split = 9 | F1 Score = 0.597\n",
      "Estimators = 101 | Max Depth = 5 | Minimum Sample Split = 10 | F1 Score = 0.599\n",
      "Estimators = 101 | Max Depth = 6 | Minimum Sample Split = 2 | F1 Score = 0.613\n",
      "Estimators = 101 | Max Depth = 6 | Minimum Sample Split = 3 | F1 Score = 0.615\n",
      "Estimators = 101 | Max Depth = 6 | Minimum Sample Split = 4 | F1 Score = 0.615\n",
      "Estimators = 101 | Max Depth = 6 | Minimum Sample Split = 5 | F1 Score = 0.612\n",
      "Estimators = 101 | Max Depth = 6 | Minimum Sample Split = 6 | F1 Score = 0.615\n",
      "Estimators = 101 | Max Depth = 6 | Minimum Sample Split = 7 | F1 Score = 0.613\n",
      "Estimators = 101 | Max Depth = 6 | Minimum Sample Split = 8 | F1 Score = 0.611\n",
      "Estimators = 101 | Max Depth = 6 | Minimum Sample Split = 9 | F1 Score = 0.612\n",
      "Estimators = 101 | Max Depth = 6 | Minimum Sample Split = 10 | F1 Score = 0.618\n",
      "Estimators = 101 | Max Depth = 7 | Minimum Sample Split = 2 | F1 Score = 0.624\n",
      "Estimators = 101 | Max Depth = 7 | Minimum Sample Split = 3 | F1 Score = 0.620\n",
      "Estimators = 101 | Max Depth = 7 | Minimum Sample Split = 4 | F1 Score = 0.629\n",
      "Estimators = 101 | Max Depth = 7 | Minimum Sample Split = 5 | F1 Score = 0.625\n",
      "Estimators = 101 | Max Depth = 7 | Minimum Sample Split = 6 | F1 Score = 0.626\n",
      "Estimators = 101 | Max Depth = 7 | Minimum Sample Split = 7 | F1 Score = 0.623\n",
      "Estimators = 101 | Max Depth = 7 | Minimum Sample Split = 8 | F1 Score = 0.625\n",
      "Estimators = 101 | Max Depth = 7 | Minimum Sample Split = 9 | F1 Score = 0.620\n",
      "Estimators = 101 | Max Depth = 7 | Minimum Sample Split = 10 | F1 Score = 0.630\n",
      "Estimators = 101 | Max Depth = 8 | Minimum Sample Split = 2 | F1 Score = 0.638\n",
      "Estimators = 101 | Max Depth = 8 | Minimum Sample Split = 3 | F1 Score = 0.641\n",
      "Estimators = 101 | Max Depth = 8 | Minimum Sample Split = 4 | F1 Score = 0.633\n",
      "Estimators = 101 | Max Depth = 8 | Minimum Sample Split = 5 | F1 Score = 0.638\n",
      "Estimators = 101 | Max Depth = 8 | Minimum Sample Split = 6 | F1 Score = 0.638\n",
      "Estimators = 101 | Max Depth = 8 | Minimum Sample Split = 7 | F1 Score = 0.642\n",
      "Estimators = 101 | Max Depth = 8 | Minimum Sample Split = 8 | F1 Score = 0.639\n",
      "Estimators = 101 | Max Depth = 8 | Minimum Sample Split = 9 | F1 Score = 0.639\n",
      "Estimators = 101 | Max Depth = 8 | Minimum Sample Split = 10 | F1 Score = 0.643\n",
      "Estimators = 101 | Max Depth = 9 | Minimum Sample Split = 2 | F1 Score = 0.638\n",
      "Estimators = 101 | Max Depth = 9 | Minimum Sample Split = 3 | F1 Score = 0.647\n",
      "Estimators = 101 | Max Depth = 9 | Minimum Sample Split = 4 | F1 Score = 0.639\n",
      "Estimators = 101 | Max Depth = 9 | Minimum Sample Split = 5 | F1 Score = 0.650\n",
      "Estimators = 101 | Max Depth = 9 | Minimum Sample Split = 6 | F1 Score = 0.634\n",
      "Estimators = 101 | Max Depth = 9 | Minimum Sample Split = 7 | F1 Score = 0.640\n",
      "Estimators = 101 | Max Depth = 9 | Minimum Sample Split = 8 | F1 Score = 0.640\n",
      "Estimators = 101 | Max Depth = 9 | Minimum Sample Split = 9 | F1 Score = 0.639\n",
      "Estimators = 101 | Max Depth = 9 | Minimum Sample Split = 10 | F1 Score = 0.637\n",
      "Estimators = 101 | Max Depth = 10 | Minimum Sample Split = 2 | F1 Score = 0.634\n",
      "Estimators = 101 | Max Depth = 10 | Minimum Sample Split = 3 | F1 Score = 0.650\n",
      "Estimators = 101 | Max Depth = 10 | Minimum Sample Split = 4 | F1 Score = 0.647\n",
      "Estimators = 101 | Max Depth = 10 | Minimum Sample Split = 5 | F1 Score = 0.636\n",
      "Estimators = 101 | Max Depth = 10 | Minimum Sample Split = 6 | F1 Score = 0.643\n",
      "Estimators = 101 | Max Depth = 10 | Minimum Sample Split = 7 | F1 Score = 0.643\n",
      "Estimators = 101 | Max Depth = 10 | Minimum Sample Split = 8 | F1 Score = 0.643\n",
      "Estimators = 101 | Max Depth = 10 | Minimum Sample Split = 9 | F1 Score = 0.642\n",
      "Estimators = 101 | Max Depth = 10 | Minimum Sample Split = 10 | F1 Score = 0.638\n",
      "Estimators = 102 | Max Depth = 2 | Minimum Sample Split = 2 | F1 Score = 0.581\n",
      "Estimators = 102 | Max Depth = 2 | Minimum Sample Split = 3 | F1 Score = 0.581\n",
      "Estimators = 102 | Max Depth = 2 | Minimum Sample Split = 4 | F1 Score = 0.581\n",
      "Estimators = 102 | Max Depth = 2 | Minimum Sample Split = 5 | F1 Score = 0.581\n",
      "Estimators = 102 | Max Depth = 2 | Minimum Sample Split = 6 | F1 Score = 0.581\n",
      "Estimators = 102 | Max Depth = 2 | Minimum Sample Split = 7 | F1 Score = 0.581\n",
      "Estimators = 102 | Max Depth = 2 | Minimum Sample Split = 8 | F1 Score = 0.581\n",
      "Estimators = 102 | Max Depth = 2 | Minimum Sample Split = 9 | F1 Score = 0.581\n",
      "Estimators = 102 | Max Depth = 2 | Minimum Sample Split = 10 | F1 Score = 0.581\n",
      "Estimators = 102 | Max Depth = 3 | Minimum Sample Split = 2 | F1 Score = 0.583\n",
      "Estimators = 102 | Max Depth = 3 | Minimum Sample Split = 3 | F1 Score = 0.585\n",
      "Estimators = 102 | Max Depth = 3 | Minimum Sample Split = 4 | F1 Score = 0.585\n",
      "Estimators = 102 | Max Depth = 3 | Minimum Sample Split = 5 | F1 Score = 0.585\n",
      "Estimators = 102 | Max Depth = 3 | Minimum Sample Split = 6 | F1 Score = 0.585\n",
      "Estimators = 102 | Max Depth = 3 | Minimum Sample Split = 7 | F1 Score = 0.585\n",
      "Estimators = 102 | Max Depth = 3 | Minimum Sample Split = 8 | F1 Score = 0.585\n",
      "Estimators = 102 | Max Depth = 3 | Minimum Sample Split = 9 | F1 Score = 0.585\n",
      "Estimators = 102 | Max Depth = 3 | Minimum Sample Split = 10 | F1 Score = 0.579\n",
      "Estimators = 102 | Max Depth = 4 | Minimum Sample Split = 2 | F1 Score = 0.589\n",
      "Estimators = 102 | Max Depth = 4 | Minimum Sample Split = 3 | F1 Score = 0.586\n",
      "Estimators = 102 | Max Depth = 4 | Minimum Sample Split = 4 | F1 Score = 0.588\n",
      "Estimators = 102 | Max Depth = 4 | Minimum Sample Split = 5 | F1 Score = 0.593\n",
      "Estimators = 102 | Max Depth = 4 | Minimum Sample Split = 6 | F1 Score = 0.591\n",
      "Estimators = 102 | Max Depth = 4 | Minimum Sample Split = 7 | F1 Score = 0.590\n",
      "Estimators = 102 | Max Depth = 4 | Minimum Sample Split = 8 | F1 Score = 0.590\n",
      "Estimators = 102 | Max Depth = 4 | Minimum Sample Split = 9 | F1 Score = 0.592\n",
      "Estimators = 102 | Max Depth = 4 | Minimum Sample Split = 10 | F1 Score = 0.592\n",
      "Estimators = 102 | Max Depth = 5 | Minimum Sample Split = 2 | F1 Score = 0.602\n",
      "Estimators = 102 | Max Depth = 5 | Minimum Sample Split = 3 | F1 Score = 0.601\n",
      "Estimators = 102 | Max Depth = 5 | Minimum Sample Split = 4 | F1 Score = 0.599\n",
      "Estimators = 102 | Max Depth = 5 | Minimum Sample Split = 5 | F1 Score = 0.600\n",
      "Estimators = 102 | Max Depth = 5 | Minimum Sample Split = 6 | F1 Score = 0.600\n",
      "Estimators = 102 | Max Depth = 5 | Minimum Sample Split = 7 | F1 Score = 0.595\n",
      "Estimators = 102 | Max Depth = 5 | Minimum Sample Split = 8 | F1 Score = 0.598\n",
      "Estimators = 102 | Max Depth = 5 | Minimum Sample Split = 9 | F1 Score = 0.598\n",
      "Estimators = 102 | Max Depth = 5 | Minimum Sample Split = 10 | F1 Score = 0.596\n",
      "Estimators = 102 | Max Depth = 6 | Minimum Sample Split = 2 | F1 Score = 0.616\n",
      "Estimators = 102 | Max Depth = 6 | Minimum Sample Split = 3 | F1 Score = 0.616\n",
      "Estimators = 102 | Max Depth = 6 | Minimum Sample Split = 4 | F1 Score = 0.617\n",
      "Estimators = 102 | Max Depth = 6 | Minimum Sample Split = 5 | F1 Score = 0.611\n",
      "Estimators = 102 | Max Depth = 6 | Minimum Sample Split = 6 | F1 Score = 0.614\n",
      "Estimators = 102 | Max Depth = 6 | Minimum Sample Split = 7 | F1 Score = 0.612\n",
      "Estimators = 102 | Max Depth = 6 | Minimum Sample Split = 8 | F1 Score = 0.610\n",
      "Estimators = 102 | Max Depth = 6 | Minimum Sample Split = 9 | F1 Score = 0.610\n",
      "Estimators = 102 | Max Depth = 6 | Minimum Sample Split = 10 | F1 Score = 0.614\n",
      "Estimators = 102 | Max Depth = 7 | Minimum Sample Split = 2 | F1 Score = 0.626\n",
      "Estimators = 102 | Max Depth = 7 | Minimum Sample Split = 3 | F1 Score = 0.620\n",
      "Estimators = 102 | Max Depth = 7 | Minimum Sample Split = 4 | F1 Score = 0.629\n",
      "Estimators = 102 | Max Depth = 7 | Minimum Sample Split = 5 | F1 Score = 0.625\n",
      "Estimators = 102 | Max Depth = 7 | Minimum Sample Split = 6 | F1 Score = 0.629\n",
      "Estimators = 102 | Max Depth = 7 | Minimum Sample Split = 7 | F1 Score = 0.622\n",
      "Estimators = 102 | Max Depth = 7 | Minimum Sample Split = 8 | F1 Score = 0.622\n",
      "Estimators = 102 | Max Depth = 7 | Minimum Sample Split = 9 | F1 Score = 0.616\n",
      "Estimators = 102 | Max Depth = 7 | Minimum Sample Split = 10 | F1 Score = 0.628\n",
      "Estimators = 102 | Max Depth = 8 | Minimum Sample Split = 2 | F1 Score = 0.633\n",
      "Estimators = 102 | Max Depth = 8 | Minimum Sample Split = 3 | F1 Score = 0.644\n",
      "Estimators = 102 | Max Depth = 8 | Minimum Sample Split = 4 | F1 Score = 0.634\n",
      "Estimators = 102 | Max Depth = 8 | Minimum Sample Split = 5 | F1 Score = 0.639\n",
      "Estimators = 102 | Max Depth = 8 | Minimum Sample Split = 6 | F1 Score = 0.638\n",
      "Estimators = 102 | Max Depth = 8 | Minimum Sample Split = 7 | F1 Score = 0.640\n",
      "Estimators = 102 | Max Depth = 8 | Minimum Sample Split = 8 | F1 Score = 0.641\n",
      "Estimators = 102 | Max Depth = 8 | Minimum Sample Split = 9 | F1 Score = 0.640\n",
      "Estimators = 102 | Max Depth = 8 | Minimum Sample Split = 10 | F1 Score = 0.644\n",
      "Estimators = 102 | Max Depth = 9 | Minimum Sample Split = 2 | F1 Score = 0.641\n",
      "Estimators = 102 | Max Depth = 9 | Minimum Sample Split = 3 | F1 Score = 0.644\n",
      "Estimators = 102 | Max Depth = 9 | Minimum Sample Split = 4 | F1 Score = 0.642\n",
      "Estimators = 102 | Max Depth = 9 | Minimum Sample Split = 5 | F1 Score = 0.651\n",
      "Estimators = 102 | Max Depth = 9 | Minimum Sample Split = 6 | F1 Score = 0.633\n",
      "Estimators = 102 | Max Depth = 9 | Minimum Sample Split = 7 | F1 Score = 0.639\n",
      "Estimators = 102 | Max Depth = 9 | Minimum Sample Split = 8 | F1 Score = 0.642\n",
      "Estimators = 102 | Max Depth = 9 | Minimum Sample Split = 9 | F1 Score = 0.640\n",
      "Estimators = 102 | Max Depth = 9 | Minimum Sample Split = 10 | F1 Score = 0.636\n",
      "Estimators = 102 | Max Depth = 10 | Minimum Sample Split = 2 | F1 Score = 0.639\n",
      "Estimators = 102 | Max Depth = 10 | Minimum Sample Split = 3 | F1 Score = 0.646\n",
      "Estimators = 102 | Max Depth = 10 | Minimum Sample Split = 4 | F1 Score = 0.641\n",
      "Estimators = 102 | Max Depth = 10 | Minimum Sample Split = 5 | F1 Score = 0.638\n",
      "Estimators = 102 | Max Depth = 10 | Minimum Sample Split = 6 | F1 Score = 0.639\n",
      "Estimators = 102 | Max Depth = 10 | Minimum Sample Split = 7 | F1 Score = 0.639\n",
      "Estimators = 102 | Max Depth = 10 | Minimum Sample Split = 8 | F1 Score = 0.641\n",
      "Estimators = 102 | Max Depth = 10 | Minimum Sample Split = 9 | F1 Score = 0.643\n",
      "Estimators = 102 | Max Depth = 10 | Minimum Sample Split = 10 | F1 Score = 0.637\n",
      "Estimators = 103 | Max Depth = 2 | Minimum Sample Split = 2 | F1 Score = 0.577\n",
      "Estimators = 103 | Max Depth = 2 | Minimum Sample Split = 3 | F1 Score = 0.577\n",
      "Estimators = 103 | Max Depth = 2 | Minimum Sample Split = 4 | F1 Score = 0.577\n",
      "Estimators = 103 | Max Depth = 2 | Minimum Sample Split = 5 | F1 Score = 0.577\n",
      "Estimators = 103 | Max Depth = 2 | Minimum Sample Split = 6 | F1 Score = 0.577\n",
      "Estimators = 103 | Max Depth = 2 | Minimum Sample Split = 7 | F1 Score = 0.577\n",
      "Estimators = 103 | Max Depth = 2 | Minimum Sample Split = 8 | F1 Score = 0.577\n",
      "Estimators = 103 | Max Depth = 2 | Minimum Sample Split = 9 | F1 Score = 0.577\n",
      "Estimators = 103 | Max Depth = 2 | Minimum Sample Split = 10 | F1 Score = 0.577\n",
      "Estimators = 103 | Max Depth = 3 | Minimum Sample Split = 2 | F1 Score = 0.582\n",
      "Estimators = 103 | Max Depth = 3 | Minimum Sample Split = 3 | F1 Score = 0.581\n",
      "Estimators = 103 | Max Depth = 3 | Minimum Sample Split = 4 | F1 Score = 0.581\n",
      "Estimators = 103 | Max Depth = 3 | Minimum Sample Split = 5 | F1 Score = 0.581\n",
      "Estimators = 103 | Max Depth = 3 | Minimum Sample Split = 6 | F1 Score = 0.581\n",
      "Estimators = 103 | Max Depth = 3 | Minimum Sample Split = 7 | F1 Score = 0.581\n",
      "Estimators = 103 | Max Depth = 3 | Minimum Sample Split = 8 | F1 Score = 0.581\n",
      "Estimators = 103 | Max Depth = 3 | Minimum Sample Split = 9 | F1 Score = 0.581\n",
      "Estimators = 103 | Max Depth = 3 | Minimum Sample Split = 10 | F1 Score = 0.581\n",
      "Estimators = 103 | Max Depth = 4 | Minimum Sample Split = 2 | F1 Score = 0.590\n",
      "Estimators = 103 | Max Depth = 4 | Minimum Sample Split = 3 | F1 Score = 0.590\n",
      "Estimators = 103 | Max Depth = 4 | Minimum Sample Split = 4 | F1 Score = 0.587\n",
      "Estimators = 103 | Max Depth = 4 | Minimum Sample Split = 5 | F1 Score = 0.590\n",
      "Estimators = 103 | Max Depth = 4 | Minimum Sample Split = 6 | F1 Score = 0.587\n",
      "Estimators = 103 | Max Depth = 4 | Minimum Sample Split = 7 | F1 Score = 0.588\n",
      "Estimators = 103 | Max Depth = 4 | Minimum Sample Split = 8 | F1 Score = 0.589\n",
      "Estimators = 103 | Max Depth = 4 | Minimum Sample Split = 9 | F1 Score = 0.592\n",
      "Estimators = 103 | Max Depth = 4 | Minimum Sample Split = 10 | F1 Score = 0.590\n",
      "Estimators = 103 | Max Depth = 5 | Minimum Sample Split = 2 | F1 Score = 0.602\n",
      "Estimators = 103 | Max Depth = 5 | Minimum Sample Split = 3 | F1 Score = 0.603\n",
      "Estimators = 103 | Max Depth = 5 | Minimum Sample Split = 4 | F1 Score = 0.602\n",
      "Estimators = 103 | Max Depth = 5 | Minimum Sample Split = 5 | F1 Score = 0.603\n",
      "Estimators = 103 | Max Depth = 5 | Minimum Sample Split = 6 | F1 Score = 0.602\n",
      "Estimators = 103 | Max Depth = 5 | Minimum Sample Split = 7 | F1 Score = 0.597\n",
      "Estimators = 103 | Max Depth = 5 | Minimum Sample Split = 8 | F1 Score = 0.600\n",
      "Estimators = 103 | Max Depth = 5 | Minimum Sample Split = 9 | F1 Score = 0.598\n",
      "Estimators = 103 | Max Depth = 5 | Minimum Sample Split = 10 | F1 Score = 0.597\n",
      "Estimators = 103 | Max Depth = 6 | Minimum Sample Split = 2 | F1 Score = 0.616\n",
      "Estimators = 103 | Max Depth = 6 | Minimum Sample Split = 3 | F1 Score = 0.615\n",
      "Estimators = 103 | Max Depth = 6 | Minimum Sample Split = 4 | F1 Score = 0.615\n",
      "Estimators = 103 | Max Depth = 6 | Minimum Sample Split = 5 | F1 Score = 0.611\n",
      "Estimators = 103 | Max Depth = 6 | Minimum Sample Split = 6 | F1 Score = 0.614\n",
      "Estimators = 103 | Max Depth = 6 | Minimum Sample Split = 7 | F1 Score = 0.612\n",
      "Estimators = 103 | Max Depth = 6 | Minimum Sample Split = 8 | F1 Score = 0.610\n",
      "Estimators = 103 | Max Depth = 6 | Minimum Sample Split = 9 | F1 Score = 0.609\n",
      "Estimators = 103 | Max Depth = 6 | Minimum Sample Split = 10 | F1 Score = 0.615\n",
      "Estimators = 103 | Max Depth = 7 | Minimum Sample Split = 2 | F1 Score = 0.624\n",
      "Estimators = 103 | Max Depth = 7 | Minimum Sample Split = 3 | F1 Score = 0.622\n",
      "Estimators = 103 | Max Depth = 7 | Minimum Sample Split = 4 | F1 Score = 0.628\n",
      "Estimators = 103 | Max Depth = 7 | Minimum Sample Split = 5 | F1 Score = 0.626\n",
      "Estimators = 103 | Max Depth = 7 | Minimum Sample Split = 6 | F1 Score = 0.626\n",
      "Estimators = 103 | Max Depth = 7 | Minimum Sample Split = 7 | F1 Score = 0.625\n",
      "Estimators = 103 | Max Depth = 7 | Minimum Sample Split = 8 | F1 Score = 0.624\n",
      "Estimators = 103 | Max Depth = 7 | Minimum Sample Split = 9 | F1 Score = 0.620\n",
      "Estimators = 103 | Max Depth = 7 | Minimum Sample Split = 10 | F1 Score = 0.629\n",
      "Estimators = 103 | Max Depth = 8 | Minimum Sample Split = 2 | F1 Score = 0.636\n",
      "Estimators = 103 | Max Depth = 8 | Minimum Sample Split = 3 | F1 Score = 0.644\n",
      "Estimators = 103 | Max Depth = 8 | Minimum Sample Split = 4 | F1 Score = 0.636\n",
      "Estimators = 103 | Max Depth = 8 | Minimum Sample Split = 5 | F1 Score = 0.640\n",
      "Estimators = 103 | Max Depth = 8 | Minimum Sample Split = 6 | F1 Score = 0.642\n",
      "Estimators = 103 | Max Depth = 8 | Minimum Sample Split = 7 | F1 Score = 0.638\n",
      "Estimators = 103 | Max Depth = 8 | Minimum Sample Split = 8 | F1 Score = 0.641\n",
      "Estimators = 103 | Max Depth = 8 | Minimum Sample Split = 9 | F1 Score = 0.642\n",
      "Estimators = 103 | Max Depth = 8 | Minimum Sample Split = 10 | F1 Score = 0.645\n",
      "Estimators = 103 | Max Depth = 9 | Minimum Sample Split = 2 | F1 Score = 0.640\n",
      "Estimators = 103 | Max Depth = 9 | Minimum Sample Split = 3 | F1 Score = 0.646\n",
      "Estimators = 103 | Max Depth = 9 | Minimum Sample Split = 4 | F1 Score = 0.643\n",
      "Estimators = 103 | Max Depth = 9 | Minimum Sample Split = 5 | F1 Score = 0.653\n",
      "Estimators = 103 | Max Depth = 9 | Minimum Sample Split = 6 | F1 Score = 0.633\n",
      "Estimators = 103 | Max Depth = 9 | Minimum Sample Split = 7 | F1 Score = 0.640\n",
      "Estimators = 103 | Max Depth = 9 | Minimum Sample Split = 8 | F1 Score = 0.647\n",
      "Estimators = 103 | Max Depth = 9 | Minimum Sample Split = 9 | F1 Score = 0.640\n",
      "Estimators = 103 | Max Depth = 9 | Minimum Sample Split = 10 | F1 Score = 0.636\n",
      "Estimators = 103 | Max Depth = 10 | Minimum Sample Split = 2 | F1 Score = 0.638\n",
      "Estimators = 103 | Max Depth = 10 | Minimum Sample Split = 3 | F1 Score = 0.648\n",
      "Estimators = 103 | Max Depth = 10 | Minimum Sample Split = 4 | F1 Score = 0.645\n",
      "Estimators = 103 | Max Depth = 10 | Minimum Sample Split = 5 | F1 Score = 0.638\n",
      "Estimators = 103 | Max Depth = 10 | Minimum Sample Split = 6 | F1 Score = 0.645\n",
      "Estimators = 103 | Max Depth = 10 | Minimum Sample Split = 7 | F1 Score = 0.641\n",
      "Estimators = 103 | Max Depth = 10 | Minimum Sample Split = 8 | F1 Score = 0.639\n",
      "Estimators = 103 | Max Depth = 10 | Minimum Sample Split = 9 | F1 Score = 0.644\n",
      "Estimators = 103 | Max Depth = 10 | Minimum Sample Split = 10 | F1 Score = 0.636\n",
      "Estimators = 104 | Max Depth = 2 | Minimum Sample Split = 2 | F1 Score = 0.580\n",
      "Estimators = 104 | Max Depth = 2 | Minimum Sample Split = 3 | F1 Score = 0.580\n",
      "Estimators = 104 | Max Depth = 2 | Minimum Sample Split = 4 | F1 Score = 0.580\n",
      "Estimators = 104 | Max Depth = 2 | Minimum Sample Split = 5 | F1 Score = 0.580\n",
      "Estimators = 104 | Max Depth = 2 | Minimum Sample Split = 6 | F1 Score = 0.580\n",
      "Estimators = 104 | Max Depth = 2 | Minimum Sample Split = 7 | F1 Score = 0.580\n",
      "Estimators = 104 | Max Depth = 2 | Minimum Sample Split = 8 | F1 Score = 0.580\n",
      "Estimators = 104 | Max Depth = 2 | Minimum Sample Split = 9 | F1 Score = 0.580\n",
      "Estimators = 104 | Max Depth = 2 | Minimum Sample Split = 10 | F1 Score = 0.580\n",
      "Estimators = 104 | Max Depth = 3 | Minimum Sample Split = 2 | F1 Score = 0.583\n",
      "Estimators = 104 | Max Depth = 3 | Minimum Sample Split = 3 | F1 Score = 0.581\n",
      "Estimators = 104 | Max Depth = 3 | Minimum Sample Split = 4 | F1 Score = 0.581\n",
      "Estimators = 104 | Max Depth = 3 | Minimum Sample Split = 5 | F1 Score = 0.581\n",
      "Estimators = 104 | Max Depth = 3 | Minimum Sample Split = 6 | F1 Score = 0.581\n",
      "Estimators = 104 | Max Depth = 3 | Minimum Sample Split = 7 | F1 Score = 0.581\n",
      "Estimators = 104 | Max Depth = 3 | Minimum Sample Split = 8 | F1 Score = 0.581\n",
      "Estimators = 104 | Max Depth = 3 | Minimum Sample Split = 9 | F1 Score = 0.581\n",
      "Estimators = 104 | Max Depth = 3 | Minimum Sample Split = 10 | F1 Score = 0.579\n",
      "Estimators = 104 | Max Depth = 4 | Minimum Sample Split = 2 | F1 Score = 0.590\n",
      "Estimators = 104 | Max Depth = 4 | Minimum Sample Split = 3 | F1 Score = 0.588\n",
      "Estimators = 104 | Max Depth = 4 | Minimum Sample Split = 4 | F1 Score = 0.586\n",
      "Estimators = 104 | Max Depth = 4 | Minimum Sample Split = 5 | F1 Score = 0.588\n",
      "Estimators = 104 | Max Depth = 4 | Minimum Sample Split = 6 | F1 Score = 0.588\n",
      "Estimators = 104 | Max Depth = 4 | Minimum Sample Split = 7 | F1 Score = 0.587\n",
      "Estimators = 104 | Max Depth = 4 | Minimum Sample Split = 8 | F1 Score = 0.589\n",
      "Estimators = 104 | Max Depth = 4 | Minimum Sample Split = 9 | F1 Score = 0.591\n",
      "Estimators = 104 | Max Depth = 4 | Minimum Sample Split = 10 | F1 Score = 0.590\n",
      "Estimators = 104 | Max Depth = 5 | Minimum Sample Split = 2 | F1 Score = 0.602\n",
      "Estimators = 104 | Max Depth = 5 | Minimum Sample Split = 3 | F1 Score = 0.602\n",
      "Estimators = 104 | Max Depth = 5 | Minimum Sample Split = 4 | F1 Score = 0.602\n",
      "Estimators = 104 | Max Depth = 5 | Minimum Sample Split = 5 | F1 Score = 0.603\n",
      "Estimators = 104 | Max Depth = 5 | Minimum Sample Split = 6 | F1 Score = 0.600\n",
      "Estimators = 104 | Max Depth = 5 | Minimum Sample Split = 7 | F1 Score = 0.600\n",
      "Estimators = 104 | Max Depth = 5 | Minimum Sample Split = 8 | F1 Score = 0.598\n",
      "Estimators = 104 | Max Depth = 5 | Minimum Sample Split = 9 | F1 Score = 0.598\n",
      "Estimators = 104 | Max Depth = 5 | Minimum Sample Split = 10 | F1 Score = 0.597\n",
      "Estimators = 104 | Max Depth = 6 | Minimum Sample Split = 2 | F1 Score = 0.617\n",
      "Estimators = 104 | Max Depth = 6 | Minimum Sample Split = 3 | F1 Score = 0.614\n",
      "Estimators = 104 | Max Depth = 6 | Minimum Sample Split = 4 | F1 Score = 0.615\n",
      "Estimators = 104 | Max Depth = 6 | Minimum Sample Split = 5 | F1 Score = 0.611\n",
      "Estimators = 104 | Max Depth = 6 | Minimum Sample Split = 6 | F1 Score = 0.614\n",
      "Estimators = 104 | Max Depth = 6 | Minimum Sample Split = 7 | F1 Score = 0.611\n",
      "Estimators = 104 | Max Depth = 6 | Minimum Sample Split = 8 | F1 Score = 0.609\n",
      "Estimators = 104 | Max Depth = 6 | Minimum Sample Split = 9 | F1 Score = 0.610\n",
      "Estimators = 104 | Max Depth = 6 | Minimum Sample Split = 10 | F1 Score = 0.616\n",
      "Estimators = 104 | Max Depth = 7 | Minimum Sample Split = 2 | F1 Score = 0.624\n",
      "Estimators = 104 | Max Depth = 7 | Minimum Sample Split = 3 | F1 Score = 0.621\n",
      "Estimators = 104 | Max Depth = 7 | Minimum Sample Split = 4 | F1 Score = 0.627\n",
      "Estimators = 104 | Max Depth = 7 | Minimum Sample Split = 5 | F1 Score = 0.627\n",
      "Estimators = 104 | Max Depth = 7 | Minimum Sample Split = 6 | F1 Score = 0.626\n",
      "Estimators = 104 | Max Depth = 7 | Minimum Sample Split = 7 | F1 Score = 0.623\n",
      "Estimators = 104 | Max Depth = 7 | Minimum Sample Split = 8 | F1 Score = 0.626\n",
      "Estimators = 104 | Max Depth = 7 | Minimum Sample Split = 9 | F1 Score = 0.619\n",
      "Estimators = 104 | Max Depth = 7 | Minimum Sample Split = 10 | F1 Score = 0.630\n",
      "Estimators = 104 | Max Depth = 8 | Minimum Sample Split = 2 | F1 Score = 0.634\n",
      "Estimators = 104 | Max Depth = 8 | Minimum Sample Split = 3 | F1 Score = 0.640\n",
      "Estimators = 104 | Max Depth = 8 | Minimum Sample Split = 4 | F1 Score = 0.640\n",
      "Estimators = 104 | Max Depth = 8 | Minimum Sample Split = 5 | F1 Score = 0.636\n",
      "Estimators = 104 | Max Depth = 8 | Minimum Sample Split = 6 | F1 Score = 0.641\n",
      "Estimators = 104 | Max Depth = 8 | Minimum Sample Split = 7 | F1 Score = 0.640\n",
      "Estimators = 104 | Max Depth = 8 | Minimum Sample Split = 8 | F1 Score = 0.642\n",
      "Estimators = 104 | Max Depth = 8 | Minimum Sample Split = 9 | F1 Score = 0.641\n",
      "Estimators = 104 | Max Depth = 8 | Minimum Sample Split = 10 | F1 Score = 0.644\n",
      "Estimators = 104 | Max Depth = 9 | Minimum Sample Split = 2 | F1 Score = 0.638\n",
      "Estimators = 104 | Max Depth = 9 | Minimum Sample Split = 3 | F1 Score = 0.647\n",
      "Estimators = 104 | Max Depth = 9 | Minimum Sample Split = 4 | F1 Score = 0.645\n",
      "Estimators = 104 | Max Depth = 9 | Minimum Sample Split = 5 | F1 Score = 0.652\n",
      "Estimators = 104 | Max Depth = 9 | Minimum Sample Split = 6 | F1 Score = 0.633\n",
      "Estimators = 104 | Max Depth = 9 | Minimum Sample Split = 7 | F1 Score = 0.638\n",
      "Estimators = 104 | Max Depth = 9 | Minimum Sample Split = 8 | F1 Score = 0.645\n",
      "Estimators = 104 | Max Depth = 9 | Minimum Sample Split = 9 | F1 Score = 0.644\n",
      "Estimators = 104 | Max Depth = 9 | Minimum Sample Split = 10 | F1 Score = 0.636\n",
      "Estimators = 104 | Max Depth = 10 | Minimum Sample Split = 2 | F1 Score = 0.634\n",
      "Estimators = 104 | Max Depth = 10 | Minimum Sample Split = 3 | F1 Score = 0.645\n",
      "Estimators = 104 | Max Depth = 10 | Minimum Sample Split = 4 | F1 Score = 0.642\n",
      "Estimators = 104 | Max Depth = 10 | Minimum Sample Split = 5 | F1 Score = 0.637\n",
      "Estimators = 104 | Max Depth = 10 | Minimum Sample Split = 6 | F1 Score = 0.642\n",
      "Estimators = 104 | Max Depth = 10 | Minimum Sample Split = 7 | F1 Score = 0.640\n",
      "Estimators = 104 | Max Depth = 10 | Minimum Sample Split = 8 | F1 Score = 0.633\n",
      "Estimators = 104 | Max Depth = 10 | Minimum Sample Split = 9 | F1 Score = 0.643\n",
      "Estimators = 104 | Max Depth = 10 | Minimum Sample Split = 10 | F1 Score = 0.634\n",
      "Estimators = 105 | Max Depth = 2 | Minimum Sample Split = 2 | F1 Score = 0.577\n",
      "Estimators = 105 | Max Depth = 2 | Minimum Sample Split = 3 | F1 Score = 0.577\n",
      "Estimators = 105 | Max Depth = 2 | Minimum Sample Split = 4 | F1 Score = 0.577\n",
      "Estimators = 105 | Max Depth = 2 | Minimum Sample Split = 5 | F1 Score = 0.577\n",
      "Estimators = 105 | Max Depth = 2 | Minimum Sample Split = 6 | F1 Score = 0.577\n",
      "Estimators = 105 | Max Depth = 2 | Minimum Sample Split = 7 | F1 Score = 0.577\n",
      "Estimators = 105 | Max Depth = 2 | Minimum Sample Split = 8 | F1 Score = 0.577\n",
      "Estimators = 105 | Max Depth = 2 | Minimum Sample Split = 9 | F1 Score = 0.577\n",
      "Estimators = 105 | Max Depth = 2 | Minimum Sample Split = 10 | F1 Score = 0.577\n",
      "Estimators = 105 | Max Depth = 3 | Minimum Sample Split = 2 | F1 Score = 0.583\n",
      "Estimators = 105 | Max Depth = 3 | Minimum Sample Split = 3 | F1 Score = 0.583\n",
      "Estimators = 105 | Max Depth = 3 | Minimum Sample Split = 4 | F1 Score = 0.583\n",
      "Estimators = 105 | Max Depth = 3 | Minimum Sample Split = 5 | F1 Score = 0.583\n",
      "Estimators = 105 | Max Depth = 3 | Minimum Sample Split = 6 | F1 Score = 0.583\n",
      "Estimators = 105 | Max Depth = 3 | Minimum Sample Split = 7 | F1 Score = 0.583\n",
      "Estimators = 105 | Max Depth = 3 | Minimum Sample Split = 8 | F1 Score = 0.583\n",
      "Estimators = 105 | Max Depth = 3 | Minimum Sample Split = 9 | F1 Score = 0.583\n",
      "Estimators = 105 | Max Depth = 3 | Minimum Sample Split = 10 | F1 Score = 0.580\n",
      "Estimators = 105 | Max Depth = 4 | Minimum Sample Split = 2 | F1 Score = 0.590\n",
      "Estimators = 105 | Max Depth = 4 | Minimum Sample Split = 3 | F1 Score = 0.589\n",
      "Estimators = 105 | Max Depth = 4 | Minimum Sample Split = 4 | F1 Score = 0.588\n",
      "Estimators = 105 | Max Depth = 4 | Minimum Sample Split = 5 | F1 Score = 0.590\n",
      "Estimators = 105 | Max Depth = 4 | Minimum Sample Split = 6 | F1 Score = 0.590\n",
      "Estimators = 105 | Max Depth = 4 | Minimum Sample Split = 7 | F1 Score = 0.587\n",
      "Estimators = 105 | Max Depth = 4 | Minimum Sample Split = 8 | F1 Score = 0.590\n",
      "Estimators = 105 | Max Depth = 4 | Minimum Sample Split = 9 | F1 Score = 0.593\n",
      "Estimators = 105 | Max Depth = 4 | Minimum Sample Split = 10 | F1 Score = 0.587\n",
      "Estimators = 105 | Max Depth = 5 | Minimum Sample Split = 2 | F1 Score = 0.604\n",
      "Estimators = 105 | Max Depth = 5 | Minimum Sample Split = 3 | F1 Score = 0.603\n",
      "Estimators = 105 | Max Depth = 5 | Minimum Sample Split = 4 | F1 Score = 0.603\n",
      "Estimators = 105 | Max Depth = 5 | Minimum Sample Split = 5 | F1 Score = 0.602\n",
      "Estimators = 105 | Max Depth = 5 | Minimum Sample Split = 6 | F1 Score = 0.602\n",
      "Estimators = 105 | Max Depth = 5 | Minimum Sample Split = 7 | F1 Score = 0.601\n",
      "Estimators = 105 | Max Depth = 5 | Minimum Sample Split = 8 | F1 Score = 0.600\n",
      "Estimators = 105 | Max Depth = 5 | Minimum Sample Split = 9 | F1 Score = 0.598\n",
      "Estimators = 105 | Max Depth = 5 | Minimum Sample Split = 10 | F1 Score = 0.597\n",
      "Estimators = 105 | Max Depth = 6 | Minimum Sample Split = 2 | F1 Score = 0.616\n",
      "Estimators = 105 | Max Depth = 6 | Minimum Sample Split = 3 | F1 Score = 0.614\n",
      "Estimators = 105 | Max Depth = 6 | Minimum Sample Split = 4 | F1 Score = 0.616\n",
      "Estimators = 105 | Max Depth = 6 | Minimum Sample Split = 5 | F1 Score = 0.612\n",
      "Estimators = 105 | Max Depth = 6 | Minimum Sample Split = 6 | F1 Score = 0.611\n",
      "Estimators = 105 | Max Depth = 6 | Minimum Sample Split = 7 | F1 Score = 0.609\n",
      "Estimators = 105 | Max Depth = 6 | Minimum Sample Split = 8 | F1 Score = 0.607\n",
      "Estimators = 105 | Max Depth = 6 | Minimum Sample Split = 9 | F1 Score = 0.610\n",
      "Estimators = 105 | Max Depth = 6 | Minimum Sample Split = 10 | F1 Score = 0.618\n",
      "Estimators = 105 | Max Depth = 7 | Minimum Sample Split = 2 | F1 Score = 0.626\n",
      "Estimators = 105 | Max Depth = 7 | Minimum Sample Split = 3 | F1 Score = 0.622\n",
      "Estimators = 105 | Max Depth = 7 | Minimum Sample Split = 4 | F1 Score = 0.630\n",
      "Estimators = 105 | Max Depth = 7 | Minimum Sample Split = 5 | F1 Score = 0.626\n",
      "Estimators = 105 | Max Depth = 7 | Minimum Sample Split = 6 | F1 Score = 0.628\n",
      "Estimators = 105 | Max Depth = 7 | Minimum Sample Split = 7 | F1 Score = 0.622\n",
      "Estimators = 105 | Max Depth = 7 | Minimum Sample Split = 8 | F1 Score = 0.625\n",
      "Estimators = 105 | Max Depth = 7 | Minimum Sample Split = 9 | F1 Score = 0.618\n",
      "Estimators = 105 | Max Depth = 7 | Minimum Sample Split = 10 | F1 Score = 0.632\n",
      "Estimators = 105 | Max Depth = 8 | Minimum Sample Split = 2 | F1 Score = 0.634\n",
      "Estimators = 105 | Max Depth = 8 | Minimum Sample Split = 3 | F1 Score = 0.642\n",
      "Estimators = 105 | Max Depth = 8 | Minimum Sample Split = 4 | F1 Score = 0.636\n",
      "Estimators = 105 | Max Depth = 8 | Minimum Sample Split = 5 | F1 Score = 0.640\n",
      "Estimators = 105 | Max Depth = 8 | Minimum Sample Split = 6 | F1 Score = 0.641\n",
      "Estimators = 105 | Max Depth = 8 | Minimum Sample Split = 7 | F1 Score = 0.639\n",
      "Estimators = 105 | Max Depth = 8 | Minimum Sample Split = 8 | F1 Score = 0.641\n",
      "Estimators = 105 | Max Depth = 8 | Minimum Sample Split = 9 | F1 Score = 0.640\n",
      "Estimators = 105 | Max Depth = 8 | Minimum Sample Split = 10 | F1 Score = 0.645\n",
      "Estimators = 105 | Max Depth = 9 | Minimum Sample Split = 2 | F1 Score = 0.640\n",
      "Estimators = 105 | Max Depth = 9 | Minimum Sample Split = 3 | F1 Score = 0.647\n",
      "Estimators = 105 | Max Depth = 9 | Minimum Sample Split = 4 | F1 Score = 0.642\n",
      "Estimators = 105 | Max Depth = 9 | Minimum Sample Split = 5 | F1 Score = 0.652\n",
      "Estimators = 105 | Max Depth = 9 | Minimum Sample Split = 6 | F1 Score = 0.635\n",
      "Estimators = 105 | Max Depth = 9 | Minimum Sample Split = 7 | F1 Score = 0.639\n",
      "Estimators = 105 | Max Depth = 9 | Minimum Sample Split = 8 | F1 Score = 0.645\n",
      "Estimators = 105 | Max Depth = 9 | Minimum Sample Split = 9 | F1 Score = 0.641\n",
      "Estimators = 105 | Max Depth = 9 | Minimum Sample Split = 10 | F1 Score = 0.640\n",
      "Estimators = 105 | Max Depth = 10 | Minimum Sample Split = 2 | F1 Score = 0.634\n",
      "Estimators = 105 | Max Depth = 10 | Minimum Sample Split = 3 | F1 Score = 0.644\n",
      "Estimators = 105 | Max Depth = 10 | Minimum Sample Split = 4 | F1 Score = 0.643\n",
      "Estimators = 105 | Max Depth = 10 | Minimum Sample Split = 5 | F1 Score = 0.637\n",
      "Estimators = 105 | Max Depth = 10 | Minimum Sample Split = 6 | F1 Score = 0.642\n",
      "Estimators = 105 | Max Depth = 10 | Minimum Sample Split = 7 | F1 Score = 0.639\n",
      "Estimators = 105 | Max Depth = 10 | Minimum Sample Split = 8 | F1 Score = 0.636\n",
      "Estimators = 105 | Max Depth = 10 | Minimum Sample Split = 9 | F1 Score = 0.643\n",
      "Estimators = 105 | Max Depth = 10 | Minimum Sample Split = 10 | F1 Score = 0.641\n",
      "Estimators = 106 | Max Depth = 2 | Minimum Sample Split = 2 | F1 Score = 0.581\n",
      "Estimators = 106 | Max Depth = 2 | Minimum Sample Split = 3 | F1 Score = 0.581\n",
      "Estimators = 106 | Max Depth = 2 | Minimum Sample Split = 4 | F1 Score = 0.581\n",
      "Estimators = 106 | Max Depth = 2 | Minimum Sample Split = 5 | F1 Score = 0.581\n",
      "Estimators = 106 | Max Depth = 2 | Minimum Sample Split = 6 | F1 Score = 0.581\n",
      "Estimators = 106 | Max Depth = 2 | Minimum Sample Split = 7 | F1 Score = 0.581\n",
      "Estimators = 106 | Max Depth = 2 | Minimum Sample Split = 8 | F1 Score = 0.581\n",
      "Estimators = 106 | Max Depth = 2 | Minimum Sample Split = 9 | F1 Score = 0.581\n",
      "Estimators = 106 | Max Depth = 2 | Minimum Sample Split = 10 | F1 Score = 0.581\n",
      "Estimators = 106 | Max Depth = 3 | Minimum Sample Split = 2 | F1 Score = 0.582\n",
      "Estimators = 106 | Max Depth = 3 | Minimum Sample Split = 3 | F1 Score = 0.583\n",
      "Estimators = 106 | Max Depth = 3 | Minimum Sample Split = 4 | F1 Score = 0.583\n",
      "Estimators = 106 | Max Depth = 3 | Minimum Sample Split = 5 | F1 Score = 0.583\n",
      "Estimators = 106 | Max Depth = 3 | Minimum Sample Split = 6 | F1 Score = 0.583\n",
      "Estimators = 106 | Max Depth = 3 | Minimum Sample Split = 7 | F1 Score = 0.583\n",
      "Estimators = 106 | Max Depth = 3 | Minimum Sample Split = 8 | F1 Score = 0.583\n",
      "Estimators = 106 | Max Depth = 3 | Minimum Sample Split = 9 | F1 Score = 0.583\n",
      "Estimators = 106 | Max Depth = 3 | Minimum Sample Split = 10 | F1 Score = 0.581\n",
      "Estimators = 106 | Max Depth = 4 | Minimum Sample Split = 2 | F1 Score = 0.591\n",
      "Estimators = 106 | Max Depth = 4 | Minimum Sample Split = 3 | F1 Score = 0.589\n",
      "Estimators = 106 | Max Depth = 4 | Minimum Sample Split = 4 | F1 Score = 0.588\n",
      "Estimators = 106 | Max Depth = 4 | Minimum Sample Split = 5 | F1 Score = 0.592\n",
      "Estimators = 106 | Max Depth = 4 | Minimum Sample Split = 6 | F1 Score = 0.590\n",
      "Estimators = 106 | Max Depth = 4 | Minimum Sample Split = 7 | F1 Score = 0.587\n",
      "Estimators = 106 | Max Depth = 4 | Minimum Sample Split = 8 | F1 Score = 0.594\n",
      "Estimators = 106 | Max Depth = 4 | Minimum Sample Split = 9 | F1 Score = 0.593\n",
      "Estimators = 106 | Max Depth = 4 | Minimum Sample Split = 10 | F1 Score = 0.591\n",
      "Estimators = 106 | Max Depth = 5 | Minimum Sample Split = 2 | F1 Score = 0.603\n",
      "Estimators = 106 | Max Depth = 5 | Minimum Sample Split = 3 | F1 Score = 0.602\n",
      "Estimators = 106 | Max Depth = 5 | Minimum Sample Split = 4 | F1 Score = 0.603\n",
      "Estimators = 106 | Max Depth = 5 | Minimum Sample Split = 5 | F1 Score = 0.602\n",
      "Estimators = 106 | Max Depth = 5 | Minimum Sample Split = 6 | F1 Score = 0.602\n",
      "Estimators = 106 | Max Depth = 5 | Minimum Sample Split = 7 | F1 Score = 0.599\n",
      "Estimators = 106 | Max Depth = 5 | Minimum Sample Split = 8 | F1 Score = 0.600\n",
      "Estimators = 106 | Max Depth = 5 | Minimum Sample Split = 9 | F1 Score = 0.598\n",
      "Estimators = 106 | Max Depth = 5 | Minimum Sample Split = 10 | F1 Score = 0.599\n",
      "Estimators = 106 | Max Depth = 6 | Minimum Sample Split = 2 | F1 Score = 0.616\n",
      "Estimators = 106 | Max Depth = 6 | Minimum Sample Split = 3 | F1 Score = 0.616\n",
      "Estimators = 106 | Max Depth = 6 | Minimum Sample Split = 4 | F1 Score = 0.616\n",
      "Estimators = 106 | Max Depth = 6 | Minimum Sample Split = 5 | F1 Score = 0.612\n",
      "Estimators = 106 | Max Depth = 6 | Minimum Sample Split = 6 | F1 Score = 0.614\n",
      "Estimators = 106 | Max Depth = 6 | Minimum Sample Split = 7 | F1 Score = 0.611\n",
      "Estimators = 106 | Max Depth = 6 | Minimum Sample Split = 8 | F1 Score = 0.609\n",
      "Estimators = 106 | Max Depth = 6 | Minimum Sample Split = 9 | F1 Score = 0.612\n",
      "Estimators = 106 | Max Depth = 6 | Minimum Sample Split = 10 | F1 Score = 0.619\n",
      "Estimators = 106 | Max Depth = 7 | Minimum Sample Split = 2 | F1 Score = 0.628\n",
      "Estimators = 106 | Max Depth = 7 | Minimum Sample Split = 3 | F1 Score = 0.619\n",
      "Estimators = 106 | Max Depth = 7 | Minimum Sample Split = 4 | F1 Score = 0.628\n",
      "Estimators = 106 | Max Depth = 7 | Minimum Sample Split = 5 | F1 Score = 0.628\n",
      "Estimators = 106 | Max Depth = 7 | Minimum Sample Split = 6 | F1 Score = 0.628\n",
      "Estimators = 106 | Max Depth = 7 | Minimum Sample Split = 7 | F1 Score = 0.622\n",
      "Estimators = 106 | Max Depth = 7 | Minimum Sample Split = 8 | F1 Score = 0.626\n",
      "Estimators = 106 | Max Depth = 7 | Minimum Sample Split = 9 | F1 Score = 0.619\n",
      "Estimators = 106 | Max Depth = 7 | Minimum Sample Split = 10 | F1 Score = 0.632\n",
      "Estimators = 106 | Max Depth = 8 | Minimum Sample Split = 2 | F1 Score = 0.631\n",
      "Estimators = 106 | Max Depth = 8 | Minimum Sample Split = 3 | F1 Score = 0.640\n",
      "Estimators = 106 | Max Depth = 8 | Minimum Sample Split = 4 | F1 Score = 0.638\n",
      "Estimators = 106 | Max Depth = 8 | Minimum Sample Split = 5 | F1 Score = 0.638\n",
      "Estimators = 106 | Max Depth = 8 | Minimum Sample Split = 6 | F1 Score = 0.642\n",
      "Estimators = 106 | Max Depth = 8 | Minimum Sample Split = 7 | F1 Score = 0.639\n",
      "Estimators = 106 | Max Depth = 8 | Minimum Sample Split = 8 | F1 Score = 0.641\n",
      "Estimators = 106 | Max Depth = 8 | Minimum Sample Split = 9 | F1 Score = 0.639\n",
      "Estimators = 106 | Max Depth = 8 | Minimum Sample Split = 10 | F1 Score = 0.643\n",
      "Estimators = 106 | Max Depth = 9 | Minimum Sample Split = 2 | F1 Score = 0.640\n",
      "Estimators = 106 | Max Depth = 9 | Minimum Sample Split = 3 | F1 Score = 0.645\n",
      "Estimators = 106 | Max Depth = 9 | Minimum Sample Split = 4 | F1 Score = 0.642\n",
      "Estimators = 106 | Max Depth = 9 | Minimum Sample Split = 5 | F1 Score = 0.651\n",
      "Estimators = 106 | Max Depth = 9 | Minimum Sample Split = 6 | F1 Score = 0.637\n",
      "Estimators = 106 | Max Depth = 9 | Minimum Sample Split = 7 | F1 Score = 0.638\n",
      "Estimators = 106 | Max Depth = 9 | Minimum Sample Split = 8 | F1 Score = 0.644\n",
      "Estimators = 106 | Max Depth = 9 | Minimum Sample Split = 9 | F1 Score = 0.641\n",
      "Estimators = 106 | Max Depth = 9 | Minimum Sample Split = 10 | F1 Score = 0.637\n",
      "Estimators = 106 | Max Depth = 10 | Minimum Sample Split = 2 | F1 Score = 0.636\n",
      "Estimators = 106 | Max Depth = 10 | Minimum Sample Split = 3 | F1 Score = 0.647\n",
      "Estimators = 106 | Max Depth = 10 | Minimum Sample Split = 4 | F1 Score = 0.641\n",
      "Estimators = 106 | Max Depth = 10 | Minimum Sample Split = 5 | F1 Score = 0.636\n",
      "Estimators = 106 | Max Depth = 10 | Minimum Sample Split = 6 | F1 Score = 0.643\n",
      "Estimators = 106 | Max Depth = 10 | Minimum Sample Split = 7 | F1 Score = 0.639\n",
      "Estimators = 106 | Max Depth = 10 | Minimum Sample Split = 8 | F1 Score = 0.638\n",
      "Estimators = 106 | Max Depth = 10 | Minimum Sample Split = 9 | F1 Score = 0.646\n",
      "Estimators = 106 | Max Depth = 10 | Minimum Sample Split = 10 | F1 Score = 0.639\n",
      "Estimators = 107 | Max Depth = 2 | Minimum Sample Split = 2 | F1 Score = 0.580\n",
      "Estimators = 107 | Max Depth = 2 | Minimum Sample Split = 3 | F1 Score = 0.580\n",
      "Estimators = 107 | Max Depth = 2 | Minimum Sample Split = 4 | F1 Score = 0.580\n",
      "Estimators = 107 | Max Depth = 2 | Minimum Sample Split = 5 | F1 Score = 0.580\n",
      "Estimators = 107 | Max Depth = 2 | Minimum Sample Split = 6 | F1 Score = 0.580\n",
      "Estimators = 107 | Max Depth = 2 | Minimum Sample Split = 7 | F1 Score = 0.580\n",
      "Estimators = 107 | Max Depth = 2 | Minimum Sample Split = 8 | F1 Score = 0.580\n",
      "Estimators = 107 | Max Depth = 2 | Minimum Sample Split = 9 | F1 Score = 0.580\n",
      "Estimators = 107 | Max Depth = 2 | Minimum Sample Split = 10 | F1 Score = 0.580\n",
      "Estimators = 107 | Max Depth = 3 | Minimum Sample Split = 2 | F1 Score = 0.581\n",
      "Estimators = 107 | Max Depth = 3 | Minimum Sample Split = 3 | F1 Score = 0.584\n",
      "Estimators = 107 | Max Depth = 3 | Minimum Sample Split = 4 | F1 Score = 0.584\n",
      "Estimators = 107 | Max Depth = 3 | Minimum Sample Split = 5 | F1 Score = 0.584\n",
      "Estimators = 107 | Max Depth = 3 | Minimum Sample Split = 6 | F1 Score = 0.583\n",
      "Estimators = 107 | Max Depth = 3 | Minimum Sample Split = 7 | F1 Score = 0.583\n",
      "Estimators = 107 | Max Depth = 3 | Minimum Sample Split = 8 | F1 Score = 0.583\n",
      "Estimators = 107 | Max Depth = 3 | Minimum Sample Split = 9 | F1 Score = 0.583\n",
      "Estimators = 107 | Max Depth = 3 | Minimum Sample Split = 10 | F1 Score = 0.582\n",
      "Estimators = 107 | Max Depth = 4 | Minimum Sample Split = 2 | F1 Score = 0.590\n",
      "Estimators = 107 | Max Depth = 4 | Minimum Sample Split = 3 | F1 Score = 0.593\n",
      "Estimators = 107 | Max Depth = 4 | Minimum Sample Split = 4 | F1 Score = 0.588\n",
      "Estimators = 107 | Max Depth = 4 | Minimum Sample Split = 5 | F1 Score = 0.590\n",
      "Estimators = 107 | Max Depth = 4 | Minimum Sample Split = 6 | F1 Score = 0.590\n",
      "Estimators = 107 | Max Depth = 4 | Minimum Sample Split = 7 | F1 Score = 0.587\n",
      "Estimators = 107 | Max Depth = 4 | Minimum Sample Split = 8 | F1 Score = 0.591\n",
      "Estimators = 107 | Max Depth = 4 | Minimum Sample Split = 9 | F1 Score = 0.594\n",
      "Estimators = 107 | Max Depth = 4 | Minimum Sample Split = 10 | F1 Score = 0.591\n",
      "Estimators = 107 | Max Depth = 5 | Minimum Sample Split = 2 | F1 Score = 0.603\n",
      "Estimators = 107 | Max Depth = 5 | Minimum Sample Split = 3 | F1 Score = 0.603\n",
      "Estimators = 107 | Max Depth = 5 | Minimum Sample Split = 4 | F1 Score = 0.603\n",
      "Estimators = 107 | Max Depth = 5 | Minimum Sample Split = 5 | F1 Score = 0.603\n",
      "Estimators = 107 | Max Depth = 5 | Minimum Sample Split = 6 | F1 Score = 0.603\n",
      "Estimators = 107 | Max Depth = 5 | Minimum Sample Split = 7 | F1 Score = 0.599\n",
      "Estimators = 107 | Max Depth = 5 | Minimum Sample Split = 8 | F1 Score = 0.600\n",
      "Estimators = 107 | Max Depth = 5 | Minimum Sample Split = 9 | F1 Score = 0.600\n",
      "Estimators = 107 | Max Depth = 5 | Minimum Sample Split = 10 | F1 Score = 0.599\n",
      "Estimators = 107 | Max Depth = 6 | Minimum Sample Split = 2 | F1 Score = 0.616\n",
      "Estimators = 107 | Max Depth = 6 | Minimum Sample Split = 3 | F1 Score = 0.617\n",
      "Estimators = 107 | Max Depth = 6 | Minimum Sample Split = 4 | F1 Score = 0.617\n",
      "Estimators = 107 | Max Depth = 6 | Minimum Sample Split = 5 | F1 Score = 0.613\n",
      "Estimators = 107 | Max Depth = 6 | Minimum Sample Split = 6 | F1 Score = 0.614\n",
      "Estimators = 107 | Max Depth = 6 | Minimum Sample Split = 7 | F1 Score = 0.611\n",
      "Estimators = 107 | Max Depth = 6 | Minimum Sample Split = 8 | F1 Score = 0.611\n",
      "Estimators = 107 | Max Depth = 6 | Minimum Sample Split = 9 | F1 Score = 0.614\n",
      "Estimators = 107 | Max Depth = 6 | Minimum Sample Split = 10 | F1 Score = 0.621\n",
      "Estimators = 107 | Max Depth = 7 | Minimum Sample Split = 2 | F1 Score = 0.627\n",
      "Estimators = 107 | Max Depth = 7 | Minimum Sample Split = 3 | F1 Score = 0.619\n",
      "Estimators = 107 | Max Depth = 7 | Minimum Sample Split = 4 | F1 Score = 0.628\n",
      "Estimators = 107 | Max Depth = 7 | Minimum Sample Split = 5 | F1 Score = 0.628\n",
      "Estimators = 107 | Max Depth = 7 | Minimum Sample Split = 6 | F1 Score = 0.630\n",
      "Estimators = 107 | Max Depth = 7 | Minimum Sample Split = 7 | F1 Score = 0.625\n",
      "Estimators = 107 | Max Depth = 7 | Minimum Sample Split = 8 | F1 Score = 0.624\n",
      "Estimators = 107 | Max Depth = 7 | Minimum Sample Split = 9 | F1 Score = 0.618\n",
      "Estimators = 107 | Max Depth = 7 | Minimum Sample Split = 10 | F1 Score = 0.629\n",
      "Estimators = 107 | Max Depth = 8 | Minimum Sample Split = 2 | F1 Score = 0.633\n",
      "Estimators = 107 | Max Depth = 8 | Minimum Sample Split = 3 | F1 Score = 0.640\n",
      "Estimators = 107 | Max Depth = 8 | Minimum Sample Split = 4 | F1 Score = 0.635\n",
      "Estimators = 107 | Max Depth = 8 | Minimum Sample Split = 5 | F1 Score = 0.641\n",
      "Estimators = 107 | Max Depth = 8 | Minimum Sample Split = 6 | F1 Score = 0.644\n",
      "Estimators = 107 | Max Depth = 8 | Minimum Sample Split = 7 | F1 Score = 0.639\n",
      "Estimators = 107 | Max Depth = 8 | Minimum Sample Split = 8 | F1 Score = 0.639\n",
      "Estimators = 107 | Max Depth = 8 | Minimum Sample Split = 9 | F1 Score = 0.642\n",
      "Estimators = 107 | Max Depth = 8 | Minimum Sample Split = 10 | F1 Score = 0.646\n",
      "Estimators = 107 | Max Depth = 9 | Minimum Sample Split = 2 | F1 Score = 0.642\n",
      "Estimators = 107 | Max Depth = 9 | Minimum Sample Split = 3 | F1 Score = 0.645\n",
      "Estimators = 107 | Max Depth = 9 | Minimum Sample Split = 4 | F1 Score = 0.644\n",
      "Estimators = 107 | Max Depth = 9 | Minimum Sample Split = 5 | F1 Score = 0.652\n",
      "Estimators = 107 | Max Depth = 9 | Minimum Sample Split = 6 | F1 Score = 0.636\n",
      "Estimators = 107 | Max Depth = 9 | Minimum Sample Split = 7 | F1 Score = 0.639\n",
      "Estimators = 107 | Max Depth = 9 | Minimum Sample Split = 8 | F1 Score = 0.647\n",
      "Estimators = 107 | Max Depth = 9 | Minimum Sample Split = 9 | F1 Score = 0.639\n",
      "Estimators = 107 | Max Depth = 9 | Minimum Sample Split = 10 | F1 Score = 0.637\n",
      "Estimators = 107 | Max Depth = 10 | Minimum Sample Split = 2 | F1 Score = 0.633\n",
      "Estimators = 107 | Max Depth = 10 | Minimum Sample Split = 3 | F1 Score = 0.643\n",
      "Estimators = 107 | Max Depth = 10 | Minimum Sample Split = 4 | F1 Score = 0.642\n",
      "Estimators = 107 | Max Depth = 10 | Minimum Sample Split = 5 | F1 Score = 0.636\n",
      "Estimators = 107 | Max Depth = 10 | Minimum Sample Split = 6 | F1 Score = 0.645\n",
      "Estimators = 107 | Max Depth = 10 | Minimum Sample Split = 7 | F1 Score = 0.640\n",
      "Estimators = 107 | Max Depth = 10 | Minimum Sample Split = 8 | F1 Score = 0.637\n",
      "Estimators = 107 | Max Depth = 10 | Minimum Sample Split = 9 | F1 Score = 0.646\n",
      "Estimators = 107 | Max Depth = 10 | Minimum Sample Split = 10 | F1 Score = 0.637\n",
      "Estimators = 108 | Max Depth = 2 | Minimum Sample Split = 2 | F1 Score = 0.581\n",
      "Estimators = 108 | Max Depth = 2 | Minimum Sample Split = 3 | F1 Score = 0.581\n",
      "Estimators = 108 | Max Depth = 2 | Minimum Sample Split = 4 | F1 Score = 0.581\n",
      "Estimators = 108 | Max Depth = 2 | Minimum Sample Split = 5 | F1 Score = 0.581\n",
      "Estimators = 108 | Max Depth = 2 | Minimum Sample Split = 6 | F1 Score = 0.581\n",
      "Estimators = 108 | Max Depth = 2 | Minimum Sample Split = 7 | F1 Score = 0.581\n",
      "Estimators = 108 | Max Depth = 2 | Minimum Sample Split = 8 | F1 Score = 0.581\n",
      "Estimators = 108 | Max Depth = 2 | Minimum Sample Split = 9 | F1 Score = 0.581\n",
      "Estimators = 108 | Max Depth = 2 | Minimum Sample Split = 10 | F1 Score = 0.581\n",
      "Estimators = 108 | Max Depth = 3 | Minimum Sample Split = 2 | F1 Score = 0.582\n",
      "Estimators = 108 | Max Depth = 3 | Minimum Sample Split = 3 | F1 Score = 0.582\n",
      "Estimators = 108 | Max Depth = 3 | Minimum Sample Split = 4 | F1 Score = 0.582\n",
      "Estimators = 108 | Max Depth = 3 | Minimum Sample Split = 5 | F1 Score = 0.582\n",
      "Estimators = 108 | Max Depth = 3 | Minimum Sample Split = 6 | F1 Score = 0.581\n",
      "Estimators = 108 | Max Depth = 3 | Minimum Sample Split = 7 | F1 Score = 0.581\n",
      "Estimators = 108 | Max Depth = 3 | Minimum Sample Split = 8 | F1 Score = 0.581\n",
      "Estimators = 108 | Max Depth = 3 | Minimum Sample Split = 9 | F1 Score = 0.581\n",
      "Estimators = 108 | Max Depth = 3 | Minimum Sample Split = 10 | F1 Score = 0.579\n",
      "Estimators = 108 | Max Depth = 4 | Minimum Sample Split = 2 | F1 Score = 0.593\n",
      "Estimators = 108 | Max Depth = 4 | Minimum Sample Split = 3 | F1 Score = 0.590\n",
      "Estimators = 108 | Max Depth = 4 | Minimum Sample Split = 4 | F1 Score = 0.590\n",
      "Estimators = 108 | Max Depth = 4 | Minimum Sample Split = 5 | F1 Score = 0.590\n",
      "Estimators = 108 | Max Depth = 4 | Minimum Sample Split = 6 | F1 Score = 0.591\n",
      "Estimators = 108 | Max Depth = 4 | Minimum Sample Split = 7 | F1 Score = 0.590\n",
      "Estimators = 108 | Max Depth = 4 | Minimum Sample Split = 8 | F1 Score = 0.588\n",
      "Estimators = 108 | Max Depth = 4 | Minimum Sample Split = 9 | F1 Score = 0.589\n",
      "Estimators = 108 | Max Depth = 4 | Minimum Sample Split = 10 | F1 Score = 0.589\n",
      "Estimators = 108 | Max Depth = 5 | Minimum Sample Split = 2 | F1 Score = 0.604\n",
      "Estimators = 108 | Max Depth = 5 | Minimum Sample Split = 3 | F1 Score = 0.605\n",
      "Estimators = 108 | Max Depth = 5 | Minimum Sample Split = 4 | F1 Score = 0.603\n",
      "Estimators = 108 | Max Depth = 5 | Minimum Sample Split = 5 | F1 Score = 0.604\n",
      "Estimators = 108 | Max Depth = 5 | Minimum Sample Split = 6 | F1 Score = 0.603\n",
      "Estimators = 108 | Max Depth = 5 | Minimum Sample Split = 7 | F1 Score = 0.598\n",
      "Estimators = 108 | Max Depth = 5 | Minimum Sample Split = 8 | F1 Score = 0.598\n",
      "Estimators = 108 | Max Depth = 5 | Minimum Sample Split = 9 | F1 Score = 0.600\n",
      "Estimators = 108 | Max Depth = 5 | Minimum Sample Split = 10 | F1 Score = 0.600\n",
      "Estimators = 108 | Max Depth = 6 | Minimum Sample Split = 2 | F1 Score = 0.618\n",
      "Estimators = 108 | Max Depth = 6 | Minimum Sample Split = 3 | F1 Score = 0.617\n",
      "Estimators = 108 | Max Depth = 6 | Minimum Sample Split = 4 | F1 Score = 0.618\n",
      "Estimators = 108 | Max Depth = 6 | Minimum Sample Split = 5 | F1 Score = 0.614\n",
      "Estimators = 108 | Max Depth = 6 | Minimum Sample Split = 6 | F1 Score = 0.614\n",
      "Estimators = 108 | Max Depth = 6 | Minimum Sample Split = 7 | F1 Score = 0.611\n",
      "Estimators = 108 | Max Depth = 6 | Minimum Sample Split = 8 | F1 Score = 0.611\n",
      "Estimators = 108 | Max Depth = 6 | Minimum Sample Split = 9 | F1 Score = 0.615\n",
      "Estimators = 108 | Max Depth = 6 | Minimum Sample Split = 10 | F1 Score = 0.616\n",
      "Estimators = 108 | Max Depth = 7 | Minimum Sample Split = 2 | F1 Score = 0.627\n",
      "Estimators = 108 | Max Depth = 7 | Minimum Sample Split = 3 | F1 Score = 0.621\n",
      "Estimators = 108 | Max Depth = 7 | Minimum Sample Split = 4 | F1 Score = 0.627\n",
      "Estimators = 108 | Max Depth = 7 | Minimum Sample Split = 5 | F1 Score = 0.625\n",
      "Estimators = 108 | Max Depth = 7 | Minimum Sample Split = 6 | F1 Score = 0.630\n",
      "Estimators = 108 | Max Depth = 7 | Minimum Sample Split = 7 | F1 Score = 0.624\n",
      "Estimators = 108 | Max Depth = 7 | Minimum Sample Split = 8 | F1 Score = 0.626\n",
      "Estimators = 108 | Max Depth = 7 | Minimum Sample Split = 9 | F1 Score = 0.621\n",
      "Estimators = 108 | Max Depth = 7 | Minimum Sample Split = 10 | F1 Score = 0.627\n",
      "Estimators = 108 | Max Depth = 8 | Minimum Sample Split = 2 | F1 Score = 0.633\n",
      "Estimators = 108 | Max Depth = 8 | Minimum Sample Split = 3 | F1 Score = 0.640\n",
      "Estimators = 108 | Max Depth = 8 | Minimum Sample Split = 4 | F1 Score = 0.637\n",
      "Estimators = 108 | Max Depth = 8 | Minimum Sample Split = 5 | F1 Score = 0.641\n",
      "Estimators = 108 | Max Depth = 8 | Minimum Sample Split = 6 | F1 Score = 0.643\n",
      "Estimators = 108 | Max Depth = 8 | Minimum Sample Split = 7 | F1 Score = 0.639\n",
      "Estimators = 108 | Max Depth = 8 | Minimum Sample Split = 8 | F1 Score = 0.638\n",
      "Estimators = 108 | Max Depth = 8 | Minimum Sample Split = 9 | F1 Score = 0.641\n",
      "Estimators = 108 | Max Depth = 8 | Minimum Sample Split = 10 | F1 Score = 0.641\n",
      "Estimators = 108 | Max Depth = 9 | Minimum Sample Split = 2 | F1 Score = 0.643\n",
      "Estimators = 108 | Max Depth = 9 | Minimum Sample Split = 3 | F1 Score = 0.643\n",
      "Estimators = 108 | Max Depth = 9 | Minimum Sample Split = 4 | F1 Score = 0.644\n",
      "Estimators = 108 | Max Depth = 9 | Minimum Sample Split = 5 | F1 Score = 0.652\n",
      "Estimators = 108 | Max Depth = 9 | Minimum Sample Split = 6 | F1 Score = 0.641\n",
      "Estimators = 108 | Max Depth = 9 | Minimum Sample Split = 7 | F1 Score = 0.639\n",
      "Estimators = 108 | Max Depth = 9 | Minimum Sample Split = 8 | F1 Score = 0.645\n",
      "Estimators = 108 | Max Depth = 9 | Minimum Sample Split = 9 | F1 Score = 0.642\n",
      "Estimators = 108 | Max Depth = 9 | Minimum Sample Split = 10 | F1 Score = 0.637\n",
      "Estimators = 108 | Max Depth = 10 | Minimum Sample Split = 2 | F1 Score = 0.633\n",
      "Estimators = 108 | Max Depth = 10 | Minimum Sample Split = 3 | F1 Score = 0.642\n",
      "Estimators = 108 | Max Depth = 10 | Minimum Sample Split = 4 | F1 Score = 0.643\n",
      "Estimators = 108 | Max Depth = 10 | Minimum Sample Split = 5 | F1 Score = 0.634\n",
      "Estimators = 108 | Max Depth = 10 | Minimum Sample Split = 6 | F1 Score = 0.642\n",
      "Estimators = 108 | Max Depth = 10 | Minimum Sample Split = 7 | F1 Score = 0.641\n",
      "Estimators = 108 | Max Depth = 10 | Minimum Sample Split = 8 | F1 Score = 0.638\n",
      "Estimators = 108 | Max Depth = 10 | Minimum Sample Split = 9 | F1 Score = 0.646\n",
      "Estimators = 108 | Max Depth = 10 | Minimum Sample Split = 10 | F1 Score = 0.637\n",
      "Estimators = 109 | Max Depth = 2 | Minimum Sample Split = 2 | F1 Score = 0.581\n",
      "Estimators = 109 | Max Depth = 2 | Minimum Sample Split = 3 | F1 Score = 0.581\n",
      "Estimators = 109 | Max Depth = 2 | Minimum Sample Split = 4 | F1 Score = 0.581\n",
      "Estimators = 109 | Max Depth = 2 | Minimum Sample Split = 5 | F1 Score = 0.581\n",
      "Estimators = 109 | Max Depth = 2 | Minimum Sample Split = 6 | F1 Score = 0.581\n",
      "Estimators = 109 | Max Depth = 2 | Minimum Sample Split = 7 | F1 Score = 0.581\n",
      "Estimators = 109 | Max Depth = 2 | Minimum Sample Split = 8 | F1 Score = 0.581\n",
      "Estimators = 109 | Max Depth = 2 | Minimum Sample Split = 9 | F1 Score = 0.581\n",
      "Estimators = 109 | Max Depth = 2 | Minimum Sample Split = 10 | F1 Score = 0.581\n",
      "Estimators = 109 | Max Depth = 3 | Minimum Sample Split = 2 | F1 Score = 0.582\n",
      "Estimators = 109 | Max Depth = 3 | Minimum Sample Split = 3 | F1 Score = 0.585\n",
      "Estimators = 109 | Max Depth = 3 | Minimum Sample Split = 4 | F1 Score = 0.585\n",
      "Estimators = 109 | Max Depth = 3 | Minimum Sample Split = 5 | F1 Score = 0.585\n",
      "Estimators = 109 | Max Depth = 3 | Minimum Sample Split = 6 | F1 Score = 0.584\n",
      "Estimators = 109 | Max Depth = 3 | Minimum Sample Split = 7 | F1 Score = 0.584\n",
      "Estimators = 109 | Max Depth = 3 | Minimum Sample Split = 8 | F1 Score = 0.584\n",
      "Estimators = 109 | Max Depth = 3 | Minimum Sample Split = 9 | F1 Score = 0.584\n",
      "Estimators = 109 | Max Depth = 3 | Minimum Sample Split = 10 | F1 Score = 0.581\n",
      "Estimators = 109 | Max Depth = 4 | Minimum Sample Split = 2 | F1 Score = 0.592\n",
      "Estimators = 109 | Max Depth = 4 | Minimum Sample Split = 3 | F1 Score = 0.591\n",
      "Estimators = 109 | Max Depth = 4 | Minimum Sample Split = 4 | F1 Score = 0.589\n",
      "Estimators = 109 | Max Depth = 4 | Minimum Sample Split = 5 | F1 Score = 0.591\n",
      "Estimators = 109 | Max Depth = 4 | Minimum Sample Split = 6 | F1 Score = 0.592\n",
      "Estimators = 109 | Max Depth = 4 | Minimum Sample Split = 7 | F1 Score = 0.590\n",
      "Estimators = 109 | Max Depth = 4 | Minimum Sample Split = 8 | F1 Score = 0.590\n",
      "Estimators = 109 | Max Depth = 4 | Minimum Sample Split = 9 | F1 Score = 0.594\n",
      "Estimators = 109 | Max Depth = 4 | Minimum Sample Split = 10 | F1 Score = 0.593\n",
      "Estimators = 109 | Max Depth = 5 | Minimum Sample Split = 2 | F1 Score = 0.606\n",
      "Estimators = 109 | Max Depth = 5 | Minimum Sample Split = 3 | F1 Score = 0.605\n",
      "Estimators = 109 | Max Depth = 5 | Minimum Sample Split = 4 | F1 Score = 0.603\n",
      "Estimators = 109 | Max Depth = 5 | Minimum Sample Split = 5 | F1 Score = 0.602\n",
      "Estimators = 109 | Max Depth = 5 | Minimum Sample Split = 6 | F1 Score = 0.604\n",
      "Estimators = 109 | Max Depth = 5 | Minimum Sample Split = 7 | F1 Score = 0.600\n",
      "Estimators = 109 | Max Depth = 5 | Minimum Sample Split = 8 | F1 Score = 0.599\n",
      "Estimators = 109 | Max Depth = 5 | Minimum Sample Split = 9 | F1 Score = 0.601\n",
      "Estimators = 109 | Max Depth = 5 | Minimum Sample Split = 10 | F1 Score = 0.600\n",
      "Estimators = 109 | Max Depth = 6 | Minimum Sample Split = 2 | F1 Score = 0.620\n",
      "Estimators = 109 | Max Depth = 6 | Minimum Sample Split = 3 | F1 Score = 0.618\n",
      "Estimators = 109 | Max Depth = 6 | Minimum Sample Split = 4 | F1 Score = 0.618\n",
      "Estimators = 109 | Max Depth = 6 | Minimum Sample Split = 5 | F1 Score = 0.615\n",
      "Estimators = 109 | Max Depth = 6 | Minimum Sample Split = 6 | F1 Score = 0.614\n",
      "Estimators = 109 | Max Depth = 6 | Minimum Sample Split = 7 | F1 Score = 0.612\n",
      "Estimators = 109 | Max Depth = 6 | Minimum Sample Split = 8 | F1 Score = 0.609\n",
      "Estimators = 109 | Max Depth = 6 | Minimum Sample Split = 9 | F1 Score = 0.615\n",
      "Estimators = 109 | Max Depth = 6 | Minimum Sample Split = 10 | F1 Score = 0.619\n",
      "Estimators = 109 | Max Depth = 7 | Minimum Sample Split = 2 | F1 Score = 0.629\n",
      "Estimators = 109 | Max Depth = 7 | Minimum Sample Split = 3 | F1 Score = 0.619\n",
      "Estimators = 109 | Max Depth = 7 | Minimum Sample Split = 4 | F1 Score = 0.626\n",
      "Estimators = 109 | Max Depth = 7 | Minimum Sample Split = 5 | F1 Score = 0.626\n",
      "Estimators = 109 | Max Depth = 7 | Minimum Sample Split = 6 | F1 Score = 0.628\n",
      "Estimators = 109 | Max Depth = 7 | Minimum Sample Split = 7 | F1 Score = 0.624\n",
      "Estimators = 109 | Max Depth = 7 | Minimum Sample Split = 8 | F1 Score = 0.626\n",
      "Estimators = 109 | Max Depth = 7 | Minimum Sample Split = 9 | F1 Score = 0.622\n",
      "Estimators = 109 | Max Depth = 7 | Minimum Sample Split = 10 | F1 Score = 0.627\n",
      "Estimators = 109 | Max Depth = 8 | Minimum Sample Split = 2 | F1 Score = 0.633\n",
      "Estimators = 109 | Max Depth = 8 | Minimum Sample Split = 3 | F1 Score = 0.640\n",
      "Estimators = 109 | Max Depth = 8 | Minimum Sample Split = 4 | F1 Score = 0.640\n",
      "Estimators = 109 | Max Depth = 8 | Minimum Sample Split = 5 | F1 Score = 0.641\n",
      "Estimators = 109 | Max Depth = 8 | Minimum Sample Split = 6 | F1 Score = 0.644\n",
      "Estimators = 109 | Max Depth = 8 | Minimum Sample Split = 7 | F1 Score = 0.640\n",
      "Estimators = 109 | Max Depth = 8 | Minimum Sample Split = 8 | F1 Score = 0.639\n",
      "Estimators = 109 | Max Depth = 8 | Minimum Sample Split = 9 | F1 Score = 0.643\n",
      "Estimators = 109 | Max Depth = 8 | Minimum Sample Split = 10 | F1 Score = 0.643\n",
      "Estimators = 109 | Max Depth = 9 | Minimum Sample Split = 2 | F1 Score = 0.643\n",
      "Estimators = 109 | Max Depth = 9 | Minimum Sample Split = 3 | F1 Score = 0.643\n",
      "Estimators = 109 | Max Depth = 9 | Minimum Sample Split = 4 | F1 Score = 0.642\n",
      "Estimators = 109 | Max Depth = 9 | Minimum Sample Split = 5 | F1 Score = 0.652\n",
      "Estimators = 109 | Max Depth = 9 | Minimum Sample Split = 6 | F1 Score = 0.639\n",
      "Estimators = 109 | Max Depth = 9 | Minimum Sample Split = 7 | F1 Score = 0.636\n",
      "Estimators = 109 | Max Depth = 9 | Minimum Sample Split = 8 | F1 Score = 0.648\n",
      "Estimators = 109 | Max Depth = 9 | Minimum Sample Split = 9 | F1 Score = 0.641\n",
      "Estimators = 109 | Max Depth = 9 | Minimum Sample Split = 10 | F1 Score = 0.638\n",
      "Estimators = 109 | Max Depth = 10 | Minimum Sample Split = 2 | F1 Score = 0.635\n",
      "Estimators = 109 | Max Depth = 10 | Minimum Sample Split = 3 | F1 Score = 0.643\n",
      "Estimators = 109 | Max Depth = 10 | Minimum Sample Split = 4 | F1 Score = 0.642\n",
      "Estimators = 109 | Max Depth = 10 | Minimum Sample Split = 5 | F1 Score = 0.632\n",
      "Estimators = 109 | Max Depth = 10 | Minimum Sample Split = 6 | F1 Score = 0.647\n",
      "Estimators = 109 | Max Depth = 10 | Minimum Sample Split = 7 | F1 Score = 0.642\n",
      "Estimators = 109 | Max Depth = 10 | Minimum Sample Split = 8 | F1 Score = 0.640\n",
      "Estimators = 109 | Max Depth = 10 | Minimum Sample Split = 9 | F1 Score = 0.647\n",
      "Estimators = 109 | Max Depth = 10 | Minimum Sample Split = 10 | F1 Score = 0.641\n"
     ]
    }
   ],
   "source": [
    "for estimators in range(100,110):\n",
    "    for depth in range(2,11):\n",
    "        for sample_split in range(2,11):\n",
    "            model = RandomForestClassifier(random_state=12345,class_weight='balanced', n_estimators=estimators,max_depth=depth, min_samples_split=sample_split)\n",
    "            model.fit(features_train, target_train)\n",
    "            predictions_valid = model.predict(features_valid)\n",
    "            score = f1_score(target_valid, predictions_valid)\n",
    "            print(\"Estimators = {:.0f} | Max Depth = {:.0f} | Minimum Sample Split = {:.0f} | F1 Score = {:.3f}\".format(\n",
    "                estimators, depth, sample_split, score))"
   ]
  },
  {
   "cell_type": "markdown",
   "metadata": {},
   "source": [
    "There are multiple variations of parameters that result in maximum F1 of 0.653."
   ]
  },
  {
   "cell_type": "markdown",
   "metadata": {},
   "source": [
    "### Step 6. Model Test"
   ]
  },
  {
   "cell_type": "code",
   "execution_count": 45,
   "metadata": {},
   "outputs": [
    {
     "name": "stdout",
     "output_type": "stream",
     "text": [
      "F1 Score (train)= 0.834\n",
      "F1 Score (test)= 0.613\n"
     ]
    }
   ],
   "source": [
    "model = RandomForestClassifier(random_state=12345,class_weight='balanced',n_estimators=106,max_depth=10,min_samples_split=3)\n",
    "model.fit(features_train, target_train)\n",
    "\n",
    "predictions_train = model.predict(features_train)\n",
    "score_train = f1_score(target_train, predictions_train)\n",
    "print(\"F1 Score (train)= {:.3f}\".format(score_train))\n",
    "\n",
    "predictions_test = model.predict(features_test)\n",
    "score = f1_score(target_test, predictions_test)\n",
    "print(\"F1 Score (test)= {:.3f}\".format(score))"
   ]
  },
  {
   "cell_type": "markdown",
   "metadata": {},
   "source": [
    "The test yielded a F1 score higher than the 0.59 threshold, indicating a good performing prediction model according to our goal."
   ]
  },
  {
   "cell_type": "code",
   "execution_count": 48,
   "metadata": {},
   "outputs": [
    {
     "data": {
      "image/png": "[encoded data removed]",
      "text/plain": [
       "<Figure size 432x288 with 1 Axes>"
      ]
     },
     "metadata": {
      "needs_background": "light"
     },
     "output_type": "display_data"
    },
    {
     "name": "stdout",
     "output_type": "stream",
     "text": [
      "AUC-ROC value = 0.86\n"
     ]
    }
   ],
   "source": [
    "probabilities_test = model.predict_proba(features_test)\n",
    "probabilities_one_test = probabilities_test[:, 1]\n",
    "\n",
    "fpr, tpr, thresholds = roc_curve(target_test, probabilities_one_test) \n",
    "plt.figure()\n",
    "plt.plot(fpr, tpr)\n",
    "plt.xlim([0.0, 1.0])\n",
    "plt.ylim([0.0, 1.0])\n",
    "plt.xlabel('False Positive Rate')\n",
    "plt.ylabel('True Positive Rate')\n",
    "plt.title('ROC curve')\n",
    "plt.show() \n",
    "\n",
    "auc_roc = roc_auc_score(target_test,probabilities_one_test)\n",
    "\n",
    "print(\"AUC-ROC value = {:.2f}\".format(auc_roc))"
   ]
  },
  {
   "cell_type": "markdown",
   "metadata": {},
   "source": [
    "The AUC-ROC of .86 is far above the 0.5 of a random model, further indicating the validity of the model."
   ]
  },
  {
   "cell_type": "markdown",
   "metadata": {},
   "source": [
    "#### Step 7. Sanity Check"
   ]
  },
  {
   "cell_type": "markdown",
   "metadata": {},
   "source": [
    "The sanity check involves investigating how often the target contains the class \"1\" or \"0\", then comparing with the model's predictions."
   ]
  },
  {
   "cell_type": "code",
   "execution_count": 47,
   "metadata": {},
   "outputs": [
    {
     "data": {
      "image/png": "[encoded data removed]",
      "text/plain": [
       "<Figure size 432x288 with 1 Axes>"
      ]
     },
     "metadata": {
      "needs_background": "light"
     },
     "output_type": "display_data"
    },
    {
     "data": {
      "image/png": "[encoded data removed]",
      "text/plain": [
       "<Figure size 432x288 with 1 Axes>"
      ]
     },
     "metadata": {
      "needs_background": "light"
     },
     "output_type": "display_data"
    }
   ],
   "source": [
    "class_frequency_df = target_test.value_counts(normalize=True)\n",
    "class_frequency_df.plot(kind='bar')\n",
    "plt.title('Class Frequency of Test Data')\n",
    "plt.xlabel('Class')\n",
    "plt.ylabel('Count')\n",
    "plt.figure()\n",
    "\n",
    "predicted_test = pd.Series(model.predict(features_test))\n",
    "class_frequency = predicted_test.value_counts(normalize=True)\n",
    "class_frequency.plot(kind='bar')\n",
    "plt.title('Class Frequency of Model Predictions')\n",
    "plt.xlabel('Class')\n",
    "plt.ylabel('Count')\n",
    "plt.show()"
   ]
  },
  {
   "cell_type": "markdown",
   "metadata": {},
   "source": [
    "The comparison between class frequency of the test data and model predictions nearly identical."
   ]
  },
  {
   "cell_type": "markdown",
   "metadata": {},
   "source": [
    "## Conclusion"
   ]
  },
  {
   "cell_type": "markdown",
   "metadata": {},
   "source": [
    "Through careful preparation, model choice, and parameter tuning we have found a prediction model for bank customers that are a possible concern for exiting. This will enable the bank to focus efforts on these 'at risk' exiters in order to limit customer churn."
   ]
  }
 ],
 "metadata": {
  "kernelspec": {
   "display_name": "Python 3",
   "language": "python",
   "name": "python3"
  },
  "language_info": {
   "codemirror_mode": {
    "name": "ipython",
    "version": 3
   },
   "file_extension": ".py",
   "mimetype": "text/x-python",
   "name": "python",
   "nbconvert_exporter": "python",
   "pygments_lexer": "ipython3",
   "version": "3.9.7"
  },
  "toc": {
   "base_numbering": 1,
   "nav_menu": {},
   "number_sections": true,
   "sideBar": true,
   "skip_h1_title": true,
   "title_cell": "Table of Contents",
   "title_sidebar": "Contents",
   "toc_cell": false,
   "toc_position": {},
   "toc_section_display": true,
   "toc_window_display": false
  }
 },
 "nbformat": 4,
 "nbformat_minor": 4
}
