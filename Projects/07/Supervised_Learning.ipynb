{
 "cells": [
  {
   "cell_type": "markdown",
   "metadata": {},
   "source": [
    "## Table of Contents\n",
    "\n",
    "- [1. Data Extraction](#etl)\n",
    "- [2. Data Preprocessing](#dpp)\n",
    "    - [2.1 Missing Data](#null)\n",
    "    - [2.2 Duplicate Data](#dupe)\n",
    "    - [2.3 Feature Engineering](#feature)\n",
    "    - [2.4 Data Splitting](#split)\n",
    "- [3. Model Training](#train)\n",
    "    - [3.1 Logistic Regression](#lr)\n",
    "    - [3.2 Decision Tree](#dt)\n",
    "    - [3.3 Random Forest](#rf)\n",
    "    - [3.4 Threshold](#threshold)\n",
    "    - [3.5 Upsample](#upsample)\n",
    "    - [3.6 Downsample](#downsample)\n",
    "    - [3.6 Tomek's Links](#tomek)\n",
    "    - [3.6 SMOTE](#smote)\n",
    "- [4. Parameter Hypertuning](#pht)\n",
    "- [5. Model Testing](#test)\n",
    "    - [5.1 Sanity Check](#sanity)\n",
    "- [Conclusion](#end)"
   ]
  },
  {
   "cell_type": "markdown",
   "metadata": {},
   "source": [
    "### 1. Data Extraction <a class=\"anchor\" id=\"etl\"></a>"
   ]
  },
  {
   "cell_type": "code",
   "execution_count": 1,
   "metadata": {},
   "outputs": [
    {
     "data": {
      "text/html": [
       "<div>\n",
       "<style scoped>\n",
       "    .dataframe tbody tr th:only-of-type {\n",
       "        vertical-align: middle;\n",
       "    }\n",
       "\n",
       "    .dataframe tbody tr th {\n",
       "        vertical-align: top;\n",
       "    }\n",
       "\n",
       "    .dataframe thead th {\n",
       "        text-align: right;\n",
       "    }\n",
       "</style>\n",
       "<table border=\"1\" class=\"dataframe\">\n",
       "  <thead>\n",
       "    <tr style=\"text-align: right;\">\n",
       "      <th></th>\n",
       "      <th>RowNumber</th>\n",
       "      <th>CustomerId</th>\n",
       "      <th>Surname</th>\n",
       "      <th>CreditScore</th>\n",
       "      <th>Geography</th>\n",
       "      <th>Gender</th>\n",
       "      <th>Age</th>\n",
       "      <th>Tenure</th>\n",
       "      <th>Balance</th>\n",
       "      <th>NumOfProducts</th>\n",
       "      <th>HasCrCard</th>\n",
       "      <th>IsActiveMember</th>\n",
       "      <th>EstimatedSalary</th>\n",
       "      <th>Exited</th>\n",
       "    </tr>\n",
       "  </thead>\n",
       "  <tbody>\n",
       "    <tr>\n",
       "      <th>4300</th>\n",
       "      <td>4301</td>\n",
       "      <td>15633834</td>\n",
       "      <td>Milne</td>\n",
       "      <td>700</td>\n",
       "      <td>Germany</td>\n",
       "      <td>Female</td>\n",
       "      <td>28</td>\n",
       "      <td>3.0</td>\n",
       "      <td>99705.69</td>\n",
       "      <td>2</td>\n",
       "      <td>0</td>\n",
       "      <td>0</td>\n",
       "      <td>146723.72</td>\n",
       "      <td>0</td>\n",
       "    </tr>\n",
       "    <tr>\n",
       "      <th>8056</th>\n",
       "      <td>8057</td>\n",
       "      <td>15736078</td>\n",
       "      <td>Ting</td>\n",
       "      <td>730</td>\n",
       "      <td>Germany</td>\n",
       "      <td>Female</td>\n",
       "      <td>33</td>\n",
       "      <td>7.0</td>\n",
       "      <td>130367.87</td>\n",
       "      <td>1</td>\n",
       "      <td>1</td>\n",
       "      <td>0</td>\n",
       "      <td>15142.10</td>\n",
       "      <td>1</td>\n",
       "    </tr>\n",
       "    <tr>\n",
       "      <th>9136</th>\n",
       "      <td>9137</td>\n",
       "      <td>15688984</td>\n",
       "      <td>Belonwu</td>\n",
       "      <td>595</td>\n",
       "      <td>France</td>\n",
       "      <td>Male</td>\n",
       "      <td>20</td>\n",
       "      <td>4.0</td>\n",
       "      <td>95830.43</td>\n",
       "      <td>1</td>\n",
       "      <td>1</td>\n",
       "      <td>0</td>\n",
       "      <td>177738.98</td>\n",
       "      <td>0</td>\n",
       "    </tr>\n",
       "    <tr>\n",
       "      <th>5743</th>\n",
       "      <td>5744</td>\n",
       "      <td>15571476</td>\n",
       "      <td>Kelly</td>\n",
       "      <td>635</td>\n",
       "      <td>Spain</td>\n",
       "      <td>Male</td>\n",
       "      <td>38</td>\n",
       "      <td>0.0</td>\n",
       "      <td>103257.14</td>\n",
       "      <td>1</td>\n",
       "      <td>0</td>\n",
       "      <td>0</td>\n",
       "      <td>158344.63</td>\n",
       "      <td>0</td>\n",
       "    </tr>\n",
       "    <tr>\n",
       "      <th>3188</th>\n",
       "      <td>3189</td>\n",
       "      <td>15586757</td>\n",
       "      <td>Anenechukwu</td>\n",
       "      <td>801</td>\n",
       "      <td>France</td>\n",
       "      <td>Female</td>\n",
       "      <td>32</td>\n",
       "      <td>4.0</td>\n",
       "      <td>75170.54</td>\n",
       "      <td>1</td>\n",
       "      <td>1</td>\n",
       "      <td>1</td>\n",
       "      <td>37898.50</td>\n",
       "      <td>0</td>\n",
       "    </tr>\n",
       "  </tbody>\n",
       "</table>\n",
       "</div>"
      ],
      "text/plain": [
       "      RowNumber  CustomerId      Surname  CreditScore Geography  Gender  Age  \\\n",
       "4300       4301    15633834        Milne          700   Germany  Female   28   \n",
       "8056       8057    15736078         Ting          730   Germany  Female   33   \n",
       "9136       9137    15688984      Belonwu          595    France    Male   20   \n",
       "5743       5744    15571476        Kelly          635     Spain    Male   38   \n",
       "3188       3189    15586757  Anenechukwu          801    France  Female   32   \n",
       "\n",
       "      Tenure    Balance  NumOfProducts  HasCrCard  IsActiveMember  \\\n",
       "4300     3.0   99705.69              2          0               0   \n",
       "8056     7.0  130367.87              1          1               0   \n",
       "9136     4.0   95830.43              1          1               0   \n",
       "5743     0.0  103257.14              1          0               0   \n",
       "3188     4.0   75170.54              1          1               1   \n",
       "\n",
       "      EstimatedSalary  Exited  \n",
       "4300        146723.72       0  \n",
       "8056         15142.10       1  \n",
       "9136        177738.98       0  \n",
       "5743        158344.63       0  \n",
       "3188         37898.50       0  "
      ]
     },
     "metadata": {},
     "output_type": "display_data"
    }
   ],
   "source": [
    "import pandas as pd\n",
    "import numpy as np\n",
    "import matplotlib.pyplot as plt\n",
    "import seaborn as sns\n",
    "import re\n",
    "\n",
    "from sklearn.model_selection import train_test_split \n",
    "from sklearn.tree import DecisionTreeClassifier\n",
    "from sklearn.ensemble import RandomForestClassifier \n",
    "from sklearn.linear_model import LogisticRegression\n",
    "from sklearn.preprocessing import StandardScaler\n",
    "from sklearn.utils import shuffle\n",
    "from sklearn.metrics import confusion_matrix, f1_score, roc_curve, roc_auc_score\n",
    "from sklearn.model_selection import GridSearchCV\n",
    "\n",
    "from imblearn.over_sampling import SMOTE \n",
    "from imblearn.under_sampling import TomekLinks\n",
    "\n",
    "from IPython.display import display\n",
    "\n",
    "try:\n",
    "    df = pd.read_csv('../datasets/Churn.csv')\n",
    "    display(df.sample(5))\n",
    "except:\n",
    "    print(\"Data not found\")\n",
    "\n"
   ]
  },
  {
   "cell_type": "markdown",
   "metadata": {},
   "source": [
    "Data is customers and their personal/banking information. \n",
    "RowNumber is redundant column, and surname/customerid are not logical choices as a features for the model. Also, gender and geography need encoding because they are strings."
   ]
  },
  {
   "cell_type": "code",
   "execution_count": 2,
   "metadata": {},
   "outputs": [
    {
     "name": "stdout",
     "output_type": "stream",
     "text": [
      "<class 'pandas.core.frame.DataFrame'>\n",
      "RangeIndex: 10000 entries, 0 to 9999\n",
      "Data columns (total 11 columns):\n",
      " #   Column            Non-Null Count  Dtype  \n",
      "---  ------            --------------  -----  \n",
      " 0   credit_score      10000 non-null  int64  \n",
      " 1   geography         10000 non-null  object \n",
      " 2   gender            10000 non-null  object \n",
      " 3   age               10000 non-null  int64  \n",
      " 4   tenure            9091 non-null   float64\n",
      " 5   balance           10000 non-null  float64\n",
      " 6   num_of_products   10000 non-null  int64  \n",
      " 7   has_cr_card       10000 non-null  int64  \n",
      " 8   is_active_member  10000 non-null  int64  \n",
      " 9   estimated_salary  10000 non-null  float64\n",
      " 10  exited            10000 non-null  int64  \n",
      "dtypes: float64(3), int64(6), object(2)\n",
      "memory usage: 859.5+ KB\n"
     ]
    }
   ],
   "source": [
    "# dropping columns that won't be used in features\n",
    "df = df.drop(['RowNumber','CustomerId','Surname'],axis=1)\n",
    "\n",
    "def camel_to_snake(name):\n",
    "  name = re.sub('(.)([A-Z][a-z]+)', r'\\1_\\2', name)\n",
    "  return re.sub('([a-z0-9])([A-Z])', r'\\1_\\2', name).lower()\n",
    "\n",
    "for column in df.columns:\n",
    "    df = df.rename(columns={column:camel_to_snake(column)})\n",
    "\n",
    "df.info()"
   ]
  },
  {
   "cell_type": "markdown",
   "metadata": {},
   "source": [
    "All datatypes are correct. Missing tenure values need to be investigated."
   ]
  },
  {
   "cell_type": "markdown",
   "metadata": {},
   "source": [
    "### 2. Data preprocessing <a class=\"anchor\" id=\"dpp\"></a>"
   ]
  },
  {
   "cell_type": "markdown",
   "metadata": {},
   "source": [
    "#### 2.1 Missing Data <a class=\"anchor\" id=\"null\"></a>"
   ]
  },
  {
   "cell_type": "code",
   "execution_count": 3,
   "metadata": {},
   "outputs": [
    {
     "name": "stdout",
     "output_type": "stream",
     "text": [
      "1.0     952\n",
      "2.0     950\n",
      "8.0     933\n",
      "3.0     928\n",
      "5.0     927\n",
      "7.0     925\n",
      "4.0     885\n",
      "9.0     882\n",
      "6.0     881\n",
      "10.0    446\n",
      "0.0     382\n",
      "Name: tenure, dtype: int64\n"
     ]
    },
    {
     "data": {
      "text/html": [
       "<div>\n",
       "<style scoped>\n",
       "    .dataframe tbody tr th:only-of-type {\n",
       "        vertical-align: middle;\n",
       "    }\n",
       "\n",
       "    .dataframe tbody tr th {\n",
       "        vertical-align: top;\n",
       "    }\n",
       "\n",
       "    .dataframe thead th {\n",
       "        text-align: right;\n",
       "    }\n",
       "</style>\n",
       "<table border=\"1\" class=\"dataframe\">\n",
       "  <thead>\n",
       "    <tr style=\"text-align: right;\">\n",
       "      <th></th>\n",
       "      <th>credit_score</th>\n",
       "      <th>geography</th>\n",
       "      <th>gender</th>\n",
       "      <th>age</th>\n",
       "      <th>tenure</th>\n",
       "      <th>balance</th>\n",
       "      <th>num_of_products</th>\n",
       "      <th>has_cr_card</th>\n",
       "      <th>is_active_member</th>\n",
       "      <th>estimated_salary</th>\n",
       "      <th>exited</th>\n",
       "    </tr>\n",
       "  </thead>\n",
       "  <tbody>\n",
       "    <tr>\n",
       "      <th>30</th>\n",
       "      <td>591</td>\n",
       "      <td>Spain</td>\n",
       "      <td>Female</td>\n",
       "      <td>39</td>\n",
       "      <td>NaN</td>\n",
       "      <td>0.00</td>\n",
       "      <td>3</td>\n",
       "      <td>1</td>\n",
       "      <td>0</td>\n",
       "      <td>140469.38</td>\n",
       "      <td>1</td>\n",
       "    </tr>\n",
       "    <tr>\n",
       "      <th>48</th>\n",
       "      <td>550</td>\n",
       "      <td>Germany</td>\n",
       "      <td>Male</td>\n",
       "      <td>38</td>\n",
       "      <td>NaN</td>\n",
       "      <td>103391.38</td>\n",
       "      <td>1</td>\n",
       "      <td>0</td>\n",
       "      <td>1</td>\n",
       "      <td>90878.13</td>\n",
       "      <td>0</td>\n",
       "    </tr>\n",
       "    <tr>\n",
       "      <th>51</th>\n",
       "      <td>585</td>\n",
       "      <td>Germany</td>\n",
       "      <td>Male</td>\n",
       "      <td>36</td>\n",
       "      <td>NaN</td>\n",
       "      <td>146050.97</td>\n",
       "      <td>2</td>\n",
       "      <td>0</td>\n",
       "      <td>0</td>\n",
       "      <td>86424.57</td>\n",
       "      <td>0</td>\n",
       "    </tr>\n",
       "    <tr>\n",
       "      <th>53</th>\n",
       "      <td>655</td>\n",
       "      <td>Germany</td>\n",
       "      <td>Male</td>\n",
       "      <td>41</td>\n",
       "      <td>NaN</td>\n",
       "      <td>125561.97</td>\n",
       "      <td>1</td>\n",
       "      <td>0</td>\n",
       "      <td>0</td>\n",
       "      <td>164040.94</td>\n",
       "      <td>1</td>\n",
       "    </tr>\n",
       "    <tr>\n",
       "      <th>60</th>\n",
       "      <td>742</td>\n",
       "      <td>Germany</td>\n",
       "      <td>Male</td>\n",
       "      <td>35</td>\n",
       "      <td>NaN</td>\n",
       "      <td>136857.00</td>\n",
       "      <td>1</td>\n",
       "      <td>0</td>\n",
       "      <td>0</td>\n",
       "      <td>84509.57</td>\n",
       "      <td>0</td>\n",
       "    </tr>\n",
       "  </tbody>\n",
       "</table>\n",
       "</div>"
      ],
      "text/plain": [
       "    credit_score geography  gender  age  tenure    balance  num_of_products  \\\n",
       "30           591     Spain  Female   39     NaN       0.00                3   \n",
       "48           550   Germany    Male   38     NaN  103391.38                1   \n",
       "51           585   Germany    Male   36     NaN  146050.97                2   \n",
       "53           655   Germany    Male   41     NaN  125561.97                1   \n",
       "60           742   Germany    Male   35     NaN  136857.00                1   \n",
       "\n",
       "    has_cr_card  is_active_member  estimated_salary  exited  \n",
       "30            1                 0         140469.38       1  \n",
       "48            0                 1          90878.13       0  \n",
       "51            0                 0          86424.57       0  \n",
       "53            0                 0         164040.94       1  \n",
       "60            0                 0          84509.57       0  "
      ]
     },
     "execution_count": 3,
     "metadata": {},
     "output_type": "execute_result"
    }
   ],
   "source": [
    "print(df['tenure'].value_counts())\n",
    "df[df['tenure'].isna()].head()"
   ]
  },
  {
   "cell_type": "markdown",
   "metadata": {},
   "source": [
    "Even though there are far fewer rows with 0.0 tenure, this missing data could mean many things as there are missing values from customers that have exited and haven't. We need to verify. Simply dropping these rows will remove less than 10% of data so will drop for now."
   ]
  },
  {
   "cell_type": "markdown",
   "metadata": {},
   "source": [
    "#### 2.2 Duplicate Data <a class=\"anchor\" id=\"dupe\"></a>"
   ]
  },
  {
   "cell_type": "code",
   "execution_count": 4,
   "metadata": {},
   "outputs": [
    {
     "data": {
      "text/plain": [
       "credit_score        0\n",
       "geography           0\n",
       "gender              0\n",
       "age                 0\n",
       "tenure              0\n",
       "balance             0\n",
       "num_of_products     0\n",
       "has_cr_card         0\n",
       "is_active_member    0\n",
       "estimated_salary    0\n",
       "exited              0\n",
       "dtype: int64"
      ]
     },
     "execution_count": 4,
     "metadata": {},
     "output_type": "execute_result"
    }
   ],
   "source": [
    "df[df.duplicated() == True].count()"
   ]
  },
  {
   "cell_type": "code",
   "execution_count": 5,
   "metadata": {},
   "outputs": [
    {
     "data": {
      "text/plain": [
       "credit_score        9091\n",
       "geography           9091\n",
       "gender              9091\n",
       "age                 9091\n",
       "tenure              9091\n",
       "balance             9091\n",
       "num_of_products     9091\n",
       "has_cr_card         9091\n",
       "is_active_member    9091\n",
       "estimated_salary    9091\n",
       "exited              9091\n",
       "dtype: int64"
      ]
     },
     "execution_count": 5,
     "metadata": {},
     "output_type": "execute_result"
    }
   ],
   "source": [
    "# drop missing values\n",
    "df.dropna(inplace=True)\n",
    "df.count()"
   ]
  },
  {
   "cell_type": "markdown",
   "metadata": {},
   "source": [
    "The data has been imported cleanly for feature preparation and model training. Missing data rows need to be investigated further"
   ]
  },
  {
   "cell_type": "markdown",
   "metadata": {},
   "source": [
    "#### 2.3 Feature Preparation <a class=\"anchor\" id=\"feature\"></a>"
   ]
  },
  {
   "cell_type": "markdown",
   "metadata": {},
   "source": [
    "Now for encoding the geography and gender:"
   ]
  },
  {
   "cell_type": "code",
   "execution_count": 6,
   "metadata": {},
   "outputs": [
    {
     "data": {
      "text/html": [
       "<div>\n",
       "<style scoped>\n",
       "    .dataframe tbody tr th:only-of-type {\n",
       "        vertical-align: middle;\n",
       "    }\n",
       "\n",
       "    .dataframe tbody tr th {\n",
       "        vertical-align: top;\n",
       "    }\n",
       "\n",
       "    .dataframe thead th {\n",
       "        text-align: right;\n",
       "    }\n",
       "</style>\n",
       "<table border=\"1\" class=\"dataframe\">\n",
       "  <thead>\n",
       "    <tr style=\"text-align: right;\">\n",
       "      <th></th>\n",
       "      <th>credit_score</th>\n",
       "      <th>age</th>\n",
       "      <th>tenure</th>\n",
       "      <th>balance</th>\n",
       "      <th>num_of_products</th>\n",
       "      <th>has_cr_card</th>\n",
       "      <th>is_active_member</th>\n",
       "      <th>estimated_salary</th>\n",
       "      <th>exited</th>\n",
       "      <th>geography_germany</th>\n",
       "      <th>geography_spain</th>\n",
       "      <th>gender_male</th>\n",
       "    </tr>\n",
       "  </thead>\n",
       "  <tbody>\n",
       "    <tr>\n",
       "      <th>5332</th>\n",
       "      <td>710</td>\n",
       "      <td>29</td>\n",
       "      <td>3.0</td>\n",
       "      <td>119670.18</td>\n",
       "      <td>1</td>\n",
       "      <td>1</td>\n",
       "      <td>0</td>\n",
       "      <td>188022.44</td>\n",
       "      <td>0</td>\n",
       "      <td>0</td>\n",
       "      <td>1</td>\n",
       "      <td>0</td>\n",
       "    </tr>\n",
       "    <tr>\n",
       "      <th>6791</th>\n",
       "      <td>600</td>\n",
       "      <td>39</td>\n",
       "      <td>7.0</td>\n",
       "      <td>88477.36</td>\n",
       "      <td>2</td>\n",
       "      <td>1</td>\n",
       "      <td>0</td>\n",
       "      <td>58632.37</td>\n",
       "      <td>0</td>\n",
       "      <td>1</td>\n",
       "      <td>0</td>\n",
       "      <td>0</td>\n",
       "    </tr>\n",
       "    <tr>\n",
       "      <th>5461</th>\n",
       "      <td>531</td>\n",
       "      <td>31</td>\n",
       "      <td>2.0</td>\n",
       "      <td>118899.45</td>\n",
       "      <td>2</td>\n",
       "      <td>0</td>\n",
       "      <td>0</td>\n",
       "      <td>41409.36</td>\n",
       "      <td>0</td>\n",
       "      <td>0</td>\n",
       "      <td>1</td>\n",
       "      <td>1</td>\n",
       "    </tr>\n",
       "    <tr>\n",
       "      <th>380</th>\n",
       "      <td>483</td>\n",
       "      <td>50</td>\n",
       "      <td>9.0</td>\n",
       "      <td>0.00</td>\n",
       "      <td>2</td>\n",
       "      <td>1</td>\n",
       "      <td>1</td>\n",
       "      <td>111020.24</td>\n",
       "      <td>0</td>\n",
       "      <td>0</td>\n",
       "      <td>0</td>\n",
       "      <td>0</td>\n",
       "    </tr>\n",
       "    <tr>\n",
       "      <th>4396</th>\n",
       "      <td>721</td>\n",
       "      <td>68</td>\n",
       "      <td>4.0</td>\n",
       "      <td>136525.99</td>\n",
       "      <td>1</td>\n",
       "      <td>0</td>\n",
       "      <td>0</td>\n",
       "      <td>175399.14</td>\n",
       "      <td>0</td>\n",
       "      <td>1</td>\n",
       "      <td>0</td>\n",
       "      <td>1</td>\n",
       "    </tr>\n",
       "  </tbody>\n",
       "</table>\n",
       "</div>"
      ],
      "text/plain": [
       "      credit_score  age  tenure    balance  num_of_products  has_cr_card  \\\n",
       "5332           710   29     3.0  119670.18                1            1   \n",
       "6791           600   39     7.0   88477.36                2            1   \n",
       "5461           531   31     2.0  118899.45                2            0   \n",
       "380            483   50     9.0       0.00                2            1   \n",
       "4396           721   68     4.0  136525.99                1            0   \n",
       "\n",
       "      is_active_member  estimated_salary  exited  geography_germany  \\\n",
       "5332                 0         188022.44       0                  0   \n",
       "6791                 0          58632.37       0                  1   \n",
       "5461                 0          41409.36       0                  0   \n",
       "380                  1         111020.24       0                  0   \n",
       "4396                 0         175399.14       0                  1   \n",
       "\n",
       "      geography_spain  gender_male  \n",
       "5332                1            0  \n",
       "6791                0            0  \n",
       "5461                1            1  \n",
       "380                 0            0  \n",
       "4396                0            1  "
      ]
     },
     "execution_count": 6,
     "metadata": {},
     "output_type": "execute_result"
    }
   ],
   "source": [
    "# drop on the first dummy columns because the high correlation will confuse our model\n",
    "df_ohe = pd.get_dummies(df,drop_first=True)\n",
    "# column names converted to lowercase\n",
    "df_ohe.columns = df_ohe.columns.str.lower()\n",
    "df_ohe.sample(5)"
   ]
  },
  {
   "cell_type": "markdown",
   "metadata": {},
   "source": [
    "#### 2.4 Data splitting <a class=\"anchor\" id=\"split\"></a>"
   ]
  },
  {
   "cell_type": "markdown",
   "metadata": {},
   "source": [
    "A common ratio, that I will use, for splitting raw data into training, validation, and test data is 3:1:1. The target will be the 'Exited' column because we want to predict if customers will exit. This is a binary target so we will need a classifier model."
   ]
  },
  {
   "cell_type": "code",
   "execution_count": 7,
   "metadata": {},
   "outputs": [
    {
     "name": "stdout",
     "output_type": "stream",
     "text": [
      "Size of training dataset: 5454\n",
      "Size of validation dataset: 1818\n",
      "Size of testing dataset: 1819\n"
     ]
    }
   ],
   "source": [
    "# split data into training, validation, and testing \n",
    "df_train, df_valid_test = train_test_split(df_ohe, test_size=0.4,random_state=12345)\n",
    "df_valid, df_test = train_test_split(df_valid_test, test_size=0.5,random_state=12345)\n",
    "\n",
    "# Declare variables for the features and target of split data.\n",
    "features_train = df_train.drop(['exited'], axis=1)\n",
    "target_train = df_train['exited']\n",
    "features_valid = df_valid.drop(['exited'], axis=1)\n",
    "target_valid = df_valid['exited']\n",
    "features_test = df_test.drop(['exited'], axis=1)\n",
    "target_test = df_test['exited']\n",
    "\n",
    "print(\"Size of training dataset:\",len(df_train))\n",
    "print(\"Size of validation dataset:\",len(df_valid))\n",
    "print(\"Size of testing dataset:\",len(df_test))"
   ]
  },
  {
   "cell_type": "markdown",
   "metadata": {},
   "source": [
    "I will also standardize all the numerical columns in each data split (with standardizer fit to training data) so that dispersion will have less effect on classes."
   ]
  },
  {
   "cell_type": "code",
   "execution_count": 8,
   "metadata": {},
   "outputs": [
    {
     "data": {
      "text/html": [
       "<div>\n",
       "<style scoped>\n",
       "    .dataframe tbody tr th:only-of-type {\n",
       "        vertical-align: middle;\n",
       "    }\n",
       "\n",
       "    .dataframe tbody tr th {\n",
       "        vertical-align: top;\n",
       "    }\n",
       "\n",
       "    .dataframe thead th {\n",
       "        text-align: right;\n",
       "    }\n",
       "</style>\n",
       "<table border=\"1\" class=\"dataframe\">\n",
       "  <thead>\n",
       "    <tr style=\"text-align: right;\">\n",
       "      <th></th>\n",
       "      <th>credit_score</th>\n",
       "      <th>age</th>\n",
       "      <th>balance</th>\n",
       "      <th>num_of_products</th>\n",
       "      <th>estimated_salary</th>\n",
       "      <th>tenure</th>\n",
       "    </tr>\n",
       "  </thead>\n",
       "  <tbody>\n",
       "    <tr>\n",
       "      <th>9962</th>\n",
       "      <td>0.550971</td>\n",
       "      <td>0.466548</td>\n",
       "      <td>-1.237830</td>\n",
       "      <td>-0.908179</td>\n",
       "      <td>-0.707422</td>\n",
       "      <td>1.385532</td>\n",
       "    </tr>\n",
       "    <tr>\n",
       "      <th>1994</th>\n",
       "      <td>0.581944</td>\n",
       "      <td>0.937133</td>\n",
       "      <td>-1.237830</td>\n",
       "      <td>-0.908179</td>\n",
       "      <td>-0.635157</td>\n",
       "      <td>0.696524</td>\n",
       "    </tr>\n",
       "    <tr>\n",
       "      <th>9394</th>\n",
       "      <td>-0.533068</td>\n",
       "      <td>-0.380507</td>\n",
       "      <td>0.879594</td>\n",
       "      <td>-0.908179</td>\n",
       "      <td>1.593293</td>\n",
       "      <td>1.041028</td>\n",
       "    </tr>\n",
       "    <tr>\n",
       "      <th>4583</th>\n",
       "      <td>-0.254315</td>\n",
       "      <td>-0.098155</td>\n",
       "      <td>-1.237830</td>\n",
       "      <td>0.809300</td>\n",
       "      <td>-0.084305</td>\n",
       "      <td>1.041028</td>\n",
       "    </tr>\n",
       "    <tr>\n",
       "      <th>4284</th>\n",
       "      <td>0.860696</td>\n",
       "      <td>0.278313</td>\n",
       "      <td>0.682367</td>\n",
       "      <td>0.809300</td>\n",
       "      <td>-0.221703</td>\n",
       "      <td>-1.025995</td>\n",
       "    </tr>\n",
       "  </tbody>\n",
       "</table>\n",
       "</div>"
      ],
      "text/plain": [
       "      credit_score       age   balance  num_of_products  estimated_salary  \\\n",
       "9962      0.550971  0.466548 -1.237830        -0.908179         -0.707422   \n",
       "1994      0.581944  0.937133 -1.237830        -0.908179         -0.635157   \n",
       "9394     -0.533068 -0.380507  0.879594        -0.908179          1.593293   \n",
       "4583     -0.254315 -0.098155 -1.237830         0.809300         -0.084305   \n",
       "4284      0.860696  0.278313  0.682367         0.809300         -0.221703   \n",
       "\n",
       "        tenure  \n",
       "9962  1.385532  \n",
       "1994  0.696524  \n",
       "9394  1.041028  \n",
       "4583  1.041028  \n",
       "4284 -1.025995  "
      ]
     },
     "execution_count": 8,
     "metadata": {},
     "output_type": "execute_result"
    }
   ],
   "source": [
    "numeric = ['credit_score','age','balance','num_of_products','estimated_salary','tenure']\n",
    "scaler = StandardScaler()\n",
    "scaler.fit(features_train[numeric])\n",
    "features_valid[numeric] = scaler.transform(features_valid[numeric])\n",
    "features_test[numeric] = scaler.transform(features_test[numeric])\n",
    "features_train[numeric] = scaler.transform(features_train[numeric])\n",
    "features_train[numeric].sample(5)"
   ]
  },
  {
   "cell_type": "markdown",
   "metadata": {},
   "source": [
    "### 3. Model Training <a class=\"anchor\" id=\"train\"></a>"
   ]
  },
  {
   "cell_type": "markdown",
   "metadata": {},
   "source": [
    "Now we will train various models with and without class balance. Our measure for how well a model predicts will be evaluated by F1 score. F1 is a good metric because it aggregates both precision and recall."
   ]
  },
  {
   "cell_type": "code",
   "execution_count": 9,
   "metadata": {},
   "outputs": [],
   "source": [
    "# define function for displaying class balance of model\n",
    "def display_class_balance(model,model_string,class_balance_string):\n",
    "    model.fit(features_train, target_train)\n",
    "    print(\"- MODEL: \",model_string,\" -\")\n",
    "    print(\"- CLASS BALANCE: \",class_balance_string,\" -\")\n",
    "    predictions_valid = model.predict(features_valid)\n",
    "    class_frequency = pd.Series(predictions_valid).value_counts(normalize=True)\n",
    "    class_frequency.plot(kind='bar')\n",
    "    plt.title('Class Frequency of Model Predictions')\n",
    "    plt.xlabel('Class')\n",
    "    plt.ylabel('Count')\n",
    "    plt.show()\n",
    "    print(\"f1 score: {:.3f}\".format(f1_score(target_valid, predictions_valid)))\n",
    "    cm = confusion_matrix(target_valid, predictions_valid, normalize='all')\n",
    "    DetaFrame_cm = pd.DataFrame(cm, range(2), range(2))\n",
    "    sns.heatmap(DetaFrame_cm, annot=True,cbar=False,square=True,cmap='inferno')\n",
    "    plt.title('Confusion Matrix')\n",
    "    plt.tight_layout()\n",
    "    plt.show()\n",
    "    probabilities_test = model.predict_proba(features_test)\n",
    "    probabilities_one_test = probabilities_test[:, 1]\n",
    "    auc_roc = roc_auc_score(target_test,probabilities_one_test)\n",
    "    print(\"AUC-ROC value = {:.3f}\".format(auc_roc))"
   ]
  },
  {
   "cell_type": "markdown",
   "metadata": {},
   "source": [
    "#### 3.1 Logistic Regression <a class=\"anchor\" id=\"lr\"></a>"
   ]
  },
  {
   "cell_type": "code",
   "execution_count": 10,
   "metadata": {},
   "outputs": [
    {
     "name": "stdout",
     "output_type": "stream",
     "text": [
      "- MODEL:  LOGISTIC REGRESSION  -\n",
      "- CLASS BALANCE:  NONE  -\n"
     ]
    },
    {
     "data": {
      "image/png": "[encoded data removed]",
      "text/plain": [
       "<Figure size 432x288 with 1 Axes>"
      ]
     },
     "metadata": {
      "needs_background": "light"
     },
     "output_type": "display_data"
    },
    {
     "name": "stdout",
     "output_type": "stream",
     "text": [
      "f1 score: 0.304\n"
     ]
    },
    {
     "data": {
      "image/png": "[encoded data removed]",
      "text/plain": [
       "<Figure size 432x288 with 1 Axes>"
      ]
     },
     "metadata": {
      "needs_background": "light"
     },
     "output_type": "display_data"
    },
    {
     "name": "stdout",
     "output_type": "stream",
     "text": [
      "AUC-ROC value = 0.781\n",
      "\n",
      "--------------\n",
      "\n",
      "- MODEL:  LOGISTIC REGRESSION  -\n",
      "- CLASS BALANCE:  BALANCED  -\n"
     ]
    },
    {
     "data": {
      "image/png": "[encoded data removed]",
      "text/plain": [
       "<Figure size 432x288 with 1 Axes>"
      ]
     },
     "metadata": {
      "needs_background": "light"
     },
     "output_type": "display_data"
    },
    {
     "name": "stdout",
     "output_type": "stream",
     "text": [
      "f1 score: 0.510\n"
     ]
    },
    {
     "data": {
      "image/png": "[encoded data removed]",
      "text/plain": [
       "<Figure size 432x288 with 1 Axes>"
      ]
     },
     "metadata": {
      "needs_background": "light"
     },
     "output_type": "display_data"
    },
    {
     "name": "stdout",
     "output_type": "stream",
     "text": [
      "AUC-ROC value = 0.782\n"
     ]
    }
   ],
   "source": [
    "model = LogisticRegression(random_state=12345,solver='liblinear')\n",
    "model_balanced = LogisticRegression(random_state=12345,class_weight='balanced',solver='liblinear')\n",
    "\n",
    "display_class_balance(model,\"LOGISTIC REGRESSION\",\"NONE\")\n",
    "print(\"\\n--------------\\n\")\n",
    "display_class_balance(model_balanced,\"LOGISTIC REGRESSION\",\"BALANCED\")"
   ]
  },
  {
   "cell_type": "markdown",
   "metadata": {},
   "source": [
    "####  3.2 Decision Tree <a class=\"anchor\" id=\"dt\"></a>"
   ]
  },
  {
   "cell_type": "code",
   "execution_count": 11,
   "metadata": {},
   "outputs": [
    {
     "name": "stdout",
     "output_type": "stream",
     "text": [
      "- MODEL:  DECISION TREE  -\n",
      "- CLASS BALANCE:  NONE  -\n"
     ]
    },
    {
     "data": {
      "image/png": "[encoded data removed]",
      "text/plain": [
       "<Figure size 432x288 with 1 Axes>"
      ]
     },
     "metadata": {
      "needs_background": "light"
     },
     "output_type": "display_data"
    },
    {
     "name": "stdout",
     "output_type": "stream",
     "text": [
      "f1 score: 0.493\n"
     ]
    },
    {
     "data": {
      "image/png": "[encoded data removed]",
      "text/plain": [
       "<Figure size 432x288 with 1 Axes>"
      ]
     },
     "metadata": {
      "needs_background": "light"
     },
     "output_type": "display_data"
    },
    {
     "name": "stdout",
     "output_type": "stream",
     "text": [
      "AUC-ROC value = 0.690\n",
      "\n",
      "------------\n",
      "\n",
      "- MODEL:  DECISION TREE  -\n",
      "- CLASS BALANCE:  BALANCED  -\n"
     ]
    },
    {
     "data": {
      "image/png": "[encoded data removed]",
      "text/plain": [
       "<Figure size 432x288 with 1 Axes>"
      ]
     },
     "metadata": {
      "needs_background": "light"
     },
     "output_type": "display_data"
    },
    {
     "name": "stdout",
     "output_type": "stream",
     "text": [
      "f1 score: 0.464\n"
     ]
    },
    {
     "data": {
      "image/png": "[encoded data removed]",
      "text/plain": [
       "<Figure size 432x288 with 1 Axes>"
      ]
     },
     "metadata": {
      "needs_background": "light"
     },
     "output_type": "display_data"
    },
    {
     "name": "stdout",
     "output_type": "stream",
     "text": [
      "AUC-ROC value = 0.680\n"
     ]
    }
   ],
   "source": [
    "model = DecisionTreeClassifier(random_state=12345)\n",
    "model_balanced = DecisionTreeClassifier(random_state=12345,class_weight='balanced')\n",
    "\n",
    "display_class_balance(model,\"DECISION TREE\",\"NONE\")\n",
    "print(\"\\n------------\\n\")\n",
    "display_class_balance(model_balanced,\"DECISION TREE\",\"BALANCED\")"
   ]
  },
  {
   "cell_type": "markdown",
   "metadata": {},
   "source": [
    "#### 3.3 Random Forest <a class=\"anchor\" id=\"rf\"></a>"
   ]
  },
  {
   "cell_type": "code",
   "execution_count": 12,
   "metadata": {},
   "outputs": [
    {
     "name": "stdout",
     "output_type": "stream",
     "text": [
      "- MODEL:  RANDOM FOREST  -\n",
      "- CLASS BALANCE:  NONE  -\n"
     ]
    },
    {
     "data": {
      "image/png": "[encoded data removed]",
      "text/plain": [
       "<Figure size 432x288 with 1 Axes>"
      ]
     },
     "metadata": {
      "needs_background": "light"
     },
     "output_type": "display_data"
    },
    {
     "name": "stdout",
     "output_type": "stream",
     "text": [
      "f1 score: 0.585\n"
     ]
    },
    {
     "data": {
      "image/png": "[encoded data removed]",
      "text/plain": [
       "<Figure size 432x288 with 1 Axes>"
      ]
     },
     "metadata": {
      "needs_background": "light"
     },
     "output_type": "display_data"
    },
    {
     "name": "stdout",
     "output_type": "stream",
     "text": [
      "AUC-ROC value = 0.852\n",
      "\n",
      "------------\n",
      "\n",
      "- MODEL:  RANDOM FOREST  -\n",
      "- CLASS BALANCE:  BALANCED  -\n"
     ]
    },
    {
     "data": {
      "image/png": "[encoded data removed]",
      "text/plain": [
       "<Figure size 432x288 with 1 Axes>"
      ]
     },
     "metadata": {
      "needs_background": "light"
     },
     "output_type": "display_data"
    },
    {
     "name": "stdout",
     "output_type": "stream",
     "text": [
      "f1 score: 0.556\n"
     ]
    },
    {
     "data": {
      "image/png": "[encoded data removed]",
      "text/plain": [
       "<Figure size 432x288 with 1 Axes>"
      ]
     },
     "metadata": {
      "needs_background": "light"
     },
     "output_type": "display_data"
    },
    {
     "name": "stdout",
     "output_type": "stream",
     "text": [
      "AUC-ROC value = 0.851\n"
     ]
    }
   ],
   "source": [
    "model = RandomForestClassifier(random_state=12345)\n",
    "model_balanced = RandomForestClassifier(random_state=12345,class_weight='balanced')\n",
    "\n",
    "display_class_balance(model,\"RANDOM FOREST\",\"NONE\")\n",
    "print(\"\\n------------\\n\")\n",
    "display_class_balance(model_balanced,\"RANDOM FOREST\",\"BALANCED\")"
   ]
  },
  {
   "cell_type": "markdown",
   "metadata": {},
   "source": [
    "In decision tree and random forest models, adding class balancing slightly negatively effected the model's score. The similar effect follows logically as the forest model includes decision trees. We can also see why the class balance does little in the confusion matrix of the compared models by the lack of change. In the logistic regression model adding class balance greatly increased the model's score. With the class balance, True Positives were greatly increased and False Negatives were decreased to improve recall and precision as seen in the confusion matrix. Overall the Random Forest model performed the best. Let's take a closer look at it's class probabilities:"
   ]
  },
  {
   "cell_type": "markdown",
   "metadata": {},
   "source": [
    "#### 3.4 Threshold <a class=\"anchor\" id=\"threshold\"></a>"
   ]
  },
  {
   "cell_type": "code",
   "execution_count": 13,
   "metadata": {},
   "outputs": [
    {
     "name": "stdout",
     "output_type": "stream",
     "text": [
      "[0.59 0.02 0.61 0.03 0.03]\n"
     ]
    }
   ],
   "source": [
    "#random forest model with class balance\n",
    "model = RandomForestClassifier(random_state=12345,class_weight='balanced').fit(features_train, target_train)\n",
    "predictions_valid = model.predict(features_valid)\n",
    "\n",
    "probabilities_valid = model.predict_proba(features_valid)\n",
    "probabilities_one_valid = probabilities_valid[:,1]\n",
    "\n",
    "print(probabilities_one_valid[:5])"
   ]
  },
  {
   "cell_type": "markdown",
   "metadata": {},
   "source": [
    "Some class probabilities are low so we will try adjusting the threshold:"
   ]
  },
  {
   "cell_type": "code",
   "execution_count": 14,
   "metadata": {},
   "outputs": [
    {
     "name": "stdout",
     "output_type": "stream",
     "text": [
      "Threshold = 0.040 | F1 Score = 0.556\n",
      "Threshold = 0.050 | F1 Score = 0.556\n",
      "Threshold = 0.060 | F1 Score = 0.556\n",
      "Threshold = 0.070 | F1 Score = 0.556\n",
      "Threshold = 0.080 | F1 Score = 0.556\n",
      "Threshold = 0.090 | F1 Score = 0.556\n",
      "Threshold = 0.100 | F1 Score = 0.556\n",
      "Threshold = 0.110 | F1 Score = 0.556\n",
      "Threshold = 0.120 | F1 Score = 0.556\n",
      "Threshold = 0.130 | F1 Score = 0.556\n",
      "Threshold = 0.140 | F1 Score = 0.556\n"
     ]
    }
   ],
   "source": [
    "for threshold in np.arange(0.04, 0.15, 0.01):\n",
    "    predicted_valid = probabilities_one_valid > threshold\n",
    "    score = f1_score(target_valid, predictions_valid)\n",
    "\n",
    "    print(\"Threshold = {:.3f} | F1 Score = {:.3f}\".format(\n",
    "        threshold, score))"
   ]
  },
  {
   "cell_type": "markdown",
   "metadata": {},
   "source": [
    "Adjusting the threshold had no affect. The confusion matrix showed far more negative than positive so we will upsample, tuning the amount of repetitions."
   ]
  },
  {
   "cell_type": "markdown",
   "metadata": {},
   "source": [
    "#### 3.5 Upsample <a class=\"anchor\" id=\"upsample\"></a>"
   ]
  },
  {
   "cell_type": "code",
   "execution_count": 15,
   "metadata": {},
   "outputs": [
    {
     "name": "stdout",
     "output_type": "stream",
     "text": [
      "Upsample Repititions = 2 | F1 Score = 0.556\n",
      "Upsample Repititions = 3 | F1 Score = 0.556\n",
      "Upsample Repititions = 4 | F1 Score = 0.556\n",
      "Upsample Repititions = 5 | F1 Score = 0.556\n",
      "Upsample Repititions = 6 | F1 Score = 0.556\n",
      "Upsample Repititions = 7 | F1 Score = 0.556\n",
      "Upsample Repititions = 8 | F1 Score = 0.556\n",
      "Upsample Repititions = 9 | F1 Score = 0.556\n"
     ]
    }
   ],
   "source": [
    "def upsample (features,target,repeat):\n",
    "    features_zeros = features[target == 0]\n",
    "    features_ones = features[target == 1]\n",
    "    target_zeros = target[target == 0]\n",
    "    target_ones = target[target == 1]\n",
    "    features_upsampled = pd.concat([features_zeros] + [features_ones] * repeat)\n",
    "    target_upsampled = pd.concat([target_zeros] + [target_ones] * repeat)\n",
    "    return shuffle(features_upsampled,target_upsampled,random_state=12345)\n",
    "\n",
    "for i in range(2,10):\n",
    "    features_upsampled, target_upsampled = upsample(features_train, target_train, 10)\n",
    "    model = RandomForestClassifier(random_state=12345,class_weight='balanced').fit(features_train, target_train)\n",
    "    predictions_valid = model.predict(features_valid)\n",
    "    score = f1_score(target_valid, predictions_valid)\n",
    "    print(\"Upsample Repititions = {:.0f} | F1 Score = {:.3f}\".format(\n",
    "        i, score))"
   ]
  },
  {
   "cell_type": "markdown",
   "metadata": {},
   "source": [
    "Adding upsamples did not effect the F1 score, so let's try downsampling.\n",
    "\n",
    "####  3.6 Downsample <a class=\"anchor\" id=\"downsample\"></a>"
   ]
  },
  {
   "cell_type": "code",
   "execution_count": 16,
   "metadata": {},
   "outputs": [
    {
     "name": "stdout",
     "output_type": "stream",
     "text": [
      "Downsample Fractions = 0.1 | F1 Score = 0.556\n",
      "Downsample Fractions = 0.2 | F1 Score = 0.556\n",
      "Downsample Fractions = 0.3 | F1 Score = 0.556\n",
      "Downsample Fractions = 0.4 | F1 Score = 0.556\n",
      "Downsample Fractions = 0.5 | F1 Score = 0.556\n",
      "Downsample Fractions = 0.6 | F1 Score = 0.556\n"
     ]
    }
   ],
   "source": [
    "def downsample(features, target, fraction):\n",
    "    features_zeros = features[target == 0]\n",
    "    features_ones = features[target == 1]\n",
    "    target_zeros = target[target == 0]\n",
    "    target_ones = target[target == 1]\n",
    "\n",
    "    features_downsampled = pd.concat(\n",
    "        [features_zeros.sample(frac=fraction, random_state=12345)] + [features_ones])\n",
    "    target_downsampled = pd.concat(\n",
    "        [target_zeros.sample(frac=fraction, random_state=12345)] + [target_ones])\n",
    "    \n",
    "    features_downsampled, target_downsampled = shuffle(\n",
    "        features_downsampled, target_downsampled, random_state=12345)\n",
    "    \n",
    "    return features_downsampled, target_downsampled\n",
    "\n",
    "for fraction in np.arange(0.1, 0.61, 0.1):\n",
    "    features_downsampled, target_downsampled = downsample(features_train, target_train, fraction)\n",
    "    model = RandomForestClassifier(random_state=12345,class_weight='balanced').fit(features_train, target_train)\n",
    "    model.fit(features_downsampled,target_downsampled)\n",
    "    predicted_valid= model.predict(features_valid)\n",
    "    score = f1_score(target_valid, predictions_valid)\n",
    "    print(\"Downsample Fractions = {:.1f} | F1 Score = {:.3f}\".format(\n",
    "        fraction, score))"
   ]
  },
  {
   "cell_type": "markdown",
   "metadata": {},
   "source": [
    "Downsampling also had no affect on the F1 score of the model. We will try other upsampling and downsampling techniques."
   ]
  },
  {
   "cell_type": "markdown",
   "metadata": {},
   "source": [
    "#### 3.7 Tomek's Links <a class=\"anchor\" id=\"tomek\"></a>"
   ]
  },
  {
   "cell_type": "markdown",
   "metadata": {},
   "source": [
    "Tomek's links are pairs of close instances of opposite classes. Removing the instances of the majority class of each pair increases the space between the two classes, facilitating the classification process. Tomek’s link exists if the two samples are the nearest neighbors of each other"
   ]
  },
  {
   "cell_type": "code",
   "execution_count": 17,
   "metadata": {},
   "outputs": [
    {
     "name": "stdout",
     "output_type": "stream",
     "text": [
      "original target shape: (5454,)\n",
      "Resample target shape (5180,)\n",
      "F1 Score = 0.556\n"
     ]
    }
   ],
   "source": [
    "tl = TomekLinks()\n",
    "\n",
    "X_tl, y_tl = tl.fit_resample(features_train, target_train)\n",
    "\n",
    "print('original target shape:', target_train.shape)\n",
    "print('Resample target shape', y_tl.shape)\n",
    "\n",
    "model = RandomForestClassifier(random_state=12345,class_weight='balanced').fit(X_tl, y_tl)\n",
    "predicted_valid= model.predict(features_valid)\n",
    "score = f1_score(target_valid, predictions_valid)\n",
    "print(\"F1 Score = {:.3f}\".format(score))"
   ]
  },
  {
   "cell_type": "markdown",
   "metadata": {},
   "source": [
    "#### 3.8 SMOTE <a class=\"anchor\" id=\"smote\"></a>"
   ]
  },
  {
   "cell_type": "markdown",
   "metadata": {},
   "source": [
    "Synthetic Minority Oversampling Technique works by randomly picking a point from the minority class and computing the k-nearest neighbors for this point. The synthetic points are added between the chosen point and its neighbors."
   ]
  },
  {
   "cell_type": "code",
   "execution_count": 18,
   "metadata": {},
   "outputs": [
    {
     "name": "stdout",
     "output_type": "stream",
     "text": [
      "original target shape: (5454,)\n",
      "Resample target shape (8656,)\n",
      "F1 Score = 0.556\n"
     ]
    }
   ],
   "source": [
    "sm = SMOTE(random_state=12345)\n",
    "X_sm, y_sm = sm.fit_resample(features_train, target_train)\n",
    "\n",
    "print('original target shape:', target_train.shape)\n",
    "print('Resample target shape', y_sm.shape)\n",
    "\n",
    "model = RandomForestClassifier(random_state=12345,class_weight='balanced').fit(X_sm, y_sm)\n",
    "predicted_valid= model.predict(features_valid)\n",
    "score = f1_score(target_valid, predictions_valid)\n",
    "print(\"F1 Score = {:.3f}\".format(score))"
   ]
  },
  {
   "cell_type": "markdown",
   "metadata": {},
   "source": [
    "Tomek's links and SMOTE had no impact on the F1 score."
   ]
  },
  {
   "cell_type": "markdown",
   "metadata": {},
   "source": [
    "### 4. Parameter Hypertuning <a class=\"anchor\" id=\"pht\"></a>"
   ]
  },
  {
   "cell_type": "code",
   "execution_count": 19,
   "metadata": {},
   "outputs": [
    {
     "name": "stdout",
     "output_type": "stream",
     "text": [
      "Fitting 3 folds for each of 8 candidates, totalling 24 fits\n",
      "Best F1: 0.6036\n",
      "Best params:  {'max_depth': 11, 'min_samples_split': 11, 'n_estimators': 110}\n"
     ]
    }
   ],
   "source": [
    "## hypertune model parameters with GridSearch\n",
    "rf = RandomForestClassifier(random_state=12345,class_weight='balanced')\n",
    "\n",
    "params = {\n",
    "    'n_estimators': (100,110),\n",
    "    'max_depth': (2,11),\n",
    "    'min_samples_split': (2,11)\n",
    "}\n",
    "\n",
    "Grid_CBC = GridSearchCV(estimator=rf, scoring='f1',  param_grid=params,cv=3, verbose=True)\n",
    "Grid_CBC.fit(features_train, target_train)\n",
    "\n",
    "print(\"Best F1:\",Grid_CBC.best_score_.round(4))\n",
    "print(\"Best params: \",Grid_CBC.best_params_)"
   ]
  },
  {
   "cell_type": "markdown",
   "metadata": {},
   "source": [
    "### 5. Model Test <a class=\"anchor\" id=\"test\"></a>"
   ]
  },
  {
   "cell_type": "code",
   "execution_count": 20,
   "metadata": {},
   "outputs": [
    {
     "name": "stdout",
     "output_type": "stream",
     "text": [
      "F1 Score (train)= 0.820\n",
      "F1 Score (test)= 0.610\n"
     ]
    }
   ],
   "source": [
    "model = RandomForestClassifier(random_state=12345,class_weight='balanced',n_estimators=110,max_depth=11,min_samples_split=11)\n",
    "model.fit(features_train, target_train)\n",
    "\n",
    "predictions_train = model.predict(features_train)\n",
    "score_train = f1_score(target_train, predictions_train)\n",
    "print(\"F1 Score (train)= {:.3f}\".format(score_train))\n",
    "\n",
    "predictions_test = model.predict(features_test)\n",
    "score = f1_score(target_test, predictions_test)\n",
    "print(\"F1 Score (test)= {:.3f}\".format(score))"
   ]
  },
  {
   "cell_type": "markdown",
   "metadata": {},
   "source": [
    "The test yielded a F1 score higher than the 0.59 threshold, indicating a good performing prediction model according to our goal."
   ]
  },
  {
   "cell_type": "code",
   "execution_count": 21,
   "metadata": {},
   "outputs": [
    {
     "data": {
      "image/png": "[encoded data removed]",
      "text/plain": [
       "<Figure size 432x288 with 1 Axes>"
      ]
     },
     "metadata": {
      "needs_background": "light"
     },
     "output_type": "display_data"
    },
    {
     "name": "stdout",
     "output_type": "stream",
     "text": [
      "AUC-ROC value = 0.86\n"
     ]
    }
   ],
   "source": [
    "probabilities_test = model.predict_proba(features_test)\n",
    "probabilities_one_test = probabilities_test[:, 1]\n",
    "\n",
    "fpr, tpr, thresholds = roc_curve(target_test, probabilities_one_test) \n",
    "plt.figure()\n",
    "plt.plot(fpr, tpr)\n",
    "plt.xlim([0.0, 1.0])\n",
    "plt.ylim([0.0, 1.0])\n",
    "plt.xlabel('False Positive Rate')\n",
    "plt.ylabel('True Positive Rate')\n",
    "plt.title('ROC curve')\n",
    "plt.show() \n",
    "\n",
    "auc_roc = roc_auc_score(target_test,probabilities_one_test)\n",
    "\n",
    "print(\"AUC-ROC value = {:.2f}\".format(auc_roc))"
   ]
  },
  {
   "cell_type": "markdown",
   "metadata": {},
   "source": [
    "The AUC-ROC of .86 is far above the 0.5 of a random model, further indicating the validity of the model."
   ]
  },
  {
   "cell_type": "markdown",
   "metadata": {},
   "source": [
    "#### 5.1 Sanity Check <a class=\"anchor\" id=\"sanity\"></a>"
   ]
  },
  {
   "cell_type": "markdown",
   "metadata": {},
   "source": [
    "The sanity check involves investigating how often the target contains the class \"1\" or \"0\", then comparing with the model's predictions."
   ]
  },
  {
   "cell_type": "code",
   "execution_count": 22,
   "metadata": {},
   "outputs": [
    {
     "data": {
      "image/png": "[encoded data removed]",
      "text/plain": [
       "<Figure size 432x288 with 1 Axes>"
      ]
     },
     "metadata": {
      "needs_background": "light"
     },
     "output_type": "display_data"
    },
    {
     "data": {
      "image/png": "[encoded data removed]",
      "text/plain": [
       "<Figure size 432x288 with 1 Axes>"
      ]
     },
     "metadata": {
      "needs_background": "light"
     },
     "output_type": "display_data"
    }
   ],
   "source": [
    "class_frequency_df = target_test.value_counts(normalize=True)\n",
    "class_frequency_df.plot(kind='bar')\n",
    "plt.title('Class Frequency of Test Data')\n",
    "plt.xlabel('Class')\n",
    "plt.ylabel('Count')\n",
    "plt.figure()\n",
    "\n",
    "predicted_test = pd.Series(model.predict(features_test))\n",
    "class_frequency = predicted_test.value_counts(normalize=True)\n",
    "class_frequency.plot(kind='bar')\n",
    "plt.title('Class Frequency of Model Predictions')\n",
    "plt.xlabel('Class')\n",
    "plt.ylabel('Count')\n",
    "plt.tight_layout()\n",
    "plt.show()"
   ]
  },
  {
   "cell_type": "markdown",
   "metadata": {},
   "source": [
    "The comparison between class frequency of the test data and model predictions nearly identical."
   ]
  },
  {
   "cell_type": "markdown",
   "metadata": {},
   "source": [
    "## Conclusion <a class=\"anchor\" id=\"end\"></a>"
   ]
  },
  {
   "cell_type": "markdown",
   "metadata": {},
   "source": [
    "Through careful preparation, model choice, and parameter tuning we have found a prediction model for bank customers that are a possible concern for exiting. This will enable the bank to focus efforts on these 'at risk' exiters in order to limit customer churn."
   ]
  }
 ],
 "metadata": {
  "kernelspec": {
   "display_name": "Python 3 (ipykernel)",
   "language": "python",
   "name": "python3"
  },
  "language_info": {
   "codemirror_mode": {
    "name": "ipython",
    "version": 3
   },
   "file_extension": ".py",
   "mimetype": "text/x-python",
   "name": "python",
   "nbconvert_exporter": "python",
   "pygments_lexer": "ipython3",
   "version": "3.9.7"
  },
  "toc": {
   "base_numbering": 1,
   "nav_menu": {},
   "number_sections": true,
   "sideBar": true,
   "skip_h1_title": true,
   "title_cell": "Table of Contents",
   "title_sidebar": "Contents",
   "toc_cell": false,
   "toc_position": {},
   "toc_section_display": true,
   "toc_window_display": false
  }
 },
 "nbformat": 4,
 "nbformat_minor": 4
}
